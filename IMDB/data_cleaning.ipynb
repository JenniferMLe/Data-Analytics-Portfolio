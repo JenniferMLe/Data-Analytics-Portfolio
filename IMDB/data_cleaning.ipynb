{
 "cells": [
  {
   "cell_type": "markdown",
   "metadata": {},
   "source": [
    "# Data Cleaning for IMDB Dataset\n",
    "\n",
    "Author: Jennifer Le\n",
    "Date: 1/22/25"
   ]
  },
  {
   "cell_type": "code",
<<<<<<< HEAD
   "execution_count": 1,
=======
<<<<<<< HEAD
   "execution_count": 1,
=======
   "execution_count": 63,
>>>>>>> 47f9cde471852811fbe16ebcf85615661526cff7
>>>>>>> 0dd4b80d1713b7d0290b9fe5d4b435750881febe
   "metadata": {},
   "outputs": [],
   "source": [
    "import pandas as pd\n",
    "from pandasql import sqldf\n",
    "\n",
    "'''\n",
    "The code below was used to read in the original dataset.\n",
    "To save space, this dataset which is almost 1GB is replaced by a\n",
    "smaller dataset.\n",
    "\n",
    "# Read in original dataset and delete irrelevant columns and rows\n",
    "df = pd.read_csv(\"title.basics.tsv\", delimiter='\\t', low_memory=False)\n",
    "df = df.drop(columns=['isAdult','originalTitle'])\n",
    "\n",
    "# Remove rows where titleType is in list, the ~ symbol negates the isin\n",
    "print(df['titleType'].unique())\n",
    "df = df[\n",
    "    ~df[\"titleType\"].isin(\n",
    "        ['tvEpisode','video','videoGame','tvPilot','tvSpecial']\n",
    "    )\n",
    "]\n",
    "df.to_csv(\"titles_reduced.csv\",index=False)\n",
    "'''\n",
    "\n",
    "df = pd.read_csv('titles_reduced.csv')"
   ]
  },
  {
   "cell_type": "code",
<<<<<<< HEAD
=======
<<<<<<< HEAD
>>>>>>> 0dd4b80d1713b7d0290b9fe5d4b435750881febe
   "execution_count": 2,
   "metadata": {},
   "outputs": [
    {
     "data": {
      "text/plain": [
       "tconst            object\n",
       "titleType         object\n",
       "primaryTitle      object\n",
       "startYear          int32\n",
       "endYear            int32\n",
       "runtimeMinutes     int32\n",
       "genres            object\n",
       "dtype: object"
      ]
     },
     "execution_count": 2,
     "metadata": {},
     "output_type": "execute_result"
    }
   ],
<<<<<<< HEAD
=======
=======
   "execution_count": 64,
   "metadata": {},
   "outputs": [],
>>>>>>> 47f9cde471852811fbe16ebcf85615661526cff7
>>>>>>> 0dd4b80d1713b7d0290b9fe5d4b435750881febe
   "source": [
    "# replace null values with 0 or empty space\n",
    "df['startYear'] = df['startYear'].replace({'\\\\N': '0'}) \n",
    "df['endYear'] = df['endYear'].replace({'\\\\N': '0'})        \n",
    "df['runtimeMinutes'] = df['runtimeMinutes'].replace({'\\\\N':'0'})\n",
    "df['genres'] = df['genres'].replace({'\\\\N':''}) \n",
    "\n",
    "# convert types to save space\n",
    "df['endYear'] = df['endYear'].astype('int32')   \n",
    "df['runtimeMinutes'] = df['runtimeMinutes'].astype('int32')       \n",
    "df['startYear'] = df['startYear'].astype('int32')  \n",
    "\n",
    "# check if type changes are successfull\n",
    "df.dtypes \n",
    "\n",
    "# df.to_csv('titles_cleaned.csv',index=False)\n"
   ]
  }
 ],
 "metadata": {
  "kernelspec": {
   "display_name": "cs418env",
   "language": "python",
   "name": "python3"
  },
  "language_info": {
   "codemirror_mode": {
    "name": "ipython",
    "version": 3
   },
   "file_extension": ".py",
   "mimetype": "text/x-python",
   "name": "python",
   "nbconvert_exporter": "python",
   "pygments_lexer": "ipython3",
   "version": "3.11.5"
  }
 },
 "nbformat": 4,
 "nbformat_minor": 2
}
