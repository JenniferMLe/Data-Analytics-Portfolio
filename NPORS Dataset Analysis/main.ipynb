{
 "cells": [
  {
   "cell_type": "markdown",
   "metadata": {},
   "source": [
    "# National Public Opinion Reference Survey (NPORS) Analysis\n",
    "\n",
    "Jennifer Le  \n",
    "12/6/24\n",
    "\n",
    "The purpose of this analysis is to analyize public opinions on religion and the economy from 2020-2024 using data from NPORS surveys conducted anually since 2020.\n",
    "\n",
    "Some questions this analysis will answer is \n",
    "1. How has public opinion on the economy changed since 2020\n",
    "2. Add more questions here\n",
    "\n",
    "[More information on NPORS surveys](https://www.pewresearch.org/methods/fact-sheet/national-public-opinion-reference-survey-npors/) "
   ]
  },
  {
   "cell_type": "markdown",
   "metadata": {},
   "source": [
    "## Import Datasets "
   ]
  },
  {
   "cell_type": "code",
   "execution_count": null,
   "metadata": {},
   "outputs": [],
   "source": [
    "import pandas as pd\n",
    "import seaborn as sns\n",
    "%matplotlib inline\n",
    "import matplotlib.pyplot as plt\n",
    "\n",
    "# Save each .sav as a data frame\n",
    "df_20 = pd.read_spss(\"Datasets/NPORS-2020/dataset.sav\")\n",
    "df_21 = pd.read_spss(\"Datasets/NPORS-2021/dataset.sav\")\n",
    "df_22 = pd.read_spss(\"Datasets/NPORS-2022/dataset.sav\")\n",
    "df_23 = pd.read_spss(\"Datasets/NPORS-2023/dataset.sav\")\n",
    "df_24 = pd.read_spss(\"Datasets/NPORS-2024/dataset.sav\")\n",
    "\n",
    "# convert .sav to .csv\n",
    "# df_20.to_csv(\"Datasets/NPORS-2020/dataset.csv\", index=False)\n",
    "# df_21.to_csv(\"Datasets/NPORS-2021/dataset.csv\", index=False)\n",
    "# df_22.to_csv(\"Datasets/NPORS-2022/dataset.csv\", index=False)\n",
    "# df_23.to_csv(\"Datasets/NPORS-2023/dataset.csv\", index=False)\n",
    "# df_24.to_csv(\"Datasets/NPORS-2024/dataset.csv\", index=False)"
   ]
  },
  {
   "cell_type": "code",
   "execution_count": null,
   "metadata": {},
   "outputs": [
    {
     "name": "stdout",
     "output_type": "stream",
     "text": [
      "(number of rows, number of columns)\n",
      "2020 survey:  (4108, 61)\n",
      "2021 survey:  (3937, 66)\n",
      "2022 survey:  (4043, 72)\n",
      "2023 survey:  (5733, 80)\n",
      "2024 survey:  (5626, 59)\n"
     ]
    }
   ],
   "source": [
    "# Print the number of rows and columns \n",
    "print(\"(number of rows, number of columns)\")\n",
    "print(\"2020 survey: \", df_20.shape)\n",
    "print(\"2021 survey: \", df_21.shape)\n",
    "print(\"2022 survey: \", df_22.shape)\n",
    "print(\"2023 survey: \", df_23.shape)\n",
    "print(\"2024 survey: \", df_24.shape)"
   ]
  },
  {
   "cell_type": "markdown",
   "metadata": {},
   "source": [
    "## Clean and Aggregate Data"
   ]
  }
 ],
 "metadata": {
  "kernelspec": {
   "display_name": "cs418env",
   "language": "python",
   "name": "python3"
  },
  "language_info": {
   "codemirror_mode": {
    "name": "ipython",
    "version": 3
   },
   "file_extension": ".py",
   "mimetype": "text/x-python",
   "name": "python",
   "nbconvert_exporter": "python",
   "pygments_lexer": "ipython3",
   "version": "3.11.5"
  }
 },
 "nbformat": 4,
 "nbformat_minor": 2
}
