{
 "cells": [
  {
   "cell_type": "markdown",
   "metadata": {},
   "source": [
    "# National Public Opinion Reference Survey (NPORS) Analysis\n",
    "\n",
    "Author: Jennifer Le  \n",
    "Date: 12/6/24\n",
    "\n",
    "The purpose of this analysis is to   \n",
    "1. Examine how public opinions on topics like the economy has changed from 2020 to 2024.  \n",
    "2. Discovering interesting trends and correlations between different income and age groups. \n",
    "\n",
    "This will be done using data from NPORS surveys conducted anually since 2020.\n",
    "\n",
    "[More information on NPORS surveys](https://www.pewresearch.org/methods/fact-sheet/national-public-opinion-reference-survey-npors/) \n",
    "\n",
    "[notebook viewer](https://nbviewer.org/github/JenniferMLe/Data-Analytics-Portfolio/blob/main/NPORS%20Dataset%20Analysis/main.ipynb)"
   ]
  },
  {
   "cell_type": "markdown",
   "metadata": {},
   "source": [
    "## Import Datasets "
   ]
  },
  {
   "cell_type": "code",
   "execution_count": 600,
   "metadata": {},
   "outputs": [
    {
     "name": "stdout",
     "output_type": "stream",
     "text": [
      "(number of rows, number of columns)\n",
      "2020 survey:  (4108, 61)\n",
      "2021 survey:  (3937, 66)\n",
      "2022 survey:  (4043, 72)\n",
      "2023 survey:  (5733, 80)\n",
      "2024 survey:  (5626, 59)\n"
     ]
    }
   ],
   "source": [
    "import pandas as pd\n",
    "import plotly.express as px\n",
    "from pandasql import sqldf\n",
    "\n",
    "# Save each .sav as a data frame\n",
    "df_20 = pd.read_spss(\"Datasets/NPORS-2020/dataset.sav\")\n",
    "df_21 = pd.read_spss(\"Datasets/NPORS-2021/dataset.sav\")\n",
    "df_22 = pd.read_spss(\"Datasets/NPORS-2022/dataset.sav\")\n",
    "df_23 = pd.read_spss(\"Datasets/NPORS-2023/dataset.sav\")\n",
    "df_24 = pd.read_spss(\"Datasets/NPORS-2024/dataset.sav\")\n",
    "\n",
    "# convert .sav to .csv\n",
    "# df_20.to_csv(\"Datasets/NPORS-2020/dataset.csv\", index=False)\n",
    "# df_21.to_csv(\"Datasets/NPORS-2021/dataset.csv\", index=False)\n",
    "# df_22.to_csv(\"Datasets/NPORS-2022/dataset.csv\", index=False)\n",
    "# df_23.to_csv(\"Datasets/NPORS-2023/dataset.csv\", index=False)\n",
    "# df_24.to_csv(\"Datasets/NPORS-2024/dataset.csv\", index=False)\n",
    "\n",
    "# Print the number of rows and columns \n",
    "print(\"(number of rows, number of columns)\")\n",
    "print(\"2020 survey: \", df_20.shape)\n",
    "print(\"2021 survey: \", df_21.shape)\n",
    "print(\"2022 survey: \", df_22.shape)\n",
    "print(\"2023 survey: \", df_23.shape)\n",
    "print(\"2024 survey: \", df_24.shape)\n",
    "\n",
    "def remove_year_from_column_name(dataset, stop):\n",
    "    list_columns = list(dataset.columns)\n",
    "\n",
    "    for i in range(0,len(list_columns)-stop):\n",
    "        list_columns[i] = list_columns[i][:-5]\n",
    "\n",
    "    dataset.columns = list_columns\n",
    "\n",
    "remove_year_from_column_name(df_20, 5)\n",
    "remove_year_from_column_name(df_21, 2)\n",
    "\n",
    "# Test code works\n",
    "# print(list(df_20.columns))\n",
    "# print(list(df_21.columns))"
   ]
  },
  {
   "cell_type": "markdown",
   "metadata": {},
   "source": [
    "## Clean, Transform, and Aggregate Data"
   ]
  },
  {
   "cell_type": "code",
   "execution_count": 601,
   "metadata": {},
   "outputs": [
    {
     "name": "stdout",
     "output_type": "stream",
     "text": [
      "(23447, 106)\n",
      "(23447, 87)\n",
      "all columns ['AGE', 'AGECAT', 'AGE_GROUP', 'ATTEND', 'ATTENDONLINE2', 'BASEWEIGHT', 'BEREAL', 'BOOKS', 'COLSPEECH', 'COMATTACH', 'COMTYPE2', 'COVIDWORK_a', 'COVIDWORK_b', 'CRIMESAFE', 'DEVICE1a', 'DISA', 'DISAMOD', 'DIVISION', 'ECON1BMOD', 'ECON1MOD', 'EDUCATION', 'EDUCCAT', 'EMINUSE', 'FACEBOOK', 'GAMBLERESTR', 'GENDER', 'GOVSIZE1', 'GUNSTRICT', 'HH_ADULTS', 'HISP', 'HLTHRATE', 'HOME4NW2', 'HOMEINTSERV', 'INCOME', 'INCOME_GROUP', 'INFRASPEND', 'INSTAGRAM', 'INSURANCE', 'INTERVIEW_END', 'INTERVIEW_START', 'INTFREQ', 'INTFREQ_COLLAPSED', 'INTMOB', 'LINKEDIN', 'MARITAL', 'METRO', 'MODE', 'MOREGUNIMPACT', 'NHISLL', 'PARTY', 'PARTYLN', 'PINTEREST', 'POLICE_FUND', 'PRAY', 'RACECMB', 'RACEMOD_1', 'RACEMOD_2', 'RACEMOD_3', 'RACEMOD_4', 'RACEMOD_5', 'RACEMOD_6', 'RADIO', 'REDDIT', 'REG', 'REGION', 'REGISTRATION', 'RELIG', 'RELIGCAT1', 'RELIMP', 'RESPFUT', 'RESPID', 'ROBWRK', 'SMART2', 'SNAPCHAT', 'SOCTRUST', 'TIKTOK', 'TWITTER', 'TYPOLOGYb', 'UNITY', 'VET1', 'VOL12_CPS', 'VOTED2020', 'VOTEGEN_POST', 'WEIGHT', 'WHATSAPP', 'YEAR', 'YOUTUBE']\n",
      "common columns 51 ['AGE', 'ATTEND', 'BASEWEIGHT', 'BOOKS', 'BORN', 'DEVICE1a', 'ECON1BMOD', 'ECON1MOD', 'EDUCATION', 'EMINUSE', 'GENDER', 'HH_ADULTS', 'HISP', 'HOMEINTSERV', 'INCOME', 'INTERVIEW_END', 'INTERVIEW_START', 'INTFREQ', 'INTMOB', 'MARITAL', 'METRO', 'MODE', 'PARTY', 'PARTYLN', 'PRAY', 'RACECMB', 'RACEMOD_1', 'RACEMOD_2', 'RACEMOD_3', 'RACEMOD_4', 'RACEMOD_5', 'RACEMOD_6', 'RADIO', 'REGION', 'RELIG', 'RELIMP', 'RESPID', 'SMART2', 'SMUSE_a', 'SMUSE_b', 'SMUSE_c', 'SMUSE_d', 'SMUSE_e', 'SMUSE_f', 'SMUSE_g', 'SMUSE_h', 'TYPOLOGYb', 'VET1', 'VOL12_CPS', 'WEIGHT', 'YEAR']\n"
     ]
    }
   ],
   "source": [
    "# ensure columns recording the same data have the same name\n",
    "# so there aren't duplicate columns when appending datasets\n",
    "df_20 = df_20.rename(columns={\n",
    "    'SEXASK':'GENDER', \n",
    "    'NUMADULTS':'HH_ADULTS', \n",
    "    'EDUC_ACS':'EDUCATION', \n",
    "    'REGION_NAME':'REGION',\n",
    "    'MSA':'METRO'\n",
    "})\n",
    "\n",
    "df_21 = df_21.rename(columns={\n",
    "    'ADULTSINHH':'HH_ADULTS', \n",
    "    'BOOKS1':'BOOKS',\n",
    "    'LANG':'LANGUAGE'\n",
    "})\n",
    "\n",
    "df_22 = df_22.rename(columns={\n",
    "    'ADULTSINHH':'HH_ADULTS', \n",
    "    'BOOKS1':'BOOKS', \n",
    "    'CREGION':'REGION',\n",
    "    'BBHOME':'HOMEINTSERV'\n",
    "})\n",
    "\n",
    "df_23 = df_23.rename(columns={\n",
    "    'BASEWT':'BASEWEIGHT', \n",
    "    'ADULTS':'HH_ADULTS', \n",
    "    'BOOKS1':'BOOKS',\n",
    "    'CREGION':'REGION',\n",
    "    'INC_SDT1':'INCOME',\n",
    "    'BBHOME':'HOMEINTSERV',\n",
    "    'MODE_2WAY':'MODE'\n",
    "})\n",
    "\n",
    "df_24 = df_24.rename(columns={\n",
    "    'BASEWT':'BASEWEIGHT', \n",
    "    'ADULTS':'HH_ADULTS', \n",
    "    'DEVICE1A':'DEVICE1a',\n",
    "    'CREGION':'REGION',\n",
    "    'INC_SDT1': 'INCOME'\n",
    "})\n",
    "\n",
    "# add year columns to all datasets\n",
    "df_20['YEAR'] = 2020\n",
    "df_21['YEAR'] = 2021\n",
    "df_22['YEAR'] = 2022\n",
    "df_23['YEAR'] = 2023\n",
    "df_24['YEAR'] = 2024\n",
    "\n",
    "# Combine (append) all datasets together\n",
    "df_combined = pd.concat([df_20, df_21, df_22, df_23, df_24])\n",
    "print(df_combined.shape)\n",
    "\n",
    "# remove irrelevant columns\n",
    "df_combined = df_combined.drop(columns=[\n",
    "    'AGE_REFUSED',\n",
    "    'BOOKS1_REFUSED',\n",
    "    'BORN',\n",
    "    'BWAVE',\n",
    "    'BIDENT1_GEOSTRATA',\n",
    "    'BIRTHPLACE',\n",
    "    'DATERECEIVED',\n",
    "    'DEVICE_TYPE',\n",
    "    'LANG_PREF',\n",
    "    'LANGUAGE',\n",
    "    'LANGUAGEINITIAL',\n",
    "    'NATIVITY',\n",
    "    'PARTYSUM',\n",
    "    'PSTRATA',\n",
    "    'RACEMOD_99',\n",
    "    'RACEMOD_MIXEDOE',\n",
    "    'RACETHN',\n",
    "    'RACETHNMOD',\n",
    "    'SURVEYENDDATE',\n",
    "    'SURVEYSTARTDATE',\n",
    "    'STRATUM'\n",
    "], axis=1)\n",
    "\n",
    "# replace income values with easier-to-read values\n",
    "df_combined['INCOME'] = df_combined['INCOME'].replace({\n",
    "    'Less than $10,000':'< $10K',\n",
    "    '$10,000 to less than $20,000':'$10-20K',\n",
    "    '$20,000 to less than $30,000':'$20-30K',\n",
    "    'Less than $30,000':'< $30K',\n",
    "    '$30,000 to less than $40,000':'$30-40K',\n",
    "    '$40,000 to less than $50,000':'$40-50K',\n",
    "    '$50,000 to less than $60,000':'$50-60K',\n",
    "    '$50,000 to less than $75,000': '$50-75K',\n",
    "    '$60,000 to less than $70,000':'$60-70K',\n",
    "    '$70,000 to less than $80,000':'$70-80K',\n",
    "    '$70,000 to less than $90,000':'$70-90K',\n",
    "    '$75,000 to less than $100,000':'$75-100K',\n",
    "    '$80,000 to less than $90,000':'$80-90K',\n",
    "    '$90,000 to less than $100,000':'$90-100K',\n",
    "    '$100,000 or more':'> $100K',\n",
    "    '$100,000 to less than $150,000':'$100-150K',\n",
    "    '$150,000 or more':'> $150K'\n",
    "})\n",
    "# replace education values with easier-to-read values\n",
    "df_combined['EDUCATION'] = df_combined['EDUCATION'].replace({\n",
    "    \"Associate degree (such as AA, AS)\":\"Associate's Degree\",\n",
    "    \"Associate's degree (such as AA, AS)\":\"Associate's Degree\",\n",
    "    \"Associate’s degree (such as AA, AS)\":\"Associate's Degree\",\n",
    "    \"Associate’s degree\":\"Associate's Degree\",\n",
    "    \"Associate’s degree (for example: AA, AS)\":\"Associate's Degree\",\n",
    "    \"Bachelor's degree (such as BA, BS)\":\"Bachelor's Degree\",\n",
    "    \"Bachelor’s degree\":\"Bachelor's Degree\",\n",
    "    \"Bachelor’s degree (for example: BA, BS)\":\"Bachelor's Degree\",\n",
    "    \"Bachelor’s degree (such as BA, BS)\":\"Bachelor's Degree\",\n",
    "    \"Doctorate degree (for example: PhD, EdD)\":\"Doctorate Degree\",\n",
    "    \"Master’s degree (for example: MA, MS, MEng, MEd, MSW, MBA)\":\"Master's Degree\",\n",
    "    \"Master’s degree or higher\":\"Master's degree or higher\",\n",
    "    \"Grade 1 through 11\":\"Grade 11\",\n",
    "    \"Kindergarten through grade 11\":\"Grade 11\",\n",
    "    \"GED or alternative credential\":\"High School or GED\",\n",
    "    \"Regular high school diploma\":\"High School or GED\",\n",
    "    \"Regular high school diploma or GED\":\"High School or GED\",\n",
    "    \"Kindergarten through grade 12\":\"Grade 12\",\n",
    "    \"Professional degree beyond a bachelor’s degree (for example: MD, DDS, DVM, LLB, JD)\":\"Bachelor's Degree or Higher\",\n",
    "    \"Some college credit but no degree\":\"Some college\",\n",
    "    \"Some college credit, but less than 1 year of college credit\":\"Some college\",\n",
    "    \"1 or more years of college credit, no degree\":\"Some college\",\n",
    "    \"12th Grade – NO DIPLOMA\": \"Grade 12\"\n",
    "})\n",
    "\n",
    "# change affirmative answer selections to race description\n",
    "df_combined['RACEMOD_1'] = df_combined['RACEMOD_1'].replace({\n",
    "    'Yes':'White',\n",
    "    'Selected':'White'\n",
    "})\n",
    "df_combined['RACEMOD_2'] = df_combined['RACEMOD_2'].replace({\n",
    "    'Black or African American':'Black',\n",
    "    'Yes':'Black',\n",
    "    'Selected':'Black'\n",
    "})\n",
    "df_combined['RACEMOD_3'] = df_combined['RACEMOD_3'].replace({\n",
    "    'Asian or Asian-American':'Asian',\n",
    "    'Asian or Asian American':'Asian',\n",
    "    'Yes':'Asian', \n",
    "    'Selected':'Asian'\n",
    "})\n",
    "df_combined['RACEMOD_4'] = df_combined['RACEMOD_4'].replace({\n",
    "    'Yes':'American Indian or Alaska Native',\n",
    "    'Selected':'American Indian or Alaska Native'\n",
    "})\n",
    "df_combined['RACEMOD_5'] = df_combined['RACEMOD_5'].replace({\n",
    "    'Yes':'Native Hawaiian or other Pacific Islander',\n",
    "    'Selected':'Native Hawaiian or other Pacific Islander'\n",
    "})\n",
    "df_combined['RACEMOD_6'] = df_combined['RACEMOD_6'].replace({\n",
    "    'Some other race or origin':'Other', \n",
    "    'Yes':'Other', \n",
    "    'Selected':'Other'\n",
    "})\n",
    "\n",
    "df_combined['GENDER'] = df_combined['GENDER'].replace({\n",
    "    \"A man\":\"Male\",\n",
    "    \"A woman\":\"Female\",\n",
    "    \"In some other way\":\"Other\"\n",
    "})\n",
    "df_combined[\"AGE\"] = df_combined[\"AGE\"].replace({\n",
    "    \"Refused\":\"-1\",\n",
    "    \"98+\":\"98\",\n",
    "    \"\":\"-1\"\n",
    "})\n",
    "df_combined['ECON1MOD'] = df_combined['ECON1MOD'].replace('Only Fair','Only fair')\n",
    "\n",
    "df_combined['BOOKS'] = df_combined['BOOKS'].replace({\n",
    "    '100 or more':'100.1',\n",
    "    '100+':'100.1',\n",
    "    '95 or more':'95.1',\n",
    "    \"\":'-1',\n",
    "    \"Refused\":\"-1\"\n",
    "})\n",
    "\n",
    "# change column type\n",
    "df_combined[\"AGE\"] = df_combined[\"AGE\"].astype(float)\n",
    "df_combined[\"BOOKS\"] = df_combined[\"BOOKS\"].astype(float)\n",
    "\n",
    "# rename Social Media Use columns, SMUSE a-i\n",
    "df_combined = df_combined.rename(columns={\n",
    "    'SMUSE_a':'FACEBOOK',\n",
    "    'SMUSE_b':'YOUTUBE',\n",
    "    'SMUSE_c':'TWITTER',\n",
    "    'SMUSE_d':'INSTAGRAM',\n",
    "    'SMUSE_e':'SNAPCHAT',\n",
    "    'SMUSE_f':'WHATSAPP',\n",
    "    'SMUSE_g':'LINKEDIN',\n",
    "    'SMUSE_h':'PINTEREST',\n",
    "    'SMUSE_i':'TIKTOK',\n",
    "    'SMUSE_j':'BEREAL',\n",
    "    'SMUSE_k':'REDDIT'\n",
    "})\n",
    "\n",
    "# create calculated columns categorizing income and age\n",
    "df_combined = sqldf(\n",
    "    \"\"\"\n",
    "    SELECT *,\n",
    "    CASE\n",
    "        WHEN INCOME IN ('< $10K','$10-20K','$20-30K','< $30K','$30-40K')     THEN 'Under $40k'\n",
    "        WHEN INCOME IN ('$40-50K','$50-60K','$60-70K')                       THEN '$40-70K'\n",
    "        WHEN INCOME IN ('$70-80K','$70-90K','$80-90K','$75-100K','$90-100K') THEN '$70-100K'\n",
    "        WHEN INCOME IN ('> $100K','$100-150K','> $150K')                     THEN '$100K+'\n",
    "        ELSE 'Other'\n",
    "    END as INCOME_GROUP,\n",
    "    CASE\n",
    "        WHEN AGE < 30               THEN 'Under 30'\n",
    "        WHEN AGE >= 30 AND AGE < 50 THEN '30-50'\n",
    "        WHEN AGE >=50 AND AGE < 70  THEN '50-70'\n",
    "        WHEN AGE >= 70              THEN '70+'\n",
    "        ELSE 'Other'\n",
    "    END as AGE_GROUP\n",
    "    FROM df_combined\n",
    "    \"\"\"\n",
    ")\n",
    "\n",
    "df_combined.to_csv('CSV Files/combined_dataset.csv',index=False)\n",
    "print(df_combined.shape)\n",
    "\n",
    "# print columns common to datasets\n",
    "print('all columns', sorted(list(df_combined.columns)))\n",
    "common_columns = set(df_20) & set(df_21) & set(df_22) & set(df_23) \n",
    "print('common columns', len(common_columns), sorted(common_columns))\n"
   ]
  },
  {
   "cell_type": "markdown",
   "metadata": {},
   "source": [
    "## Suvery Participant Demographics\n",
    "\n",
    "In this section, we will get to know our 2020-2024 survey participants and who they consist of by examining their age, race, gender, income, and education."
   ]
  },
  {
   "cell_type": "code",
   "execution_count": 602,
   "metadata": {},
   "outputs": [],
   "source": [
    "# print a list of distinct values from a column in a dataframe\n",
    "def get_distinct_values(df,column):\n",
    "    df_values = sqldf(\n",
    "        f\"\"\"\n",
    "        SELECT DISTINCT {column}\n",
    "        FROM {df}\n",
    "        ORDER BY {column} ASC\n",
    "        \"\"\"\n",
    "    )\n",
    "    # print(df_values)\n",
    "\n",
    "    # print to csv file incase values are cut off from the print statement\n",
    "    df_values.to_csv(\"CSV Files/distinct_values.csv\",index=False)\n",
    "\n",
    "def create_distinct_value_count_df(df, col, invalid_values):\n",
    "    return sqldf(\n",
    "        f\"\"\"\n",
    "        SELECT {col}, COUNT(*) as Count\n",
    "        FROM {df}\n",
    "        WHERE {col} NOT IN {invalid_values}\n",
    "        GROUP BY {col}\n",
    "        \"\"\"\n",
    "    )"
   ]
  },
  {
   "cell_type": "code",
   "execution_count": 603,
   "metadata": {},
   "outputs": [
    {
     "data": {
      "application/vnd.plotly.v1+json": {
       "config": {
        "plotlyServerURL": "https://plot.ly"
       },
       "data": [
        {
         "alignmentgroup": "True",
         "bingroup": "x",
         "hovertemplate": "AGE=%{x}<br>count=%{y}<extra></extra>",
         "legendgroup": "",
         "marker": {
          "color": "#440154",
          "pattern": {
           "shape": ""
          }
         },
         "name": "",
         "offsetgroup": "",
         "orientation": "v",
         "showlegend": false,
         "type": "histogram",
         "x": [
          71,
          23,
          37,
          70,
          39,
          49,
          67,
          null,
          45,
          37,
          53,
          73,
          68,
          null,
          20,
          48,
          59,
          44,
          59,
          50,
          50,
          49,
          75,
          63,
          76,
          46,
          33,
          40,
          null,
          52,
          68,
          27,
          28,
          56,
          29,
          76,
          77,
          62,
          69,
          65,
          20,
          54,
          40,
          61,
          88,
          43,
          35,
          25,
          70,
          35,
          30,
          44,
          57,
          83,
          37,
          59,
          41,
          19,
          55,
          33,
          57,
          84,
          25,
          25,
          21,
          80,
          31,
          40,
          66,
          25,
          53,
          53,
          34,
          27,
          23,
          35,
          40,
          69,
          46,
          35,
          69,
          24,
          null,
          23,
          72,
          27,
          80,
          58,
          23,
          84,
          70,
          null,
          27,
          38,
          40,
          66,
          67,
          36,
          60,
          31,
          62,
          50,
          84,
          76,
          44,
          21,
          34,
          55,
          70,
          66,
          55,
          34,
          70,
          48,
          21,
          null,
          40,
          34,
          67,
          28,
          27,
          45,
          40,
          76,
          50,
          68,
          45,
          34,
          52,
          31,
          36,
          64,
          34,
          68,
          69,
          66,
          null,
          48,
          71,
          21,
          61,
          77,
          48,
          38,
          57,
          37,
          75,
          29,
          46,
          28,
          22,
          47,
          58,
          27,
          67,
          null,
          49,
          70,
          32,
          57,
          18,
          82,
          48,
          60,
          61,
          29,
          70,
          31,
          65,
          null,
          79,
          60,
          31,
          35,
          70,
          54,
          28,
          50,
          35,
          47,
          null,
          32,
          49,
          35,
          40,
          30,
          46,
          22,
          null,
          20,
          54,
          41,
          61,
          64,
          52,
          79,
          37,
          61,
          32,
          65,
          70,
          21,
          37,
          25,
          37,
          57,
          58,
          58,
          42,
          58,
          44,
          34,
          77,
          44,
          20,
          61,
          56,
          21,
          35,
          32,
          49,
          43,
          73,
          71,
          32,
          47,
          76,
          48,
          43,
          71,
          33,
          50,
          null,
          35,
          45,
          null,
          66,
          55,
          null,
          66,
          72,
          69,
          32,
          28,
          75,
          50,
          57,
          25,
          null,
          82,
          79,
          58,
          53,
          51,
          85,
          34,
          35,
          75,
          72,
          39,
          38,
          27,
          46,
          65,
          56,
          38,
          63,
          58,
          69,
          null,
          48,
          30,
          48,
          54,
          39,
          43,
          63,
          21,
          63,
          22,
          29,
          42,
          55,
          43,
          53,
          27,
          60,
          52,
          34,
          20,
          41,
          68,
          null,
          42,
          38,
          25,
          34,
          73,
          33,
          28,
          57,
          null,
          58,
          65,
          55,
          66,
          30,
          50,
          35,
          52,
          61,
          72,
          46,
          null,
          22,
          35,
          66,
          86,
          32,
          55,
          21,
          50,
          46,
          47,
          68,
          63,
          72,
          51,
          28,
          49,
          37,
          72,
          68,
          58,
          55,
          67,
          42,
          80,
          73,
          41,
          20,
          67,
          41,
          null,
          50,
          60,
          65,
          77,
          40,
          53,
          null,
          61,
          45,
          67,
          73,
          50,
          72,
          72,
          57,
          59,
          39,
          46,
          73,
          65,
          46,
          37,
          59,
          76,
          32,
          77,
          86,
          59,
          30,
          64,
          65,
          57,
          22,
          66,
          59,
          46,
          33,
          21,
          20,
          57,
          50,
          54,
          46,
          25,
          51,
          19,
          50,
          28,
          60,
          60,
          69,
          62,
          90,
          null,
          20,
          47,
          91,
          41,
          55,
          44,
          86,
          39,
          33,
          77,
          65,
          21,
          66,
          43,
          66,
          68,
          29,
          36,
          47,
          26,
          28,
          42,
          67,
          32,
          20,
          26,
          45,
          49,
          37,
          82,
          27,
          71,
          60,
          25,
          73,
          43,
          65,
          54,
          30,
          55,
          39,
          null,
          null,
          36,
          72,
          28,
          49,
          68,
          null,
          38,
          60,
          66,
          57,
          69,
          null,
          34,
          24,
          40,
          48,
          21,
          49,
          25,
          63,
          null,
          61,
          30,
          38,
          79,
          43,
          44,
          62,
          36,
          30,
          76,
          32,
          83,
          71,
          null,
          71,
          70,
          57,
          60,
          70,
          56,
          60,
          52,
          40,
          22,
          40,
          66,
          28,
          76,
          51,
          null,
          53,
          27,
          46,
          61,
          50,
          36,
          71,
          76,
          56,
          25,
          45,
          68,
          24,
          26,
          60,
          42,
          40,
          30,
          25,
          53,
          64,
          18,
          70,
          52,
          77,
          29,
          55,
          33,
          77,
          73,
          44,
          51,
          29,
          70,
          61,
          56,
          32,
          66,
          35,
          26,
          51,
          44,
          41,
          null,
          71,
          46,
          61,
          70,
          36,
          67,
          64,
          46,
          62,
          61,
          63,
          61,
          27,
          52,
          35,
          67,
          56,
          18,
          59,
          68,
          72,
          42,
          63,
          28,
          75,
          29,
          55,
          58,
          68,
          56,
          28,
          70,
          53,
          52,
          59,
          54,
          49,
          56,
          43,
          71,
          74,
          58,
          69,
          39,
          44,
          30,
          58,
          21,
          72,
          null,
          28,
          74,
          38,
          47,
          34,
          65,
          62,
          75,
          49,
          77,
          51,
          null,
          59,
          37,
          62,
          41,
          33,
          56,
          51,
          65,
          47,
          27,
          42,
          70,
          69,
          30,
          41,
          69,
          25,
          35,
          70,
          93,
          63,
          52,
          25,
          43,
          46,
          33,
          71,
          41,
          null,
          null,
          77,
          51,
          null,
          49,
          55,
          30,
          69,
          31,
          32,
          61,
          68,
          74,
          61,
          46,
          58,
          31,
          70,
          56,
          null,
          41,
          33,
          74,
          70,
          40,
          25,
          78,
          63,
          83,
          67,
          56,
          35,
          66,
          26,
          63,
          27,
          55,
          67,
          55,
          null,
          76,
          57,
          35,
          null,
          null,
          54,
          39,
          18,
          31,
          41,
          74,
          36,
          31,
          71,
          70,
          62,
          49,
          75,
          48,
          35,
          28,
          26,
          35,
          72,
          71,
          31,
          25,
          62,
          59,
          70,
          34,
          67,
          56,
          26,
          57,
          40,
          24,
          31,
          74,
          47,
          54,
          31,
          22,
          20,
          42,
          47,
          54,
          56,
          75,
          40,
          57,
          51,
          55,
          63,
          82,
          36,
          37,
          32,
          36,
          46,
          62,
          54,
          30,
          38,
          53,
          null,
          65,
          61,
          24,
          42,
          56,
          57,
          35,
          31,
          36,
          71,
          34,
          null,
          52,
          52,
          24,
          44,
          29,
          73,
          24,
          null,
          80,
          67,
          33,
          63,
          26,
          51,
          41,
          43,
          27,
          null,
          75,
          57,
          74,
          73,
          67,
          57,
          23,
          49,
          41,
          null,
          36,
          60,
          70,
          47,
          53,
          21,
          null,
          null,
          101,
          67,
          39,
          45,
          40,
          71,
          42,
          53,
          53,
          58,
          24,
          70,
          68,
          60,
          79,
          38,
          44,
          73,
          null,
          25,
          null,
          70,
          48,
          31,
          25,
          65,
          52,
          61,
          41,
          65,
          26,
          35,
          59,
          66,
          73,
          47,
          64,
          23,
          null,
          28,
          45,
          65,
          31,
          20,
          53,
          59,
          45,
          49,
          58,
          27,
          72,
          40,
          27,
          33,
          34,
          82,
          53,
          46,
          49,
          56,
          35,
          30,
          40,
          64,
          45,
          56,
          null,
          38,
          null,
          52,
          24,
          45,
          81,
          41,
          48,
          57,
          59,
          83,
          66,
          75,
          null,
          21,
          74,
          35,
          42,
          null,
          63,
          60,
          49,
          45,
          46,
          38,
          73,
          77,
          64,
          60,
          37,
          54,
          47,
          64,
          58,
          47,
          75,
          70,
          52,
          58,
          42,
          69,
          59,
          62,
          74,
          43,
          89,
          64,
          46,
          37,
          47,
          72,
          49,
          80,
          50,
          31,
          25,
          81,
          61,
          49,
          33,
          68,
          24,
          61,
          32,
          53,
          25,
          63,
          48,
          20,
          57,
          56,
          78,
          28,
          23,
          52,
          50,
          36,
          65,
          33,
          48,
          67,
          58,
          41,
          29,
          89,
          50,
          22,
          50,
          45,
          60,
          61,
          57,
          55,
          24,
          73,
          null,
          54,
          47,
          52,
          79,
          34,
          70,
          60,
          69,
          56,
          56,
          60,
          58,
          62,
          20,
          50,
          34,
          48,
          26,
          22,
          67,
          42,
          70,
          28,
          44,
          59,
          37,
          60,
          null,
          67,
          20,
          73,
          52,
          49,
          null,
          64,
          null,
          36,
          43,
          80,
          34,
          70,
          67,
          48,
          49,
          84,
          null,
          null,
          44,
          71,
          78,
          36,
          72,
          26,
          68,
          69,
          53,
          24,
          81,
          66,
          48,
          67,
          44,
          35,
          67,
          39,
          32,
          64,
          45,
          48,
          37,
          29,
          79,
          25,
          35,
          20,
          61,
          51,
          22,
          58,
          40,
          67,
          29,
          51,
          33,
          41,
          21,
          30,
          54,
          57,
          49,
          null,
          70,
          33,
          60,
          49,
          75,
          44,
          78,
          51,
          30,
          56,
          52,
          31,
          32,
          53,
          54,
          34,
          28,
          62,
          26,
          42,
          55,
          35,
          41,
          52,
          61,
          43,
          60,
          37,
          21,
          null,
          72,
          null,
          53,
          79,
          41,
          30,
          63,
          58,
          57,
          37,
          60,
          68,
          76,
          47,
          30,
          49,
          21,
          47,
          46,
          85,
          69,
          61,
          63,
          38,
          25,
          32,
          null,
          44,
          22,
          26,
          61,
          63,
          40,
          40,
          null,
          null,
          67,
          59,
          37,
          25,
          58,
          33,
          66,
          66,
          null,
          62,
          40,
          57,
          34,
          42,
          30,
          56,
          58,
          48,
          62,
          72,
          50,
          66,
          34,
          19,
          45,
          null,
          42,
          55,
          48,
          62,
          67,
          65,
          25,
          27,
          36,
          null,
          62,
          83,
          77,
          73,
          27,
          68,
          79,
          36,
          50,
          72,
          31,
          null,
          26,
          20,
          40,
          29,
          51,
          42,
          44,
          34,
          45,
          38,
          29,
          24,
          38,
          34,
          33,
          45,
          42,
          64,
          29,
          56,
          38,
          null,
          37,
          null,
          48,
          68,
          49,
          null,
          57,
          75,
          45,
          20,
          49,
          49,
          19,
          52,
          null,
          51,
          26,
          29,
          25,
          41,
          null,
          58,
          57,
          54,
          59,
          19,
          74,
          65,
          26,
          null,
          67,
          52,
          56,
          40,
          54,
          72,
          53,
          72,
          54,
          54,
          69,
          65,
          39,
          null,
          53,
          37,
          61,
          72,
          null,
          null,
          34,
          25,
          57,
          61,
          45,
          null,
          39,
          30,
          49,
          31,
          74,
          20,
          36,
          39,
          45,
          24,
          24,
          50,
          66,
          38,
          23,
          null,
          34,
          54,
          60,
          41,
          59,
          52,
          41,
          24,
          32,
          56,
          null,
          60,
          48,
          75,
          null,
          79,
          46,
          29,
          65,
          72,
          36,
          89,
          52,
          55,
          44,
          42,
          72,
          32,
          19,
          34,
          39,
          53,
          null,
          69,
          34,
          72,
          43,
          42,
          23,
          53,
          32,
          73,
          65,
          24,
          22,
          null,
          34,
          63,
          58,
          63,
          51,
          61,
          51,
          67,
          37,
          28,
          76,
          67,
          28,
          49,
          60,
          44,
          40,
          52,
          63,
          40,
          40,
          87,
          83,
          33,
          42,
          41,
          29,
          85,
          50,
          63,
          34,
          48,
          38,
          49,
          44,
          65,
          39,
          60,
          51,
          40,
          65,
          41,
          36,
          85,
          61,
          36,
          71,
          64,
          68,
          53,
          69,
          51,
          59,
          39,
          74,
          63,
          73,
          71,
          53,
          21,
          41,
          73,
          43,
          54,
          27,
          31,
          27,
          47,
          80,
          29,
          45,
          62,
          37,
          35,
          68,
          71,
          64,
          70,
          50,
          42,
          72,
          31,
          54,
          58,
          88,
          18,
          71,
          null,
          72,
          39,
          41,
          63,
          35,
          54,
          63,
          62,
          33,
          36,
          61,
          70,
          36,
          26,
          52,
          55,
          38,
          28,
          41,
          55,
          69,
          22,
          82,
          80,
          62,
          71,
          49,
          64,
          53,
          34,
          26,
          33,
          55,
          67,
          null,
          76,
          33,
          54,
          45,
          61,
          50,
          30,
          76,
          74,
          46,
          27,
          19,
          54,
          62,
          75,
          38,
          62,
          39,
          46,
          31,
          67,
          79,
          53,
          62,
          37,
          67,
          46,
          44,
          54,
          27,
          41,
          39,
          35,
          67,
          76,
          66,
          65,
          80,
          60,
          67,
          64,
          57,
          55,
          64,
          70,
          73,
          53,
          67,
          59,
          null,
          32,
          29,
          56,
          70,
          37,
          27,
          71,
          null,
          32,
          38,
          34,
          32,
          32,
          57,
          49,
          52,
          null,
          51,
          35,
          null,
          45,
          30,
          42,
          46,
          37,
          78,
          39,
          27,
          33,
          60,
          40,
          64,
          29,
          41,
          65,
          null,
          64,
          45,
          62,
          65,
          35,
          66,
          41,
          32,
          41,
          27,
          56,
          50,
          56,
          34,
          32,
          45,
          38,
          61,
          34,
          53,
          64,
          22,
          52,
          null,
          38,
          36,
          49,
          32,
          41,
          63,
          33,
          63,
          29,
          57,
          55,
          36,
          null,
          null,
          55,
          53,
          28,
          34,
          49,
          34,
          42,
          44,
          20,
          48,
          56,
          22,
          55,
          null,
          35,
          66,
          48,
          51,
          59,
          47,
          51,
          54,
          null,
          24,
          64,
          null,
          53,
          53,
          49,
          50,
          78,
          64,
          33,
          23,
          65,
          70,
          20,
          38,
          60,
          80,
          31,
          27,
          26,
          41,
          57,
          33,
          50,
          61,
          31,
          34,
          54,
          32,
          37,
          68,
          24,
          48,
          41,
          28,
          21,
          42,
          36,
          51,
          23,
          47,
          24,
          69,
          59,
          29,
          null,
          65,
          36,
          44,
          57,
          53,
          21,
          23,
          69,
          64,
          58,
          null,
          21,
          59,
          59,
          null,
          67,
          72,
          49,
          57,
          30,
          50,
          42,
          93,
          62,
          51,
          25,
          40,
          57,
          63,
          41,
          25,
          39,
          58,
          63,
          52,
          23,
          18,
          37,
          60,
          54,
          44,
          51,
          57,
          78,
          26,
          69,
          34,
          20,
          null,
          58,
          73,
          32,
          81,
          50,
          26,
          65,
          21,
          64,
          27,
          48,
          64,
          48,
          67,
          null,
          27,
          null,
          29,
          76,
          48,
          25,
          37,
          56,
          44,
          57,
          67,
          62,
          null,
          84,
          43,
          58,
          61,
          63,
          61,
          65,
          63,
          41,
          47,
          24,
          55,
          77,
          25,
          75,
          52,
          48,
          35,
          61,
          79,
          28,
          63,
          62,
          70,
          68,
          27,
          50,
          null,
          61,
          25,
          45,
          22,
          64,
          38,
          68,
          56,
          37,
          56,
          41,
          60,
          53,
          22,
          22,
          34,
          42,
          75,
          60,
          null,
          57,
          49,
          40,
          41,
          33,
          54,
          41,
          53,
          72,
          48,
          22,
          60,
          60,
          44,
          66,
          null,
          66,
          54,
          78,
          56,
          34,
          30,
          58,
          72,
          46,
          61,
          48,
          45,
          46,
          24,
          91,
          39,
          50,
          54,
          65,
          45,
          53,
          27,
          null,
          47,
          56,
          79,
          46,
          31,
          41,
          null,
          72,
          null,
          37,
          null,
          41,
          33,
          63,
          64,
          26,
          46,
          null,
          null,
          68,
          34,
          82,
          null,
          35,
          null,
          24,
          null,
          79,
          64,
          69,
          25,
          43,
          34,
          52,
          94,
          24,
          51,
          35,
          28,
          36,
          55,
          60,
          54,
          67,
          61,
          66,
          22,
          50,
          42,
          41,
          26,
          77,
          34,
          68,
          25,
          80,
          29,
          38,
          53,
          19,
          36,
          54,
          43,
          40,
          22,
          31,
          47,
          38,
          null,
          51,
          28,
          52,
          56,
          68,
          30,
          37,
          56,
          null,
          43,
          30,
          80,
          21,
          59,
          63,
          58,
          79,
          50,
          57,
          39,
          57,
          31,
          46,
          49,
          63,
          66,
          19,
          33,
          33,
          40,
          42,
          42,
          43,
          45,
          54,
          57,
          57,
          59,
          61,
          61,
          63,
          65,
          65,
          65,
          66,
          66,
          74,
          75,
          null,
          null,
          null,
          null,
          null,
          null,
          19,
          20,
          26,
          27,
          27,
          28,
          29,
          29,
          33,
          33,
          34,
          34,
          36,
          36,
          37,
          37,
          38,
          38,
          38,
          38,
          39,
          39,
          39,
          40,
          40,
          40,
          41,
          42,
          42,
          43,
          44,
          44,
          44,
          45,
          46,
          46,
          46,
          46,
          47,
          47,
          47,
          47,
          49,
          50,
          50,
          51,
          51,
          52,
          52,
          53,
          54,
          55,
          55,
          55,
          55,
          55,
          56,
          56,
          56,
          56,
          56,
          56,
          58,
          58,
          59,
          59,
          59,
          60,
          60,
          61,
          61,
          61,
          62,
          62,
          62,
          62,
          63,
          63,
          63,
          63,
          64,
          65,
          65,
          65,
          65,
          65,
          66,
          66,
          66,
          66,
          66,
          66,
          67,
          68,
          68,
          68,
          68,
          69,
          69,
          70,
          70,
          70,
          70,
          71,
          71,
          71,
          71,
          72,
          72,
          73,
          73,
          73,
          74,
          74,
          74,
          75,
          75,
          77,
          78,
          78,
          80,
          81,
          85,
          86,
          86,
          99,
          null,
          null,
          null,
          null,
          null,
          null,
          null,
          null,
          null,
          null,
          null,
          null,
          null,
          null,
          null,
          null,
          18,
          18,
          18,
          18,
          19,
          19,
          19,
          21,
          22,
          23,
          23,
          23,
          23,
          23,
          24,
          24,
          24,
          25,
          25,
          26,
          27,
          27,
          27,
          27,
          27,
          28,
          28,
          29,
          29,
          29,
          29,
          30,
          30,
          30,
          31,
          31,
          31,
          31,
          31,
          32,
          32,
          32,
          32,
          32,
          33,
          33,
          33,
          33,
          34,
          34,
          34,
          34,
          34,
          34,
          35,
          35,
          35,
          35,
          35,
          36,
          37,
          37,
          37,
          37,
          38,
          38,
          38,
          38,
          38,
          38,
          38,
          39,
          39,
          39,
          39,
          39,
          40,
          40,
          40,
          40,
          40,
          40,
          40,
          40,
          41,
          41,
          41,
          42,
          42,
          42,
          42,
          42,
          42,
          43,
          43,
          43,
          43,
          44,
          44,
          44,
          44,
          45,
          46,
          46,
          46,
          47,
          47,
          47,
          47,
          47,
          47,
          48,
          48,
          48,
          48,
          48,
          49,
          49,
          49,
          49,
          50,
          50,
          50,
          50,
          50,
          50,
          50,
          50,
          50,
          50,
          50,
          50,
          51,
          51,
          51,
          51,
          51,
          51,
          51,
          51,
          52,
          52,
          52,
          52,
          53,
          53,
          54,
          54,
          54,
          54,
          55,
          55,
          55,
          55,
          55,
          56,
          56,
          56,
          56,
          56,
          56,
          56,
          57,
          57,
          57,
          57,
          57,
          57,
          57,
          57,
          57,
          57,
          57,
          58,
          58,
          58,
          58,
          59,
          59,
          59,
          59,
          59,
          59,
          59,
          59,
          60,
          60,
          60,
          60,
          60,
          60,
          60,
          61,
          61,
          61,
          61,
          61,
          61,
          61,
          61,
          62,
          62,
          62,
          62,
          63,
          63,
          63,
          63,
          63,
          63,
          63,
          63,
          64,
          64,
          64,
          64,
          64,
          64,
          64,
          64,
          64,
          65,
          65,
          65,
          65,
          65,
          66,
          66,
          66,
          66,
          66,
          66,
          66,
          66,
          66,
          66,
          66,
          67,
          67,
          67,
          67,
          67,
          67,
          67,
          67,
          67,
          67,
          68,
          68,
          68,
          68,
          68,
          69,
          69,
          69,
          69,
          69,
          69,
          69,
          69,
          70,
          70,
          70,
          70,
          70,
          70,
          70,
          71,
          71,
          71,
          71,
          71,
          72,
          72,
          72,
          72,
          72,
          72,
          72,
          72,
          73,
          73,
          73,
          73,
          73,
          73,
          73,
          73,
          73,
          73,
          73,
          73,
          73,
          74,
          74,
          75,
          75,
          75,
          75,
          75,
          75,
          75,
          75,
          75,
          76,
          76,
          76,
          76,
          76,
          77,
          77,
          77,
          77,
          77,
          78,
          78,
          78,
          78,
          78,
          79,
          79,
          79,
          80,
          80,
          80,
          80,
          81,
          81,
          81,
          82,
          82,
          83,
          83,
          84,
          84,
          85,
          85,
          86,
          86,
          86,
          86,
          86,
          87,
          87,
          88,
          90,
          90,
          91,
          91,
          96,
          99,
          null,
          null,
          null,
          null,
          null,
          null,
          null,
          null,
          null,
          null,
          null,
          null,
          18,
          18,
          19,
          20,
          20,
          21,
          22,
          22,
          22,
          23,
          23,
          23,
          24,
          24,
          24,
          25,
          25,
          25,
          25,
          26,
          27,
          27,
          27,
          27,
          28,
          28,
          28,
          28,
          28,
          28,
          29,
          29,
          29,
          29,
          29,
          29,
          30,
          30,
          30,
          31,
          31,
          32,
          32,
          32,
          32,
          33,
          33,
          33,
          33,
          34,
          34,
          34,
          34,
          34,
          34,
          34,
          34,
          35,
          35,
          35,
          35,
          35,
          36,
          36,
          37,
          37,
          37,
          37,
          37,
          38,
          38,
          38,
          39,
          39,
          39,
          39,
          39,
          39,
          39,
          39,
          39,
          40,
          40,
          40,
          41,
          41,
          41,
          41,
          41,
          42,
          42,
          42,
          42,
          42,
          42,
          42,
          43,
          43,
          43,
          43,
          43,
          44,
          44,
          44,
          44,
          44,
          44,
          45,
          45,
          45,
          45,
          45,
          46,
          46,
          46,
          46,
          46,
          46,
          46,
          47,
          47,
          47,
          47,
          47,
          47,
          47,
          47,
          47,
          48,
          48,
          48,
          48,
          48,
          48,
          48,
          49,
          49,
          49,
          49,
          49,
          49,
          49,
          50,
          50,
          50,
          50,
          50,
          50,
          50,
          50,
          50,
          51,
          51,
          51,
          51,
          51,
          51,
          51,
          51,
          51,
          51,
          52,
          52,
          52,
          52,
          52,
          52,
          53,
          53,
          53,
          53,
          53,
          53,
          53,
          53,
          54,
          54,
          54,
          54,
          54,
          54,
          54,
          54,
          54,
          54,
          54,
          54,
          55,
          55,
          55,
          55,
          55,
          55,
          55,
          55,
          55,
          55,
          55,
          56,
          56,
          56,
          56,
          56,
          56,
          56,
          57,
          57,
          57,
          57,
          57,
          57,
          57,
          57,
          57,
          57,
          57,
          57,
          57,
          57,
          57,
          57,
          57,
          58,
          58,
          58,
          58,
          58,
          58,
          58,
          58,
          58,
          58,
          58,
          58,
          59,
          59,
          59,
          59,
          59,
          59,
          59,
          59,
          59,
          60,
          60,
          60,
          60,
          60,
          60,
          60,
          60,
          60,
          61,
          61,
          61,
          61,
          61,
          61,
          61,
          61,
          61,
          61,
          62,
          62,
          62,
          62,
          62,
          62,
          62,
          63,
          63,
          63,
          63,
          63,
          63,
          63,
          63,
          63,
          63,
          64,
          64,
          64,
          64,
          64,
          64,
          64,
          64,
          64,
          65,
          65,
          65,
          65,
          65,
          65,
          65,
          65,
          65,
          66,
          66,
          66,
          66,
          66,
          66,
          67,
          67,
          67,
          67,
          67,
          67,
          67,
          67,
          67,
          68,
          68,
          68,
          68,
          68,
          69,
          69,
          69,
          69,
          69,
          69,
          69,
          69,
          69,
          69,
          69,
          69,
          70,
          70,
          70,
          70,
          70,
          70,
          70,
          70,
          70,
          71,
          71,
          71,
          71,
          72,
          72,
          72,
          72,
          72,
          72,
          72,
          72,
          73,
          73,
          73,
          73,
          73,
          74,
          74,
          74,
          74,
          74,
          74,
          74,
          74,
          74,
          74,
          74,
          74,
          74,
          74,
          75,
          75,
          75,
          75,
          75,
          75,
          75,
          75,
          75,
          76,
          76,
          76,
          76,
          76,
          76,
          76,
          76,
          77,
          77,
          77,
          77,
          77,
          77,
          77,
          77,
          78,
          78,
          78,
          78,
          78,
          78,
          78,
          79,
          79,
          79,
          79,
          80,
          80,
          80,
          80,
          80,
          80,
          80,
          80,
          82,
          82,
          82,
          82,
          82,
          82,
          83,
          83,
          83,
          83,
          84,
          84,
          84,
          84,
          84,
          85,
          85,
          85,
          85,
          87,
          87,
          87,
          89,
          89,
          89,
          89,
          90,
          90,
          90,
          90,
          90,
          92,
          92,
          94,
          96,
          null,
          null,
          null,
          null,
          null,
          null,
          null,
          null,
          null,
          null,
          null,
          19,
          20,
          21,
          21,
          21,
          22,
          23,
          24,
          25,
          26,
          26,
          26,
          27,
          28,
          28,
          29,
          29,
          29,
          30,
          30,
          31,
          32,
          32,
          33,
          33,
          34,
          35,
          37,
          37,
          38,
          39,
          39,
          39,
          39,
          39,
          40,
          40,
          41,
          41,
          41,
          41,
          43,
          43,
          43,
          44,
          44,
          44,
          45,
          45,
          45,
          45,
          46,
          46,
          46,
          46,
          46,
          46,
          47,
          48,
          48,
          49,
          49,
          49,
          49,
          50,
          50,
          50,
          50,
          50,
          50,
          50,
          51,
          51,
          51,
          51,
          51,
          52,
          53,
          53,
          53,
          54,
          54,
          54,
          54,
          54,
          55,
          55,
          55,
          55,
          55,
          55,
          56,
          56,
          56,
          56,
          57,
          57,
          57,
          57,
          58,
          58,
          58,
          59,
          59,
          59,
          59,
          59,
          59,
          60,
          60,
          60,
          60,
          60,
          60,
          61,
          61,
          61,
          61,
          61,
          61,
          62,
          63,
          63,
          63,
          63,
          63,
          63,
          64,
          64,
          64,
          65,
          65,
          66,
          66,
          66,
          66,
          67,
          67,
          67,
          67,
          68,
          68,
          68,
          68,
          68,
          68,
          69,
          69,
          70,
          70,
          70,
          70,
          70,
          71,
          71,
          72,
          72,
          73,
          73,
          73,
          74,
          75,
          75,
          76,
          76,
          76,
          76,
          76,
          76,
          77,
          78,
          78,
          78,
          80,
          81,
          81,
          82,
          82,
          84,
          84,
          84,
          85,
          85,
          88,
          91,
          97,
          null,
          null,
          18,
          25,
          26,
          26,
          26,
          27,
          27,
          27,
          29,
          31,
          31,
          32,
          32,
          32,
          33,
          33,
          35,
          35,
          35,
          35,
          36,
          37,
          37,
          38,
          38,
          40,
          40,
          41,
          43,
          43,
          43,
          45,
          45,
          45,
          47,
          47,
          47,
          48,
          49,
          49,
          50,
          50,
          51,
          51,
          51,
          51,
          52,
          52,
          53,
          54,
          54,
          55,
          55,
          55,
          55,
          56,
          56,
          56,
          57,
          58,
          58,
          58,
          58,
          59,
          59,
          59,
          59,
          59,
          60,
          60,
          60,
          60,
          62,
          62,
          62,
          62,
          62,
          63,
          63,
          63,
          64,
          64,
          64,
          65,
          65,
          67,
          67,
          67,
          68,
          68,
          68,
          70,
          70,
          70,
          70,
          72,
          73,
          73,
          74,
          74,
          75,
          75,
          75,
          75,
          76,
          77,
          77,
          78,
          78,
          78,
          78,
          78,
          79,
          79,
          80,
          81,
          84,
          85,
          85,
          85,
          87,
          87,
          90,
          92,
          92,
          null,
          null,
          null,
          null,
          null,
          null,
          null,
          18,
          18,
          19,
          21,
          22,
          23,
          24,
          25,
          25,
          25,
          26,
          26,
          26,
          28,
          30,
          31,
          31,
          32,
          32,
          34,
          35,
          35,
          36,
          36,
          36,
          36,
          37,
          37,
          37,
          37,
          37,
          38,
          39,
          39,
          41,
          41,
          41,
          41,
          42,
          43,
          43,
          44,
          45,
          45,
          46,
          46,
          47,
          48,
          48,
          48,
          49,
          50,
          50,
          50,
          50,
          51,
          51,
          52,
          53,
          53,
          53,
          54,
          54,
          54,
          54,
          54,
          55,
          55,
          57,
          57,
          57,
          57,
          57,
          58,
          58,
          58,
          58,
          58,
          59,
          59,
          59,
          59,
          60,
          60,
          60,
          60,
          62,
          62,
          63,
          63,
          63,
          64,
          64,
          64,
          64,
          64,
          64,
          64,
          65,
          65,
          65,
          65,
          66,
          66,
          66,
          66,
          66,
          67,
          67,
          67,
          68,
          68,
          68,
          68,
          69,
          70,
          70,
          70,
          70,
          72,
          72,
          72,
          72,
          72,
          73,
          73,
          73,
          73,
          74,
          75,
          75,
          75,
          76,
          76,
          76,
          77,
          78,
          78,
          78,
          79,
          79,
          79,
          81,
          81,
          81,
          81,
          82,
          82,
          83,
          86,
          87,
          90,
          91,
          93,
          null,
          null,
          null,
          null,
          null,
          null,
          null,
          null,
          null,
          null,
          null,
          18,
          21,
          21,
          22,
          23,
          23,
          23,
          24,
          24,
          24,
          25,
          26,
          26,
          26,
          27,
          27,
          27,
          27,
          27,
          28,
          28,
          30,
          30,
          30,
          30,
          30,
          30,
          31,
          31,
          31,
          31,
          31,
          32,
          32,
          32,
          32,
          32,
          33,
          34,
          34,
          34,
          34,
          34,
          35,
          35,
          36,
          36,
          36,
          36,
          37,
          37,
          37,
          37,
          37,
          38,
          38,
          38,
          38,
          39,
          39,
          39,
          39,
          39,
          40,
          40,
          40,
          40,
          40,
          40,
          41,
          41,
          42,
          42,
          43,
          43,
          43,
          43,
          44,
          44,
          44,
          45,
          46,
          46,
          46,
          46,
          47,
          47,
          47,
          48,
          48,
          48,
          49,
          49,
          49,
          49,
          50,
          50,
          50,
          50,
          50,
          50,
          50,
          51,
          51,
          51,
          51,
          51,
          51,
          52,
          52,
          52,
          53,
          53,
          53,
          53,
          54,
          54,
          54,
          54,
          54,
          55,
          55,
          55,
          55,
          55,
          55,
          56,
          56,
          56,
          56,
          56,
          57,
          57,
          57,
          57,
          57,
          58,
          58,
          58,
          58,
          58,
          58,
          58,
          58,
          59,
          59,
          60,
          60,
          60,
          60,
          60,
          60,
          60,
          60,
          61,
          61,
          61,
          61,
          61,
          62,
          62,
          62,
          62,
          63,
          63,
          63,
          63,
          63,
          63,
          64,
          64,
          64,
          64,
          64,
          64,
          65,
          65,
          65,
          65,
          65,
          65,
          65,
          66,
          66,
          66,
          66,
          66,
          66,
          67,
          67,
          67,
          67,
          67,
          68,
          68,
          68,
          68,
          68,
          68,
          68,
          69,
          69,
          70,
          70,
          70,
          70,
          70,
          71,
          71,
          72,
          72,
          72,
          73,
          73,
          73,
          73,
          73,
          73,
          74,
          74,
          74,
          74,
          75,
          75,
          75,
          75,
          75,
          75,
          76,
          76,
          76,
          76,
          76,
          76,
          77,
          77,
          77,
          78,
          78,
          78,
          79,
          79,
          79,
          79,
          80,
          80,
          80,
          81,
          81,
          81,
          82,
          83,
          83,
          84,
          85,
          87,
          88,
          null,
          null,
          null,
          null,
          null,
          null,
          20,
          24,
          25,
          27,
          31,
          31,
          33,
          33,
          34,
          34,
          35,
          35,
          35,
          35,
          36,
          36,
          37,
          38,
          39,
          39,
          39,
          40,
          41,
          41,
          41,
          42,
          42,
          43,
          45,
          46,
          46,
          46,
          47,
          47,
          47,
          48,
          48,
          48,
          49,
          49,
          49,
          50,
          50,
          50,
          50,
          51,
          51,
          51,
          52,
          53,
          53,
          53,
          53,
          53,
          54,
          54,
          54,
          55,
          56,
          56,
          56,
          56,
          56,
          57,
          57,
          58,
          58,
          58,
          58,
          58,
          58,
          59,
          59,
          60,
          60,
          60,
          61,
          62,
          62,
          62,
          63,
          64,
          65,
          65,
          66,
          67,
          68,
          68,
          68,
          70,
          70,
          70,
          70,
          71,
          72,
          72,
          72,
          72,
          73,
          73,
          74,
          74,
          75,
          76,
          77,
          77,
          77,
          78,
          78,
          78,
          79,
          79,
          81,
          82,
          85,
          85,
          89,
          92,
          99,
          null,
          null,
          18,
          19,
          22,
          22,
          23,
          24,
          32,
          33,
          34,
          34,
          35,
          35,
          35,
          36,
          37,
          39,
          42,
          43,
          43,
          44,
          44,
          45,
          45,
          46,
          46,
          46,
          47,
          48,
          49,
          50,
          50,
          51,
          51,
          52,
          53,
          53,
          54,
          54,
          56,
          56,
          58,
          59,
          60,
          60,
          61,
          62,
          62,
          63,
          63,
          63,
          64,
          64,
          65,
          66,
          67,
          68,
          70,
          71,
          71,
          71,
          71,
          71,
          72,
          72,
          72,
          73,
          75,
          76,
          76,
          77,
          77,
          81,
          82,
          84,
          87,
          null,
          null,
          18,
          20,
          21,
          21,
          27,
          28,
          29,
          32,
          32,
          33,
          34,
          38,
          38,
          44,
          45,
          45,
          50,
          51,
          52,
          55,
          57,
          58,
          58,
          59,
          59,
          60,
          63,
          65,
          65,
          67,
          68,
          68,
          74,
          76,
          78,
          79,
          82,
          83,
          null,
          null,
          21,
          26,
          30,
          31,
          32,
          32,
          32,
          36,
          37,
          37,
          38,
          38,
          38,
          40,
          40,
          40,
          40,
          41,
          41,
          42,
          43,
          44,
          44,
          45,
          45,
          47,
          47,
          47,
          47,
          48,
          49,
          49,
          50,
          50,
          51,
          52,
          53,
          56,
          56,
          56,
          57,
          58,
          58,
          59,
          59,
          59,
          60,
          62,
          62,
          62,
          63,
          63,
          64,
          65,
          65,
          65,
          66,
          67,
          67,
          68,
          68,
          68,
          69,
          69,
          69,
          70,
          72,
          72,
          73,
          73,
          73,
          76,
          82,
          83,
          88,
          88,
          null,
          null,
          20,
          27,
          34,
          36,
          36,
          39,
          39,
          40,
          40,
          42,
          42,
          44,
          47,
          48,
          50,
          53,
          54,
          55,
          57,
          57,
          59,
          61,
          61,
          62,
          62,
          62,
          63,
          65,
          66,
          67,
          68,
          69,
          69,
          70,
          71,
          74,
          75,
          77,
          87,
          null,
          20,
          20,
          21,
          23,
          23,
          24,
          24,
          26,
          26,
          26,
          27,
          27,
          28,
          29,
          30,
          31,
          33,
          34,
          34,
          35,
          37,
          37,
          37,
          38,
          39,
          40,
          40,
          41,
          41,
          41,
          41,
          43,
          43,
          43,
          43,
          44,
          44,
          45,
          47,
          48,
          48,
          48,
          48,
          49,
          49,
          50,
          50,
          50,
          50,
          51,
          51,
          51,
          51,
          51,
          52,
          52,
          52,
          53,
          53,
          53,
          54,
          54,
          54,
          54,
          55,
          55,
          56,
          56,
          56,
          57,
          58,
          58,
          58,
          58,
          59,
          60,
          60,
          60,
          60,
          60,
          61,
          61,
          62,
          62,
          62,
          63,
          63,
          63,
          63,
          64,
          64,
          64,
          64,
          64,
          64,
          65,
          66,
          66,
          66,
          67,
          68,
          68,
          68,
          69,
          69,
          70,
          70,
          70,
          70,
          70,
          71,
          71,
          71,
          71,
          72,
          72,
          72,
          73,
          73,
          73,
          73,
          73,
          74,
          75,
          75,
          76,
          76,
          76,
          77,
          77,
          77,
          78,
          78,
          78,
          79,
          79,
          80,
          80,
          81,
          82,
          83,
          83,
          85,
          85,
          86,
          88,
          92,
          92,
          47,
          51,
          64,
          55,
          25,
          71,
          68,
          58,
          51,
          61,
          21,
          69,
          32,
          42,
          67,
          64,
          38,
          57,
          49,
          20,
          58,
          43,
          47,
          50,
          25,
          48,
          27,
          36,
          69,
          47,
          59,
          31,
          68,
          43,
          65,
          25,
          27,
          50,
          23,
          32,
          58,
          47,
          75,
          58,
          43,
          60,
          29,
          43,
          73,
          52,
          33,
          74,
          81,
          78,
          80,
          42,
          62,
          65,
          69,
          52,
          55,
          18,
          51,
          68,
          67,
          45,
          43,
          51,
          51,
          73,
          61,
          39,
          23,
          67,
          85,
          38,
          79,
          71,
          52,
          74,
          55,
          54,
          24,
          41,
          65,
          27,
          21,
          22,
          45,
          59,
          64,
          54,
          45,
          50,
          62,
          22,
          43,
          88,
          25,
          27,
          29,
          32,
          49,
          64,
          21,
          61,
          74,
          68,
          70,
          18,
          20,
          37,
          22,
          20,
          52,
          72,
          88,
          44,
          33,
          23,
          69,
          59,
          52,
          59,
          71,
          70,
          56,
          19,
          77,
          53,
          31,
          44,
          55,
          63,
          48,
          64,
          80,
          25,
          65,
          43,
          60,
          63,
          23,
          63,
          20,
          59,
          42,
          78,
          40,
          23,
          57,
          68,
          68,
          48,
          23,
          24,
          63,
          73,
          24,
          58,
          24,
          53,
          77,
          35,
          68,
          24,
          64,
          25,
          53,
          39,
          88,
          43,
          53,
          47,
          57,
          25,
          81,
          21,
          60,
          30,
          48,
          62,
          35,
          25,
          65,
          43,
          25,
          34,
          34,
          43,
          63,
          58,
          44,
          28,
          61,
          48,
          60,
          51,
          25,
          48,
          45,
          46,
          24,
          25,
          46,
          54,
          32,
          81,
          30,
          43,
          77,
          43,
          44,
          21,
          51,
          48,
          27,
          28,
          44,
          35,
          24,
          20,
          72,
          60,
          55,
          34,
          53,
          47,
          21,
          63,
          61,
          57,
          46,
          51,
          54,
          23,
          65,
          45,
          29,
          30,
          48,
          56,
          34,
          25,
          64,
          40,
          19,
          65,
          48,
          62,
          57,
          24,
          35,
          23,
          49,
          45,
          43,
          31,
          69,
          44,
          52,
          65,
          57,
          67,
          65,
          20,
          67,
          65,
          69,
          58,
          25,
          45,
          18,
          61,
          31,
          21,
          78,
          63,
          57,
          75,
          24,
          72,
          50,
          44,
          26,
          63,
          19,
          51,
          63,
          24,
          47,
          47,
          44,
          53,
          44,
          58,
          52,
          54,
          47,
          72,
          24,
          51,
          49,
          25,
          65,
          59,
          32,
          34,
          63,
          64,
          57,
          43,
          31,
          63,
          66,
          49,
          26,
          41,
          80,
          32,
          42,
          30,
          66,
          25,
          64,
          55,
          63,
          53,
          81,
          34,
          44,
          44,
          25,
          82,
          92,
          46,
          32,
          56,
          51,
          53,
          33,
          34,
          56,
          51,
          60,
          53,
          61,
          43,
          29,
          78,
          69,
          35,
          25,
          49,
          33,
          66,
          43,
          36,
          62,
          22,
          59,
          58,
          73,
          52,
          61,
          52,
          47,
          58,
          46,
          53,
          68,
          25,
          88,
          41,
          71,
          41,
          50,
          57,
          48,
          61,
          36,
          67,
          63,
          22,
          56,
          39,
          60,
          53,
          73,
          50,
          21,
          25,
          33,
          70,
          48,
          30,
          22,
          63,
          92,
          22,
          49,
          47,
          59,
          43,
          24,
          62,
          67,
          80,
          85,
          36,
          39,
          28,
          55,
          62,
          57,
          66,
          76,
          59,
          88,
          70,
          35,
          44,
          61,
          71,
          69,
          64,
          66,
          45,
          60,
          76,
          48,
          72,
          73,
          31,
          24,
          68,
          32,
          50,
          76,
          40,
          71,
          22,
          59,
          57,
          40,
          50,
          60,
          54,
          72,
          66,
          65,
          36,
          39,
          38,
          38,
          49,
          43,
          26,
          68,
          56,
          29,
          67,
          68,
          56,
          36,
          76,
          83,
          64,
          34,
          74,
          33,
          54,
          86,
          63,
          29,
          55,
          64,
          74,
          34,
          27,
          40,
          30,
          88,
          70,
          50,
          59,
          48,
          37,
          23,
          59,
          65,
          25,
          58,
          32,
          70,
          67,
          81,
          93,
          34,
          32,
          40,
          49,
          28,
          54,
          42,
          61,
          61,
          66,
          30,
          59,
          64,
          40,
          80,
          71,
          65,
          65,
          36,
          54,
          51,
          60,
          64,
          55,
          80,
          22,
          53,
          60,
          63,
          70,
          67,
          39,
          24,
          61,
          58,
          67,
          82,
          73,
          50,
          39,
          57,
          70,
          44,
          67,
          37,
          60,
          56,
          33,
          34,
          37,
          57,
          63,
          62,
          55,
          90,
          80,
          19,
          57,
          70,
          53,
          59,
          43,
          29,
          30,
          66,
          82,
          37,
          83,
          61,
          82,
          44,
          28,
          57,
          34,
          72,
          47,
          43,
          60,
          63,
          35,
          82,
          75,
          67,
          35,
          67,
          84,
          33,
          58,
          57,
          46,
          67,
          56,
          80,
          66,
          57,
          37,
          40,
          31,
          59,
          73,
          57,
          89,
          29,
          50,
          80,
          30,
          49,
          69,
          81,
          51,
          85,
          49,
          27,
          31,
          38,
          45,
          73,
          49,
          46,
          39,
          78,
          54,
          49,
          41,
          69,
          57,
          28,
          39,
          92,
          30,
          73,
          52,
          64,
          57,
          55,
          61,
          77,
          23,
          30,
          41,
          29,
          45,
          50,
          50,
          59,
          56,
          41,
          62,
          83,
          71,
          60,
          39,
          36,
          36,
          97,
          27,
          57,
          65,
          39,
          84,
          73,
          83,
          61,
          38,
          18,
          65,
          33,
          74,
          58,
          67,
          57,
          73,
          37,
          47,
          37,
          63,
          28,
          84,
          50,
          86,
          23,
          42,
          47,
          43,
          25,
          81,
          65,
          79,
          66,
          66,
          63,
          30,
          58,
          30,
          61,
          56,
          55,
          50,
          39,
          65,
          37,
          47,
          67,
          29,
          51,
          82,
          60,
          28,
          57,
          78,
          66,
          64,
          42,
          48,
          83,
          55,
          78,
          74,
          26,
          75,
          69,
          28,
          22,
          32,
          66,
          78,
          22,
          37,
          64,
          66,
          65,
          28,
          71,
          61,
          50,
          58,
          45,
          50,
          50,
          62,
          70,
          44,
          36,
          78,
          60,
          66,
          78,
          28,
          75,
          35,
          71,
          55,
          49,
          80,
          67,
          66,
          42,
          40,
          88,
          54,
          61,
          61,
          70,
          70,
          54,
          34,
          46,
          52,
          86,
          69,
          56,
          76,
          64,
          63,
          39,
          45,
          43,
          37,
          60,
          90,
          31,
          70,
          70,
          37,
          33,
          68,
          37,
          73,
          55,
          52,
          35,
          54,
          66,
          60,
          76,
          62,
          50,
          37,
          46,
          37,
          40,
          38,
          33,
          40,
          32,
          72,
          55,
          78,
          40,
          49,
          31,
          47,
          21,
          28,
          23,
          57,
          64,
          72,
          86,
          44,
          45,
          41,
          59,
          29,
          35,
          57,
          59,
          37,
          39,
          49,
          69,
          49,
          72,
          30,
          26,
          63,
          88,
          23,
          35,
          61,
          43,
          31,
          61,
          41,
          66,
          44,
          36,
          49,
          70,
          61,
          74,
          91,
          36,
          40,
          79,
          91,
          68,
          34,
          18,
          40,
          63,
          75,
          60,
          59,
          70,
          46,
          53,
          79,
          59,
          47,
          55,
          67,
          87,
          55,
          65,
          51,
          31,
          21,
          72,
          39,
          28,
          63,
          81,
          72,
          67,
          53,
          80,
          75,
          84,
          27,
          58,
          61,
          30,
          81,
          85,
          42,
          57,
          53,
          54,
          57,
          72,
          25,
          65,
          39,
          50,
          46,
          77,
          65,
          93,
          18,
          35,
          71,
          23,
          78,
          62,
          22,
          57,
          39,
          63,
          52,
          41,
          39,
          65,
          56,
          19,
          36,
          57,
          70,
          28,
          34,
          75,
          38,
          81,
          46,
          53,
          81,
          80,
          57,
          32,
          56,
          41,
          87,
          30,
          55,
          82,
          93,
          64,
          63,
          44,
          32,
          58,
          59,
          71,
          75,
          71,
          41,
          58,
          45,
          32,
          52,
          32,
          51,
          75,
          71,
          59,
          50,
          65,
          65,
          46,
          60,
          74,
          30,
          80,
          33,
          62,
          25,
          29,
          54,
          70,
          80,
          38,
          42,
          60,
          23,
          68,
          66,
          34,
          49,
          36,
          35,
          66,
          60,
          37,
          78,
          73,
          77,
          46,
          75,
          30,
          62,
          38,
          60,
          67,
          71,
          71,
          35,
          41,
          56,
          52,
          35,
          28,
          80,
          22,
          46,
          28,
          61,
          54,
          72,
          74,
          69,
          30,
          26,
          59,
          64,
          36,
          67,
          40,
          58,
          44,
          39,
          71,
          64,
          43,
          48,
          71,
          68,
          41,
          43,
          53,
          50,
          65,
          30,
          45,
          27,
          38,
          55,
          30,
          25,
          64,
          28,
          93,
          50,
          40,
          44,
          56,
          67,
          66,
          32,
          49,
          65,
          72,
          25,
          42,
          29,
          65,
          30,
          74,
          67,
          43,
          65,
          50,
          43,
          69,
          50,
          66,
          66,
          70,
          46,
          84,
          52,
          66,
          69,
          55,
          61,
          42,
          45,
          40,
          40,
          57,
          57,
          51,
          76,
          24,
          74,
          36,
          55,
          52,
          60,
          67,
          28,
          65,
          20,
          35,
          49,
          35,
          58,
          49,
          68,
          69,
          22,
          26,
          61,
          71,
          35,
          72,
          42,
          67,
          28,
          60,
          59,
          63,
          23,
          59,
          51,
          26,
          79,
          70,
          49,
          58,
          71,
          71,
          31,
          78,
          58,
          88,
          64,
          76,
          66,
          41,
          44,
          66,
          51,
          37,
          43,
          68,
          66,
          34,
          79,
          64,
          74,
          50,
          73,
          63,
          64,
          52,
          73,
          69,
          60,
          94,
          62,
          56,
          40,
          57,
          87,
          61,
          34,
          62,
          39,
          72,
          81,
          62,
          67,
          46,
          44,
          51,
          39,
          44,
          43,
          75,
          69,
          30,
          62,
          65,
          29,
          19,
          77,
          69,
          43,
          29,
          65,
          47,
          80,
          36,
          66,
          60,
          28,
          56,
          65,
          66,
          45,
          59,
          72,
          59,
          46,
          63,
          27,
          41,
          45,
          68,
          39,
          65,
          73,
          39,
          75,
          24,
          78,
          42,
          58,
          79,
          34,
          54,
          59,
          76,
          55,
          28,
          27,
          78,
          63,
          62,
          38,
          64,
          40,
          36,
          62,
          50,
          72,
          46,
          55,
          57,
          57,
          63,
          88,
          90,
          61,
          73,
          61,
          68,
          69,
          90,
          42,
          69,
          34,
          21,
          29,
          65,
          39,
          45,
          45,
          78,
          64,
          61,
          53,
          43,
          75,
          68,
          58,
          65,
          42,
          69,
          35,
          33,
          73,
          86,
          48,
          73,
          35,
          33,
          70,
          32,
          61,
          42,
          75,
          28,
          73,
          38,
          48,
          67,
          61,
          64,
          90,
          44,
          75,
          66,
          43,
          42,
          77,
          63,
          32,
          76,
          64,
          23,
          68,
          34,
          49,
          51,
          59,
          43,
          84,
          41,
          55,
          26,
          52,
          55,
          18,
          81,
          67,
          52,
          43,
          73,
          69,
          88,
          69,
          81,
          46,
          39,
          23,
          36,
          67,
          60,
          54,
          69,
          57,
          90,
          55,
          38,
          61,
          57,
          64,
          39,
          66,
          73,
          77,
          56,
          19,
          52,
          30,
          33,
          39,
          63,
          50,
          57,
          53,
          40,
          44,
          59,
          33,
          34,
          62,
          23,
          40,
          44,
          37,
          72,
          31,
          34,
          91,
          60,
          67,
          47,
          59,
          87,
          47,
          42,
          70,
          32,
          54,
          59,
          35,
          45,
          47,
          47,
          72,
          74,
          43,
          57,
          68,
          30,
          68,
          52,
          48,
          68,
          82,
          66,
          70,
          53,
          85,
          70,
          64,
          81,
          59,
          53,
          51,
          26,
          72,
          67,
          78,
          53,
          26,
          43,
          28,
          36,
          36,
          62,
          76,
          72,
          83,
          62,
          33,
          33,
          62,
          43,
          29,
          74,
          74,
          67,
          35,
          29,
          64,
          71,
          52,
          74,
          44,
          62,
          43,
          56,
          74,
          52,
          81,
          80,
          62,
          75,
          88,
          79,
          60,
          68,
          38,
          38,
          61,
          78,
          91,
          42,
          63,
          34,
          64,
          59,
          28,
          59,
          68,
          53,
          78,
          35,
          76,
          28,
          58,
          50,
          76,
          80,
          29,
          52,
          31,
          45,
          59,
          66,
          54,
          89,
          21,
          52,
          83,
          57,
          66,
          33,
          21,
          61,
          27,
          69,
          87,
          79,
          68,
          84,
          77,
          35,
          63,
          83,
          29,
          85,
          39,
          51,
          68,
          26,
          69,
          57,
          77,
          51,
          69,
          25,
          34,
          67,
          78,
          61,
          28,
          41,
          44,
          60,
          66,
          80,
          52,
          76,
          41,
          69,
          70,
          84,
          73,
          63,
          49,
          70,
          51,
          24,
          57,
          66,
          31,
          50,
          63,
          74,
          22,
          57,
          59,
          74,
          80,
          74,
          35,
          58,
          69,
          34,
          46,
          77,
          72,
          33,
          72,
          38,
          77,
          40,
          74,
          25,
          43,
          54,
          82,
          65,
          85,
          32,
          52,
          57,
          51,
          56,
          43,
          40,
          22,
          60,
          53,
          66,
          37,
          27,
          86,
          68,
          51,
          60,
          69,
          88,
          37,
          51,
          62,
          50,
          58,
          19,
          46,
          22,
          84,
          69,
          64,
          36,
          56,
          62,
          46,
          60,
          26,
          37,
          31,
          40,
          31,
          27,
          61,
          65,
          64,
          31,
          74,
          37,
          70,
          61,
          50,
          27,
          48,
          23,
          30,
          58,
          44,
          32,
          43,
          57,
          61,
          30,
          46,
          61,
          59,
          77,
          46,
          61,
          80,
          56,
          48,
          67,
          49,
          30,
          58,
          37,
          54,
          44,
          48,
          61,
          59,
          75,
          37,
          45,
          59,
          62,
          36,
          59,
          52,
          75,
          67,
          44,
          70,
          61,
          81,
          54,
          63,
          21,
          29,
          18,
          54,
          38,
          41,
          20,
          81,
          65,
          66,
          81,
          67,
          33,
          26,
          32,
          48,
          60,
          41,
          38,
          76,
          70,
          37,
          68,
          49,
          51,
          73,
          65,
          58,
          58,
          42,
          77,
          78,
          81,
          50,
          63,
          52,
          66,
          34,
          83,
          83,
          30,
          33,
          25,
          69,
          49,
          92,
          64,
          96,
          34,
          84,
          31,
          71,
          42,
          70,
          58,
          37,
          81,
          30,
          65,
          51,
          63,
          31,
          65,
          62,
          70,
          43,
          44,
          62,
          59,
          41,
          67,
          27,
          41,
          47,
          39,
          84,
          41,
          30,
          58,
          62,
          53,
          82,
          34,
          55,
          68,
          36,
          22,
          29,
          69,
          25,
          54,
          43,
          58,
          57,
          20,
          24,
          66,
          62,
          79,
          37,
          48,
          24,
          38,
          69,
          67,
          31,
          62,
          60,
          39,
          58,
          39,
          30,
          49,
          23,
          52,
          28,
          67,
          34,
          59,
          88,
          63,
          61,
          71,
          33,
          69,
          64,
          45,
          35,
          46,
          56,
          23,
          86,
          22,
          39,
          41,
          50,
          48,
          42,
          29,
          26,
          38,
          77,
          55,
          33,
          23,
          50,
          62,
          78,
          75,
          36,
          22,
          31,
          54,
          40,
          38,
          76,
          60,
          90,
          36,
          57,
          56,
          27,
          47,
          55,
          52,
          50,
          38,
          81,
          37,
          63,
          58,
          79,
          45,
          72,
          61,
          25,
          45,
          53,
          39,
          21,
          23,
          59,
          58,
          73,
          21,
          57,
          67,
          52,
          42,
          72,
          21,
          66,
          42,
          37,
          32,
          26,
          36,
          65,
          70,
          42,
          58,
          62,
          80,
          25,
          45,
          66,
          46,
          55,
          64,
          35,
          72,
          50,
          63,
          21,
          59,
          52,
          31,
          48,
          73,
          76,
          47,
          65,
          69,
          65,
          43,
          74,
          30,
          76,
          68,
          49,
          42,
          57,
          47,
          71,
          27,
          57,
          33,
          67,
          52,
          36,
          18,
          42,
          69,
          65,
          48,
          47,
          26,
          63,
          56,
          47,
          30,
          57,
          30,
          39,
          53,
          44,
          65,
          42,
          64,
          56,
          44,
          67,
          60,
          36,
          78,
          58,
          24,
          81,
          32,
          66,
          64,
          33,
          37,
          37,
          72,
          36,
          58,
          40,
          49,
          72,
          42,
          36,
          67,
          67,
          52,
          66,
          61,
          69,
          61,
          58,
          72,
          56,
          58,
          79,
          40,
          67,
          62,
          57,
          70,
          28,
          67,
          71,
          78,
          37,
          63,
          44,
          30,
          39,
          32,
          74,
          60,
          41,
          35,
          70,
          42,
          67,
          25,
          45,
          85,
          30,
          59,
          27,
          67,
          28,
          36,
          54,
          27,
          32,
          54,
          27,
          33,
          37,
          24,
          58,
          50,
          60,
          76,
          64,
          39,
          31,
          21,
          60,
          38,
          26,
          70,
          44,
          43,
          61,
          61,
          62,
          32,
          96,
          42,
          55,
          46,
          74,
          26,
          62,
          37,
          44,
          76,
          42,
          74,
          41,
          47,
          37,
          39,
          76,
          67,
          36,
          55,
          54,
          29,
          50,
          43,
          76,
          57,
          64,
          22,
          52,
          56,
          56,
          76,
          77,
          80,
          68,
          50,
          65,
          80,
          78,
          27,
          37,
          34,
          41,
          36,
          61,
          43,
          64,
          58,
          29,
          62,
          39,
          22,
          59,
          50,
          47,
          79,
          36,
          85,
          67,
          77,
          72,
          67,
          50,
          52,
          29,
          66,
          26,
          38,
          26,
          60,
          62,
          65,
          77,
          41,
          43,
          59,
          61,
          53,
          21,
          25,
          70,
          32,
          57,
          60,
          75,
          30,
          49,
          54,
          60,
          20,
          63,
          59,
          95,
          19,
          66,
          59,
          55,
          50,
          45,
          21,
          53,
          59,
          65,
          30,
          64,
          84,
          36,
          28,
          46,
          69,
          48,
          59,
          56,
          62,
          72,
          44,
          39,
          67,
          29,
          78,
          42,
          51,
          77,
          39,
          53,
          53,
          61,
          53,
          40,
          49,
          58,
          53,
          41,
          43,
          25,
          53,
          50,
          51,
          51,
          51,
          54,
          73,
          34,
          72,
          67,
          73,
          33,
          68,
          80,
          54,
          27,
          67,
          41,
          89,
          76,
          59,
          58,
          23,
          33,
          63,
          44,
          74,
          65,
          81,
          26,
          68,
          50,
          73,
          41,
          48,
          29,
          35,
          64,
          58,
          30,
          46,
          51,
          51,
          31,
          40,
          24,
          33,
          27,
          36,
          41,
          64,
          32,
          64,
          55,
          29,
          54,
          34,
          42,
          31,
          22,
          47,
          61,
          27,
          48,
          45,
          58,
          39,
          51,
          43,
          64,
          62,
          42,
          39,
          59,
          63,
          29,
          34,
          42,
          29,
          52,
          32,
          48,
          78,
          34,
          54,
          59,
          70,
          34,
          59,
          18,
          62,
          89,
          66,
          74,
          91,
          50,
          32,
          72,
          59,
          71,
          52,
          67,
          57,
          24,
          73,
          37,
          49,
          46,
          76,
          50,
          28,
          58,
          38,
          82,
          27,
          48,
          41,
          51,
          34,
          68,
          81,
          74,
          63,
          74,
          80,
          81,
          79,
          59,
          75,
          74,
          50,
          44,
          67,
          58,
          46,
          69,
          40,
          18,
          68,
          85,
          74,
          39,
          59,
          55,
          61,
          27,
          63,
          29,
          39,
          66,
          23,
          53,
          84,
          59,
          67,
          62,
          77,
          62,
          76,
          55,
          45,
          71,
          48,
          71,
          36,
          65,
          52,
          22,
          72,
          63,
          41,
          79,
          65,
          79,
          41,
          64,
          56,
          65,
          70,
          58,
          63,
          68,
          55,
          72,
          43,
          66,
          65,
          35,
          75,
          41,
          83,
          45,
          59,
          44,
          62,
          70,
          32,
          50,
          89,
          77,
          35,
          34,
          92,
          29,
          44,
          68,
          34,
          93,
          83,
          57,
          48,
          67,
          34,
          54,
          68,
          44,
          81,
          69,
          77,
          61,
          31,
          44,
          50,
          28,
          71,
          68,
          57,
          57,
          73,
          49,
          30,
          61,
          77,
          36,
          67,
          63,
          69,
          40,
          76,
          49,
          65,
          55,
          66,
          26,
          59,
          46,
          29,
          23,
          71,
          59,
          81,
          58,
          22,
          41,
          77,
          73,
          34,
          54,
          57,
          47,
          70,
          43,
          28,
          85,
          61,
          72,
          65,
          73,
          50,
          31,
          42,
          78,
          48,
          37,
          64,
          71,
          87,
          49,
          62,
          75,
          35,
          44,
          33,
          66,
          85,
          33,
          36,
          63,
          56,
          79,
          56,
          29,
          77,
          57,
          35,
          63,
          31,
          50,
          63,
          44,
          80,
          70,
          54,
          71,
          42,
          25,
          29,
          41,
          68,
          60,
          28,
          48,
          37,
          58,
          33,
          47,
          45,
          46,
          67,
          64,
          50,
          37,
          34,
          74,
          51,
          30,
          39,
          87,
          56,
          30,
          43,
          67,
          52,
          47,
          50,
          28,
          44,
          61,
          54,
          27,
          68,
          41,
          39,
          64,
          25,
          54,
          26,
          52,
          20,
          42,
          69,
          61,
          60,
          53,
          47,
          51,
          28,
          45,
          37,
          78,
          29,
          63,
          69,
          81,
          70,
          27,
          40,
          46,
          58,
          81,
          40,
          58,
          62,
          60,
          80,
          73,
          77,
          70,
          41,
          62,
          65,
          27,
          30,
          78,
          39,
          43,
          69,
          51,
          66,
          35,
          28,
          59,
          35,
          39,
          40,
          74,
          66,
          85,
          73,
          49,
          75,
          68,
          75,
          52,
          70,
          66,
          30,
          65,
          64,
          49,
          56,
          57,
          38,
          57,
          46,
          35,
          47,
          67,
          40,
          74,
          75,
          63,
          50,
          37,
          59,
          57,
          53,
          39,
          45,
          60,
          76,
          33,
          68,
          33,
          30,
          52,
          30,
          49,
          35,
          43,
          32,
          32,
          57,
          51,
          47,
          79,
          63,
          27,
          65,
          57,
          49,
          30,
          59,
          60,
          72,
          69,
          64,
          82,
          58,
          69,
          79,
          68,
          67,
          64,
          71,
          87,
          52,
          70,
          72,
          77,
          59,
          69,
          71,
          28,
          68,
          45,
          60,
          79,
          85,
          64,
          62,
          60,
          48,
          62,
          60,
          45,
          33,
          29,
          55,
          31,
          90,
          32,
          91,
          75,
          31,
          74,
          26,
          67,
          30,
          75,
          56,
          56,
          67,
          53,
          26,
          53,
          71,
          69,
          80,
          68,
          77,
          84,
          32,
          64,
          57,
          47,
          65,
          44,
          75,
          50,
          71,
          73,
          76,
          56,
          67,
          72,
          41,
          53,
          58,
          74,
          45,
          63,
          69,
          73,
          81,
          58,
          30,
          44,
          58,
          49,
          61,
          62,
          63,
          52,
          47,
          66,
          49,
          46,
          55,
          47,
          31,
          56,
          64,
          61,
          33,
          37,
          73,
          70,
          65,
          72,
          51,
          58,
          38,
          57,
          41,
          57,
          68,
          27,
          72,
          76,
          51,
          60,
          78,
          37,
          61,
          82,
          33,
          38,
          42,
          62,
          72,
          54,
          49,
          59,
          64,
          81,
          71,
          44,
          45,
          48,
          74,
          56,
          27,
          61,
          55,
          48,
          76,
          35,
          55,
          65,
          37,
          41,
          73,
          73,
          61,
          79,
          57,
          39,
          66,
          70,
          75,
          30,
          62,
          18,
          51,
          38,
          82,
          64,
          26,
          54,
          85,
          60,
          38,
          50,
          52,
          62,
          51,
          80,
          36,
          26,
          53,
          75,
          57,
          40,
          50,
          65,
          72,
          58,
          43,
          70,
          63,
          69,
          75,
          37,
          61,
          74,
          30,
          55,
          56,
          78,
          74,
          57,
          36,
          39,
          73,
          68,
          45,
          44,
          65,
          30,
          67,
          78,
          39,
          50,
          84,
          63,
          57,
          85,
          46,
          58,
          44,
          46,
          74,
          51,
          57,
          29,
          44,
          38,
          61,
          62,
          80,
          74,
          64,
          75,
          30,
          50,
          56,
          57,
          33,
          48,
          58,
          46,
          51,
          51,
          77,
          36,
          34,
          85,
          59,
          29,
          89,
          69,
          49,
          70,
          72,
          79,
          50,
          76,
          48,
          73,
          87,
          28,
          61,
          74,
          44,
          35,
          57,
          65,
          66,
          68,
          30,
          69,
          61,
          67,
          59,
          80,
          91,
          66,
          27,
          69,
          69,
          60,
          63,
          53,
          37,
          32,
          28,
          83,
          64,
          44,
          75,
          37,
          64,
          51,
          73,
          63,
          53,
          43,
          59,
          38,
          34,
          61,
          65,
          41,
          49,
          47,
          71,
          64,
          54,
          69,
          78,
          37,
          34,
          51,
          96,
          78,
          48,
          88,
          57,
          66,
          24,
          75,
          68,
          40,
          35,
          62,
          22,
          43,
          69,
          49,
          82,
          67,
          30,
          38,
          41,
          29,
          71,
          47,
          61,
          32,
          29,
          54,
          99,
          78,
          61,
          70,
          41,
          56,
          59,
          49,
          65,
          34,
          18,
          68,
          56,
          35,
          30,
          50,
          20,
          28,
          23,
          67,
          71,
          45,
          28,
          38,
          61,
          42,
          68,
          75,
          51,
          76,
          36,
          54,
          29,
          59,
          61,
          77,
          48,
          54,
          31,
          58,
          97,
          74,
          74,
          33,
          55,
          20,
          19,
          28,
          73,
          70,
          49,
          41,
          48,
          72,
          33,
          72,
          38,
          63,
          30,
          57,
          66,
          34,
          70,
          71,
          47,
          47,
          64,
          47,
          53,
          63,
          34,
          73,
          32,
          60,
          75,
          87,
          75,
          61,
          75,
          37,
          60,
          78,
          59,
          48,
          19,
          43,
          71,
          45,
          36,
          47,
          66,
          18,
          73,
          40,
          67,
          70,
          64,
          64,
          59,
          40,
          71,
          46,
          30,
          60,
          68,
          32,
          55,
          76,
          61,
          34,
          44,
          74,
          53,
          26,
          65,
          57,
          51,
          86,
          45,
          70,
          65,
          73,
          56,
          79,
          79,
          60,
          69,
          60,
          53,
          38,
          30,
          70,
          51,
          30,
          85,
          80,
          21,
          42,
          42,
          67,
          59,
          70,
          55,
          20,
          37,
          60,
          55,
          46,
          37,
          51,
          22,
          78,
          36,
          46,
          65,
          76,
          55,
          55,
          76,
          53,
          38,
          76,
          47,
          57,
          27,
          72,
          55,
          64,
          56,
          34,
          56,
          49,
          67,
          42,
          28,
          59,
          50,
          66,
          55,
          58,
          51,
          52,
          79,
          68,
          51,
          72,
          34,
          32,
          33,
          83,
          40,
          68,
          24,
          75,
          53,
          27,
          19,
          35,
          67,
          53,
          34,
          68,
          67,
          77,
          75,
          56,
          48,
          62,
          48,
          31,
          82,
          57,
          83,
          75,
          49,
          54,
          103,
          73,
          31,
          25,
          74,
          90,
          78,
          43,
          52,
          79,
          80,
          57,
          32,
          71,
          78,
          38,
          64,
          29,
          48,
          55,
          55,
          53,
          42,
          81,
          57,
          27,
          71,
          72,
          55,
          44,
          69,
          66,
          62,
          63,
          68,
          60,
          69,
          61,
          45,
          34,
          75,
          18,
          58,
          61,
          80,
          28,
          43,
          61,
          60,
          34,
          22,
          60,
          35,
          77,
          53,
          22,
          67,
          60,
          51,
          62,
          26,
          84,
          59,
          41,
          62,
          87,
          52,
          29,
          68,
          65,
          65,
          66,
          69,
          70,
          25,
          51,
          79,
          41,
          71,
          64,
          53,
          72,
          78,
          50,
          67,
          61,
          64,
          65,
          54,
          72,
          51,
          69,
          27,
          77,
          58,
          63,
          49,
          42,
          62,
          65,
          27,
          60,
          57,
          76,
          77,
          39,
          33,
          72,
          18,
          31,
          57,
          54,
          27,
          46,
          64,
          63,
          88,
          44,
          61,
          31,
          84,
          47,
          38,
          40,
          40,
          62,
          33,
          33,
          29,
          87,
          62,
          29,
          66,
          36,
          32,
          28,
          35,
          33,
          70,
          79,
          61,
          56,
          66,
          70,
          54,
          36,
          72,
          51,
          44,
          64,
          42,
          38,
          49,
          76,
          64,
          67,
          70,
          24,
          58,
          64,
          90,
          21,
          85,
          69,
          54,
          69,
          39,
          73,
          71,
          57,
          55,
          57,
          43,
          60,
          60,
          21,
          61,
          62,
          55,
          62,
          33,
          77,
          71,
          67,
          42,
          46,
          73,
          18,
          72,
          32,
          74,
          36,
          39,
          76,
          20,
          33,
          72,
          27,
          77,
          38,
          66,
          60,
          84,
          60,
          69,
          60,
          26,
          50,
          72,
          78,
          80,
          19,
          49,
          50,
          65,
          43,
          34,
          75,
          94,
          64,
          63,
          47,
          57,
          74,
          57,
          73,
          60,
          41,
          32,
          75,
          62,
          28,
          63,
          71,
          75,
          73,
          78,
          35,
          71,
          78,
          65,
          59,
          43,
          25,
          22,
          59,
          75,
          49,
          55,
          23,
          59,
          66,
          42,
          39,
          34,
          91,
          65,
          55,
          36,
          60,
          44,
          62,
          36,
          61,
          53,
          74,
          55,
          55,
          62,
          41,
          46,
          34,
          35,
          77,
          43,
          56,
          59,
          77,
          80,
          45,
          57,
          48,
          56,
          58,
          82,
          52,
          66,
          67,
          81,
          63,
          63,
          72,
          26,
          51,
          66,
          59,
          62,
          28,
          50,
          52,
          68,
          47,
          57,
          83,
          60,
          21,
          79,
          37,
          55,
          67,
          87,
          83,
          54,
          33,
          46,
          84,
          67,
          68,
          47,
          94,
          41,
          70,
          20,
          73,
          62,
          47,
          59,
          80,
          69,
          55,
          70,
          51,
          53,
          52,
          24,
          40,
          74,
          30,
          58,
          68,
          40,
          65,
          76,
          74,
          35,
          52,
          70,
          65,
          56,
          54,
          51,
          73,
          38,
          34,
          85,
          46,
          43,
          41,
          50,
          28,
          40,
          68,
          36,
          36,
          55,
          64,
          70,
          41,
          74,
          68,
          33,
          68,
          67,
          79,
          71,
          49,
          67,
          63,
          65,
          75,
          18,
          59,
          61,
          50,
          50,
          70,
          86,
          64,
          41,
          55,
          41,
          56,
          32,
          52,
          53,
          70,
          78,
          48,
          38,
          47,
          69,
          74,
          67,
          70,
          49,
          52,
          50,
          66,
          54,
          31,
          39,
          39,
          29,
          46,
          21,
          42,
          84,
          72,
          51,
          32,
          29,
          38,
          67,
          77,
          64,
          32,
          71,
          63,
          68,
          73,
          80,
          28,
          51,
          72,
          73,
          50,
          49,
          56,
          54,
          55,
          48,
          39,
          59,
          32,
          60,
          72,
          84,
          54,
          71,
          65,
          30,
          63,
          75,
          79,
          73,
          29,
          67,
          65,
          34,
          56,
          37,
          72,
          29,
          58,
          58,
          31,
          60,
          21,
          23,
          32,
          53,
          39,
          69,
          75,
          68,
          28,
          66,
          84,
          65,
          36,
          50,
          81,
          57,
          65,
          91,
          30,
          54,
          71,
          55,
          73,
          27,
          22,
          62,
          63,
          63,
          57,
          55,
          72,
          69,
          42,
          58,
          89,
          31,
          42,
          45,
          64,
          45,
          85,
          56,
          70,
          74,
          68,
          61,
          61,
          72,
          61,
          70,
          75,
          57,
          52,
          44,
          23,
          51,
          87,
          47,
          58,
          57,
          38,
          24,
          49,
          45,
          51,
          20,
          80,
          49,
          22,
          54,
          25,
          52,
          57,
          63,
          30,
          27,
          57,
          50,
          65,
          25,
          61,
          65,
          60,
          70,
          54,
          52,
          27,
          66,
          53,
          54,
          80,
          49,
          73,
          75,
          44,
          47,
          67,
          56,
          50,
          76,
          69,
          28,
          65,
          50,
          38,
          75,
          52,
          45,
          43,
          25,
          40,
          19,
          35,
          66,
          59,
          62,
          45,
          65,
          69,
          49,
          79,
          49,
          36,
          54,
          28,
          42,
          79,
          59,
          73,
          59,
          74,
          64,
          55,
          22,
          47,
          32,
          72,
          78,
          57,
          26,
          72,
          60,
          51,
          59,
          62,
          84,
          52,
          59,
          28,
          39,
          58,
          44,
          60,
          61,
          21,
          24,
          26,
          46,
          34,
          69,
          70,
          23,
          41,
          92,
          58,
          20,
          50,
          60,
          31,
          29,
          58,
          81,
          54,
          62,
          62,
          78,
          35,
          75,
          68,
          92,
          72,
          62,
          43,
          65,
          63,
          61,
          53,
          58,
          80,
          41,
          89,
          70,
          75,
          61,
          19,
          78,
          71,
          56,
          70,
          64,
          62,
          41,
          37,
          75,
          86,
          55,
          35,
          64,
          64,
          67,
          51,
          67,
          47,
          19,
          41,
          59,
          81,
          41,
          40,
          75,
          49,
          66,
          39,
          63,
          83,
          73,
          32,
          50,
          56,
          59,
          61,
          67,
          42,
          35,
          22,
          61,
          64,
          57,
          43,
          68,
          66,
          29,
          42,
          60,
          60,
          40,
          73,
          70,
          31,
          26,
          73,
          78,
          58,
          34,
          69,
          76,
          47,
          26,
          27,
          93,
          42,
          81,
          62,
          30,
          42,
          80,
          29,
          46,
          36,
          71,
          36,
          48,
          84,
          75,
          28,
          68,
          22,
          30,
          19,
          31,
          63,
          81,
          55,
          72,
          35,
          72,
          50,
          29,
          51,
          70,
          46,
          93,
          64,
          64,
          69,
          64,
          21,
          74,
          74,
          50,
          31,
          78,
          31,
          65,
          69,
          45,
          52,
          67,
          63,
          59,
          54,
          36,
          73,
          60,
          48,
          33,
          77,
          53,
          73,
          21,
          41,
          35,
          49,
          60,
          46,
          70,
          52,
          47,
          24,
          54,
          33,
          40,
          34,
          37,
          54,
          33,
          61,
          41,
          27,
          65,
          74,
          37,
          25,
          31,
          69,
          66,
          46,
          37,
          56,
          36,
          40,
          61,
          29,
          74,
          74,
          70,
          40,
          40,
          25,
          62,
          24,
          55,
          52,
          24,
          54,
          36,
          78,
          61,
          37,
          65,
          73,
          71,
          23,
          26,
          48,
          54,
          65,
          52,
          65,
          38,
          41,
          27,
          49,
          81,
          60,
          50,
          27,
          65,
          57,
          48,
          53,
          72,
          49,
          80,
          32,
          44,
          74,
          44,
          75,
          52,
          74,
          43,
          39,
          69,
          75,
          43,
          33,
          40,
          44,
          80,
          20,
          25,
          39,
          25,
          30,
          82,
          82,
          71,
          38,
          37,
          24,
          63,
          30,
          72,
          68,
          75,
          34,
          27,
          44,
          57,
          80,
          29,
          79,
          65,
          46,
          80,
          54,
          80,
          91,
          60,
          57,
          30,
          75,
          75,
          35,
          56,
          63,
          63,
          68,
          67,
          24,
          49,
          53,
          37,
          61,
          47,
          60,
          65,
          80,
          82,
          72,
          76,
          29,
          63,
          75,
          81,
          33,
          44,
          75,
          58,
          72,
          35,
          68,
          56,
          62,
          56,
          59,
          66,
          48,
          42,
          53,
          62,
          50,
          28,
          55,
          81,
          61,
          23,
          20,
          66,
          69,
          40,
          63,
          77,
          63,
          27,
          35,
          72,
          29,
          59,
          58,
          77,
          32,
          56,
          69,
          48,
          40,
          50,
          67,
          60,
          30,
          67,
          31,
          39,
          67,
          66,
          42,
          60,
          66,
          57,
          85,
          32,
          33,
          34,
          36,
          54,
          83,
          83,
          50,
          21,
          74,
          56,
          27,
          82,
          63,
          65,
          43,
          59,
          27,
          79,
          78,
          60,
          61,
          43,
          27,
          71,
          70,
          62,
          30,
          65,
          72,
          52,
          67,
          20,
          64,
          54,
          62,
          70,
          29,
          23,
          69,
          74,
          53,
          54,
          53,
          57,
          43,
          67,
          65,
          65,
          86,
          26,
          21,
          33,
          44,
          59,
          30,
          36,
          73,
          49,
          53,
          64,
          45,
          46,
          62,
          69,
          52,
          61,
          58,
          18,
          91,
          53,
          58,
          42,
          59,
          44,
          29,
          65,
          45,
          49,
          45,
          68,
          23,
          53,
          59,
          44,
          83,
          40,
          26,
          52,
          79,
          62,
          58,
          62,
          74,
          55,
          37,
          76,
          48,
          78,
          58,
          38,
          67,
          38,
          62,
          49,
          47,
          37,
          23,
          71,
          49,
          53,
          51,
          24,
          68,
          64,
          74,
          65,
          20,
          40,
          69,
          39,
          25,
          62,
          75,
          39,
          66,
          48,
          64,
          58,
          49,
          79,
          83,
          61,
          39,
          44,
          70,
          49,
          83,
          23,
          46,
          30,
          68,
          52,
          70,
          71,
          40,
          77,
          62,
          38,
          61,
          52,
          32,
          93,
          27,
          40,
          41,
          33,
          46,
          43,
          56,
          70,
          55,
          20,
          77,
          65,
          50,
          62,
          75,
          40,
          66,
          27,
          49,
          31,
          58,
          75,
          24,
          55,
          59,
          67,
          53,
          63,
          45,
          35,
          57,
          38,
          53,
          30,
          55,
          83,
          22,
          65,
          20,
          55,
          22,
          39,
          62,
          62,
          69,
          54,
          77,
          34,
          71,
          69,
          70,
          33,
          57,
          45,
          59,
          55,
          44,
          69,
          70,
          71,
          57,
          84,
          61,
          52,
          36,
          51,
          26,
          53,
          28,
          58,
          59,
          78,
          76,
          55,
          45,
          46,
          42,
          54,
          21,
          52,
          73,
          82,
          30,
          72,
          48,
          60,
          47,
          78,
          54,
          71,
          45,
          53,
          87,
          34,
          73,
          64,
          31,
          63,
          40,
          33,
          87,
          44,
          82,
          19,
          57,
          30,
          42,
          45,
          23,
          44,
          74,
          53,
          52,
          46,
          66,
          78,
          71,
          47,
          53,
          52,
          53,
          65,
          56,
          59,
          39,
          32,
          43,
          75,
          63,
          80,
          64,
          47,
          64,
          77,
          33,
          60,
          51,
          23,
          32,
          60,
          65,
          51,
          57,
          62,
          38,
          38,
          51,
          60,
          83,
          59,
          79,
          69,
          56,
          51,
          22,
          60,
          57,
          70,
          76,
          73,
          83,
          56,
          48,
          57,
          63,
          21,
          50,
          44,
          55,
          53,
          45,
          50,
          19,
          33,
          65,
          47,
          47,
          68,
          43,
          86,
          34,
          39,
          41,
          65,
          20,
          83,
          36,
          24,
          49,
          45,
          65,
          37,
          21,
          51,
          43,
          32,
          68,
          54,
          69,
          55,
          51,
          25,
          70,
          71,
          59,
          33,
          24,
          42,
          87,
          38,
          70,
          40,
          52,
          64,
          58,
          63,
          38,
          66,
          63,
          26,
          64,
          65,
          71,
          73,
          74,
          40,
          26,
          58,
          52,
          69,
          19,
          57,
          41,
          70,
          64,
          52,
          78,
          47,
          60,
          25,
          67,
          27,
          74,
          60,
          88,
          75,
          35,
          82,
          69,
          51,
          20,
          37,
          26,
          26,
          70,
          29,
          19,
          84,
          26,
          62,
          71,
          77,
          80,
          42,
          50,
          23,
          67,
          48,
          67,
          66,
          78,
          60,
          36,
          82,
          54,
          62,
          41,
          82,
          51,
          53,
          57,
          55,
          73,
          74,
          71,
          35,
          75,
          72,
          49,
          63,
          36,
          29,
          58,
          80,
          72,
          33,
          75,
          26,
          35,
          61,
          46,
          27,
          43,
          52,
          72,
          67,
          61,
          32,
          58,
          68,
          40,
          39,
          36,
          34,
          67,
          83,
          69,
          61,
          61,
          61,
          89,
          46,
          50,
          72,
          25,
          34,
          75,
          78,
          73,
          87,
          29,
          27,
          48,
          69,
          19,
          77,
          51,
          82,
          36,
          59,
          49,
          76,
          78,
          75,
          26,
          82,
          36,
          32,
          35,
          45,
          25,
          53,
          31,
          31,
          85,
          61,
          32,
          60,
          75,
          73,
          51,
          70,
          28,
          31,
          49,
          80,
          57,
          51,
          18,
          58,
          82,
          48,
          75,
          71,
          21,
          65,
          73,
          42,
          74,
          45,
          36,
          61,
          18,
          74,
          61,
          72,
          73,
          36,
          62,
          53,
          53,
          30,
          87,
          64,
          72,
          46,
          39,
          32,
          86,
          74,
          63,
          62,
          21,
          47,
          33,
          76,
          62,
          61,
          78,
          27,
          34,
          33,
          56,
          45,
          44,
          74,
          48,
          76,
          29,
          78,
          58,
          65,
          70,
          77,
          43,
          40,
          23,
          42,
          23,
          82,
          55,
          59,
          23,
          67,
          76,
          35,
          62,
          22,
          74,
          72,
          28,
          71,
          85,
          74,
          66,
          19,
          42,
          59,
          58,
          64,
          78,
          58,
          66,
          61,
          31,
          50,
          76,
          25,
          44,
          68,
          25,
          69,
          76,
          56,
          70,
          64,
          25,
          26,
          52,
          84,
          20,
          45,
          65,
          78,
          21,
          58,
          74,
          33,
          81,
          60,
          40,
          41,
          80,
          46,
          57,
          43,
          89,
          69,
          23,
          29,
          62,
          32,
          40,
          47,
          35,
          34,
          59,
          70,
          45,
          64,
          74,
          30,
          69,
          77,
          85,
          47,
          67,
          76,
          60,
          75,
          32,
          39,
          45,
          66,
          65,
          65,
          79,
          69,
          52,
          57,
          63,
          38,
          55,
          20,
          52,
          21,
          61,
          42,
          86,
          50,
          62,
          48,
          50,
          26,
          85,
          48,
          70,
          24,
          54,
          23,
          41,
          86,
          62,
          51,
          23,
          85,
          72,
          24,
          53,
          39,
          18,
          36,
          71,
          71,
          55,
          19,
          66,
          70,
          76,
          82,
          88,
          25,
          66,
          26,
          36,
          72,
          23,
          58,
          69,
          72,
          56,
          60,
          54,
          52,
          75,
          62,
          65,
          51,
          74,
          47,
          32,
          60,
          58,
          65,
          39,
          65,
          25,
          25,
          75,
          54,
          51,
          83,
          23,
          32,
          63,
          54,
          35,
          74,
          82,
          56,
          64,
          35,
          45,
          35,
          73,
          27,
          51,
          41,
          63,
          46,
          31,
          72,
          39,
          53,
          50,
          45,
          42,
          66,
          44,
          23,
          39,
          50,
          41,
          74,
          51,
          41,
          39,
          60,
          80,
          56,
          41,
          67,
          21,
          54,
          69,
          54,
          55,
          78,
          54,
          37,
          69,
          39,
          55,
          32,
          28,
          60,
          22,
          67,
          71,
          61,
          59,
          55,
          55,
          68,
          39,
          37,
          72,
          65,
          72,
          58,
          67,
          45,
          57,
          60,
          50,
          66,
          52,
          64,
          84,
          74,
          80,
          54,
          65,
          88,
          54,
          58,
          65,
          67,
          62,
          74,
          62,
          56,
          69,
          64,
          50,
          38,
          63,
          46,
          31,
          29,
          56,
          46,
          32,
          28,
          83,
          68,
          55,
          27,
          41,
          67,
          75,
          59,
          31,
          42,
          28,
          18,
          40,
          39,
          38,
          63,
          56,
          68,
          45,
          72,
          27,
          74,
          61,
          63,
          38,
          66,
          77,
          55,
          92,
          58,
          45,
          37,
          56,
          67,
          73,
          49,
          35,
          68,
          32,
          67,
          81,
          70,
          33,
          53,
          63,
          87,
          47,
          29,
          32,
          78,
          55,
          54,
          26,
          48,
          45,
          34,
          38,
          68,
          71,
          35,
          40,
          33,
          67,
          27,
          57,
          79,
          74,
          54,
          73,
          57,
          72,
          38,
          49,
          65,
          54,
          51,
          77,
          40,
          34,
          65,
          71,
          67,
          51,
          31,
          37,
          34,
          66,
          23,
          62,
          60,
          48,
          47,
          26,
          29,
          82,
          63,
          59,
          84,
          36,
          18,
          82,
          25,
          40,
          66,
          65,
          33,
          92,
          69,
          62,
          24,
          44,
          59,
          60,
          34,
          33,
          29,
          27,
          42,
          42,
          78,
          62,
          36,
          49,
          51,
          45,
          57,
          39,
          34,
          61,
          88,
          30,
          58,
          35,
          30,
          71,
          48,
          29,
          47,
          34,
          40,
          73,
          77,
          50,
          75,
          47,
          34,
          57,
          46,
          75,
          56,
          25,
          67,
          22,
          66,
          40,
          69,
          54,
          57,
          64,
          50,
          73,
          70,
          61,
          85,
          39,
          74,
          51,
          42,
          31,
          43,
          44,
          82,
          69,
          61,
          50,
          46,
          78,
          67,
          46,
          59,
          44,
          63,
          68,
          56,
          84,
          87,
          76,
          86,
          67,
          21,
          34,
          69,
          50,
          91,
          67,
          54,
          41,
          51,
          81,
          37,
          33,
          69,
          18,
          44,
          99,
          19,
          80,
          55,
          59,
          54,
          53,
          75,
          39,
          54,
          72,
          87,
          50,
          58,
          70,
          31,
          40,
          27,
          72,
          69,
          43,
          68,
          39,
          39,
          51,
          59,
          39,
          60,
          57,
          31,
          26,
          27,
          45,
          73,
          23,
          67,
          69,
          72,
          30,
          63,
          68,
          29,
          51,
          32,
          64,
          77,
          63,
          56,
          36,
          54,
          27,
          55,
          35,
          79,
          68,
          84,
          90,
          68,
          39,
          25,
          23,
          36,
          25,
          73,
          67,
          70,
          44,
          34,
          65,
          44,
          88,
          34,
          53,
          70,
          79,
          46,
          63,
          61,
          33,
          49,
          66,
          79,
          64,
          54,
          69,
          68,
          20,
          32,
          50,
          36,
          73,
          65,
          20,
          20,
          43,
          66,
          38,
          44,
          33,
          25,
          35,
          46,
          28,
          33,
          48,
          34,
          28,
          71,
          70,
          60,
          21,
          64,
          56,
          61,
          42,
          75,
          42,
          46,
          25,
          28,
          38,
          53,
          79,
          75,
          56,
          77,
          49,
          37,
          70,
          42,
          70,
          73,
          74,
          47,
          71,
          62,
          41,
          30,
          31,
          27,
          68,
          63,
          76,
          54,
          20,
          39,
          50,
          28,
          76,
          35,
          42,
          70,
          69,
          55,
          39,
          69,
          55,
          63,
          64,
          60,
          92,
          36,
          62,
          61,
          55,
          36,
          29,
          40,
          57,
          64,
          72,
          39,
          30,
          55,
          71,
          51,
          75,
          58,
          39,
          41,
          60,
          49,
          66,
          53,
          36,
          35,
          30,
          64,
          55,
          42,
          70,
          24,
          36,
          81,
          38,
          51,
          53,
          30,
          20,
          83,
          35,
          43,
          23,
          64,
          61,
          65,
          65,
          80,
          50,
          29,
          47,
          31,
          66,
          59,
          50,
          58,
          63,
          22,
          58,
          47,
          77,
          83,
          70,
          57,
          53,
          61,
          65,
          64,
          65,
          47,
          38,
          52,
          62,
          72,
          53,
          62,
          66,
          50,
          48,
          26,
          28,
          49,
          63,
          29,
          46,
          53,
          53,
          42,
          55,
          86,
          24,
          75,
          30,
          66,
          68,
          54,
          68,
          57,
          52,
          46,
          32,
          21,
          68,
          52,
          59,
          71,
          41,
          39,
          48,
          24,
          63,
          65,
          36,
          71,
          52,
          26,
          41,
          40,
          39,
          59,
          34,
          53,
          45,
          70,
          54,
          49,
          59,
          74,
          74,
          78,
          36,
          50,
          45,
          66,
          75,
          61,
          39,
          39,
          70,
          33,
          78,
          40,
          41,
          56,
          48,
          52,
          59,
          60,
          23,
          52,
          67,
          49,
          69,
          81,
          53,
          78,
          55,
          57,
          31,
          51,
          54,
          68,
          69,
          68,
          46,
          24,
          60,
          66,
          36,
          52,
          55,
          53,
          74,
          81,
          77,
          62,
          59,
          73,
          49,
          34,
          60,
          72,
          29,
          60,
          75,
          83,
          58,
          32,
          39,
          53,
          30,
          74,
          47,
          34,
          70,
          68,
          21,
          87,
          70,
          68,
          74,
          37,
          79,
          27,
          22,
          62,
          73,
          63,
          60,
          46,
          90,
          32,
          54,
          66,
          57,
          65,
          84,
          25,
          43,
          88,
          52,
          81,
          37,
          74,
          47,
          22,
          29,
          28,
          83,
          23,
          40,
          51,
          26,
          58,
          47,
          38,
          72,
          37,
          21,
          51,
          32,
          25,
          27,
          53,
          71,
          77,
          77,
          28,
          73,
          21,
          60,
          48,
          36,
          65,
          61,
          35,
          79,
          39,
          62,
          37,
          37,
          79,
          61,
          36,
          72,
          45,
          62,
          75,
          30,
          80,
          67,
          80,
          69,
          77,
          77,
          86,
          42,
          29,
          76,
          46,
          27,
          93,
          37,
          58,
          67,
          33,
          53,
          61,
          78,
          54,
          70,
          22,
          64,
          32,
          80,
          63,
          58,
          49,
          63,
          78,
          72,
          31,
          50,
          43,
          65,
          59,
          47,
          73,
          42,
          68,
          23,
          26,
          75,
          79,
          63,
          46,
          72,
          73,
          86,
          50,
          59,
          76,
          40,
          68,
          84,
          21,
          54,
          65,
          63,
          76,
          54,
          77,
          64,
          69,
          52,
          52,
          32,
          54,
          66,
          69,
          36,
          18,
          47,
          39,
          71,
          63,
          44,
          39,
          24,
          54,
          66,
          75,
          57,
          71,
          44,
          79,
          79,
          65,
          61,
          25,
          46,
          37,
          47,
          22,
          25,
          40,
          24,
          42,
          65,
          65,
          67,
          48,
          42,
          65,
          29,
          39,
          61,
          30,
          57,
          90,
          59,
          29,
          38,
          78,
          89,
          72,
          32,
          60,
          72,
          82,
          67,
          47,
          68,
          71,
          24,
          62,
          57,
          47,
          60,
          83,
          30,
          65,
          87,
          68,
          41,
          52,
          79,
          57,
          35,
          74,
          69,
          66,
          32,
          71,
          71,
          42,
          78,
          35,
          53,
          66,
          54,
          63,
          62,
          40,
          46,
          60,
          62,
          47,
          70,
          66,
          66,
          65,
          63,
          72,
          66,
          37,
          34,
          38,
          61,
          26,
          44,
          20,
          31,
          76,
          36,
          62,
          44,
          59,
          38,
          55,
          43,
          30,
          52,
          72,
          41,
          35,
          25,
          74,
          78,
          57,
          70,
          58,
          65,
          69,
          22,
          75,
          29,
          56,
          81,
          60,
          39,
          61,
          77,
          71,
          43,
          52,
          65,
          58,
          75,
          51,
          67,
          48,
          27,
          63,
          76,
          22,
          53,
          30,
          64,
          35,
          78,
          52,
          72,
          77,
          81,
          69,
          36,
          64,
          47,
          75,
          76,
          73,
          48,
          51,
          58,
          30,
          80,
          73,
          64,
          72,
          19,
          67,
          28,
          52,
          77,
          65,
          77,
          22,
          78,
          60,
          57,
          79,
          25,
          71,
          51,
          70,
          89,
          36,
          49,
          38,
          65,
          65,
          24,
          65,
          50,
          55,
          56,
          56,
          41,
          62,
          69,
          43,
          33,
          61,
          70,
          87,
          53,
          59,
          33,
          30,
          28,
          86,
          29,
          54,
          41,
          37,
          30,
          64,
          67,
          44,
          20,
          65,
          39,
          76,
          38,
          42,
          45,
          61,
          67,
          53,
          30,
          40,
          64,
          82,
          63,
          28,
          87,
          63,
          70,
          26,
          71,
          79,
          38,
          70,
          61,
          67,
          79,
          75,
          47,
          53,
          69,
          82,
          63,
          51,
          70,
          53,
          60,
          66,
          61,
          59,
          64,
          73,
          73,
          69,
          41,
          28,
          19,
          25,
          23,
          62,
          36,
          57,
          76,
          92,
          64,
          28,
          68,
          45,
          46,
          39,
          58,
          67,
          28,
          38,
          56,
          27,
          58,
          55,
          30,
          66,
          67,
          36,
          32,
          26,
          53,
          66,
          78,
          38,
          72,
          50,
          60,
          89,
          37,
          63,
          38,
          59,
          80,
          80,
          60,
          18,
          28,
          75,
          77,
          83,
          36,
          29,
          69,
          76,
          45,
          26,
          53,
          65,
          72,
          33,
          34,
          67,
          73,
          43,
          60,
          59,
          65,
          33,
          67,
          40,
          55,
          75,
          67,
          64,
          41,
          28,
          63,
          62,
          28,
          69,
          81,
          65,
          60,
          58,
          80,
          25,
          62,
          88,
          70,
          38,
          71,
          21,
          25,
          29,
          51,
          29,
          25,
          69,
          54,
          81,
          65,
          44,
          36,
          22,
          67,
          43,
          75,
          53,
          66,
          43,
          63,
          58,
          74,
          29,
          85,
          45,
          69,
          59,
          75,
          46,
          53,
          26,
          57,
          67,
          19,
          26,
          57,
          78,
          71,
          69,
          62,
          61,
          70,
          73,
          21,
          82,
          72,
          59,
          38,
          26,
          38,
          30,
          73,
          63,
          48,
          74,
          46,
          50,
          33,
          76,
          65,
          64,
          74,
          67,
          55,
          22,
          75,
          26,
          54,
          74,
          61,
          78,
          74,
          23,
          44,
          85,
          60,
          88,
          46,
          33,
          59,
          45,
          40,
          50,
          47,
          48,
          40,
          31,
          32,
          42,
          70,
          25,
          74,
          81,
          38,
          42,
          28,
          47,
          54,
          47,
          40,
          48,
          48,
          24,
          40,
          36,
          43,
          28,
          58,
          40,
          58,
          30,
          76,
          19,
          46,
          80,
          59,
          68,
          48,
          66,
          69,
          62,
          54,
          55,
          59,
          38,
          90,
          28,
          31,
          74,
          74,
          56,
          53,
          58,
          84,
          75,
          66,
          83,
          37,
          34,
          67,
          64,
          43,
          38,
          60,
          84,
          53,
          71,
          65,
          35,
          28,
          31,
          56,
          61,
          54,
          49,
          58,
          75,
          81,
          76,
          64,
          79,
          57,
          51,
          62,
          37,
          82,
          69,
          21,
          54,
          75,
          25,
          65,
          90,
          78,
          75,
          62,
          41,
          67,
          41,
          56,
          59,
          55,
          70,
          72,
          30,
          47,
          32,
          72,
          32,
          94,
          31,
          73,
          57,
          21,
          27,
          58,
          35,
          59,
          52,
          59,
          57,
          60,
          74,
          27,
          57,
          22,
          61,
          42,
          92,
          27,
          70,
          61,
          41,
          68,
          81,
          72,
          82,
          35,
          29,
          24,
          52,
          58,
          45,
          69,
          66,
          71,
          65,
          55,
          65,
          54,
          70,
          55,
          39,
          39,
          64,
          48,
          51,
          68,
          26,
          32,
          40,
          42,
          52,
          25,
          42,
          63,
          35,
          48,
          45,
          48,
          48,
          64,
          62,
          50,
          33,
          22,
          65,
          92,
          88,
          74,
          70,
          80,
          62,
          76,
          27,
          61,
          53,
          37,
          64,
          37,
          38,
          40,
          22,
          85,
          64,
          64,
          53,
          73,
          70,
          59,
          29,
          54,
          24,
          82,
          37,
          59,
          63,
          72,
          56,
          69,
          69,
          77,
          78,
          39,
          69,
          18,
          54,
          35,
          28,
          43,
          33,
          55,
          71,
          57,
          22,
          88,
          71,
          40,
          72,
          56,
          78,
          47,
          36,
          46,
          67,
          62,
          71,
          36,
          73,
          58,
          36,
          54,
          57,
          39,
          63,
          73,
          76,
          71,
          84,
          30,
          76,
          67,
          76,
          27,
          59,
          57,
          65,
          59,
          74,
          62,
          29,
          50,
          77,
          73,
          35,
          55,
          42,
          76,
          42,
          70,
          63,
          28,
          50,
          70,
          53,
          87,
          62,
          77,
          83,
          56,
          37,
          51,
          67,
          38,
          44,
          52,
          49,
          34,
          50,
          36,
          55,
          78,
          69,
          59,
          83,
          40,
          73,
          59,
          35,
          74,
          68,
          65,
          87,
          41,
          75,
          19,
          82,
          59,
          50,
          25,
          64,
          65,
          40,
          82,
          75,
          58,
          69,
          28,
          50,
          69,
          54,
          26,
          29,
          53,
          38,
          59,
          78,
          49,
          79,
          90,
          60,
          57,
          69,
          50,
          29,
          29,
          29,
          71,
          67,
          32,
          50,
          70,
          51,
          67,
          62,
          70,
          84,
          53,
          42,
          73,
          67,
          84,
          21,
          62,
          63,
          52,
          29,
          55,
          71,
          72,
          58,
          84,
          70,
          44,
          57,
          32,
          80,
          30,
          44,
          75,
          44,
          62,
          99,
          62,
          36,
          46,
          60,
          30,
          57,
          55,
          53,
          27,
          75,
          39,
          47,
          80,
          26,
          84,
          67,
          75,
          47,
          38,
          35,
          31,
          65,
          65,
          41,
          55,
          61,
          72,
          68,
          65,
          56,
          39,
          76,
          45,
          65,
          55,
          73,
          27,
          26,
          62,
          61,
          64,
          43,
          49,
          58,
          99,
          33,
          58,
          61,
          52,
          61,
          35,
          45,
          41,
          72,
          68,
          54,
          64,
          37,
          34,
          72,
          36,
          72,
          47,
          27,
          75,
          20,
          46,
          40,
          19,
          38,
          59,
          50,
          32,
          34,
          47,
          73,
          70,
          64,
          57,
          58,
          27,
          28,
          85,
          74,
          68,
          59,
          22,
          26,
          59,
          70,
          66,
          53,
          36,
          52,
          59,
          72,
          56,
          46,
          75,
          76,
          79,
          54,
          66,
          64,
          25,
          31,
          71,
          61,
          70,
          73,
          56,
          38,
          34,
          75,
          39,
          47,
          64,
          70,
          67,
          79,
          55,
          38,
          30,
          58,
          77,
          63,
          74,
          70,
          55,
          46,
          52,
          77,
          64,
          62,
          47,
          53,
          44,
          63,
          66,
          34,
          43,
          55,
          32,
          79,
          62,
          68,
          71,
          24,
          18,
          68,
          72,
          82,
          100,
          46,
          58,
          33,
          40,
          20,
          64,
          65,
          75,
          80,
          53,
          64,
          62,
          64,
          25,
          61,
          61,
          66,
          86,
          33,
          53,
          27,
          78,
          84,
          38,
          69,
          51,
          21,
          57,
          40,
          52,
          59,
          24,
          33,
          40,
          28,
          82,
          54,
          24,
          47,
          64,
          43,
          70,
          23,
          64,
          59,
          66,
          55,
          62,
          81,
          62,
          47,
          31,
          36,
          67,
          62,
          89,
          74,
          19,
          29,
          48,
          63,
          40,
          53,
          21,
          41,
          61,
          29,
          39,
          80,
          65,
          36,
          51,
          74,
          50,
          71,
          73,
          72,
          73,
          25,
          36,
          55,
          38,
          56,
          77,
          65,
          58,
          67,
          80,
          77,
          33,
          25,
          53,
          72,
          21,
          54,
          38,
          29,
          32,
          26,
          80,
          83,
          24,
          52,
          38,
          37,
          23,
          45,
          46,
          89,
          54,
          45,
          66,
          23,
          53,
          45,
          49,
          63,
          21,
          57,
          63,
          83,
          83,
          47,
          77,
          59,
          52,
          77,
          65,
          76,
          56,
          85,
          69,
          87,
          64,
          45,
          73,
          29,
          27,
          57,
          83,
          72,
          53,
          67,
          27,
          67,
          37,
          53,
          64,
          54,
          53,
          32,
          28,
          39,
          71,
          52,
          71,
          64,
          41,
          35,
          54,
          36,
          68,
          70,
          52,
          49,
          81,
          33,
          76,
          50,
          62,
          64,
          39,
          25,
          68,
          72,
          78,
          33,
          24,
          39,
          64,
          75,
          99,
          82,
          64,
          41,
          66,
          53,
          40,
          75,
          51,
          37,
          84,
          81,
          80,
          61,
          59,
          76,
          39,
          68,
          83,
          45,
          73,
          71,
          55,
          45,
          36,
          62,
          41,
          46,
          47,
          67,
          42,
          27,
          51,
          28,
          69,
          41,
          78,
          37,
          57,
          28,
          56,
          51,
          51,
          48,
          53,
          52,
          73,
          22,
          48,
          27,
          74,
          60,
          50,
          37,
          85,
          35,
          77,
          90,
          63,
          21,
          71,
          75,
          40,
          47,
          78,
          43,
          28,
          69,
          52,
          62,
          58,
          80,
          41,
          54,
          36,
          46,
          37,
          35,
          49,
          83,
          40,
          83,
          47,
          58,
          76,
          55,
          65,
          43,
          69,
          39,
          70,
          66,
          49,
          65,
          30,
          39,
          73,
          82,
          50,
          62,
          67,
          40,
          59,
          29,
          68,
          73,
          47,
          50,
          60,
          72,
          43,
          28,
          58,
          56,
          36,
          69,
          58,
          70,
          61,
          45,
          35,
          77,
          68,
          82,
          52,
          65,
          25,
          21,
          72,
          65,
          73,
          24,
          61,
          61,
          35,
          26,
          72,
          36,
          57,
          37,
          30,
          73,
          29,
          61,
          40,
          23,
          48,
          52,
          68,
          59,
          68,
          65,
          38,
          18,
          90,
          94,
          52,
          37,
          36,
          35,
          52,
          89,
          64,
          64,
          58,
          69,
          62,
          37,
          62,
          20,
          57,
          61,
          57,
          40,
          44,
          61,
          36,
          62,
          43,
          68,
          81,
          68,
          65,
          38,
          71,
          24,
          53,
          33,
          60,
          56,
          78,
          61,
          72,
          32,
          42,
          61,
          24,
          49,
          56,
          54,
          44,
          34,
          82,
          62,
          19,
          52,
          47,
          69,
          55,
          80,
          76,
          72,
          67,
          77,
          55,
          33,
          73,
          66,
          64,
          47,
          38,
          83,
          22,
          66,
          26,
          54,
          62,
          75,
          41,
          30,
          48,
          72,
          77,
          58,
          29,
          58,
          35,
          33,
          38,
          53,
          51,
          47,
          76,
          41,
          44,
          49,
          53,
          70,
          63,
          65,
          26,
          33,
          38,
          52,
          67,
          68,
          70,
          89,
          25,
          56,
          33,
          64,
          50,
          35,
          70,
          23,
          49,
          73,
          53,
          42,
          61,
          65,
          38,
          58,
          73,
          76,
          34,
          43,
          81,
          65,
          74,
          63,
          50,
          67,
          21,
          61,
          21,
          52,
          23,
          75,
          61,
          68,
          57,
          73,
          28,
          29,
          73,
          71,
          66,
          76,
          60,
          40,
          53,
          41,
          71,
          69,
          61,
          65,
          40,
          34,
          57,
          33,
          29,
          60,
          57,
          32,
          82,
          43,
          63,
          85,
          51,
          74,
          52,
          41,
          73,
          53,
          65,
          34,
          66,
          59,
          65,
          63,
          62,
          79,
          63,
          34,
          50,
          37,
          83,
          70,
          81,
          71,
          26,
          90,
          77,
          86,
          75,
          68,
          23,
          73,
          71,
          36,
          41,
          68,
          35,
          67,
          62,
          61,
          77,
          41,
          53,
          56,
          77,
          73,
          63,
          68,
          62,
          56,
          31,
          92,
          73,
          74,
          43,
          67,
          20,
          79,
          53,
          37,
          27,
          51,
          51,
          71,
          33,
          65,
          64,
          61,
          84,
          27,
          60,
          62,
          48,
          60,
          64,
          56,
          71,
          38,
          81,
          28,
          53,
          75,
          53,
          60,
          71,
          33,
          28,
          62,
          72,
          28,
          57,
          67,
          56,
          30,
          77,
          83,
          64,
          35,
          60,
          40,
          37,
          73,
          42,
          41,
          69,
          67,
          60,
          29,
          73,
          66,
          59,
          60,
          64,
          26,
          30,
          34,
          41,
          39,
          47,
          69,
          69,
          61,
          64,
          74,
          75,
          69,
          73,
          80,
          76,
          28,
          33,
          65,
          63,
          65,
          61,
          80,
          53,
          55,
          80,
          82,
          20,
          58,
          31,
          57,
          28,
          56,
          61,
          80,
          61,
          65,
          93,
          61,
          69,
          29,
          44,
          62,
          70,
          56,
          26,
          60,
          75,
          40,
          34,
          51,
          58,
          64,
          49,
          36,
          81,
          88,
          56,
          55,
          48,
          34,
          57,
          43,
          52,
          44,
          35,
          36,
          53,
          27,
          48,
          61,
          27,
          79,
          70,
          81,
          55,
          54,
          64,
          45,
          79,
          23,
          45,
          39,
          36,
          63,
          39,
          55,
          41,
          64,
          21,
          55,
          49,
          26,
          18,
          52,
          35,
          43,
          51,
          62,
          66,
          99,
          63,
          70,
          66,
          64,
          62,
          83,
          90,
          58,
          73,
          22,
          68,
          44,
          37,
          50,
          63,
          72,
          72,
          43,
          28,
          59,
          42,
          71,
          82,
          70,
          51,
          37,
          67,
          79,
          28,
          87,
          62,
          61,
          71,
          82,
          53,
          75,
          18,
          35,
          57,
          38,
          71,
          65,
          75,
          70,
          61,
          55,
          31,
          73,
          71,
          78,
          75,
          25,
          40,
          73,
          62,
          50,
          57,
          36,
          64,
          28,
          75,
          82,
          41,
          66,
          39,
          43,
          25,
          54,
          58,
          26,
          67,
          45,
          47,
          71,
          66,
          36,
          45,
          66,
          62,
          68,
          28,
          73,
          63,
          23,
          26,
          50,
          43,
          37,
          45,
          30,
          80,
          70,
          56,
          36,
          23,
          37,
          66,
          75,
          44,
          72,
          86,
          54,
          20,
          41,
          68,
          21,
          61,
          56,
          74,
          52,
          37,
          77,
          36,
          38,
          59,
          39,
          68,
          61,
          69,
          54,
          25,
          77,
          31,
          52,
          19,
          30,
          76,
          51,
          41,
          59,
          38,
          71,
          73,
          53,
          44,
          28,
          67,
          29,
          52,
          45,
          84,
          66,
          29,
          55,
          39,
          61,
          67,
          90,
          65,
          46,
          39,
          79,
          64,
          53,
          72,
          56,
          44,
          27,
          71,
          46,
          52,
          62,
          32,
          53,
          60,
          71,
          45,
          31,
          65,
          23,
          74,
          62,
          48,
          64,
          26,
          63,
          62,
          68,
          58,
          57,
          56,
          38,
          73,
          78,
          65,
          39,
          66,
          23,
          90,
          37,
          88,
          31,
          70,
          42,
          60,
          32,
          52,
          49,
          52,
          72,
          40,
          28,
          67,
          37,
          22,
          20,
          41,
          39,
          70,
          52,
          69,
          25,
          45,
          56,
          65,
          78,
          61,
          69,
          47,
          76,
          70,
          24,
          25,
          58,
          27,
          53,
          70,
          40,
          57,
          70,
          69,
          30,
          31,
          37,
          67,
          64,
          80,
          38,
          32,
          72,
          75,
          63,
          91,
          77,
          65,
          75,
          44,
          68,
          66,
          60,
          83,
          64,
          57,
          32,
          71,
          70,
          90,
          47,
          66,
          39,
          40,
          52,
          34,
          50,
          43,
          52,
          34,
          57,
          74,
          56,
          36,
          76,
          77,
          82,
          42,
          65,
          49,
          32,
          71,
          42,
          63,
          25,
          77,
          23,
          62,
          28,
          43,
          31,
          48,
          64,
          55,
          59,
          44,
          69,
          23,
          69,
          68,
          51,
          24,
          47,
          70,
          70,
          22,
          80,
          50,
          30,
          29,
          50,
          45,
          67,
          71,
          59,
          62,
          37,
          39,
          78,
          69,
          89,
          35,
          31,
          71,
          75,
          52,
          63,
          92,
          31,
          50,
          87,
          49,
          23,
          51,
          58,
          66,
          28,
          30,
          58,
          73,
          26,
          50,
          64,
          66,
          60,
          70,
          52,
          51,
          70,
          53,
          68,
          59,
          92,
          32,
          83,
          43,
          30,
          76,
          28,
          21,
          70,
          54,
          32,
          62,
          25,
          34,
          66,
          28,
          38,
          60,
          82,
          51,
          70,
          59,
          54,
          63,
          60,
          61,
          62,
          85,
          61,
          79,
          60,
          39,
          33,
          52,
          31,
          20,
          32,
          37,
          40,
          68,
          44,
          44,
          82,
          72,
          54,
          78,
          43,
          78,
          58,
          54,
          26,
          38,
          20,
          32,
          51,
          42,
          34,
          39,
          62,
          68,
          70,
          66,
          54,
          55,
          27,
          36,
          23,
          59,
          48,
          22,
          62,
          18,
          61,
          42,
          35,
          23,
          37,
          32,
          48,
          18,
          78,
          79,
          44,
          18,
          73,
          40,
          21,
          68,
          50,
          32,
          38,
          71,
          28,
          43,
          27,
          41,
          57,
          31,
          40,
          69,
          35,
          60,
          52,
          70,
          24,
          84,
          81,
          50,
          74,
          37,
          62,
          51,
          26,
          53,
          52,
          55,
          73,
          71,
          81,
          49,
          37,
          21,
          35,
          18,
          30,
          55,
          82,
          58,
          42,
          67,
          74,
          44,
          60,
          60,
          43,
          40,
          40,
          64,
          74,
          53,
          77,
          32,
          63,
          65,
          30,
          29,
          56,
          60,
          79,
          57,
          59,
          54,
          33,
          41,
          40,
          58,
          77,
          46,
          27,
          30,
          64,
          30,
          31,
          25,
          45,
          18,
          43,
          35,
          58,
          42,
          77,
          43,
          68,
          46,
          55,
          34,
          24,
          54,
          38,
          34,
          53,
          67,
          47,
          26,
          64,
          39,
          33,
          66,
          42,
          67,
          64,
          47,
          24,
          22,
          24,
          68,
          62,
          32,
          58,
          67,
          37,
          35,
          67,
          35,
          77,
          69,
          64,
          47,
          40,
          69,
          59,
          35,
          70,
          68,
          72,
          29,
          85,
          57,
          77,
          60,
          58,
          45,
          58,
          32,
          24,
          40,
          67,
          56,
          71,
          49,
          72,
          60,
          53,
          62,
          56,
          48,
          39,
          39,
          77,
          36,
          62,
          71,
          67,
          73,
          82,
          53,
          63,
          29,
          37,
          18,
          69,
          54,
          73,
          64,
          38,
          45,
          76,
          81,
          24,
          41,
          50,
          57,
          59,
          46,
          37,
          59,
          66,
          24,
          72,
          81,
          74,
          44,
          19,
          33,
          43,
          19,
          77,
          75,
          50,
          52,
          33,
          54,
          51,
          78,
          35,
          35,
          36,
          44,
          46,
          93,
          18,
          63,
          34,
          50,
          72,
          42,
          74,
          34,
          40,
          56,
          33,
          76,
          50,
          37,
          29,
          31,
          31,
          67,
          70,
          65,
          40,
          36,
          49,
          38,
          28,
          26,
          59,
          43,
          90,
          22,
          42,
          46,
          25,
          35,
          65,
          62,
          41,
          62,
          69,
          59,
          72,
          39,
          22,
          56,
          60,
          44,
          56,
          29,
          66,
          71,
          58,
          29,
          41,
          56,
          30,
          69,
          18,
          30,
          86,
          74,
          37,
          21,
          69,
          54,
          33,
          32,
          51,
          95,
          58,
          64,
          66,
          64,
          37,
          42,
          42,
          26,
          56,
          35,
          46,
          24,
          72,
          30,
          62,
          31,
          51,
          60,
          78,
          46,
          22,
          65,
          58,
          19,
          67,
          40,
          30,
          54,
          39,
          28,
          36,
          23,
          24,
          39,
          29,
          49,
          63,
          75,
          43,
          40,
          40,
          43,
          65,
          59,
          38,
          31,
          38,
          61,
          27,
          38,
          46,
          79,
          49,
          46,
          30,
          21,
          48,
          51,
          25,
          32,
          37,
          47,
          66,
          79,
          28,
          37,
          39,
          61,
          34,
          37,
          27,
          70,
          57,
          52,
          79,
          67,
          40,
          46,
          26,
          55,
          40,
          56,
          38,
          85,
          82,
          81,
          28,
          74,
          61,
          55,
          39,
          74,
          28,
          25,
          58,
          77,
          77,
          51,
          67,
          28,
          76,
          31,
          55,
          81,
          24,
          45,
          67,
          49,
          31,
          86,
          68,
          28,
          62,
          67,
          68,
          35,
          57,
          70,
          57,
          83,
          58,
          58,
          69,
          75,
          82,
          24,
          56,
          68,
          72,
          40,
          63,
          75,
          58,
          64,
          63,
          63,
          63,
          84,
          68,
          64,
          68,
          68,
          39,
          65,
          41,
          76,
          62,
          21,
          60,
          67,
          70,
          40,
          47,
          58,
          57,
          42,
          44,
          76,
          72,
          75,
          68,
          44,
          68,
          74,
          37,
          65,
          76,
          67,
          66,
          31,
          28,
          42,
          67,
          73,
          80,
          34,
          59,
          63,
          52,
          22,
          34,
          55,
          53,
          38,
          54,
          79,
          63,
          51,
          36,
          53,
          76,
          68,
          43,
          67,
          85,
          20,
          43,
          26,
          37,
          33,
          25,
          36,
          78,
          74,
          53,
          82,
          70,
          58,
          74,
          73,
          43,
          69,
          63,
          64,
          70,
          27,
          37,
          59,
          50,
          62,
          49,
          73,
          52,
          26,
          41,
          82,
          68,
          76,
          67,
          31,
          46,
          39,
          32,
          52,
          35,
          23,
          57,
          20,
          42,
          43,
          64,
          23,
          25,
          38,
          18,
          68,
          62,
          44,
          55,
          27,
          46,
          21,
          22,
          23,
          72,
          53,
          25,
          30,
          66,
          23,
          34,
          65,
          74,
          53,
          26,
          30,
          31,
          22,
          76,
          63,
          33,
          24,
          21,
          76,
          87,
          28,
          20,
          63,
          48,
          18,
          85,
          25,
          68,
          59,
          54,
          56,
          52,
          58,
          72,
          34,
          19,
          77,
          40,
          47,
          54,
          71,
          45,
          55,
          45,
          24,
          60,
          60,
          76,
          38,
          51,
          57,
          57,
          71,
          52,
          18,
          29,
          76,
          27,
          21,
          22,
          53,
          46,
          23,
          71,
          20,
          40,
          18,
          50,
          66,
          62,
          42,
          31,
          28,
          45,
          74,
          34,
          45,
          35,
          50,
          45,
          78,
          62,
          50,
          57,
          59,
          65,
          51,
          63,
          39,
          35,
          42,
          54,
          36,
          34,
          54,
          65,
          42,
          65,
          46,
          66,
          35,
          36,
          61,
          68,
          26,
          70,
          37,
          40,
          64,
          27,
          61,
          66,
          32,
          19,
          75,
          43,
          65,
          69,
          42,
          75,
          61,
          44,
          37,
          40,
          61,
          68,
          68,
          56,
          32,
          77,
          68,
          68,
          78,
          74,
          62,
          76,
          72,
          93,
          80,
          26,
          39,
          60,
          59,
          59,
          76,
          24,
          81,
          59,
          24,
          68,
          70,
          66,
          49,
          60,
          54,
          41,
          35,
          63,
          52,
          73,
          34,
          39,
          49,
          19,
          37,
          53,
          24,
          83,
          22,
          75,
          78,
          81,
          51,
          69,
          27,
          69,
          47,
          82,
          73,
          72,
          29,
          52,
          69,
          24,
          34,
          35,
          31,
          25,
          61,
          64,
          30,
          29,
          98,
          57,
          24,
          50,
          43,
          80,
          67,
          91,
          77,
          38,
          64,
          28,
          38,
          66,
          35,
          28,
          21,
          53,
          31,
          18,
          63,
          64,
          27,
          34,
          45,
          66,
          21,
          40,
          52,
          57,
          31,
          30,
          85,
          44,
          46,
          30,
          21,
          28,
          65,
          42,
          56,
          20,
          71,
          47,
          43,
          48,
          46,
          23,
          34,
          55,
          48,
          50,
          27,
          38,
          42,
          77,
          54,
          18,
          27,
          90,
          70,
          41,
          57,
          41,
          64,
          59,
          59,
          36,
          40,
          51,
          75,
          42,
          45,
          25,
          43,
          33,
          63,
          49,
          38,
          32,
          73,
          64,
          36,
          54,
          70,
          34,
          40,
          63,
          39,
          42,
          54,
          36,
          27,
          37,
          67,
          76,
          62,
          67,
          27,
          20,
          71,
          68,
          57,
          66,
          68,
          65,
          44,
          57,
          52,
          86,
          35,
          59,
          95,
          73,
          35,
          59,
          70,
          58,
          71,
          25,
          46,
          77,
          57,
          75,
          57,
          65,
          19,
          29,
          51,
          34,
          38,
          45,
          30,
          50,
          40,
          43,
          69,
          36,
          70,
          64,
          56,
          33,
          43,
          59,
          28,
          31,
          58,
          48,
          70,
          39,
          48,
          38,
          56,
          30,
          38,
          84,
          79,
          74,
          32,
          61,
          46,
          52,
          43,
          28,
          69,
          79,
          51,
          42,
          47,
          24,
          43,
          59,
          53,
          75,
          23,
          33,
          40,
          27,
          57,
          60,
          46,
          32,
          41,
          70,
          67,
          36,
          22,
          53,
          52,
          59,
          29,
          33,
          57,
          26,
          29,
          73,
          41,
          48,
          38,
          40,
          66,
          29,
          45,
          46,
          34,
          63,
          61,
          74,
          46,
          31,
          37,
          58,
          53,
          53,
          90,
          58,
          48,
          39,
          72,
          78,
          61,
          64,
          33,
          53,
          46,
          24,
          65,
          48,
          81,
          35,
          69,
          31,
          64,
          43,
          58,
          28,
          74,
          25,
          29,
          78,
          20,
          65,
          75,
          49,
          63,
          53,
          78,
          54,
          40,
          33,
          67,
          34,
          49,
          65,
          46,
          50,
          57,
          29,
          26,
          47,
          69,
          43,
          24,
          21,
          39,
          36,
          47,
          23,
          57,
          33,
          40,
          67,
          56,
          23,
          33,
          48,
          40,
          60,
          68,
          32,
          75,
          34,
          28,
          67,
          68,
          70,
          63,
          61,
          29,
          52,
          23,
          76,
          84,
          76,
          57,
          73,
          25,
          38,
          41,
          27,
          24,
          50,
          62,
          45,
          62,
          43,
          32,
          81,
          35,
          42,
          66,
          46,
          27,
          26,
          38,
          72,
          36,
          43,
          46,
          60,
          30,
          53,
          60,
          63,
          60,
          38,
          69,
          59,
          41,
          53,
          85,
          84,
          70,
          20,
          55,
          27,
          83,
          45,
          37,
          44,
          88,
          37,
          30,
          58,
          45,
          46,
          37,
          76,
          67,
          29,
          71,
          28,
          30,
          48,
          50,
          33,
          80,
          61,
          57,
          72,
          18,
          53,
          18,
          39,
          37,
          74,
          62,
          33,
          61,
          68,
          30,
          50,
          58,
          47,
          79,
          21,
          45,
          70,
          67,
          25,
          48,
          40,
          58,
          38,
          70,
          45,
          53,
          61,
          57,
          28,
          67,
          45,
          32,
          65,
          54,
          74,
          27,
          45,
          55,
          41,
          24,
          32,
          25,
          27,
          46,
          67,
          58,
          23,
          55,
          64,
          34,
          69,
          62,
          35,
          74,
          18,
          38,
          30,
          49,
          44,
          62,
          37,
          40,
          63,
          61,
          46,
          61,
          26,
          21,
          58,
          50,
          67,
          46,
          62,
          45,
          32,
          70,
          66,
          71,
          66,
          44,
          65,
          38,
          43,
          21,
          18,
          60,
          40,
          37,
          21,
          38,
          55,
          30,
          35,
          31,
          32,
          71,
          34,
          41,
          79,
          44,
          66,
          61,
          55,
          61,
          67,
          73,
          50,
          78,
          51,
          47,
          81,
          88,
          83,
          49,
          64,
          78,
          74,
          25,
          58,
          25,
          63,
          60,
          36,
          56,
          63,
          63,
          52,
          37,
          57,
          40,
          41,
          38,
          35,
          36,
          64,
          32,
          59,
          68,
          24,
          69,
          56,
          22,
          57,
          23,
          86,
          72,
          19,
          59,
          77,
          75,
          59,
          60,
          65,
          30,
          57,
          21,
          54,
          72,
          68,
          46,
          69,
          83,
          84,
          31,
          59,
          73,
          56,
          39,
          65,
          69,
          20,
          26,
          36,
          20,
          26,
          72,
          28,
          47,
          27,
          67,
          28,
          65,
          34,
          76,
          41,
          42,
          66,
          71,
          34,
          25,
          55,
          80,
          67,
          64,
          84,
          47,
          43,
          24,
          38,
          31,
          66,
          72,
          42,
          74,
          28,
          38,
          34,
          59,
          34,
          32,
          70,
          39,
          49,
          48,
          72,
          57,
          31,
          39,
          45,
          63,
          54,
          79,
          25,
          71,
          67,
          80,
          79,
          19,
          76,
          42,
          72,
          43,
          52,
          70,
          40,
          39,
          42,
          20,
          41,
          65,
          39,
          33,
          35,
          56,
          52,
          63,
          62,
          26,
          78,
          49,
          20,
          59,
          49,
          61,
          63,
          69,
          67,
          36,
          36,
          31,
          61,
          67,
          56,
          43,
          31,
          36,
          23,
          38,
          61,
          46,
          44,
          59,
          64,
          50,
          49,
          68,
          50,
          61,
          30,
          35,
          43,
          70,
          63,
          44,
          46,
          47,
          48,
          60,
          27,
          62,
          59,
          72,
          76,
          32,
          67,
          63,
          42,
          45,
          26,
          71,
          95,
          42,
          33,
          60,
          59,
          80,
          42,
          42,
          41,
          64,
          68,
          42,
          22,
          21,
          19,
          72,
          48,
          49,
          61,
          56,
          53,
          70,
          71,
          81,
          47,
          56,
          59,
          59,
          23,
          74,
          36,
          62,
          64,
          68,
          67,
          65,
          55,
          76,
          75,
          65,
          52,
          77,
          66,
          66,
          71,
          59,
          22,
          51,
          68,
          39,
          54,
          26,
          26,
          72,
          24,
          50,
          66,
          37,
          83,
          22,
          59,
          44,
          41,
          52,
          52,
          36,
          32,
          55,
          69,
          65,
          34,
          61,
          63,
          22,
          37,
          42,
          46,
          53,
          69,
          40,
          32,
          63,
          31,
          81,
          22,
          71,
          48,
          53,
          50,
          72,
          43,
          55,
          57,
          73,
          24,
          62,
          70,
          76,
          62,
          51,
          61,
          42,
          53,
          53,
          56,
          58,
          65,
          72,
          36,
          31,
          34,
          53,
          24,
          85,
          61,
          83,
          81,
          37,
          57,
          50,
          35,
          19,
          75,
          73,
          45,
          67,
          62,
          28,
          45,
          74,
          31,
          57,
          36,
          28,
          72,
          50,
          33,
          22,
          23,
          52,
          85,
          35,
          62,
          59,
          35,
          33,
          34,
          39,
          74,
          91,
          79,
          48,
          26,
          30,
          75,
          92,
          76,
          21,
          18,
          86,
          55,
          62,
          26,
          31,
          28,
          71,
          83,
          35,
          59,
          24,
          58,
          39,
          38,
          34,
          62,
          18,
          38,
          42,
          42,
          57,
          87,
          73,
          63,
          61,
          41,
          62,
          65,
          48,
          29,
          62,
          24,
          44,
          33,
          28,
          40,
          67,
          52,
          30,
          41,
          40,
          46,
          21,
          30,
          77,
          52,
          63,
          32,
          34,
          53,
          61,
          66,
          32,
          83,
          55,
          69,
          19,
          69,
          18,
          26,
          70,
          31,
          45,
          26,
          51,
          45,
          38,
          44,
          56,
          48,
          35,
          74,
          40,
          32,
          56,
          70,
          58,
          80,
          52,
          60,
          43,
          69,
          75,
          71,
          40,
          28,
          38,
          36,
          30,
          51,
          49,
          64,
          61,
          58,
          47,
          75,
          23,
          85,
          77,
          53,
          54,
          55,
          74,
          70,
          72,
          59,
          61,
          66,
          46,
          61,
          74,
          21,
          40,
          35,
          29,
          68,
          81,
          28,
          63,
          32,
          53,
          47,
          61,
          45,
          18,
          68,
          25,
          56,
          47,
          50,
          25,
          38,
          45,
          66,
          26,
          32,
          44,
          76,
          44,
          50,
          56,
          68,
          71,
          73,
          64,
          55,
          52,
          37,
          53,
          82,
          75,
          47,
          57,
          60,
          30,
          62,
          50,
          46,
          64,
          40,
          26,
          48,
          67,
          44,
          55,
          28,
          72,
          76,
          29,
          48,
          55,
          64,
          39,
          23,
          23,
          29,
          44,
          40,
          23,
          40,
          49,
          69,
          25,
          30,
          30,
          55,
          33,
          47,
          29,
          38,
          31,
          55,
          65,
          30,
          73,
          18,
          56,
          42,
          52,
          40,
          61,
          79,
          72,
          67,
          54,
          31,
          27,
          54,
          32,
          69,
          21,
          64,
          72,
          36,
          68,
          38,
          62,
          36,
          41,
          49,
          28,
          44,
          58,
          54,
          71,
          42,
          60,
          65,
          41,
          73,
          70,
          26,
          77,
          33,
          65,
          81,
          32,
          27,
          48,
          60,
          29,
          24,
          50,
          27,
          58,
          58,
          74,
          58,
          44,
          32,
          27,
          62,
          59,
          28,
          70,
          64,
          27,
          54,
          29,
          44,
          70,
          58,
          64,
          28,
          76,
          35,
          84,
          77,
          41,
          62,
          30,
          48,
          79,
          19,
          76,
          34,
          74,
          59,
          39,
          33,
          59,
          64,
          65,
          59,
          70,
          32,
          21,
          18,
          26,
          21,
          67,
          45,
          68,
          53,
          21,
          59,
          67,
          42,
          78,
          23,
          38,
          20,
          55,
          52,
          76,
          42,
          74,
          26,
          40,
          41,
          60,
          21,
          65,
          28,
          40,
          54,
          34,
          29,
          71,
          76,
          56,
          56,
          74,
          71,
          64,
          69,
          38,
          57,
          72,
          49,
          35,
          63,
          60,
          26,
          36,
          65,
          45,
          91,
          61,
          32,
          67,
          25,
          29,
          49,
          44,
          66,
          18,
          81,
          39,
          58,
          60,
          32,
          55,
          68,
          57,
          61,
          58,
          65,
          28,
          41,
          32,
          59,
          24,
          35,
          53,
          33,
          28,
          31,
          58,
          48,
          34,
          38,
          21,
          56,
          41,
          32,
          48,
          34,
          65,
          56,
          57,
          35,
          35,
          22,
          42,
          41,
          27,
          64,
          38,
          40,
          38,
          65,
          42,
          36,
          58,
          37,
          42,
          40,
          46,
          71,
          75,
          58,
          41,
          65,
          60,
          19,
          67,
          43,
          53,
          80,
          69,
          65,
          20,
          38,
          57,
          77,
          86,
          46,
          69,
          65,
          29,
          45,
          44,
          78,
          60,
          73,
          37,
          31,
          30,
          34,
          64,
          75,
          54,
          72,
          65,
          29,
          55,
          73,
          49,
          45,
          44,
          62,
          34,
          19,
          32,
          68,
          48,
          75,
          28,
          51,
          55,
          58,
          69,
          42,
          74,
          30,
          76,
          38,
          26,
          27,
          28,
          41,
          57,
          48,
          27,
          23,
          73,
          24,
          75,
          63,
          65,
          41,
          40,
          20,
          65,
          57,
          50,
          65,
          44,
          57,
          73,
          52,
          75,
          50,
          59,
          49,
          60,
          33,
          71,
          31,
          65,
          73,
          36,
          69,
          81,
          54,
          42,
          49,
          27,
          38,
          30,
          69,
          38,
          58,
          28,
          59,
          31,
          68,
          72,
          18,
          37,
          53,
          39,
          58,
          58,
          30,
          45,
          23,
          45,
          52,
          52,
          45,
          49,
          72,
          46,
          48,
          51,
          29,
          51,
          74,
          65,
          34,
          45,
          69,
          87,
          51,
          77,
          33,
          57,
          68,
          59,
          47,
          61,
          57,
          56,
          37,
          38,
          54,
          78,
          57,
          73,
          18,
          63,
          64,
          53,
          23,
          54,
          39,
          73,
          69,
          49,
          57,
          23,
          54,
          39,
          47,
          57,
          70,
          71,
          21,
          58,
          72,
          69,
          59,
          69,
          51,
          41,
          76,
          36,
          31,
          73,
          61,
          28,
          49,
          43,
          74,
          41,
          53,
          22,
          30,
          59,
          60,
          64,
          49,
          44,
          88,
          62,
          65,
          80,
          83,
          64,
          68,
          27,
          56,
          65,
          24,
          37,
          39,
          23,
          72,
          75,
          64,
          77,
          41,
          68,
          46,
          61,
          58,
          69,
          72,
          76,
          65,
          31,
          87,
          67,
          67,
          58,
          64,
          36,
          72,
          58,
          32,
          57,
          86,
          57,
          48,
          98,
          25,
          68,
          69,
          64,
          36,
          55,
          45,
          73,
          62,
          84,
          64,
          60,
          40,
          32,
          68,
          54,
          75,
          83,
          56,
          65,
          56,
          38,
          81,
          68,
          72,
          53,
          60,
          38,
          72,
          66,
          32,
          29,
          52,
          86,
          42,
          33,
          38,
          79,
          55,
          57,
          68,
          55,
          62,
          43,
          61,
          79,
          76,
          47,
          63,
          68,
          37,
          80,
          78,
          30,
          63,
          59,
          77,
          54,
          22,
          72,
          73,
          65,
          65,
          76,
          57,
          49,
          44,
          68,
          58,
          54,
          73,
          36,
          25,
          60,
          68,
          60,
          45,
          64,
          54,
          57,
          83,
          52,
          68,
          52,
          67,
          67,
          56,
          60,
          38,
          61,
          89,
          53,
          72,
          78,
          78,
          41,
          68,
          60,
          80,
          64,
          46,
          75,
          42,
          51,
          69,
          76,
          33,
          34,
          71,
          58,
          63,
          64,
          43,
          34,
          83,
          58,
          53,
          62,
          49,
          31,
          69,
          51,
          38,
          24,
          58,
          68,
          63,
          42,
          66,
          62,
          55,
          77,
          62,
          37,
          47,
          40,
          57,
          47,
          67,
          47,
          74,
          41,
          61,
          65,
          60,
          55,
          30,
          30,
          52,
          57,
          48,
          81,
          57,
          64,
          62,
          76,
          61,
          56,
          96,
          53,
          72,
          60,
          54,
          61,
          52,
          57,
          34,
          45,
          71,
          64,
          60,
          81,
          41,
          31,
          59,
          38,
          76,
          33,
          84,
          47,
          41,
          22,
          70,
          37,
          49,
          51,
          60,
          65,
          63,
          74,
          32,
          62,
          81,
          27,
          62,
          74,
          62,
          79,
          80,
          57,
          58,
          71,
          80,
          71,
          71,
          63,
          55,
          58,
          36,
          76,
          70,
          56,
          47,
          88,
          37,
          53,
          62,
          64,
          47,
          75,
          47,
          54,
          53,
          59,
          59,
          56,
          62,
          54,
          44,
          19,
          58,
          42,
          67,
          62,
          67,
          26,
          30,
          60,
          60,
          89,
          54,
          60,
          72,
          64,
          30,
          54,
          64,
          58,
          73,
          28,
          38,
          70,
          65,
          81,
          63,
          19,
          53,
          62,
          86,
          21,
          56,
          71,
          52,
          71,
          60,
          71,
          59,
          59,
          87,
          74,
          62,
          75,
          41,
          70,
          49,
          67,
          30,
          70,
          24,
          59,
          34,
          45,
          56,
          65,
          44,
          57,
          48,
          25,
          44,
          39,
          58,
          43,
          75,
          72,
          50,
          32,
          39,
          63,
          91,
          67,
          70,
          42,
          73,
          30,
          39,
          80,
          56,
          40,
          38,
          66,
          58,
          82,
          19,
          67,
          61,
          54,
          60,
          55,
          73,
          72,
          23,
          55,
          87,
          59,
          70,
          73,
          30,
          38,
          48,
          76,
          32,
          34,
          31,
          37,
          23,
          44,
          94,
          41,
          65,
          56,
          27,
          78,
          62,
          62,
          27,
          77,
          68,
          50,
          65,
          38,
          68,
          61,
          55,
          52,
          38,
          77,
          63,
          64,
          61,
          71,
          70,
          35,
          67,
          30,
          55,
          72,
          70,
          27,
          76,
          26,
          48,
          35,
          71,
          37,
          86,
          29,
          71,
          59,
          67,
          70,
          51,
          70,
          66,
          69,
          62,
          48,
          51,
          73,
          63,
          67,
          63,
          75,
          56,
          21,
          29,
          73,
          50,
          75,
          50,
          84,
          84,
          50,
          61,
          52,
          77,
          70,
          75,
          66,
          78,
          60,
          55,
          63,
          52,
          33,
          93,
          77,
          65,
          80,
          71,
          72,
          43,
          77,
          25,
          88,
          35,
          30,
          70,
          28,
          74,
          71,
          79,
          69,
          66,
          41,
          46,
          61,
          62,
          74,
          33,
          47,
          56,
          76,
          29,
          65,
          45,
          37,
          47,
          60,
          69,
          73,
          50,
          80,
          39,
          70,
          50,
          62,
          50,
          23,
          74,
          29,
          75,
          38,
          62,
          33,
          96,
          34,
          60,
          72,
          31,
          56,
          42,
          64,
          70,
          76,
          67,
          70,
          47,
          48,
          61,
          69,
          75,
          35,
          28,
          34,
          43,
          29,
          52,
          81,
          31,
          57,
          22,
          64,
          65,
          83,
          53,
          86,
          71,
          32,
          59,
          68,
          50,
          50,
          58,
          37,
          24,
          71,
          60,
          38,
          26,
          55,
          62,
          33,
          18,
          21,
          63,
          76,
          58,
          34,
          80,
          69,
          68,
          56,
          45,
          49,
          50,
          70,
          41,
          46,
          59,
          32,
          58,
          43,
          52,
          45,
          74,
          46,
          66,
          50,
          50,
          60,
          44,
          59,
          44,
          61,
          60,
          53,
          82,
          68,
          36,
          74,
          72,
          73,
          67,
          28,
          74,
          54,
          61,
          66,
          49,
          35,
          37,
          78,
          79,
          75,
          27,
          56,
          69,
          43,
          64,
          73,
          61,
          88,
          55,
          78,
          74,
          41,
          38,
          23,
          72,
          62,
          52,
          64,
          49,
          64,
          78,
          64,
          80,
          38,
          80,
          80,
          73,
          50,
          52,
          56,
          72,
          59,
          54,
          40,
          57,
          53,
          66,
          65,
          57,
          23,
          54,
          44,
          50,
          87,
          59,
          58,
          36,
          70,
          64,
          68,
          61,
          78,
          64,
          46,
          45,
          78,
          39,
          40,
          61,
          47,
          48,
          61,
          74,
          70,
          66,
          52,
          31,
          29,
          76,
          48,
          24,
          70,
          59,
          44,
          33,
          50,
          60,
          64,
          73,
          80,
          72,
          51,
          74,
          60,
          82,
          87,
          64,
          57,
          73,
          73,
          46,
          80,
          67,
          48,
          65,
          72,
          40,
          53,
          57,
          46,
          42,
          67,
          61,
          91,
          27,
          73,
          75,
          67,
          47,
          38,
          71,
          28,
          59,
          62,
          75,
          27,
          75,
          56,
          90,
          41,
          39,
          37,
          30,
          63,
          34,
          36,
          78,
          75,
          48,
          86,
          71,
          71,
          62,
          87,
          79,
          65,
          40,
          80,
          41,
          50,
          81,
          60,
          62,
          82,
          43,
          70,
          22,
          64,
          81,
          43,
          42,
          68,
          46,
          35,
          88,
          75,
          65,
          79,
          76,
          63,
          67,
          78,
          41,
          70,
          42,
          39,
          34,
          23,
          61,
          92,
          66,
          72,
          69,
          64,
          63,
          56,
          78,
          40,
          54,
          60,
          46,
          65,
          41,
          75,
          36,
          64,
          88,
          56,
          94,
          55,
          43,
          33,
          39,
          83,
          69,
          59,
          90,
          70,
          73,
          73,
          50,
          36,
          61,
          72,
          64,
          46,
          53,
          68,
          82,
          63,
          89,
          66,
          75,
          51,
          50,
          38,
          31,
          25,
          71,
          58,
          49,
          52,
          50,
          27,
          76,
          87,
          32,
          54,
          37,
          53,
          51,
          40,
          77,
          59,
          87,
          31,
          25,
          63,
          42,
          54,
          77,
          26,
          33,
          54,
          59,
          30,
          35,
          57,
          31,
          84,
          72,
          47,
          44,
          26,
          30,
          64,
          60,
          47,
          53,
          41,
          53,
          88,
          59,
          56,
          61,
          40,
          71,
          47,
          45,
          70,
          55,
          47,
          43,
          48,
          64,
          71,
          65,
          60,
          61,
          58,
          61,
          69,
          34,
          44,
          45,
          33,
          20,
          68,
          46,
          33,
          64,
          56,
          37,
          40,
          70,
          60,
          37,
          59,
          41,
          45,
          66,
          65,
          66,
          55,
          37,
          65,
          56,
          68,
          59,
          41,
          88,
          69,
          51,
          69,
          70,
          76,
          74,
          67,
          62,
          65,
          66,
          47,
          71,
          45,
          59,
          76,
          68,
          69,
          38,
          65,
          62,
          73,
          58,
          61,
          73,
          52,
          22,
          48,
          61,
          37,
          43,
          77,
          66,
          60,
          88,
          18,
          49,
          53,
          68,
          44,
          22,
          77,
          60,
          32,
          24,
          65,
          86,
          31,
          43,
          45,
          63,
          20,
          43,
          87,
          71,
          69,
          66,
          69,
          35,
          71,
          67,
          43,
          34,
          78,
          24,
          76,
          39,
          74,
          80,
          71,
          58,
          58,
          76,
          74,
          69,
          49,
          77,
          45,
          70,
          84,
          51,
          24,
          37,
          70,
          75,
          80,
          54,
          48,
          68,
          47,
          33,
          85,
          37,
          58,
          22,
          93,
          32,
          71,
          24,
          82,
          55,
          55,
          93,
          49,
          49,
          81,
          54,
          76,
          59,
          36,
          57,
          80,
          47,
          75,
          69,
          31,
          63,
          52,
          62,
          55,
          60,
          46,
          46,
          82,
          54,
          79,
          67,
          32,
          75,
          38,
          64,
          75,
          40,
          51,
          39,
          26,
          42,
          62,
          54,
          25,
          59,
          63,
          44,
          23,
          30,
          74,
          76,
          55,
          84,
          86,
          82,
          54,
          68,
          57,
          70,
          50,
          51,
          85,
          45,
          59,
          93,
          55,
          64,
          70,
          82,
          34,
          92,
          64,
          55,
          64,
          21,
          68,
          85,
          89,
          85,
          63,
          65,
          68,
          69,
          75,
          60,
          66,
          25,
          78,
          65,
          56,
          51,
          76,
          70,
          35,
          22,
          60,
          63,
          62,
          75,
          60,
          50,
          56,
          76,
          65,
          37,
          67,
          76,
          43,
          57,
          98,
          54,
          67,
          75,
          65,
          24,
          23,
          31,
          47,
          51,
          60,
          84,
          29,
          71,
          65,
          58,
          33,
          52,
          70,
          45,
          80,
          72,
          58,
          69,
          53,
          80,
          65,
          50,
          76,
          58,
          42,
          71,
          91,
          45,
          70,
          65,
          64,
          60,
          23,
          57,
          52,
          87,
          48,
          77,
          78,
          74,
          32,
          69,
          69,
          78,
          96,
          52,
          31,
          61,
          60,
          42,
          65,
          69,
          74,
          76,
          70,
          69,
          62,
          76,
          52,
          71,
          23,
          80,
          44,
          37,
          74,
          90,
          86,
          42,
          64,
          69,
          48,
          28,
          26,
          71,
          74,
          59,
          73,
          61,
          67,
          66,
          38,
          38,
          42,
          86,
          94,
          54,
          64,
          71,
          35,
          30,
          62,
          80,
          38,
          35,
          51,
          68,
          78,
          81,
          61,
          70,
          62,
          65,
          87,
          63,
          46,
          61,
          53,
          83,
          39,
          52,
          36,
          51,
          61,
          83,
          76,
          58,
          36,
          24,
          58,
          50,
          67,
          26,
          80,
          36,
          33,
          73,
          61,
          47,
          56,
          41,
          71,
          77,
          34,
          58,
          59,
          72,
          51,
          70,
          43,
          50,
          70,
          41,
          65,
          29,
          71,
          46,
          65,
          77,
          66,
          58,
          60,
          43,
          36,
          51,
          61,
          35,
          60,
          65,
          49,
          74,
          34,
          65,
          76,
          66,
          71,
          55,
          79,
          64,
          50,
          44,
          69,
          81,
          37,
          50,
          65,
          62,
          30,
          49,
          51,
          98,
          70,
          70,
          59,
          42,
          89,
          45,
          24,
          39,
          55,
          42,
          66,
          51,
          45,
          47,
          37,
          44,
          53,
          68,
          50,
          87,
          23,
          27,
          63,
          71,
          41,
          38,
          43,
          58,
          35,
          54,
          77,
          38,
          80,
          61,
          85,
          64,
          72,
          45,
          56,
          72,
          66,
          64,
          47,
          25,
          71,
          33,
          83,
          60,
          70,
          56,
          63,
          44,
          51,
          84,
          55,
          33,
          92,
          38,
          60,
          68,
          27,
          42,
          53,
          41,
          60,
          57,
          75,
          58,
          62,
          67,
          71,
          52,
          56,
          71,
          63,
          35,
          32,
          74,
          66,
          35,
          53,
          39,
          39,
          89,
          58,
          22,
          62,
          62,
          65,
          45,
          62,
          59,
          72,
          29,
          63,
          29,
          83,
          73,
          71,
          37,
          70,
          62,
          72,
          74,
          50,
          81,
          75,
          71,
          28,
          44,
          37,
          71,
          60,
          37,
          35,
          28,
          71,
          69,
          54,
          71,
          28,
          69,
          71,
          60,
          35,
          66,
          64,
          84,
          52,
          60,
          68,
          46,
          82,
          79,
          74,
          68,
          60,
          94,
          42,
          80,
          69,
          28,
          54,
          51,
          20,
          72,
          50,
          72,
          55,
          73,
          45,
          37,
          64,
          61,
          67,
          25,
          50,
          40,
          70,
          83,
          77,
          48,
          33,
          75,
          98,
          66,
          58,
          67,
          25,
          54,
          35,
          74,
          37,
          20,
          33,
          84,
          57,
          64,
          63,
          68,
          75,
          63,
          72,
          60,
          55,
          69,
          50,
          46,
          84,
          50,
          53,
          41,
          57,
          45,
          77,
          36,
          42,
          73,
          59,
          70,
          71,
          60,
          68,
          38,
          67,
          32,
          66,
          74,
          92,
          67,
          37,
          43,
          48,
          60,
          55,
          28,
          56,
          68,
          75,
          74,
          59,
          58,
          60,
          50,
          94,
          38,
          62,
          26,
          51,
          40,
          70,
          82,
          57,
          30,
          32,
          49,
          46,
          29,
          56,
          61,
          67,
          46,
          62,
          46,
          74,
          62,
          67,
          35,
          67,
          77,
          28,
          29,
          33,
          37,
          70,
          67,
          55,
          25,
          55,
          69,
          48,
          64,
          35,
          49,
          74,
          63,
          73,
          82,
          65,
          62,
          71,
          57,
          64,
          38,
          71,
          53,
          65,
          79,
          40,
          68,
          60,
          84,
          64,
          76,
          68,
          49,
          78,
          68,
          80,
          54,
          60,
          63,
          40,
          55,
          67,
          43,
          78,
          36,
          23,
          74,
          59,
          71,
          57,
          20,
          78,
          30,
          56,
          57,
          62,
          69,
          68,
          82,
          62,
          55,
          57,
          47,
          60,
          70,
          74,
          35,
          60,
          63,
          57,
          83,
          58,
          70,
          61,
          31,
          80,
          73,
          54,
          67,
          30,
          70,
          73,
          67,
          43,
          71,
          84,
          66,
          52,
          53,
          37,
          66,
          80,
          32,
          36,
          55,
          62,
          50,
          70,
          54,
          63,
          56,
          33,
          47,
          47,
          57,
          81,
          42,
          65,
          55,
          51,
          50,
          50,
          54,
          78,
          26,
          70,
          37,
          37,
          29,
          35,
          67,
          41,
          71,
          69,
          63,
          40,
          36,
          72,
          53,
          75,
          46,
          58,
          77,
          40,
          65,
          24,
          70,
          81,
          72,
          67,
          68,
          79,
          43,
          71,
          19,
          72,
          79,
          78,
          21,
          57,
          90,
          83,
          51,
          38,
          32,
          66,
          43,
          75,
          55,
          36,
          70,
          52,
          75,
          55,
          76,
          35,
          40,
          59,
          47,
          87,
          79,
          86,
          68,
          71,
          35,
          51,
          57,
          62,
          60,
          28,
          65,
          46,
          59,
          70,
          79,
          65,
          64,
          43,
          62,
          60,
          25,
          56,
          61,
          82,
          43,
          68,
          63,
          71,
          52,
          29,
          38,
          69,
          60,
          74,
          75,
          59,
          37,
          75,
          55,
          68,
          42,
          46,
          35,
          21,
          89,
          64,
          94,
          19,
          62,
          66,
          41,
          67,
          56,
          60,
          71,
          38,
          72,
          62,
          46,
          49,
          51,
          73,
          72,
          47,
          57,
          38,
          48,
          84,
          56,
          72,
          65,
          47,
          84,
          54,
          62,
          56,
          64,
          76,
          50,
          66,
          30,
          74,
          69,
          74,
          68,
          47,
          86,
          69,
          48,
          69,
          51,
          63,
          38,
          71,
          26,
          31,
          95,
          71,
          73,
          48,
          80,
          33,
          45,
          74,
          60,
          72,
          72,
          36,
          75,
          91,
          30,
          73,
          54,
          74,
          70,
          85,
          83,
          39,
          52,
          62,
          71,
          68,
          47,
          37,
          38,
          62,
          45,
          40,
          29,
          75,
          44,
          70,
          75,
          51,
          86,
          42,
          56,
          31,
          34,
          66,
          33,
          40,
          71,
          52,
          70,
          55,
          69,
          52,
          63,
          46,
          38,
          54,
          54,
          23,
          34,
          54,
          64,
          66,
          62,
          42,
          44,
          70,
          36,
          50,
          36,
          50,
          40,
          50,
          54,
          77,
          50,
          32,
          55,
          30,
          20,
          57,
          79,
          67,
          82,
          49,
          72,
          53,
          71,
          66,
          66,
          59,
          55,
          52,
          60,
          76,
          39,
          49,
          69,
          29,
          65,
          43,
          61,
          80,
          23,
          36,
          25,
          78,
          54,
          28,
          44,
          25,
          29,
          68,
          75,
          60,
          44,
          90,
          63,
          65,
          76,
          42,
          69,
          60,
          63,
          61,
          30,
          67,
          42,
          68,
          70,
          77,
          60,
          64,
          75,
          56,
          70,
          64,
          62,
          47,
          31,
          75,
          67,
          75,
          68,
          79,
          46,
          44,
          64,
          74,
          35,
          47,
          30,
          68,
          72,
          80,
          63,
          39,
          43,
          56,
          63,
          45,
          82,
          83,
          49,
          78,
          19,
          45,
          72,
          59,
          34,
          21,
          61,
          68,
          61,
          75,
          70,
          34,
          76,
          67,
          56,
          58,
          72,
          42,
          53,
          50,
          68,
          80,
          89,
          74,
          83,
          33,
          71,
          43,
          69,
          70,
          65,
          39,
          70,
          58,
          58,
          52,
          69,
          45,
          68,
          38,
          33,
          48,
          22,
          62,
          78,
          61,
          51,
          31,
          79,
          76,
          36,
          69,
          66,
          71,
          26,
          52,
          48,
          74,
          65,
          42,
          68,
          95,
          50,
          69,
          42,
          84,
          57,
          71,
          62,
          51,
          39,
          55,
          59,
          94,
          57,
          20,
          74,
          57,
          57,
          35,
          37,
          69,
          85,
          82,
          41,
          62,
          33,
          44,
          51,
          55,
          40,
          83,
          58,
          65,
          58,
          30,
          79,
          59,
          54,
          72,
          32,
          30,
          68,
          31,
          19,
          23,
          63,
          51,
          25,
          67,
          36,
          64,
          61,
          66,
          71,
          67,
          91,
          60,
          70,
          39,
          27,
          76,
          41,
          69,
          84,
          93,
          53,
          66,
          43,
          77,
          33,
          37,
          46,
          51,
          68,
          38,
          47,
          31,
          70,
          49,
          61,
          63,
          60,
          74,
          28,
          35,
          80,
          30,
          53,
          74,
          75,
          66,
          57,
          78,
          81,
          57,
          39,
          55,
          51,
          66,
          39,
          52,
          36,
          55,
          80,
          38,
          66,
          47,
          73,
          63,
          56,
          61,
          54,
          56,
          46,
          98,
          44,
          54,
          68,
          74,
          66,
          74,
          58,
          76,
          81,
          59,
          46,
          27,
          53,
          81,
          60,
          19,
          61,
          25,
          49,
          54,
          49,
          82,
          36,
          71,
          53,
          67,
          55,
          75,
          50,
          50,
          40,
          70,
          40,
          80,
          66,
          88,
          74,
          47,
          40,
          35,
          58,
          84,
          61,
          60,
          48,
          36,
          76,
          20,
          73,
          83,
          72,
          58,
          51,
          45,
          68,
          39,
          82,
          39,
          71,
          71,
          49,
          45,
          29,
          37,
          32,
          95,
          34,
          38,
          77,
          24,
          83,
          57,
          67,
          35,
          77,
          66,
          60,
          26,
          53,
          81,
          68,
          50,
          46,
          76,
          36,
          40,
          48,
          60,
          51,
          33,
          40,
          68,
          72,
          63,
          28,
          74,
          58,
          46,
          56,
          71,
          62,
          68,
          71,
          68,
          72,
          63,
          45,
          48,
          74,
          88,
          45,
          84,
          18,
          22,
          65,
          28,
          36,
          41,
          63,
          83,
          75,
          38,
          72,
          78,
          93,
          56,
          77,
          34,
          66,
          54,
          53,
          71,
          66,
          72,
          57,
          72,
          70,
          45,
          52,
          73,
          52,
          77,
          73,
          53,
          60,
          61,
          58,
          71,
          87,
          70,
          58,
          39,
          73,
          68,
          58,
          61,
          71,
          55,
          42,
          60,
          80,
          68,
          26,
          77,
          48,
          59,
          31,
          38,
          55,
          46,
          50,
          21,
          52,
          85,
          36,
          46,
          58,
          41,
          80,
          71,
          23,
          54,
          58,
          65,
          37,
          73,
          67,
          78,
          21,
          75,
          68,
          66,
          26,
          88,
          58,
          65,
          63,
          80,
          62,
          69,
          34,
          46,
          78,
          31,
          72,
          50,
          65,
          54,
          60,
          50,
          52,
          52,
          65,
          77,
          50,
          83,
          70,
          37,
          98,
          62,
          19,
          41,
          43,
          37,
          38,
          47,
          26,
          66,
          87,
          40,
          68,
          58,
          74,
          27,
          24,
          31,
          66,
          37,
          66,
          62,
          75,
          67,
          70,
          27,
          88,
          68,
          63,
          35,
          34,
          88,
          54,
          43,
          35,
          46,
          67,
          66,
          52,
          62,
          56,
          76,
          58,
          58,
          89,
          52,
          68,
          37,
          75,
          74,
          70,
          62,
          39,
          69,
          58,
          65,
          37,
          89,
          55,
          71,
          28,
          80,
          44,
          75,
          78,
          98,
          46,
          50,
          42,
          55,
          67,
          72,
          47,
          70,
          64,
          41,
          61,
          61,
          67,
          65,
          37,
          74,
          62,
          49,
          35,
          79,
          54,
          67,
          29,
          33,
          73,
          35,
          51,
          67,
          76,
          76,
          42,
          61,
          40,
          63,
          86,
          19,
          44,
          59,
          43,
          65,
          30,
          30,
          52,
          44,
          71,
          32,
          44,
          58,
          35,
          34,
          52,
          72,
          33,
          89,
          54,
          75,
          45,
          67,
          77,
          52,
          37,
          63,
          31,
          53,
          75,
          62,
          27,
          23,
          27,
          69,
          59,
          42,
          74,
          32,
          63,
          75,
          83,
          79,
          67,
          73,
          70,
          41,
          28,
          47,
          61,
          49,
          25,
          37,
          46,
          53,
          45,
          63,
          24,
          38,
          66,
          72,
          66,
          56,
          64,
          64,
          70,
          66,
          54,
          42,
          49,
          78,
          79,
          25,
          65,
          63,
          68,
          76,
          63,
          67,
          79,
          69,
          68,
          66,
          54,
          66,
          22,
          21,
          20,
          57,
          86,
          71,
          85,
          90,
          70,
          84,
          29,
          62,
          45,
          43,
          43,
          69,
          56,
          53,
          34,
          49,
          49,
          61,
          33,
          61,
          56,
          72,
          39,
          27,
          56,
          47,
          71,
          51,
          73,
          87,
          30,
          72,
          78,
          78,
          89,
          63,
          50,
          70,
          63,
          30,
          88,
          67,
          54,
          63,
          60,
          44,
          54,
          62,
          48,
          83,
          57,
          43,
          70,
          57,
          95,
          60,
          52,
          47,
          75,
          50,
          41,
          69,
          57,
          32,
          75,
          66,
          43,
          40,
          68,
          49,
          68,
          81,
          54,
          53,
          62,
          41,
          85,
          80,
          54,
          50,
          55,
          75,
          74,
          80,
          52,
          52,
          49,
          50,
          65,
          31,
          68,
          42,
          65,
          68,
          55,
          53,
          82,
          75,
          67,
          63,
          46,
          44,
          50,
          65,
          34,
          61,
          60,
          84,
          38,
          70,
          66,
          60,
          74,
          34,
          42,
          49,
          77,
          54,
          53,
          26,
          69,
          68,
          55,
          80,
          66,
          38,
          77,
          34,
          77,
          68,
          69,
          75,
          59,
          67,
          57,
          43,
          50,
          70,
          38,
          39,
          59,
          78,
          53,
          27,
          61,
          49,
          86,
          48,
          64,
          50,
          66,
          66,
          49,
          76,
          43,
          33,
          81,
          77,
          72,
          65,
          31,
          30,
          37,
          60,
          40,
          55,
          59,
          36,
          55,
          35,
          64,
          32,
          60,
          40,
          85,
          59,
          73,
          71,
          18,
          24,
          54,
          39,
          74,
          84,
          52,
          35,
          25,
          42,
          75,
          80,
          71,
          52,
          75,
          80,
          88,
          67,
          83,
          72,
          50,
          35,
          37,
          50,
          68,
          21,
          46,
          71,
          43,
          74,
          62,
          41,
          76,
          73,
          71,
          65,
          51,
          19,
          63,
          32,
          57,
          37,
          73,
          84,
          71,
          44,
          66,
          37,
          37,
          56,
          68,
          64,
          54,
          34,
          65,
          66,
          69,
          48,
          43,
          43,
          77,
          25,
          29,
          73,
          76,
          36,
          53,
          58,
          46,
          60,
          86,
          47,
          41,
          98,
          56,
          60,
          41,
          48,
          45,
          43,
          44,
          56,
          42,
          35,
          71,
          51,
          44,
          79,
          73,
          29,
          38,
          65,
          76,
          85,
          50,
          62,
          59,
          41,
          20,
          70,
          69,
          51,
          49,
          68,
          83,
          29,
          32,
          83,
          65,
          67,
          22,
          59,
          80,
          70,
          64,
          72,
          74,
          55,
          88,
          50,
          45,
          60,
          63,
          68,
          42,
          60,
          40,
          43,
          37,
          80,
          38,
          78,
          43,
          63,
          80,
          74,
          57,
          76,
          57,
          60,
          53,
          85,
          72,
          60,
          67,
          40,
          52,
          70,
          60,
          45,
          66,
          96,
          68,
          73,
          28,
          19,
          57,
          50,
          87,
          58,
          65,
          69,
          68,
          41,
          56,
          47,
          36,
          61,
          63,
          34,
          66,
          66,
          70,
          47,
          80,
          70,
          22,
          44,
          46,
          67,
          79,
          64,
          68,
          64,
          84,
          77,
          73,
          52,
          51,
          53,
          73,
          80,
          56,
          64,
          33,
          65,
          69,
          78,
          57,
          50,
          73,
          74,
          73,
          56,
          38,
          78,
          44,
          47,
          46,
          53,
          72,
          62,
          60,
          82,
          68,
          59,
          74,
          69,
          19,
          44,
          65,
          63,
          23,
          53,
          88,
          72,
          33,
          61,
          56,
          20,
          56,
          60,
          74,
          60,
          39,
          64,
          48,
          68,
          76,
          73,
          46,
          66,
          59,
          44,
          56,
          56,
          78,
          65,
          60,
          63,
          69,
          76,
          69,
          73,
          21,
          24,
          35,
          78,
          44,
          49,
          29,
          70,
          24,
          37,
          52,
          60,
          46,
          46,
          80,
          45,
          86,
          76,
          74,
          30,
          74,
          31,
          37,
          90,
          40,
          73,
          66,
          46,
          58,
          29,
          74,
          73,
          38,
          57,
          73,
          73,
          94,
          45,
          45,
          44,
          63,
          49,
          67,
          53,
          54,
          59,
          19,
          79,
          62,
          21,
          83,
          49,
          30,
          62,
          78,
          79,
          82,
          56,
          64,
          25,
          68,
          74,
          36,
          67,
          36,
          42,
          73,
          47,
          39,
          38,
          79,
          46,
          59,
          30,
          80,
          47,
          51,
          56,
          70,
          75,
          22,
          46,
          70,
          67,
          59,
          32,
          31,
          70,
          51,
          69,
          70,
          43,
          62,
          50,
          52,
          18,
          71,
          70,
          49,
          50,
          51,
          54,
          47,
          63,
          84,
          43,
          44,
          87,
          77,
          38,
          74,
          40,
          46,
          51,
          65,
          58,
          42,
          64,
          61,
          67,
          72,
          67,
          50,
          36,
          76,
          87,
          33,
          62,
          69,
          82,
          71,
          26,
          78,
          68,
          79,
          61,
          59,
          55,
          55,
          48,
          63,
          71,
          45,
          59,
          38,
          44,
          73,
          56,
          55,
          43,
          62,
          68,
          84,
          35,
          71,
          63,
          73,
          57,
          60,
          30,
          79,
          34,
          55,
          21,
          74,
          44,
          63,
          41,
          65,
          52,
          38,
          71,
          67,
          44,
          61,
          59,
          59,
          33,
          77,
          55,
          64,
          55,
          81,
          80,
          36,
          45,
          59,
          44,
          72,
          56,
          33,
          73,
          66,
          67,
          47,
          56,
          35,
          68,
          30,
          54,
          72,
          31,
          50,
          44,
          35,
          21,
          52,
          62,
          84,
          59,
          49,
          75,
          44,
          55,
          71,
          59,
          62,
          72,
          65,
          83,
          75,
          69,
          93,
          64,
          49,
          51,
          79,
          76,
          70,
          79,
          60,
          43,
          69,
          57,
          69,
          29,
          41,
          50,
          52,
          60,
          68,
          59,
          59,
          85,
          33,
          26,
          65,
          39,
          65,
          58,
          67,
          80,
          56,
          70,
          71,
          90,
          65,
          60,
          80,
          61,
          53,
          60,
          68,
          63,
          46,
          34,
          67,
          58,
          27,
          35,
          53,
          65,
          70,
          61,
          62,
          38,
          80,
          80,
          25,
          56,
          48,
          78,
          58,
          62,
          50,
          45,
          54,
          62,
          55,
          71,
          20,
          18,
          31,
          65,
          54,
          67,
          79,
          51,
          70,
          59,
          74,
          71,
          80,
          48,
          64,
          19,
          70,
          60,
          53,
          85,
          64,
          67,
          73,
          40,
          63,
          54,
          47,
          58,
          25,
          50,
          74,
          67,
          68,
          42,
          27,
          57,
          68,
          78,
          29,
          47,
          55,
          49,
          73,
          43,
          41,
          85,
          75,
          65,
          31,
          70,
          68,
          37,
          43,
          70,
          68,
          67,
          45,
          50,
          80,
          55,
          77,
          58,
          78,
          32,
          36,
          46,
          66,
          67,
          46,
          73,
          58,
          28,
          20,
          44,
          36,
          53,
          42,
          68,
          63,
          52,
          35,
          71,
          23,
          61,
          51,
          69,
          87,
          29,
          69,
          42,
          79,
          27,
          38,
          59,
          67,
          72,
          59,
          64,
          29,
          74,
          26,
          46,
          67,
          27,
          54,
          40,
          65,
          39,
          80,
          74,
          56,
          52,
          34,
          59,
          39,
          79,
          51,
          67,
          25,
          75,
          68,
          37,
          51,
          29,
          38,
          64,
          45,
          52,
          51,
          72,
          39,
          58,
          76,
          56,
          40,
          58,
          64,
          60,
          22,
          91,
          52,
          70,
          68,
          39,
          67,
          76,
          66,
          58,
          62,
          35,
          76,
          77,
          46,
          43,
          70,
          66,
          50,
          40,
          72,
          83,
          39,
          67,
          52,
          64,
          75,
          74,
          40,
          82,
          58,
          67,
          68,
          85,
          72,
          80,
          52,
          80,
          25,
          24,
          32,
          72,
          57,
          35,
          89,
          55,
          56,
          87,
          80,
          71,
          85,
          49,
          20,
          61,
          55,
          74,
          43,
          52,
          37,
          59,
          52,
          29,
          54,
          74,
          49,
          43,
          36,
          85,
          61,
          45,
          70,
          71,
          61,
          43,
          45,
          38,
          78,
          27,
          70,
          82,
          64,
          50,
          66,
          51,
          51,
          67,
          29,
          54,
          51,
          83,
          62,
          63,
          54,
          37,
          40,
          54,
          35,
          32,
          48,
          25,
          42,
          22,
          74,
          57,
          24,
          54,
          22,
          53,
          28,
          40,
          55,
          28,
          90,
          37,
          78,
          97,
          70,
          54,
          55,
          51,
          65,
          73,
          65,
          58,
          67,
          38,
          43,
          51,
          26,
          38,
          72,
          35,
          22,
          34,
          29,
          21,
          34,
          51,
          31,
          37,
          68,
          77,
          21,
          54,
          57,
          45,
          63,
          60,
          27,
          66,
          65,
          50,
          21,
          77,
          70,
          35,
          44,
          47,
          72,
          90,
          72,
          70,
          63,
          57,
          54,
          21,
          75,
          59,
          42,
          86,
          63,
          80,
          72,
          70,
          23,
          71,
          76,
          80,
          52,
          56,
          49,
          73,
          59,
          30,
          53,
          70,
          37,
          35,
          60,
          49,
          50,
          44,
          72,
          66,
          68,
          35,
          23,
          35,
          25,
          53,
          31,
          68,
          79,
          70,
          34,
          59,
          52,
          72,
          41,
          59,
          55,
          48,
          90,
          77,
          83,
          44,
          60,
          65,
          75,
          69,
          20,
          50,
          47,
          36,
          61,
          35,
          47,
          32,
          54,
          94,
          80,
          86,
          39,
          56,
          81,
          77,
          81,
          27,
          40,
          60,
          66,
          52,
          64,
          69,
          30,
          21,
          29,
          55,
          71,
          88,
          30,
          68,
          68,
          58,
          59,
          61,
          73,
          42,
          73,
          61,
          45,
          51,
          62,
          68,
          64,
          25,
          53,
          70,
          53,
          22,
          83,
          75,
          80,
          33,
          55,
          30,
          48,
          74,
          81,
          60,
          50,
          60,
          55,
          80,
          85,
          54,
          60,
          26,
          39,
          23,
          30,
          67,
          83,
          79,
          35,
          25,
          30,
          82,
          77,
          70,
          36,
          65,
          26,
          36,
          69,
          54,
          67,
          41,
          28,
          55,
          40,
          53,
          52,
          63,
          54,
          57,
          61,
          36,
          70,
          29,
          59,
          36,
          61,
          20,
          65,
          79,
          58,
          58,
          77,
          66,
          65,
          28,
          50,
          56,
          63,
          70,
          76,
          66,
          31,
          30,
          63,
          71,
          33,
          34,
          31,
          59,
          58,
          52,
          62,
          40,
          67,
          77,
          20,
          65,
          73,
          38,
          40,
          85,
          56,
          49,
          63,
          46,
          42,
          72,
          24,
          85,
          37,
          74,
          64,
          63,
          70,
          47,
          57,
          78,
          67,
          49,
          57,
          52,
          20,
          79,
          59,
          74,
          26,
          20,
          65,
          61,
          36,
          68,
          79,
          66,
          75,
          28,
          33,
          67,
          58,
          42,
          64,
          43,
          54,
          48,
          41,
          61,
          20,
          70,
          59,
          33,
          67,
          18,
          81,
          70,
          18,
          68,
          23,
          79,
          92,
          42,
          74,
          52,
          63,
          60,
          30,
          60,
          44,
          27,
          74,
          22,
          77,
          39,
          55,
          65,
          63,
          65,
          79,
          25,
          37,
          67,
          45,
          54,
          30,
          30,
          57,
          94,
          76,
          33,
          46,
          72,
          40,
          44,
          76,
          23,
          46,
          86,
          67,
          71,
          67,
          75,
          68,
          34,
          75,
          67,
          40,
          46,
          48,
          51,
          42,
          74,
          52,
          77,
          71,
          61,
          85,
          45,
          37,
          19,
          69,
          62,
          79,
          42,
          55,
          72,
          27,
          35,
          66,
          40,
          51,
          81,
          20,
          44,
          38,
          35,
          41,
          49,
          58,
          47,
          46,
          40,
          65,
          76,
          85,
          40,
          70,
          59,
          71,
          68,
          71,
          70,
          79,
          31,
          67,
          33,
          61,
          80,
          62,
          43,
          61,
          70,
          70,
          53,
          81,
          42,
          58,
          59,
          36,
          28,
          66,
          88,
          62,
          46,
          66,
          48,
          61,
          76,
          45,
          71,
          53,
          49,
          75,
          77,
          86,
          50,
          68,
          48,
          62,
          91,
          45,
          46,
          68,
          53,
          76,
          40,
          77,
          34,
          91,
          26,
          63,
          21,
          73,
          45,
          70,
          74,
          33,
          29,
          40,
          80,
          31,
          30,
          65,
          27,
          50,
          61,
          34,
          53,
          41,
          54,
          45,
          61,
          30,
          53,
          63,
          68,
          60,
          72,
          70,
          35,
          32,
          54,
          56,
          35,
          56,
          63,
          39,
          63,
          55,
          49,
          18,
          34,
          19,
          27,
          64,
          41,
          19,
          31,
          62,
          52,
          63,
          68,
          25,
          46,
          80,
          65,
          59,
          68,
          61,
          28,
          76,
          46,
          63,
          50,
          18,
          51,
          51,
          64,
          81,
          65,
          65,
          27,
          75,
          75,
          75,
          76,
          67,
          23,
          45,
          65,
          39,
          73,
          38,
          23,
          57,
          60,
          86,
          56,
          48,
          66,
          35,
          30,
          20,
          80,
          67,
          47,
          52,
          51,
          32,
          55,
          46,
          85,
          53,
          60,
          49,
          68,
          56,
          39,
          46,
          35,
          64,
          63,
          41,
          48,
          74,
          78,
          87,
          34,
          44,
          59,
          70,
          40,
          77,
          43,
          43,
          77,
          35,
          76,
          37,
          66,
          41,
          58,
          64,
          80,
          30,
          77,
          61,
          65,
          58,
          72,
          54,
          72,
          74,
          66,
          92,
          62,
          30,
          52,
          42,
          45,
          21,
          72,
          70,
          28,
          50,
          31,
          81,
          52,
          21,
          33,
          88,
          45,
          69,
          76,
          70,
          77,
          63,
          35,
          75,
          65,
          51,
          41,
          41,
          63,
          38,
          73,
          82,
          42,
          81,
          39,
          85,
          64,
          41,
          48,
          30,
          44,
          71,
          47,
          49,
          29,
          89,
          77,
          78,
          46,
          63,
          86,
          27,
          38,
          77,
          60,
          71,
          29,
          77,
          50,
          24,
          59,
          65,
          79,
          52,
          44,
          52,
          38,
          71,
          88,
          66,
          49,
          24,
          76,
          42,
          34,
          31,
          36,
          65,
          37,
          61,
          36,
          21,
          72,
          93,
          32,
          67,
          77,
          87,
          65,
          63,
          67,
          75,
          65,
          36,
          70,
          56,
          61,
          42,
          72,
          38,
          40,
          84,
          58,
          47,
          52,
          38,
          67,
          68,
          64,
          65,
          24,
          80,
          45,
          44,
          58,
          59,
          66,
          56,
          71,
          67,
          31,
          34,
          77,
          18,
          69,
          38,
          67,
          42,
          49,
          19,
          41,
          87,
          51,
          69,
          25,
          37,
          40,
          23,
          55,
          43,
          43,
          48,
          64,
          71,
          74,
          85,
          27,
          60,
          42,
          59,
          68,
          56,
          31,
          78,
          52,
          44,
          44,
          84,
          50,
          58,
          66,
          65,
          59,
          72,
          27,
          34,
          65,
          27,
          59,
          37,
          72,
          21,
          79,
          31,
          82,
          75,
          48,
          28,
          29,
          75,
          76,
          37,
          58,
          30,
          40,
          79,
          84,
          25,
          49,
          81,
          33,
          41,
          62,
          32,
          67,
          67,
          43,
          59,
          40,
          46,
          49,
          45,
          47,
          50,
          60,
          46,
          56,
          60,
          73,
          45,
          53,
          40,
          57,
          89,
          68,
          84,
          60,
          69,
          36,
          36,
          33,
          53,
          33,
          56,
          26,
          53,
          47,
          66,
          54,
          49,
          70,
          55,
          40,
          36,
          80,
          30,
          81,
          83,
          85,
          32,
          56,
          34,
          26,
          44,
          73,
          70,
          22,
          86,
          29,
          58,
          33,
          25,
          81,
          83,
          71,
          93,
          37,
          20,
          37,
          68,
          67,
          75,
          38,
          28,
          28,
          73,
          37,
          35,
          22,
          34,
          45,
          49,
          60,
          59,
          63,
          64,
          80,
          69,
          51,
          51,
          61,
          48,
          63,
          72,
          58,
          60,
          42,
          35,
          26,
          40,
          45,
          27,
          52,
          74,
          45,
          57,
          68,
          48,
          39,
          45,
          30,
          50,
          72,
          64,
          52,
          67,
          67,
          53,
          42,
          37,
          68,
          53,
          35,
          81,
          46,
          78,
          38,
          44,
          56,
          71,
          76,
          76,
          67,
          58,
          64,
          84,
          76,
          70,
          68,
          44,
          87,
          81,
          26,
          85,
          71,
          34,
          83,
          66,
          73,
          67,
          48,
          31,
          62,
          71,
          83,
          64,
          22,
          77,
          52,
          39,
          53,
          35,
          35,
          58,
          36,
          51,
          44,
          83,
          55,
          49,
          73,
          54,
          68,
          50,
          34,
          65,
          81,
          49,
          35,
          68,
          63,
          33,
          37,
          50,
          81,
          66,
          62,
          36,
          77,
          55,
          41,
          42,
          96,
          25,
          65,
          38,
          68,
          40,
          59,
          50,
          57,
          20,
          20,
          74,
          50,
          35,
          57,
          76,
          67,
          34,
          51,
          28,
          25,
          36,
          57,
          20,
          54,
          66,
          58,
          72,
          76,
          83,
          56,
          59,
          67,
          55,
          55,
          48,
          52,
          61,
          48,
          33,
          31,
          74,
          76,
          77,
          65,
          52,
          57,
          39,
          65,
          30,
          34,
          32,
          62,
          44,
          46,
          63,
          81,
          74,
          36,
          62,
          51,
          33,
          39,
          62,
          57,
          19,
          67,
          84,
          20,
          64,
          73,
          65,
          55,
          50,
          34,
          60,
          55,
          43,
          80,
          54,
          61,
          59,
          68,
          77,
          40,
          52,
          26,
          62,
          40,
          45,
          66,
          39,
          61,
          36,
          32,
          46,
          59,
          75,
          68,
          36,
          77,
          76,
          59,
          76,
          67,
          50,
          71,
          46,
          75,
          65,
          57,
          35,
          58,
          68,
          35,
          45,
          41,
          75,
          41,
          80,
          55,
          59,
          69,
          75,
          53,
          56,
          39,
          46,
          61,
          62,
          63,
          64,
          35,
          60,
          59,
          85,
          76,
          70,
          59,
          61,
          22,
          39,
          40,
          69,
          43,
          47,
          44,
          82,
          37,
          47,
          67,
          59,
          47,
          60,
          29,
          72,
          48,
          45,
          78,
          57,
          56,
          72,
          51,
          38,
          34,
          40,
          33,
          78,
          38,
          32,
          30,
          34,
          37,
          49,
          41,
          56,
          47,
          51,
          18,
          43,
          71,
          50,
          22,
          37,
          83,
          24,
          81,
          51,
          70,
          59,
          84,
          55,
          29,
          71,
          62,
          69,
          60,
          47,
          34,
          56,
          87,
          23,
          63,
          65,
          52,
          76,
          62,
          82,
          70,
          53,
          37,
          36,
          66,
          89,
          48,
          75,
          68,
          60,
          67,
          78,
          72,
          25,
          36,
          76,
          47,
          70,
          18,
          24,
          23,
          51,
          49,
          42,
          76,
          63,
          34,
          57,
          63,
          82,
          42,
          46,
          74,
          46,
          37,
          63,
          58,
          19,
          45,
          54,
          64,
          63,
          67,
          23,
          53,
          55,
          56,
          40,
          59,
          55,
          41,
          69,
          65,
          63,
          42,
          38,
          62,
          52,
          72,
          32,
          57,
          44,
          64,
          36,
          24,
          61,
          55,
          88,
          30,
          26,
          73,
          27,
          40,
          68,
          66,
          29,
          46,
          74,
          43,
          26,
          35,
          23,
          53,
          30,
          71,
          72,
          75,
          55,
          76,
          89,
          71,
          57,
          37,
          60,
          85,
          40,
          50,
          37,
          70,
          75,
          64,
          27,
          56,
          57,
          27,
          29,
          64,
          37,
          72,
          74,
          56,
          60,
          66,
          71,
          40,
          78,
          62,
          39,
          46,
          86,
          83,
          75,
          75,
          59,
          31,
          68,
          53,
          74,
          67,
          89,
          40,
          71,
          47,
          61,
          58,
          22,
          40,
          62,
          32,
          59,
          57,
          44,
          56,
          74,
          50,
          63,
          38,
          51,
          41,
          73,
          52,
          21,
          75,
          51,
          57,
          39,
          27,
          27,
          92,
          55,
          39,
          47,
          46,
          43,
          75,
          53,
          85,
          34,
          53,
          70,
          58,
          34,
          68,
          71,
          85,
          47,
          35,
          46,
          39,
          72,
          69,
          43,
          21,
          76,
          78,
          60,
          63,
          36,
          54,
          66,
          75,
          71,
          75,
          54,
          62,
          50,
          68,
          52,
          42,
          77,
          30,
          71,
          19,
          61,
          24,
          71,
          51,
          91,
          84,
          46,
          34,
          51,
          70,
          24,
          82,
          40,
          62,
          61,
          36,
          27,
          40,
          25,
          75,
          32,
          46,
          73,
          75,
          72,
          69,
          64,
          40,
          84,
          31,
          64,
          64,
          63,
          27,
          40,
          54,
          80,
          61,
          67,
          63,
          69,
          25,
          41,
          49,
          51,
          54,
          69,
          36,
          59,
          81,
          70,
          46,
          39,
          70,
          25,
          75,
          66,
          20,
          52,
          64,
          46,
          68,
          32,
          85,
          67,
          70,
          46,
          49,
          89,
          54,
          45,
          82,
          39,
          79,
          71,
          77,
          64,
          91,
          56,
          53,
          57,
          57,
          35,
          59,
          40,
          78,
          52,
          47,
          35,
          36,
          60,
          58,
          52,
          42,
          19,
          69,
          38,
          74,
          54,
          57,
          35,
          69,
          67,
          20,
          70,
          36,
          58,
          61,
          75,
          52,
          56,
          36,
          71,
          73,
          45,
          25,
          18,
          29,
          23,
          32,
          63,
          55,
          63,
          30,
          49,
          58,
          49,
          60,
          83,
          56,
          28,
          77,
          71,
          61,
          22,
          42,
          22,
          85,
          36,
          53,
          73,
          48,
          30,
          81,
          18,
          63,
          39,
          63,
          28,
          77,
          62,
          28,
          29,
          66,
          58,
          21,
          70,
          67,
          59,
          48,
          75,
          63,
          80,
          42,
          70,
          28,
          24,
          53,
          52,
          65,
          18,
          47,
          37,
          64,
          73,
          70,
          19,
          73,
          73,
          65,
          73,
          22,
          33,
          74,
          47,
          30,
          53,
          83,
          34,
          67,
          69,
          20,
          68,
          40,
          67,
          91,
          34,
          36,
          68,
          54,
          62,
          77,
          63,
          54,
          49,
          52,
          34,
          36,
          54,
          55,
          62,
          63,
          51,
          27,
          38,
          72,
          70,
          58,
          87,
          80,
          65,
          24,
          32,
          65,
          45,
          55,
          82,
          60,
          78,
          70,
          64,
          60,
          80,
          39,
          41,
          39,
          75,
          56,
          25,
          41,
          33,
          41,
          59,
          40,
          51,
          64,
          78,
          68,
          57,
          23,
          72,
          22,
          79,
          39,
          74,
          52,
          66,
          89,
          34,
          79,
          40,
          73,
          56,
          24,
          78,
          68,
          47,
          69,
          49,
          23,
          37,
          35,
          89,
          70,
          35,
          66,
          49,
          67,
          57,
          63,
          73,
          39,
          31,
          59,
          88,
          49,
          57,
          59,
          56,
          71,
          56,
          51,
          58,
          79,
          48,
          63,
          35,
          65,
          78,
          41,
          93,
          59,
          64,
          50,
          75,
          63,
          74,
          26,
          67,
          31,
          66,
          68,
          70,
          59,
          47,
          76,
          29,
          27,
          47,
          40,
          52,
          75,
          30,
          55,
          62,
          69,
          77,
          37,
          67,
          58,
          71,
          62,
          64,
          76,
          69,
          38,
          49,
          74,
          29,
          25,
          52,
          49,
          72,
          59,
          72,
          34,
          54,
          80,
          36,
          58,
          54,
          52,
          62,
          45,
          58,
          57,
          62,
          46,
          77,
          53,
          42,
          63,
          79,
          70,
          18,
          48,
          52,
          57,
          26,
          59,
          83,
          58,
          66,
          97,
          56,
          31,
          59,
          47,
          47,
          70,
          55,
          84,
          64,
          41,
          40,
          51,
          52,
          64,
          74,
          47,
          68,
          41,
          43,
          64,
          71,
          56,
          61,
          25,
          33,
          32,
          47,
          72,
          59,
          78,
          76,
          52,
          65,
          30,
          25,
          86,
          60,
          40,
          38,
          58,
          58,
          73,
          56,
          70,
          51,
          58,
          76,
          59,
          43,
          39,
          39,
          26,
          56,
          36,
          66,
          69,
          32,
          47,
          70,
          37,
          70,
          65,
          74,
          36,
          65,
          52,
          65,
          42,
          31,
          23,
          32,
          28,
          48,
          74,
          27,
          42,
          30,
          33,
          48,
          95,
          62,
          58,
          67,
          73,
          53,
          66,
          72,
          70,
          64,
          66,
          78,
          65,
          74,
          74,
          80,
          77,
          61,
          66,
          40,
          64,
          75,
          68,
          75,
          72,
          50,
          33,
          47,
          30,
          49,
          58,
          71,
          30,
          46,
          42,
          52,
          57,
          67,
          39,
          27,
          21,
          33,
          66,
          71,
          61,
          26,
          39,
          62,
          26,
          51,
          74,
          68,
          61,
          27,
          70,
          79,
          43,
          58,
          89,
          76,
          30,
          42,
          33,
          73,
          58,
          38,
          62,
          57,
          51,
          40,
          22,
          48,
          21,
          57,
          54,
          32,
          41,
          63,
          85,
          52,
          76,
          45,
          33,
          67,
          71,
          69,
          65,
          57,
          78,
          32,
          40,
          45,
          66,
          41,
          20,
          52,
          58,
          77,
          23,
          32,
          64,
          34,
          32,
          59,
          66,
          79,
          77,
          54,
          52,
          40,
          35,
          18,
          72,
          65,
          48,
          68,
          55,
          77,
          66,
          70,
          40,
          36,
          27,
          42,
          72,
          36,
          76,
          63,
          23,
          81,
          44,
          60,
          65,
          63,
          60,
          18,
          68,
          65,
          77,
          78,
          70,
          74,
          32,
          64,
          63,
          30,
          56,
          69,
          24,
          42,
          45,
          93,
          60,
          45,
          30,
          41,
          79,
          33,
          68,
          64,
          52,
          67,
          34,
          18,
          46,
          42,
          58,
          77,
          61,
          57,
          28,
          49,
          35,
          44,
          85,
          26,
          50,
          31,
          76,
          46,
          47,
          59,
          62,
          63,
          77,
          65,
          64,
          48,
          67,
          74,
          71,
          74,
          72,
          65,
          51,
          40,
          63,
          30,
          43,
          46,
          43,
          18,
          68,
          35,
          56,
          50,
          22,
          86,
          74,
          59,
          65,
          42,
          74,
          79,
          67,
          51,
          44,
          34,
          61,
          32,
          49,
          60,
          85,
          31,
          93,
          25,
          44,
          45,
          71,
          32,
          30,
          35,
          76,
          60,
          90,
          50,
          47,
          45,
          72,
          46,
          72,
          43,
          80,
          72,
          68,
          59,
          64,
          59,
          58,
          72,
          43,
          18,
          90,
          43,
          20,
          69,
          98,
          72,
          60,
          67,
          70,
          28,
          57,
          81,
          62,
          87,
          27,
          43,
          61,
          58,
          74,
          68,
          41,
          83,
          87,
          67,
          46,
          25,
          38,
          84,
          23,
          51,
          55,
          64,
          72,
          61,
          70,
          53,
          24,
          67,
          55,
          40,
          64,
          58,
          48,
          24,
          42,
          30,
          68,
          65,
          70,
          60,
          86,
          60,
          73,
          68,
          22,
          55,
          91,
          72,
          78,
          71,
          67,
          32,
          65,
          85,
          21,
          67,
          51,
          72,
          38,
          27,
          43,
          28,
          42,
          86,
          59,
          43,
          32,
          39,
          59,
          37,
          43,
          72,
          54,
          64,
          62,
          58,
          62,
          38,
          58,
          39,
          35,
          72,
          58,
          49,
          59,
          66,
          60,
          60,
          62,
          73,
          68,
          76,
          62,
          28,
          57,
          32,
          78,
          68,
          31,
          23,
          81,
          45,
          56,
          46,
          63,
          52,
          52,
          63,
          30,
          55,
          46,
          73,
          62,
          49,
          32,
          65,
          44,
          25,
          55,
          41,
          72,
          47,
          60,
          53,
          42,
          69,
          88,
          47,
          66,
          34,
          36,
          54,
          35,
          72,
          73,
          48,
          84,
          55,
          38,
          83,
          49,
          55,
          64,
          35,
          71,
          74,
          27,
          58,
          29,
          41,
          62,
          33,
          62,
          67,
          63,
          60,
          79,
          51,
          37,
          35,
          30,
          27,
          78,
          58,
          70,
          80,
          30,
          32,
          32,
          71,
          64,
          54,
          73,
          37,
          36,
          48,
          57,
          27,
          40,
          34,
          44,
          50,
          40,
          33,
          55,
          66,
          71,
          75,
          63,
          18,
          65,
          32,
          42,
          81,
          55,
          32,
          67,
          73,
          43,
          26,
          32,
          33,
          53,
          81,
          74,
          65,
          32,
          60,
          70,
          67,
          40,
          33,
          62,
          85,
          38,
          65,
          63,
          72,
          32,
          59,
          63,
          27,
          58,
          37,
          64,
          57,
          48,
          50,
          25,
          55,
          58,
          42,
          34,
          53,
          59,
          68,
          57,
          64,
          45,
          35,
          30,
          45,
          76,
          28,
          19,
          73,
          44,
          60,
          37,
          46,
          47,
          55,
          38,
          61,
          51,
          62,
          60,
          31,
          46,
          65,
          63,
          58,
          68,
          92,
          26,
          27,
          71,
          63,
          74,
          98,
          50,
          37,
          50,
          63,
          26,
          28,
          40,
          58,
          36,
          39,
          28,
          35,
          48,
          60,
          48,
          64,
          33,
          72,
          64,
          83,
          67,
          32,
          19,
          53,
          49,
          64,
          43,
          74,
          87,
          37,
          47,
          31,
          46,
          37,
          26,
          25,
          52,
          20,
          56,
          79,
          81,
          61,
          54,
          18,
          18,
          43,
          63,
          36,
          45,
          32,
          82,
          19,
          37,
          35,
          86,
          26,
          30,
          60,
          52,
          73,
          68,
          25,
          48,
          80,
          68,
          60,
          31,
          36,
          47,
          29,
          42,
          77,
          61,
          49,
          76,
          40,
          18,
          62,
          58,
          33,
          76,
          35,
          70,
          68,
          71,
          35,
          47,
          30,
          28,
          63,
          38,
          56,
          67,
          55,
          55,
          76,
          89,
          42,
          81,
          53,
          68,
          68,
          77,
          64,
          44,
          41,
          58,
          42,
          83,
          77,
          28,
          30,
          74,
          79,
          33,
          65,
          73,
          45,
          38,
          52,
          36,
          20,
          25,
          75,
          32,
          81,
          57,
          66,
          67,
          39,
          85,
          49,
          47,
          41,
          68,
          37,
          38,
          69,
          37,
          40,
          27,
          78,
          33,
          35,
          76,
          73,
          73,
          41,
          59,
          82,
          58,
          30,
          69,
          37,
          38,
          56,
          52,
          69,
          54,
          49,
          56,
          33,
          66,
          45,
          64,
          49,
          61,
          75,
          67,
          23,
          83,
          68,
          26,
          52,
          39,
          58,
          19,
          57,
          40,
          63,
          54,
          60,
          31,
          52,
          32,
          89,
          52,
          55,
          65,
          68,
          42,
          34,
          77,
          70,
          69,
          50,
          55,
          79,
          73,
          85,
          45,
          81,
          39,
          75,
          77,
          72,
          69,
          67,
          80,
          74,
          58,
          72,
          77,
          34,
          74,
          75,
          65,
          76,
          72,
          77,
          68,
          55,
          70,
          64,
          50,
          82,
          90,
          62,
          39,
          66,
          50,
          72,
          45,
          69,
          38,
          72,
          78,
          48,
          53,
          33,
          37,
          81,
          71,
          69,
          61,
          60,
          56,
          32,
          59,
          43,
          29,
          68,
          49,
          73,
          41,
          35,
          59,
          61,
          82,
          73,
          26,
          55,
          47,
          33,
          64,
          66,
          51,
          36,
          74,
          63,
          43,
          25,
          37,
          75,
          66,
          50,
          63,
          59,
          64,
          36,
          25,
          53,
          49,
          75,
          64,
          62,
          24,
          35,
          47,
          31,
          82,
          40,
          57,
          67,
          47,
          62,
          70,
          83,
          35,
          43,
          46,
          86,
          81,
          85,
          67,
          61,
          65,
          32,
          68,
          76,
          70,
          93,
          48,
          82,
          51,
          36,
          32,
          61,
          89,
          58,
          33,
          78,
          72,
          58,
          55,
          45,
          18,
          22,
          49,
          43,
          30,
          67,
          62,
          84,
          67,
          50,
          65,
          68,
          46,
          80,
          81,
          36,
          60,
          52,
          53,
          47,
          74,
          57,
          29,
          28,
          40,
          35,
          63,
          52,
          63,
          43,
          63,
          53,
          77,
          71,
          65,
          50,
          73,
          34,
          56,
          35,
          42,
          46,
          62,
          55,
          54,
          42,
          73,
          49,
          46,
          79,
          62,
          58,
          55,
          33,
          49,
          24,
          68,
          76,
          18,
          30,
          52,
          57,
          40,
          42,
          63,
          39,
          32,
          66,
          62,
          67,
          47,
          54,
          78,
          27,
          59,
          77,
          42,
          39,
          52,
          70,
          43,
          70,
          75,
          79,
          55,
          77,
          39,
          31,
          64,
          75,
          46,
          31,
          63,
          69,
          64,
          37,
          59,
          90,
          28,
          51,
          50,
          66,
          37,
          83,
          36,
          60,
          28,
          84,
          67,
          25,
          34,
          62,
          40,
          74,
          80,
          70,
          66,
          77,
          69,
          60,
          62,
          41,
          53,
          31,
          83,
          48,
          61,
          51,
          24,
          48,
          61,
          39,
          28,
          31,
          59,
          66,
          58,
          29,
          56,
          27,
          59,
          26,
          69,
          59,
          62,
          56,
          55,
          43,
          22,
          54,
          90,
          26,
          66,
          30,
          35,
          49,
          26,
          48,
          74,
          90,
          77,
          48,
          65,
          91,
          20,
          75,
          66,
          36,
          41,
          78,
          62,
          61,
          61,
          61,
          44,
          83,
          68,
          41,
          67,
          59,
          34,
          57,
          66,
          74,
          36,
          51,
          67,
          31,
          60,
          75,
          70,
          53,
          80,
          46,
          54,
          29,
          37,
          66,
          56,
          70,
          58,
          26,
          53,
          53,
          60,
          28,
          72,
          70,
          43,
          43,
          57,
          87,
          49,
          75,
          33,
          67,
          63,
          44,
          36,
          59,
          71,
          23,
          62,
          54,
          20,
          53,
          63,
          58,
          56,
          73,
          19,
          72,
          33,
          38,
          63,
          29,
          65,
          41,
          62,
          37,
          33,
          49,
          62,
          50,
          76,
          37,
          76,
          52,
          54,
          79,
          45,
          76,
          42,
          51,
          65,
          50,
          35,
          48,
          36,
          64,
          62,
          32,
          62,
          67,
          29,
          60,
          83,
          49,
          42,
          53,
          55,
          41,
          75,
          72,
          57,
          21,
          68,
          48,
          63,
          67,
          30,
          48,
          46,
          51,
          60,
          77,
          57,
          69,
          56,
          92,
          41,
          46,
          44,
          42,
          60,
          45,
          55,
          30,
          35,
          25,
          77,
          77,
          53,
          80,
          36,
          45,
          36,
          32,
          70,
          40,
          69,
          47,
          23,
          40,
          52,
          65,
          48,
          47,
          68,
          34,
          42,
          66,
          32,
          71,
          46,
          65,
          57,
          57,
          42,
          59,
          23,
          35,
          65,
          72,
          79,
          22,
          59,
          63,
          79,
          60,
          27,
          72,
          34,
          55,
          19,
          71,
          69,
          32,
          70,
          72,
          77,
          67,
          51,
          62,
          57,
          40,
          23,
          31,
          18,
          62,
          55,
          50,
          57,
          72,
          47,
          54,
          82,
          39,
          69,
          63,
          45,
          75,
          65,
          77,
          39,
          64,
          77,
          57,
          27,
          34,
          57,
          46,
          75,
          53,
          69,
          89,
          35,
          65,
          34,
          30,
          81,
          76,
          67,
          98,
          30,
          76,
          77,
          44,
          75,
          48,
          63,
          36,
          28,
          43,
          35,
          63,
          36,
          55,
          76,
          45,
          55,
          74,
          56,
          47,
          65,
          60,
          98,
          75,
          60,
          35,
          72,
          68,
          74,
          31,
          64,
          56,
          66,
          57,
          70,
          44,
          45,
          31,
          67,
          70,
          71,
          73,
          46,
          81,
          55,
          47,
          78,
          68,
          44,
          58,
          63,
          75,
          63,
          69,
          68,
          39,
          75,
          31,
          75,
          60,
          21,
          30,
          36,
          56,
          50,
          83,
          35,
          25,
          69,
          46,
          33,
          73,
          54,
          30,
          32,
          30,
          70,
          23,
          84,
          19,
          55,
          38,
          51,
          56,
          49,
          68,
          50,
          78,
          84,
          72,
          44,
          69,
          49,
          56,
          40,
          65,
          35,
          36,
          89,
          88,
          52,
          46,
          58,
          51,
          61,
          83,
          38,
          58,
          63,
          91,
          61,
          44,
          77,
          68,
          31,
          40,
          83,
          76,
          70,
          70,
          29,
          58,
          66,
          30,
          27,
          77,
          64,
          55,
          72,
          30,
          82,
          39,
          74,
          64,
          45,
          41,
          47,
          18,
          60,
          53,
          34,
          75,
          31,
          50,
          78,
          64,
          52,
          34,
          43,
          55,
          73,
          79,
          52,
          38,
          35,
          39,
          41,
          58,
          23,
          59,
          63,
          53,
          65,
          49,
          56,
          68,
          18,
          56,
          62,
          54,
          25,
          70,
          53,
          80,
          39,
          65,
          71,
          83,
          44,
          48,
          60,
          67,
          55,
          69,
          36,
          61,
          85,
          41,
          27,
          65,
          32,
          59,
          60,
          73,
          53,
          54,
          81,
          76,
          51,
          53,
          47,
          67,
          87,
          60,
          46,
          52,
          63,
          66,
          31,
          59,
          40,
          27,
          22,
          68,
          65,
          45,
          54,
          71,
          79,
          87,
          56,
          55,
          67,
          65,
          48,
          67,
          67,
          23,
          43,
          26,
          50,
          72,
          18,
          71,
          82,
          82,
          45,
          72,
          61,
          38,
          36,
          44,
          42,
          58,
          51,
          30,
          60,
          72,
          35,
          76,
          79,
          34,
          48,
          39,
          46,
          41,
          53,
          41,
          81,
          45,
          84,
          46,
          61,
          30,
          73,
          70,
          60,
          55,
          33,
          63,
          74,
          55,
          54,
          19,
          67,
          30,
          64,
          72,
          83,
          84,
          30,
          66,
          46,
          67,
          34,
          60,
          30,
          66,
          30,
          57,
          29,
          46,
          71,
          46,
          91,
          77,
          51,
          71,
          44,
          76,
          25,
          51,
          41,
          68,
          72,
          44,
          46,
          90,
          85,
          70,
          41,
          68,
          52,
          19,
          79,
          75,
          58,
          78,
          69,
          63,
          68,
          55,
          30,
          56,
          74,
          70,
          59,
          43,
          68,
          54,
          33,
          40,
          73,
          65,
          49,
          76,
          64,
          41,
          80,
          83,
          75,
          34,
          74,
          77,
          41,
          77,
          76,
          49,
          52,
          42,
          21,
          55,
          58,
          40,
          74,
          39,
          65,
          28,
          90,
          68,
          36,
          54,
          36,
          78,
          76,
          87,
          80,
          31,
          89,
          47,
          29,
          60,
          67,
          69,
          66,
          52,
          63,
          57,
          56,
          65,
          71,
          76,
          65,
          48,
          74,
          56,
          73,
          61,
          51,
          66,
          50,
          65,
          84,
          32,
          22,
          31,
          85,
          24,
          66,
          68,
          27,
          65,
          70,
          56,
          65,
          67,
          48,
          73,
          53,
          58,
          71,
          43,
          49,
          40,
          30,
          48,
          50,
          35,
          72,
          60,
          63,
          69,
          34,
          34,
          71,
          71,
          55,
          56,
          25,
          81,
          47,
          63,
          47,
          69,
          59,
          80,
          61,
          62,
          48,
          44,
          65,
          27,
          29,
          86,
          30,
          51,
          62,
          57,
          51,
          39,
          37,
          62,
          56,
          66,
          44,
          64,
          52,
          71,
          65,
          58,
          60,
          67,
          51,
          70,
          81,
          53,
          49,
          36,
          33,
          70,
          38,
          55,
          63,
          51,
          67,
          68,
          71,
          78,
          43,
          75,
          70,
          63,
          67,
          42,
          67,
          48,
          61,
          22,
          48,
          38,
          66,
          64,
          50,
          37,
          86,
          56,
          78,
          61,
          75,
          43,
          59,
          50,
          60,
          67,
          70,
          22,
          70,
          70,
          69,
          68,
          27,
          76,
          29,
          67,
          83,
          59,
          55,
          73,
          86,
          72,
          35,
          33,
          63,
          68,
          24,
          32,
          42,
          81,
          68,
          58,
          40,
          75,
          46,
          46,
          33,
          70,
          68,
          34,
          70,
          37,
          50,
          35,
          52,
          52,
          76,
          66,
          55,
          33,
          68,
          57,
          82,
          34,
          47,
          31,
          40,
          79,
          78,
          31,
          75,
          55,
          43,
          64,
          30,
          41,
          77,
          62,
          43,
          29,
          47,
          69,
          69,
          59,
          74,
          53,
          77,
          71,
          69,
          61,
          79,
          75,
          66,
          45,
          72,
          57,
          62,
          28,
          69,
          40,
          32,
          70,
          82,
          34,
          86,
          37,
          60,
          73,
          80,
          77,
          43,
          19,
          74,
          83,
          89,
          68,
          67,
          43,
          51,
          79,
          37,
          74,
          86,
          53,
          35,
          69,
          59,
          48,
          52,
          19,
          58,
          56,
          31,
          62,
          18,
          50,
          52,
          36,
          53,
          66,
          66,
          43,
          83,
          50,
          37,
          48,
          33,
          69,
          77,
          53,
          74,
          70,
          53,
          53,
          75,
          66,
          78,
          58,
          71,
          79,
          51,
          52,
          73,
          86,
          30,
          73,
          63,
          39,
          33,
          63,
          22,
          64,
          53,
          65,
          66,
          48,
          28,
          54,
          69,
          26,
          76,
          87,
          29,
          81,
          19,
          65,
          65,
          82,
          67,
          36,
          78,
          63,
          41,
          65,
          56,
          35,
          78,
          26,
          67,
          69,
          26,
          43,
          74,
          58,
          67,
          82,
          74,
          32,
          58,
          67,
          73,
          38,
          26,
          65,
          71,
          48,
          63,
          81,
          26,
          69,
          46,
          38,
          44,
          52,
          55,
          54,
          26,
          40,
          31,
          64,
          74,
          49,
          57,
          65,
          74,
          61,
          67,
          51,
          85,
          62,
          40,
          75,
          62,
          33,
          75,
          37,
          33,
          44,
          80,
          47,
          68,
          65,
          31,
          44,
          81,
          46,
          64,
          76,
          58,
          74,
          80,
          72,
          47,
          82,
          47,
          40,
          68,
          32,
          60,
          59,
          34,
          25,
          56,
          28,
          36,
          53,
          54,
          60,
          53,
          70,
          39,
          67,
          44,
          44,
          41,
          47,
          45,
          69,
          68,
          61,
          77,
          67,
          38,
          42,
          49,
          48,
          87,
          67,
          74,
          50,
          70,
          45,
          72,
          66,
          36,
          76,
          43,
          55,
          36,
          86,
          41,
          75,
          77,
          47,
          23,
          32,
          71,
          36,
          27,
          52,
          93,
          50,
          45,
          66,
          62,
          41,
          60,
          42,
          38,
          45,
          56,
          72,
          50,
          42,
          65,
          74,
          66,
          28,
          26,
          55,
          63,
          70,
          58,
          79,
          32,
          70,
          52,
          69,
          42,
          52,
          85,
          76,
          46,
          67,
          54,
          61,
          69,
          59,
          54,
          29,
          39,
          46,
          50,
          31,
          40,
          40,
          40,
          46,
          70,
          55,
          37,
          41,
          62,
          57,
          54,
          68,
          71,
          59,
          31,
          35,
          70,
          20,
          47,
          88,
          29,
          26,
          77,
          20,
          58,
          48,
          48,
          70,
          79,
          28,
          65,
          27,
          56,
          30,
          73,
          87,
          37,
          64,
          69,
          38,
          65,
          68,
          67,
          62,
          83,
          62,
          80,
          60,
          79,
          68,
          72,
          76,
          70,
          75,
          79,
          42,
          72,
          94,
          59,
          56,
          73,
          50,
          53,
          59,
          38,
          26,
          46,
          27,
          77,
          56,
          66,
          75,
          82,
          79,
          34,
          65,
          68,
          58,
          48,
          58,
          54,
          75,
          56,
          69,
          59,
          83,
          36,
          72,
          68,
          32,
          66,
          46,
          27,
          70,
          69,
          61,
          69,
          35,
          49,
          68,
          33,
          46,
          42,
          38,
          35,
          57,
          30,
          64,
          74,
          56,
          31,
          77,
          55,
          75,
          81,
          52,
          22,
          55,
          22,
          65,
          57,
          31,
          72,
          47,
          40,
          52,
          62,
          68,
          62,
          68,
          31,
          45,
          32,
          56,
          33,
          22,
          70,
          48,
          24,
          65,
          53,
          58,
          62,
          72,
          42,
          56,
          50,
          40,
          60,
          27,
          20,
          81,
          39,
          78,
          78,
          51,
          76,
          81,
          55,
          68,
          73,
          61,
          59,
          74,
          46,
          72,
          29,
          40,
          66,
          52,
          82,
          57,
          56,
          42,
          52,
          50,
          62,
          81,
          54,
          69,
          65,
          73,
          58,
          33,
          28,
          81,
          55,
          72,
          46,
          80,
          41,
          48,
          26,
          36,
          79,
          66,
          62,
          86,
          67,
          74,
          74,
          73,
          76,
          55,
          46,
          20,
          64,
          71,
          38,
          33,
          31,
          60,
          72,
          20,
          79,
          63,
          52,
          68,
          32,
          80,
          65,
          70,
          37,
          74,
          49,
          85,
          71,
          70,
          35,
          26,
          67,
          35,
          21,
          59,
          37,
          73,
          70,
          66,
          75,
          65,
          39,
          66,
          22,
          80,
          65,
          38,
          90,
          35,
          33,
          73,
          60,
          40,
          82,
          45,
          48,
          60,
          49,
          61,
          83,
          69,
          59,
          54,
          45,
          61,
          64,
          54,
          18,
          44,
          54,
          56,
          64,
          49,
          50,
          62,
          72,
          44,
          50,
          57,
          49,
          30,
          28,
          35,
          61,
          52,
          51,
          94,
          91,
          38,
          23,
          65,
          71,
          87,
          82,
          68,
          31,
          40,
          59,
          75,
          57,
          26,
          35,
          40,
          59,
          66,
          62,
          54,
          80,
          53,
          79,
          27,
          31,
          36,
          62,
          45,
          45,
          74,
          69,
          67,
          18,
          40,
          60,
          24,
          70,
          62,
          87,
          47,
          41,
          51,
          84,
          44,
          53,
          59,
          61,
          18,
          86,
          59,
          65,
          68,
          66,
          37,
          80,
          39,
          27,
          84,
          65,
          45,
          74,
          77,
          46,
          49,
          62,
          29,
          71,
          75,
          34,
          63,
          63,
          21,
          83,
          72,
          58,
          32,
          82,
          37,
          29,
          58,
          57,
          51,
          58,
          54,
          44,
          27,
          68,
          30,
          83,
          27,
          35,
          61,
          76,
          48,
          46,
          40,
          60,
          52,
          49,
          66,
          66,
          34,
          45,
          76,
          64,
          59,
          56,
          49,
          64,
          94,
          64,
          70,
          62,
          67,
          58,
          37,
          64,
          68,
          75,
          36,
          85,
          35,
          37,
          66,
          33,
          65,
          20,
          64,
          69,
          51,
          70,
          24,
          54,
          31,
          46,
          72,
          67,
          78,
          67,
          77,
          68,
          44,
          72,
          26,
          66,
          23,
          31,
          61,
          72,
          82,
          53,
          65,
          74,
          83,
          75,
          23,
          48,
          67,
          28,
          87,
          25,
          38,
          68,
          41,
          67,
          62,
          59,
          80,
          57,
          22,
          38,
          78,
          67,
          70,
          51,
          33,
          60,
          65,
          70,
          71,
          63,
          72,
          34,
          30,
          45,
          39,
          48,
          71,
          77,
          66,
          71,
          86,
          74,
          65,
          85,
          72,
          65,
          79,
          23,
          31,
          19,
          25,
          86,
          67,
          76,
          42,
          39,
          80,
          50,
          77,
          35,
          71,
          76,
          54,
          38,
          56,
          54,
          19,
          63,
          73,
          25,
          68,
          50,
          39,
          40,
          27,
          83,
          63,
          78,
          87,
          46,
          30,
          64,
          76,
          77,
          39,
          80,
          69,
          24,
          49,
          38,
          79,
          66,
          24,
          61,
          84,
          66,
          55,
          37,
          61,
          32,
          66,
          45,
          33,
          79,
          51,
          58,
          46,
          39,
          61,
          63,
          81,
          60,
          75,
          74,
          50,
          58,
          60,
          53,
          71,
          75,
          46,
          38,
          32,
          41,
          62,
          40,
          67,
          44,
          87,
          33,
          33,
          33,
          53,
          72,
          40,
          45,
          70,
          59,
          68,
          54,
          71,
          42,
          54,
          82,
          56,
          68,
          40,
          39,
          42,
          80,
          54,
          76,
          29,
          79,
          28,
          31,
          35,
          42,
          61,
          34,
          73,
          65,
          72,
          84,
          64,
          47,
          40,
          81,
          73,
          71,
          48,
          60,
          60,
          42,
          46,
          68,
          38,
          31,
          86,
          32,
          72,
          42,
          74,
          32,
          62,
          56,
          59,
          76,
          66,
          39,
          58,
          75,
          90,
          59,
          43,
          41,
          23,
          70,
          61,
          45,
          57,
          64,
          71,
          41,
          74,
          34,
          51,
          75,
          22,
          67,
          43,
          70,
          24,
          67,
          20,
          40,
          72,
          57,
          69,
          48,
          73,
          52,
          62,
          39,
          60,
          42,
          75,
          39,
          20,
          54,
          72,
          38,
          61,
          70,
          48,
          24,
          38,
          30,
          55,
          88,
          56,
          73,
          25,
          66,
          37,
          86,
          40,
          54,
          73,
          56,
          65,
          30,
          70,
          20,
          74,
          43,
          49,
          28,
          64,
          29,
          41,
          33,
          70,
          64,
          82,
          64,
          66,
          36,
          81,
          53,
          42,
          30,
          64,
          73,
          64,
          32,
          25,
          41,
          64,
          69,
          81,
          75,
          50,
          39,
          62,
          68,
          69,
          35,
          52,
          83,
          63,
          57,
          23,
          59,
          29,
          61,
          64,
          61,
          61,
          38,
          18,
          77,
          64,
          30,
          31,
          30,
          45,
          48,
          43,
          40,
          70,
          55,
          72,
          44,
          27,
          29,
          56,
          60,
          69,
          38,
          31,
          47,
          40,
          62,
          93,
          74,
          62,
          66,
          42,
          82,
          62,
          63,
          76,
          80,
          84,
          65,
          38,
          52,
          40,
          40,
          64,
          34,
          64,
          34,
          74,
          74,
          82,
          59,
          61,
          26,
          64,
          62,
          49,
          67,
          38,
          68,
          44,
          57,
          65,
          59,
          69,
          71,
          20,
          70,
          26,
          43,
          19,
          34,
          59,
          45,
          59,
          75,
          59,
          50,
          66,
          44,
          66,
          49,
          76,
          80,
          89,
          68,
          77,
          31,
          20,
          40,
          44,
          43,
          44,
          74,
          29,
          63,
          80,
          74,
          64,
          69,
          47,
          78,
          69,
          41,
          52,
          71,
          54,
          32,
          61,
          70,
          47,
          68,
          41,
          41,
          85,
          98,
          58,
          78,
          68,
          43,
          70,
          21,
          45,
          73,
          83,
          39,
          24,
          70,
          58,
          64,
          68,
          92,
          64,
          35,
          35,
          76,
          55,
          58,
          58,
          79,
          57,
          66,
          64,
          47,
          71,
          19,
          63,
          53,
          80,
          57,
          77,
          33,
          64,
          32,
          62,
          41,
          61,
          49,
          60,
          72,
          50,
          32,
          54,
          55,
          68,
          55,
          24,
          41,
          76,
          75,
          55,
          53,
          74,
          53,
          46,
          72,
          79,
          47,
          44,
          65,
          44,
          72,
          73,
          29,
          60,
          80,
          72,
          48,
          62,
          68,
          81,
          84,
          43,
          62,
          62,
          72,
          44,
          50,
          83,
          43,
          70,
          66,
          70,
          78,
          64,
          39,
          50,
          63,
          73,
          58,
          71,
          66,
          66,
          77,
          33,
          76,
          40,
          36,
          68,
          74,
          65,
          40,
          46,
          56,
          50,
          48,
          65,
          73,
          62,
          24,
          68,
          73,
          40,
          56,
          69,
          83,
          39,
          93,
          66,
          34,
          77,
          60,
          46,
          69,
          71,
          57,
          27,
          58,
          66,
          57,
          67,
          35,
          18,
          33,
          30,
          50,
          32,
          42,
          31,
          25,
          30,
          51,
          65,
          55,
          74,
          36,
          75,
          60,
          72,
          83,
          52,
          66,
          44,
          45,
          42,
          48,
          33,
          66,
          52,
          21,
          81,
          78,
          64,
          80,
          45,
          28,
          31,
          77,
          34,
          81,
          65,
          34,
          48,
          48,
          67,
          50,
          89,
          38,
          52,
          53,
          74,
          45,
          59,
          43,
          48,
          71,
          38,
          66,
          80,
          77,
          75,
          55,
          41,
          79,
          40,
          62,
          28,
          58,
          70,
          60,
          75,
          63,
          39,
          76,
          79,
          40,
          46,
          63,
          50,
          77,
          75,
          71,
          56,
          31,
          59,
          69,
          50,
          72,
          56,
          59,
          63,
          70,
          35,
          64,
          24,
          79,
          65,
          58,
          64,
          85,
          92,
          59,
          20,
          39,
          68,
          29,
          49,
          58,
          63,
          27,
          77,
          77,
          66,
          30,
          69,
          63,
          24,
          67,
          81,
          88,
          51,
          45,
          77,
          63,
          69,
          26,
          50,
          29,
          59,
          54,
          25,
          44,
          63,
          49,
          65,
          36,
          42,
          22,
          73,
          34,
          68,
          72,
          52,
          40,
          30,
          63,
          29,
          50,
          36,
          76,
          65,
          69,
          45,
          27,
          37,
          77,
          82,
          59,
          62,
          37,
          43,
          68,
          68,
          51,
          79,
          75,
          40,
          51,
          55,
          25,
          54,
          39,
          40,
          75,
          40,
          63,
          56,
          72,
          26,
          59,
          82,
          29,
          47,
          36,
          84,
          57,
          76,
          86,
          22,
          69,
          64,
          66,
          67,
          50,
          18,
          36,
          54,
          54,
          25,
          69,
          73,
          88,
          68,
          45,
          52,
          52,
          30,
          51,
          51,
          66,
          67,
          71,
          79,
          47,
          72,
          20,
          60,
          21,
          18,
          40,
          35,
          68,
          78,
          47,
          38,
          59,
          73,
          57,
          37,
          87,
          43,
          83,
          22,
          39,
          84,
          61,
          41,
          28,
          47,
          51,
          50,
          61,
          41,
          27,
          69,
          54,
          50,
          80,
          62,
          67,
          29,
          49,
          67,
          29,
          61,
          47,
          43,
          40,
          45,
          50,
          23,
          75,
          71,
          93,
          31,
          78,
          64,
          39,
          63,
          80,
          68,
          69,
          59,
          72,
          70,
          42,
          27,
          44,
          59,
          36,
          80,
          28,
          53,
          52,
          81,
          37,
          33,
          69,
          81,
          46,
          30,
          41,
          49,
          57,
          42,
          29,
          44,
          54,
          41,
          65,
          77,
          69,
          78,
          31,
          30,
          69,
          69,
          51,
          68,
          59,
          67,
          27,
          33,
          31,
          67,
          58,
          63,
          31,
          80,
          82,
          78,
          40,
          45,
          30,
          50,
          34,
          53,
          75,
          42,
          71,
          76,
          40,
          71,
          48,
          59,
          81,
          71,
          49,
          24,
          70,
          26,
          25,
          66,
          48,
          63,
          69,
          52,
          59,
          75,
          40,
          73,
          40,
          50,
          60,
          65,
          64,
          63,
          35,
          54,
          67,
          37,
          83,
          78,
          41,
          47,
          78,
          39,
          69,
          45,
          69,
          69,
          76,
          95,
          33,
          67,
          66,
          57,
          28,
          69,
          34,
          26,
          75,
          72,
          26,
          76,
          51,
          26,
          56,
          35,
          59,
          48,
          87,
          67,
          70,
          68,
          70,
          23,
          71,
          23,
          65,
          73,
          36,
          58,
          50,
          47,
          66,
          45,
          30,
          78,
          37,
          21,
          61,
          68,
          70,
          89,
          70,
          56,
          69,
          24,
          80,
          63,
          46,
          55,
          63,
          62,
          28,
          87,
          59,
          72,
          60,
          80,
          35,
          73,
          58,
          47,
          53,
          83,
          35,
          74,
          59,
          47,
          48,
          58,
          59,
          60,
          28,
          41,
          62,
          18,
          58,
          53,
          52,
          49,
          56,
          65,
          73,
          40,
          80,
          72,
          72,
          53,
          47,
          47,
          31,
          27,
          66,
          44,
          27,
          58,
          85,
          50,
          77,
          56,
          36,
          79,
          56,
          29,
          72,
          72,
          24,
          57,
          84,
          64,
          70,
          73,
          65,
          46,
          35,
          28,
          42,
          62,
          49,
          44,
          60,
          73,
          47,
          40,
          82,
          38,
          66,
          47,
          55,
          69,
          76,
          35,
          53,
          61,
          46,
          34,
          59,
          19,
          69,
          73,
          47,
          77,
          71,
          66,
          41,
          32
         ],
         "xaxis": "x",
         "yaxis": "y"
        }
       ],
       "layout": {
        "barmode": "relative",
        "legend": {
         "tracegroupgap": 0
        },
        "template": {
         "data": {
          "bar": [
           {
            "error_x": {
             "color": "#2a3f5f"
            },
            "error_y": {
             "color": "#2a3f5f"
            },
            "marker": {
             "line": {
              "color": "#E5ECF6",
              "width": 0.5
             },
             "pattern": {
              "fillmode": "overlay",
              "size": 10,
              "solidity": 0.2
             }
            },
            "type": "bar"
           }
          ],
          "barpolar": [
           {
            "marker": {
             "line": {
              "color": "#E5ECF6",
              "width": 0.5
             },
             "pattern": {
              "fillmode": "overlay",
              "size": 10,
              "solidity": 0.2
             }
            },
            "type": "barpolar"
           }
          ],
          "carpet": [
           {
            "aaxis": {
             "endlinecolor": "#2a3f5f",
             "gridcolor": "white",
             "linecolor": "white",
             "minorgridcolor": "white",
             "startlinecolor": "#2a3f5f"
            },
            "baxis": {
             "endlinecolor": "#2a3f5f",
             "gridcolor": "white",
             "linecolor": "white",
             "minorgridcolor": "white",
             "startlinecolor": "#2a3f5f"
            },
            "type": "carpet"
           }
          ],
          "choropleth": [
           {
            "colorbar": {
             "outlinewidth": 0,
             "ticks": ""
            },
            "type": "choropleth"
           }
          ],
          "contour": [
           {
            "colorbar": {
             "outlinewidth": 0,
             "ticks": ""
            },
            "colorscale": [
             [
              0,
              "#0d0887"
             ],
             [
              0.1111111111111111,
              "#46039f"
             ],
             [
              0.2222222222222222,
              "#7201a8"
             ],
             [
              0.3333333333333333,
              "#9c179e"
             ],
             [
              0.4444444444444444,
              "#bd3786"
             ],
             [
              0.5555555555555556,
              "#d8576b"
             ],
             [
              0.6666666666666666,
              "#ed7953"
             ],
             [
              0.7777777777777778,
              "#fb9f3a"
             ],
             [
              0.8888888888888888,
              "#fdca26"
             ],
             [
              1,
              "#f0f921"
             ]
            ],
            "type": "contour"
           }
          ],
          "contourcarpet": [
           {
            "colorbar": {
             "outlinewidth": 0,
             "ticks": ""
            },
            "type": "contourcarpet"
           }
          ],
          "heatmap": [
           {
            "colorbar": {
             "outlinewidth": 0,
             "ticks": ""
            },
            "colorscale": [
             [
              0,
              "#0d0887"
             ],
             [
              0.1111111111111111,
              "#46039f"
             ],
             [
              0.2222222222222222,
              "#7201a8"
             ],
             [
              0.3333333333333333,
              "#9c179e"
             ],
             [
              0.4444444444444444,
              "#bd3786"
             ],
             [
              0.5555555555555556,
              "#d8576b"
             ],
             [
              0.6666666666666666,
              "#ed7953"
             ],
             [
              0.7777777777777778,
              "#fb9f3a"
             ],
             [
              0.8888888888888888,
              "#fdca26"
             ],
             [
              1,
              "#f0f921"
             ]
            ],
            "type": "heatmap"
           }
          ],
          "heatmapgl": [
           {
            "colorbar": {
             "outlinewidth": 0,
             "ticks": ""
            },
            "colorscale": [
             [
              0,
              "#0d0887"
             ],
             [
              0.1111111111111111,
              "#46039f"
             ],
             [
              0.2222222222222222,
              "#7201a8"
             ],
             [
              0.3333333333333333,
              "#9c179e"
             ],
             [
              0.4444444444444444,
              "#bd3786"
             ],
             [
              0.5555555555555556,
              "#d8576b"
             ],
             [
              0.6666666666666666,
              "#ed7953"
             ],
             [
              0.7777777777777778,
              "#fb9f3a"
             ],
             [
              0.8888888888888888,
              "#fdca26"
             ],
             [
              1,
              "#f0f921"
             ]
            ],
            "type": "heatmapgl"
           }
          ],
          "histogram": [
           {
            "marker": {
             "pattern": {
              "fillmode": "overlay",
              "size": 10,
              "solidity": 0.2
             }
            },
            "type": "histogram"
           }
          ],
          "histogram2d": [
           {
            "colorbar": {
             "outlinewidth": 0,
             "ticks": ""
            },
            "colorscale": [
             [
              0,
              "#0d0887"
             ],
             [
              0.1111111111111111,
              "#46039f"
             ],
             [
              0.2222222222222222,
              "#7201a8"
             ],
             [
              0.3333333333333333,
              "#9c179e"
             ],
             [
              0.4444444444444444,
              "#bd3786"
             ],
             [
              0.5555555555555556,
              "#d8576b"
             ],
             [
              0.6666666666666666,
              "#ed7953"
             ],
             [
              0.7777777777777778,
              "#fb9f3a"
             ],
             [
              0.8888888888888888,
              "#fdca26"
             ],
             [
              1,
              "#f0f921"
             ]
            ],
            "type": "histogram2d"
           }
          ],
          "histogram2dcontour": [
           {
            "colorbar": {
             "outlinewidth": 0,
             "ticks": ""
            },
            "colorscale": [
             [
              0,
              "#0d0887"
             ],
             [
              0.1111111111111111,
              "#46039f"
             ],
             [
              0.2222222222222222,
              "#7201a8"
             ],
             [
              0.3333333333333333,
              "#9c179e"
             ],
             [
              0.4444444444444444,
              "#bd3786"
             ],
             [
              0.5555555555555556,
              "#d8576b"
             ],
             [
              0.6666666666666666,
              "#ed7953"
             ],
             [
              0.7777777777777778,
              "#fb9f3a"
             ],
             [
              0.8888888888888888,
              "#fdca26"
             ],
             [
              1,
              "#f0f921"
             ]
            ],
            "type": "histogram2dcontour"
           }
          ],
          "mesh3d": [
           {
            "colorbar": {
             "outlinewidth": 0,
             "ticks": ""
            },
            "type": "mesh3d"
           }
          ],
          "parcoords": [
           {
            "line": {
             "colorbar": {
              "outlinewidth": 0,
              "ticks": ""
             }
            },
            "type": "parcoords"
           }
          ],
          "pie": [
           {
            "automargin": true,
            "type": "pie"
           }
          ],
          "scatter": [
           {
            "fillpattern": {
             "fillmode": "overlay",
             "size": 10,
             "solidity": 0.2
            },
            "type": "scatter"
           }
          ],
          "scatter3d": [
           {
            "line": {
             "colorbar": {
              "outlinewidth": 0,
              "ticks": ""
             }
            },
            "marker": {
             "colorbar": {
              "outlinewidth": 0,
              "ticks": ""
             }
            },
            "type": "scatter3d"
           }
          ],
          "scattercarpet": [
           {
            "marker": {
             "colorbar": {
              "outlinewidth": 0,
              "ticks": ""
             }
            },
            "type": "scattercarpet"
           }
          ],
          "scattergeo": [
           {
            "marker": {
             "colorbar": {
              "outlinewidth": 0,
              "ticks": ""
             }
            },
            "type": "scattergeo"
           }
          ],
          "scattergl": [
           {
            "marker": {
             "colorbar": {
              "outlinewidth": 0,
              "ticks": ""
             }
            },
            "type": "scattergl"
           }
          ],
          "scattermapbox": [
           {
            "marker": {
             "colorbar": {
              "outlinewidth": 0,
              "ticks": ""
             }
            },
            "type": "scattermapbox"
           }
          ],
          "scatterpolar": [
           {
            "marker": {
             "colorbar": {
              "outlinewidth": 0,
              "ticks": ""
             }
            },
            "type": "scatterpolar"
           }
          ],
          "scatterpolargl": [
           {
            "marker": {
             "colorbar": {
              "outlinewidth": 0,
              "ticks": ""
             }
            },
            "type": "scatterpolargl"
           }
          ],
          "scatterternary": [
           {
            "marker": {
             "colorbar": {
              "outlinewidth": 0,
              "ticks": ""
             }
            },
            "type": "scatterternary"
           }
          ],
          "surface": [
           {
            "colorbar": {
             "outlinewidth": 0,
             "ticks": ""
            },
            "colorscale": [
             [
              0,
              "#0d0887"
             ],
             [
              0.1111111111111111,
              "#46039f"
             ],
             [
              0.2222222222222222,
              "#7201a8"
             ],
             [
              0.3333333333333333,
              "#9c179e"
             ],
             [
              0.4444444444444444,
              "#bd3786"
             ],
             [
              0.5555555555555556,
              "#d8576b"
             ],
             [
              0.6666666666666666,
              "#ed7953"
             ],
             [
              0.7777777777777778,
              "#fb9f3a"
             ],
             [
              0.8888888888888888,
              "#fdca26"
             ],
             [
              1,
              "#f0f921"
             ]
            ],
            "type": "surface"
           }
          ],
          "table": [
           {
            "cells": {
             "fill": {
              "color": "#EBF0F8"
             },
             "line": {
              "color": "white"
             }
            },
            "header": {
             "fill": {
              "color": "#C8D4E3"
             },
             "line": {
              "color": "white"
             }
            },
            "type": "table"
           }
          ]
         },
         "layout": {
          "annotationdefaults": {
           "arrowcolor": "#2a3f5f",
           "arrowhead": 0,
           "arrowwidth": 1
          },
          "autotypenumbers": "strict",
          "coloraxis": {
           "colorbar": {
            "outlinewidth": 0,
            "ticks": ""
           }
          },
          "colorscale": {
           "diverging": [
            [
             0,
             "#8e0152"
            ],
            [
             0.1,
             "#c51b7d"
            ],
            [
             0.2,
             "#de77ae"
            ],
            [
             0.3,
             "#f1b6da"
            ],
            [
             0.4,
             "#fde0ef"
            ],
            [
             0.5,
             "#f7f7f7"
            ],
            [
             0.6,
             "#e6f5d0"
            ],
            [
             0.7,
             "#b8e186"
            ],
            [
             0.8,
             "#7fbc41"
            ],
            [
             0.9,
             "#4d9221"
            ],
            [
             1,
             "#276419"
            ]
           ],
           "sequential": [
            [
             0,
             "#0d0887"
            ],
            [
             0.1111111111111111,
             "#46039f"
            ],
            [
             0.2222222222222222,
             "#7201a8"
            ],
            [
             0.3333333333333333,
             "#9c179e"
            ],
            [
             0.4444444444444444,
             "#bd3786"
            ],
            [
             0.5555555555555556,
             "#d8576b"
            ],
            [
             0.6666666666666666,
             "#ed7953"
            ],
            [
             0.7777777777777778,
             "#fb9f3a"
            ],
            [
             0.8888888888888888,
             "#fdca26"
            ],
            [
             1,
             "#f0f921"
            ]
           ],
           "sequentialminus": [
            [
             0,
             "#0d0887"
            ],
            [
             0.1111111111111111,
             "#46039f"
            ],
            [
             0.2222222222222222,
             "#7201a8"
            ],
            [
             0.3333333333333333,
             "#9c179e"
            ],
            [
             0.4444444444444444,
             "#bd3786"
            ],
            [
             0.5555555555555556,
             "#d8576b"
            ],
            [
             0.6666666666666666,
             "#ed7953"
            ],
            [
             0.7777777777777778,
             "#fb9f3a"
            ],
            [
             0.8888888888888888,
             "#fdca26"
            ],
            [
             1,
             "#f0f921"
            ]
           ]
          },
          "colorway": [
           "#636efa",
           "#EF553B",
           "#00cc96",
           "#ab63fa",
           "#FFA15A",
           "#19d3f3",
           "#FF6692",
           "#B6E880",
           "#FF97FF",
           "#FECB52"
          ],
          "font": {
           "color": "#2a3f5f"
          },
          "geo": {
           "bgcolor": "white",
           "lakecolor": "white",
           "landcolor": "#E5ECF6",
           "showlakes": true,
           "showland": true,
           "subunitcolor": "white"
          },
          "hoverlabel": {
           "align": "left"
          },
          "hovermode": "closest",
          "mapbox": {
           "style": "light"
          },
          "paper_bgcolor": "white",
          "plot_bgcolor": "#E5ECF6",
          "polar": {
           "angularaxis": {
            "gridcolor": "white",
            "linecolor": "white",
            "ticks": ""
           },
           "bgcolor": "#E5ECF6",
           "radialaxis": {
            "gridcolor": "white",
            "linecolor": "white",
            "ticks": ""
           }
          },
          "scene": {
           "xaxis": {
            "backgroundcolor": "#E5ECF6",
            "gridcolor": "white",
            "gridwidth": 2,
            "linecolor": "white",
            "showbackground": true,
            "ticks": "",
            "zerolinecolor": "white"
           },
           "yaxis": {
            "backgroundcolor": "#E5ECF6",
            "gridcolor": "white",
            "gridwidth": 2,
            "linecolor": "white",
            "showbackground": true,
            "ticks": "",
            "zerolinecolor": "white"
           },
           "zaxis": {
            "backgroundcolor": "#E5ECF6",
            "gridcolor": "white",
            "gridwidth": 2,
            "linecolor": "white",
            "showbackground": true,
            "ticks": "",
            "zerolinecolor": "white"
           }
          },
          "shapedefaults": {
           "line": {
            "color": "#2a3f5f"
           }
          },
          "ternary": {
           "aaxis": {
            "gridcolor": "white",
            "linecolor": "white",
            "ticks": ""
           },
           "baxis": {
            "gridcolor": "white",
            "linecolor": "white",
            "ticks": ""
           },
           "bgcolor": "#E5ECF6",
           "caxis": {
            "gridcolor": "white",
            "linecolor": "white",
            "ticks": ""
           }
          },
          "title": {
           "x": 0.05
          },
          "xaxis": {
           "automargin": true,
           "gridcolor": "white",
           "linecolor": "white",
           "ticks": "",
           "title": {
            "standoff": 15
           },
           "zerolinecolor": "white",
           "zerolinewidth": 2
          },
          "yaxis": {
           "automargin": true,
           "gridcolor": "white",
           "linecolor": "white",
           "ticks": "",
           "title": {
            "standoff": 15
           },
           "zerolinecolor": "white",
           "zerolinewidth": 2
          }
         }
        },
        "title": {
         "text": "Demographic Breakdown by Age"
        },
        "xaxis": {
         "anchor": "y",
         "domain": [
          0,
          1
         ],
         "title": {
          "text": "Age"
         }
        },
        "yaxis": {
         "anchor": "x",
         "domain": [
          0,
          1
         ],
         "title": {
          "text": "count"
         }
        }
       }
      }
     },
     "metadata": {},
     "output_type": "display_data"
    },
    {
     "data": {
      "application/vnd.plotly.v1+json": {
       "config": {
        "plotlyServerURL": "https://plot.ly"
       },
       "data": [
        {
         "direction": "clockwise",
         "domain": {
          "x": [
           0,
           1
          ],
          "y": [
           0,
           1
          ]
         },
         "hovertemplate": "AGE_GROUP=%{label}<br>Count=%{value}<extra></extra>",
         "labels": [
          "Under 30",
          "30-50",
          "50-70",
          "70+"
         ],
         "legendgroup": "",
         "name": "",
         "showlegend": true,
         "sort": false,
         "textinfo": "percent+label",
         "textposition": "inside",
         "type": "pie",
         "values": [
          2748,
          6515,
          8912,
          5074
         ]
        }
       ],
       "layout": {
        "legend": {
         "tracegroupgap": 0
        },
        "piecolorway": [
         "#440154",
         "#482878",
         "#3e4989",
         "#31688e",
         "#26828e",
         "#1f9e89",
         "#35b779",
         "#6ece58",
         "#b5de2b",
         "#fde725"
        ],
        "template": {
         "data": {
          "bar": [
           {
            "error_x": {
             "color": "#2a3f5f"
            },
            "error_y": {
             "color": "#2a3f5f"
            },
            "marker": {
             "line": {
              "color": "#E5ECF6",
              "width": 0.5
             },
             "pattern": {
              "fillmode": "overlay",
              "size": 10,
              "solidity": 0.2
             }
            },
            "type": "bar"
           }
          ],
          "barpolar": [
           {
            "marker": {
             "line": {
              "color": "#E5ECF6",
              "width": 0.5
             },
             "pattern": {
              "fillmode": "overlay",
              "size": 10,
              "solidity": 0.2
             }
            },
            "type": "barpolar"
           }
          ],
          "carpet": [
           {
            "aaxis": {
             "endlinecolor": "#2a3f5f",
             "gridcolor": "white",
             "linecolor": "white",
             "minorgridcolor": "white",
             "startlinecolor": "#2a3f5f"
            },
            "baxis": {
             "endlinecolor": "#2a3f5f",
             "gridcolor": "white",
             "linecolor": "white",
             "minorgridcolor": "white",
             "startlinecolor": "#2a3f5f"
            },
            "type": "carpet"
           }
          ],
          "choropleth": [
           {
            "colorbar": {
             "outlinewidth": 0,
             "ticks": ""
            },
            "type": "choropleth"
           }
          ],
          "contour": [
           {
            "colorbar": {
             "outlinewidth": 0,
             "ticks": ""
            },
            "colorscale": [
             [
              0,
              "#0d0887"
             ],
             [
              0.1111111111111111,
              "#46039f"
             ],
             [
              0.2222222222222222,
              "#7201a8"
             ],
             [
              0.3333333333333333,
              "#9c179e"
             ],
             [
              0.4444444444444444,
              "#bd3786"
             ],
             [
              0.5555555555555556,
              "#d8576b"
             ],
             [
              0.6666666666666666,
              "#ed7953"
             ],
             [
              0.7777777777777778,
              "#fb9f3a"
             ],
             [
              0.8888888888888888,
              "#fdca26"
             ],
             [
              1,
              "#f0f921"
             ]
            ],
            "type": "contour"
           }
          ],
          "contourcarpet": [
           {
            "colorbar": {
             "outlinewidth": 0,
             "ticks": ""
            },
            "type": "contourcarpet"
           }
          ],
          "heatmap": [
           {
            "colorbar": {
             "outlinewidth": 0,
             "ticks": ""
            },
            "colorscale": [
             [
              0,
              "#0d0887"
             ],
             [
              0.1111111111111111,
              "#46039f"
             ],
             [
              0.2222222222222222,
              "#7201a8"
             ],
             [
              0.3333333333333333,
              "#9c179e"
             ],
             [
              0.4444444444444444,
              "#bd3786"
             ],
             [
              0.5555555555555556,
              "#d8576b"
             ],
             [
              0.6666666666666666,
              "#ed7953"
             ],
             [
              0.7777777777777778,
              "#fb9f3a"
             ],
             [
              0.8888888888888888,
              "#fdca26"
             ],
             [
              1,
              "#f0f921"
             ]
            ],
            "type": "heatmap"
           }
          ],
          "heatmapgl": [
           {
            "colorbar": {
             "outlinewidth": 0,
             "ticks": ""
            },
            "colorscale": [
             [
              0,
              "#0d0887"
             ],
             [
              0.1111111111111111,
              "#46039f"
             ],
             [
              0.2222222222222222,
              "#7201a8"
             ],
             [
              0.3333333333333333,
              "#9c179e"
             ],
             [
              0.4444444444444444,
              "#bd3786"
             ],
             [
              0.5555555555555556,
              "#d8576b"
             ],
             [
              0.6666666666666666,
              "#ed7953"
             ],
             [
              0.7777777777777778,
              "#fb9f3a"
             ],
             [
              0.8888888888888888,
              "#fdca26"
             ],
             [
              1,
              "#f0f921"
             ]
            ],
            "type": "heatmapgl"
           }
          ],
          "histogram": [
           {
            "marker": {
             "pattern": {
              "fillmode": "overlay",
              "size": 10,
              "solidity": 0.2
             }
            },
            "type": "histogram"
           }
          ],
          "histogram2d": [
           {
            "colorbar": {
             "outlinewidth": 0,
             "ticks": ""
            },
            "colorscale": [
             [
              0,
              "#0d0887"
             ],
             [
              0.1111111111111111,
              "#46039f"
             ],
             [
              0.2222222222222222,
              "#7201a8"
             ],
             [
              0.3333333333333333,
              "#9c179e"
             ],
             [
              0.4444444444444444,
              "#bd3786"
             ],
             [
              0.5555555555555556,
              "#d8576b"
             ],
             [
              0.6666666666666666,
              "#ed7953"
             ],
             [
              0.7777777777777778,
              "#fb9f3a"
             ],
             [
              0.8888888888888888,
              "#fdca26"
             ],
             [
              1,
              "#f0f921"
             ]
            ],
            "type": "histogram2d"
           }
          ],
          "histogram2dcontour": [
           {
            "colorbar": {
             "outlinewidth": 0,
             "ticks": ""
            },
            "colorscale": [
             [
              0,
              "#0d0887"
             ],
             [
              0.1111111111111111,
              "#46039f"
             ],
             [
              0.2222222222222222,
              "#7201a8"
             ],
             [
              0.3333333333333333,
              "#9c179e"
             ],
             [
              0.4444444444444444,
              "#bd3786"
             ],
             [
              0.5555555555555556,
              "#d8576b"
             ],
             [
              0.6666666666666666,
              "#ed7953"
             ],
             [
              0.7777777777777778,
              "#fb9f3a"
             ],
             [
              0.8888888888888888,
              "#fdca26"
             ],
             [
              1,
              "#f0f921"
             ]
            ],
            "type": "histogram2dcontour"
           }
          ],
          "mesh3d": [
           {
            "colorbar": {
             "outlinewidth": 0,
             "ticks": ""
            },
            "type": "mesh3d"
           }
          ],
          "parcoords": [
           {
            "line": {
             "colorbar": {
              "outlinewidth": 0,
              "ticks": ""
             }
            },
            "type": "parcoords"
           }
          ],
          "pie": [
           {
            "automargin": true,
            "type": "pie"
           }
          ],
          "scatter": [
           {
            "fillpattern": {
             "fillmode": "overlay",
             "size": 10,
             "solidity": 0.2
            },
            "type": "scatter"
           }
          ],
          "scatter3d": [
           {
            "line": {
             "colorbar": {
              "outlinewidth": 0,
              "ticks": ""
             }
            },
            "marker": {
             "colorbar": {
              "outlinewidth": 0,
              "ticks": ""
             }
            },
            "type": "scatter3d"
           }
          ],
          "scattercarpet": [
           {
            "marker": {
             "colorbar": {
              "outlinewidth": 0,
              "ticks": ""
             }
            },
            "type": "scattercarpet"
           }
          ],
          "scattergeo": [
           {
            "marker": {
             "colorbar": {
              "outlinewidth": 0,
              "ticks": ""
             }
            },
            "type": "scattergeo"
           }
          ],
          "scattergl": [
           {
            "marker": {
             "colorbar": {
              "outlinewidth": 0,
              "ticks": ""
             }
            },
            "type": "scattergl"
           }
          ],
          "scattermapbox": [
           {
            "marker": {
             "colorbar": {
              "outlinewidth": 0,
              "ticks": ""
             }
            },
            "type": "scattermapbox"
           }
          ],
          "scatterpolar": [
           {
            "marker": {
             "colorbar": {
              "outlinewidth": 0,
              "ticks": ""
             }
            },
            "type": "scatterpolar"
           }
          ],
          "scatterpolargl": [
           {
            "marker": {
             "colorbar": {
              "outlinewidth": 0,
              "ticks": ""
             }
            },
            "type": "scatterpolargl"
           }
          ],
          "scatterternary": [
           {
            "marker": {
             "colorbar": {
              "outlinewidth": 0,
              "ticks": ""
             }
            },
            "type": "scatterternary"
           }
          ],
          "surface": [
           {
            "colorbar": {
             "outlinewidth": 0,
             "ticks": ""
            },
            "colorscale": [
             [
              0,
              "#0d0887"
             ],
             [
              0.1111111111111111,
              "#46039f"
             ],
             [
              0.2222222222222222,
              "#7201a8"
             ],
             [
              0.3333333333333333,
              "#9c179e"
             ],
             [
              0.4444444444444444,
              "#bd3786"
             ],
             [
              0.5555555555555556,
              "#d8576b"
             ],
             [
              0.6666666666666666,
              "#ed7953"
             ],
             [
              0.7777777777777778,
              "#fb9f3a"
             ],
             [
              0.8888888888888888,
              "#fdca26"
             ],
             [
              1,
              "#f0f921"
             ]
            ],
            "type": "surface"
           }
          ],
          "table": [
           {
            "cells": {
             "fill": {
              "color": "#EBF0F8"
             },
             "line": {
              "color": "white"
             }
            },
            "header": {
             "fill": {
              "color": "#C8D4E3"
             },
             "line": {
              "color": "white"
             }
            },
            "type": "table"
           }
          ]
         },
         "layout": {
          "annotationdefaults": {
           "arrowcolor": "#2a3f5f",
           "arrowhead": 0,
           "arrowwidth": 1
          },
          "autotypenumbers": "strict",
          "coloraxis": {
           "colorbar": {
            "outlinewidth": 0,
            "ticks": ""
           }
          },
          "colorscale": {
           "diverging": [
            [
             0,
             "#8e0152"
            ],
            [
             0.1,
             "#c51b7d"
            ],
            [
             0.2,
             "#de77ae"
            ],
            [
             0.3,
             "#f1b6da"
            ],
            [
             0.4,
             "#fde0ef"
            ],
            [
             0.5,
             "#f7f7f7"
            ],
            [
             0.6,
             "#e6f5d0"
            ],
            [
             0.7,
             "#b8e186"
            ],
            [
             0.8,
             "#7fbc41"
            ],
            [
             0.9,
             "#4d9221"
            ],
            [
             1,
             "#276419"
            ]
           ],
           "sequential": [
            [
             0,
             "#0d0887"
            ],
            [
             0.1111111111111111,
             "#46039f"
            ],
            [
             0.2222222222222222,
             "#7201a8"
            ],
            [
             0.3333333333333333,
             "#9c179e"
            ],
            [
             0.4444444444444444,
             "#bd3786"
            ],
            [
             0.5555555555555556,
             "#d8576b"
            ],
            [
             0.6666666666666666,
             "#ed7953"
            ],
            [
             0.7777777777777778,
             "#fb9f3a"
            ],
            [
             0.8888888888888888,
             "#fdca26"
            ],
            [
             1,
             "#f0f921"
            ]
           ],
           "sequentialminus": [
            [
             0,
             "#0d0887"
            ],
            [
             0.1111111111111111,
             "#46039f"
            ],
            [
             0.2222222222222222,
             "#7201a8"
            ],
            [
             0.3333333333333333,
             "#9c179e"
            ],
            [
             0.4444444444444444,
             "#bd3786"
            ],
            [
             0.5555555555555556,
             "#d8576b"
            ],
            [
             0.6666666666666666,
             "#ed7953"
            ],
            [
             0.7777777777777778,
             "#fb9f3a"
            ],
            [
             0.8888888888888888,
             "#fdca26"
            ],
            [
             1,
             "#f0f921"
            ]
           ]
          },
          "colorway": [
           "#636efa",
           "#EF553B",
           "#00cc96",
           "#ab63fa",
           "#FFA15A",
           "#19d3f3",
           "#FF6692",
           "#B6E880",
           "#FF97FF",
           "#FECB52"
          ],
          "font": {
           "color": "#2a3f5f"
          },
          "geo": {
           "bgcolor": "white",
           "lakecolor": "white",
           "landcolor": "#E5ECF6",
           "showlakes": true,
           "showland": true,
           "subunitcolor": "white"
          },
          "hoverlabel": {
           "align": "left"
          },
          "hovermode": "closest",
          "mapbox": {
           "style": "light"
          },
          "paper_bgcolor": "white",
          "plot_bgcolor": "#E5ECF6",
          "polar": {
           "angularaxis": {
            "gridcolor": "white",
            "linecolor": "white",
            "ticks": ""
           },
           "bgcolor": "#E5ECF6",
           "radialaxis": {
            "gridcolor": "white",
            "linecolor": "white",
            "ticks": ""
           }
          },
          "scene": {
           "xaxis": {
            "backgroundcolor": "#E5ECF6",
            "gridcolor": "white",
            "gridwidth": 2,
            "linecolor": "white",
            "showbackground": true,
            "ticks": "",
            "zerolinecolor": "white"
           },
           "yaxis": {
            "backgroundcolor": "#E5ECF6",
            "gridcolor": "white",
            "gridwidth": 2,
            "linecolor": "white",
            "showbackground": true,
            "ticks": "",
            "zerolinecolor": "white"
           },
           "zaxis": {
            "backgroundcolor": "#E5ECF6",
            "gridcolor": "white",
            "gridwidth": 2,
            "linecolor": "white",
            "showbackground": true,
            "ticks": "",
            "zerolinecolor": "white"
           }
          },
          "shapedefaults": {
           "line": {
            "color": "#2a3f5f"
           }
          },
          "ternary": {
           "aaxis": {
            "gridcolor": "white",
            "linecolor": "white",
            "ticks": ""
           },
           "baxis": {
            "gridcolor": "white",
            "linecolor": "white",
            "ticks": ""
           },
           "bgcolor": "#E5ECF6",
           "caxis": {
            "gridcolor": "white",
            "linecolor": "white",
            "ticks": ""
           }
          },
          "title": {
           "x": 0.05
          },
          "xaxis": {
           "automargin": true,
           "gridcolor": "white",
           "linecolor": "white",
           "ticks": "",
           "title": {
            "standoff": 15
           },
           "zerolinecolor": "white",
           "zerolinewidth": 2
          },
          "yaxis": {
           "automargin": true,
           "gridcolor": "white",
           "linecolor": "white",
           "ticks": "",
           "title": {
            "standoff": 15
           },
           "zerolinecolor": "white",
           "zerolinewidth": 2
          }
         }
        },
        "title": {
         "text": "Demographic Breakdown by Age Group"
        }
       }
      },
      "image/png": "[encoded data removed]"
     },
     "metadata": {},
     "output_type": "display_data"
    }
   ],
   "source": [
    "# look in distinct_values.csv to see results\n",
    "get_distinct_values('df_combined','AGE')\n",
    "\n",
    "fig = px.histogram(\n",
    "    df_combined[df_combined[\"AGE\"] != -1], \n",
    "    x = \"AGE\", \n",
    "    title = \"Demographic Breakdown by Age\",\n",
    "    color_discrete_sequence=px.colors.sequential.Viridis\n",
    ")\n",
    "fig.update_xaxes(title=\"Age\").show()\n",
    "\n",
    "fig = px.pie(\n",
    "    create_distinct_value_count_df('df_combined','AGE_GROUP',\"('Other')\"),\n",
    "    values='Count',\n",
    "    names='AGE_GROUP',\n",
    "    title='Demographic Breakdown by Age Group',\n",
    "    category_orders={\n",
    "        'AGE_GROUP':[\n",
    "            'Under 30',\n",
    "            '30-50',\n",
    "            '50-70',\n",
    "            '70+'\n",
    "        ],\n",
    "    },\n",
    "    color_discrete_sequence=px.colors.sequential.Viridis\n",
    ")\n",
    "fig.update_traces(textposition='inside', textinfo='percent+label').show()"
   ]
  },
  {
   "cell_type": "code",
   "execution_count": 604,
   "metadata": {},
   "outputs": [
    {
     "data": {
      "application/vnd.plotly.v1+json": {
       "config": {
        "plotlyServerURL": "https://plot.ly"
       },
       "data": [
        {
         "alignmentgroup": "True",
         "hovertemplate": "Count=%{x}<br>Race=%{y}<extra></extra>",
         "legendgroup": "",
         "marker": {
          "color": "#ffd525",
          "pattern": {
           "shape": ""
          }
         },
         "name": "",
         "offsetgroup": "",
         "orientation": "h",
         "showlegend": false,
         "textposition": "auto",
         "texttemplate": "%{x:.2s}",
         "type": "bar",
         "x": [
          17995,
          2830,
          1132,
          584,
          142,
          3402,
          1130
         ],
         "xaxis": "x",
         "y": [
          "White",
          "Black",
          "Asian",
          "American Indian or Alaska Native",
          "Native Hawaiian or other Pacific Islander",
          "Hispanic",
          "Other"
         ],
         "yaxis": "y"
        }
       ],
       "layout": {
        "annotations": [
         {
          "font": {
           "color": "gray",
           "size": 12
          },
          "showarrow": false,
          "text": "*Participants can select more than 1 race",
          "x": -0.45,
          "xref": "paper",
          "y": -0.2,
          "yref": "paper"
         }
        ],
        "barmode": "relative",
        "legend": {
         "tracegroupgap": 0
        },
        "template": {
         "data": {
          "bar": [
           {
            "error_x": {
             "color": "#2a3f5f"
            },
            "error_y": {
             "color": "#2a3f5f"
            },
            "marker": {
             "line": {
              "color": "#E5ECF6",
              "width": 0.5
             },
             "pattern": {
              "fillmode": "overlay",
              "size": 10,
              "solidity": 0.2
             }
            },
            "type": "bar"
           }
          ],
          "barpolar": [
           {
            "marker": {
             "line": {
              "color": "#E5ECF6",
              "width": 0.5
             },
             "pattern": {
              "fillmode": "overlay",
              "size": 10,
              "solidity": 0.2
             }
            },
            "type": "barpolar"
           }
          ],
          "carpet": [
           {
            "aaxis": {
             "endlinecolor": "#2a3f5f",
             "gridcolor": "white",
             "linecolor": "white",
             "minorgridcolor": "white",
             "startlinecolor": "#2a3f5f"
            },
            "baxis": {
             "endlinecolor": "#2a3f5f",
             "gridcolor": "white",
             "linecolor": "white",
             "minorgridcolor": "white",
             "startlinecolor": "#2a3f5f"
            },
            "type": "carpet"
           }
          ],
          "choropleth": [
           {
            "colorbar": {
             "outlinewidth": 0,
             "ticks": ""
            },
            "type": "choropleth"
           }
          ],
          "contour": [
           {
            "colorbar": {
             "outlinewidth": 0,
             "ticks": ""
            },
            "colorscale": [
             [
              0,
              "#0d0887"
             ],
             [
              0.1111111111111111,
              "#46039f"
             ],
             [
              0.2222222222222222,
              "#7201a8"
             ],
             [
              0.3333333333333333,
              "#9c179e"
             ],
             [
              0.4444444444444444,
              "#bd3786"
             ],
             [
              0.5555555555555556,
              "#d8576b"
             ],
             [
              0.6666666666666666,
              "#ed7953"
             ],
             [
              0.7777777777777778,
              "#fb9f3a"
             ],
             [
              0.8888888888888888,
              "#fdca26"
             ],
             [
              1,
              "#f0f921"
             ]
            ],
            "type": "contour"
           }
          ],
          "contourcarpet": [
           {
            "colorbar": {
             "outlinewidth": 0,
             "ticks": ""
            },
            "type": "contourcarpet"
           }
          ],
          "heatmap": [
           {
            "colorbar": {
             "outlinewidth": 0,
             "ticks": ""
            },
            "colorscale": [
             [
              0,
              "#0d0887"
             ],
             [
              0.1111111111111111,
              "#46039f"
             ],
             [
              0.2222222222222222,
              "#7201a8"
             ],
             [
              0.3333333333333333,
              "#9c179e"
             ],
             [
              0.4444444444444444,
              "#bd3786"
             ],
             [
              0.5555555555555556,
              "#d8576b"
             ],
             [
              0.6666666666666666,
              "#ed7953"
             ],
             [
              0.7777777777777778,
              "#fb9f3a"
             ],
             [
              0.8888888888888888,
              "#fdca26"
             ],
             [
              1,
              "#f0f921"
             ]
            ],
            "type": "heatmap"
           }
          ],
          "heatmapgl": [
           {
            "colorbar": {
             "outlinewidth": 0,
             "ticks": ""
            },
            "colorscale": [
             [
              0,
              "#0d0887"
             ],
             [
              0.1111111111111111,
              "#46039f"
             ],
             [
              0.2222222222222222,
              "#7201a8"
             ],
             [
              0.3333333333333333,
              "#9c179e"
             ],
             [
              0.4444444444444444,
              "#bd3786"
             ],
             [
              0.5555555555555556,
              "#d8576b"
             ],
             [
              0.6666666666666666,
              "#ed7953"
             ],
             [
              0.7777777777777778,
              "#fb9f3a"
             ],
             [
              0.8888888888888888,
              "#fdca26"
             ],
             [
              1,
              "#f0f921"
             ]
            ],
            "type": "heatmapgl"
           }
          ],
          "histogram": [
           {
            "marker": {
             "pattern": {
              "fillmode": "overlay",
              "size": 10,
              "solidity": 0.2
             }
            },
            "type": "histogram"
           }
          ],
          "histogram2d": [
           {
            "colorbar": {
             "outlinewidth": 0,
             "ticks": ""
            },
            "colorscale": [
             [
              0,
              "#0d0887"
             ],
             [
              0.1111111111111111,
              "#46039f"
             ],
             [
              0.2222222222222222,
              "#7201a8"
             ],
             [
              0.3333333333333333,
              "#9c179e"
             ],
             [
              0.4444444444444444,
              "#bd3786"
             ],
             [
              0.5555555555555556,
              "#d8576b"
             ],
             [
              0.6666666666666666,
              "#ed7953"
             ],
             [
              0.7777777777777778,
              "#fb9f3a"
             ],
             [
              0.8888888888888888,
              "#fdca26"
             ],
             [
              1,
              "#f0f921"
             ]
            ],
            "type": "histogram2d"
           }
          ],
          "histogram2dcontour": [
           {
            "colorbar": {
             "outlinewidth": 0,
             "ticks": ""
            },
            "colorscale": [
             [
              0,
              "#0d0887"
             ],
             [
              0.1111111111111111,
              "#46039f"
             ],
             [
              0.2222222222222222,
              "#7201a8"
             ],
             [
              0.3333333333333333,
              "#9c179e"
             ],
             [
              0.4444444444444444,
              "#bd3786"
             ],
             [
              0.5555555555555556,
              "#d8576b"
             ],
             [
              0.6666666666666666,
              "#ed7953"
             ],
             [
              0.7777777777777778,
              "#fb9f3a"
             ],
             [
              0.8888888888888888,
              "#fdca26"
             ],
             [
              1,
              "#f0f921"
             ]
            ],
            "type": "histogram2dcontour"
           }
          ],
          "mesh3d": [
           {
            "colorbar": {
             "outlinewidth": 0,
             "ticks": ""
            },
            "type": "mesh3d"
           }
          ],
          "parcoords": [
           {
            "line": {
             "colorbar": {
              "outlinewidth": 0,
              "ticks": ""
             }
            },
            "type": "parcoords"
           }
          ],
          "pie": [
           {
            "automargin": true,
            "type": "pie"
           }
          ],
          "scatter": [
           {
            "fillpattern": {
             "fillmode": "overlay",
             "size": 10,
             "solidity": 0.2
            },
            "type": "scatter"
           }
          ],
          "scatter3d": [
           {
            "line": {
             "colorbar": {
              "outlinewidth": 0,
              "ticks": ""
             }
            },
            "marker": {
             "colorbar": {
              "outlinewidth": 0,
              "ticks": ""
             }
            },
            "type": "scatter3d"
           }
          ],
          "scattercarpet": [
           {
            "marker": {
             "colorbar": {
              "outlinewidth": 0,
              "ticks": ""
             }
            },
            "type": "scattercarpet"
           }
          ],
          "scattergeo": [
           {
            "marker": {
             "colorbar": {
              "outlinewidth": 0,
              "ticks": ""
             }
            },
            "type": "scattergeo"
           }
          ],
          "scattergl": [
           {
            "marker": {
             "colorbar": {
              "outlinewidth": 0,
              "ticks": ""
             }
            },
            "type": "scattergl"
           }
          ],
          "scattermapbox": [
           {
            "marker": {
             "colorbar": {
              "outlinewidth": 0,
              "ticks": ""
             }
            },
            "type": "scattermapbox"
           }
          ],
          "scatterpolar": [
           {
            "marker": {
             "colorbar": {
              "outlinewidth": 0,
              "ticks": ""
             }
            },
            "type": "scatterpolar"
           }
          ],
          "scatterpolargl": [
           {
            "marker": {
             "colorbar": {
              "outlinewidth": 0,
              "ticks": ""
             }
            },
            "type": "scatterpolargl"
           }
          ],
          "scatterternary": [
           {
            "marker": {
             "colorbar": {
              "outlinewidth": 0,
              "ticks": ""
             }
            },
            "type": "scatterternary"
           }
          ],
          "surface": [
           {
            "colorbar": {
             "outlinewidth": 0,
             "ticks": ""
            },
            "colorscale": [
             [
              0,
              "#0d0887"
             ],
             [
              0.1111111111111111,
              "#46039f"
             ],
             [
              0.2222222222222222,
              "#7201a8"
             ],
             [
              0.3333333333333333,
              "#9c179e"
             ],
             [
              0.4444444444444444,
              "#bd3786"
             ],
             [
              0.5555555555555556,
              "#d8576b"
             ],
             [
              0.6666666666666666,
              "#ed7953"
             ],
             [
              0.7777777777777778,
              "#fb9f3a"
             ],
             [
              0.8888888888888888,
              "#fdca26"
             ],
             [
              1,
              "#f0f921"
             ]
            ],
            "type": "surface"
           }
          ],
          "table": [
           {
            "cells": {
             "fill": {
              "color": "#EBF0F8"
             },
             "line": {
              "color": "white"
             }
            },
            "header": {
             "fill": {
              "color": "#C8D4E3"
             },
             "line": {
              "color": "white"
             }
            },
            "type": "table"
           }
          ]
         },
         "layout": {
          "annotationdefaults": {
           "arrowcolor": "#2a3f5f",
           "arrowhead": 0,
           "arrowwidth": 1
          },
          "autotypenumbers": "strict",
          "coloraxis": {
           "colorbar": {
            "outlinewidth": 0,
            "ticks": ""
           }
          },
          "colorscale": {
           "diverging": [
            [
             0,
             "#8e0152"
            ],
            [
             0.1,
             "#c51b7d"
            ],
            [
             0.2,
             "#de77ae"
            ],
            [
             0.3,
             "#f1b6da"
            ],
            [
             0.4,
             "#fde0ef"
            ],
            [
             0.5,
             "#f7f7f7"
            ],
            [
             0.6,
             "#e6f5d0"
            ],
            [
             0.7,
             "#b8e186"
            ],
            [
             0.8,
             "#7fbc41"
            ],
            [
             0.9,
             "#4d9221"
            ],
            [
             1,
             "#276419"
            ]
           ],
           "sequential": [
            [
             0,
             "#0d0887"
            ],
            [
             0.1111111111111111,
             "#46039f"
            ],
            [
             0.2222222222222222,
             "#7201a8"
            ],
            [
             0.3333333333333333,
             "#9c179e"
            ],
            [
             0.4444444444444444,
             "#bd3786"
            ],
            [
             0.5555555555555556,
             "#d8576b"
            ],
            [
             0.6666666666666666,
             "#ed7953"
            ],
            [
             0.7777777777777778,
             "#fb9f3a"
            ],
            [
             0.8888888888888888,
             "#fdca26"
            ],
            [
             1,
             "#f0f921"
            ]
           ],
           "sequentialminus": [
            [
             0,
             "#0d0887"
            ],
            [
             0.1111111111111111,
             "#46039f"
            ],
            [
             0.2222222222222222,
             "#7201a8"
            ],
            [
             0.3333333333333333,
             "#9c179e"
            ],
            [
             0.4444444444444444,
             "#bd3786"
            ],
            [
             0.5555555555555556,
             "#d8576b"
            ],
            [
             0.6666666666666666,
             "#ed7953"
            ],
            [
             0.7777777777777778,
             "#fb9f3a"
            ],
            [
             0.8888888888888888,
             "#fdca26"
            ],
            [
             1,
             "#f0f921"
            ]
           ]
          },
          "colorway": [
           "#636efa",
           "#EF553B",
           "#00cc96",
           "#ab63fa",
           "#FFA15A",
           "#19d3f3",
           "#FF6692",
           "#B6E880",
           "#FF97FF",
           "#FECB52"
          ],
          "font": {
           "color": "#2a3f5f"
          },
          "geo": {
           "bgcolor": "white",
           "lakecolor": "white",
           "landcolor": "#E5ECF6",
           "showlakes": true,
           "showland": true,
           "subunitcolor": "white"
          },
          "hoverlabel": {
           "align": "left"
          },
          "hovermode": "closest",
          "mapbox": {
           "style": "light"
          },
          "paper_bgcolor": "white",
          "plot_bgcolor": "#E5ECF6",
          "polar": {
           "angularaxis": {
            "gridcolor": "white",
            "linecolor": "white",
            "ticks": ""
           },
           "bgcolor": "#E5ECF6",
           "radialaxis": {
            "gridcolor": "white",
            "linecolor": "white",
            "ticks": ""
           }
          },
          "scene": {
           "xaxis": {
            "backgroundcolor": "#E5ECF6",
            "gridcolor": "white",
            "gridwidth": 2,
            "linecolor": "white",
            "showbackground": true,
            "ticks": "",
            "zerolinecolor": "white"
           },
           "yaxis": {
            "backgroundcolor": "#E5ECF6",
            "gridcolor": "white",
            "gridwidth": 2,
            "linecolor": "white",
            "showbackground": true,
            "ticks": "",
            "zerolinecolor": "white"
           },
           "zaxis": {
            "backgroundcolor": "#E5ECF6",
            "gridcolor": "white",
            "gridwidth": 2,
            "linecolor": "white",
            "showbackground": true,
            "ticks": "",
            "zerolinecolor": "white"
           }
          },
          "shapedefaults": {
           "line": {
            "color": "#2a3f5f"
           }
          },
          "ternary": {
           "aaxis": {
            "gridcolor": "white",
            "linecolor": "white",
            "ticks": ""
           },
           "baxis": {
            "gridcolor": "white",
            "linecolor": "white",
            "ticks": ""
           },
           "bgcolor": "#E5ECF6",
           "caxis": {
            "gridcolor": "white",
            "linecolor": "white",
            "ticks": ""
           }
          },
          "title": {
           "x": 0.05
          },
          "xaxis": {
           "automargin": true,
           "gridcolor": "white",
           "linecolor": "white",
           "ticks": "",
           "title": {
            "standoff": 15
           },
           "zerolinecolor": "white",
           "zerolinewidth": 2
          },
          "yaxis": {
           "automargin": true,
           "gridcolor": "white",
           "linecolor": "white",
           "ticks": "",
           "title": {
            "standoff": 15
           },
           "zerolinecolor": "white",
           "zerolinewidth": 2
          }
         }
        },
        "title": {
         "text": "Demographic Breakdown by Race"
        },
        "xaxis": {
         "anchor": "y",
         "domain": [
          0,
          1
         ],
         "title": {
          "text": "Count"
         }
        },
        "yaxis": {
         "anchor": "x",
         "categoryorder": "total descending",
         "domain": [
          0,
          1
         ],
         "title": {
          "text": ""
         }
        }
       }
      },
      "image/png": "[encoded data removed]"
     },
     "metadata": {},
     "output_type": "display_data"
    }
   ],
   "source": [
    "# get count of each race\n",
    "df_race_count = sqldf(\n",
    "    \"\"\"\n",
    "    SELECT \n",
    "        Count(CASE WHEN RACEMOD_1 = 'White' THEN 1 END) as White,\n",
    "        Count(CASE WHEN RACEMOD_2 = 'Black' THEN 1 END) as Black,\n",
    "        Count(CASE WHEN RACEMOD_3 = 'Asian' THEN 1 END) as Asian,\n",
    "        Count(CASE WHEN RACEMOD_4 = 'American Indian or Alaska Native' THEN 1 END) as 'American Indian or Alaska Native',\n",
    "        Count(CASE WHEN RACEMOD_5 = 'Native Hawaiian or other Pacific Islander' THEN 1 END) as 'Native Hawaiian or other Pacific Islander',\n",
    "        Count(CASE WHEN HISP = 'Yes' THEN 1 END) as Hispanic,\n",
    "        Count(CASE WHEN RACEMOD_6 = 'Other' THEN 1 END) as 'Other'\n",
    "    FROM df_combined\n",
    "    \"\"\"\n",
    ")\n",
    "df_race_count.to_csv(\"CSV Files/result.csv\",index=False)\n",
    "\n",
    "# convert columns to rows \n",
    "df_race_count_long = pd.melt(\n",
    "    df_race_count,\n",
    "    var_name='Race',\n",
    "    value_name='Count'\n",
    ")\n",
    "df_race_count_long.to_csv(\"CSV Files/result2.csv\",index=False)\n",
    "\n",
    "fig = px.bar(\n",
    "    df_race_count_long, \n",
    "    y='Race', \n",
    "    x='Count',\n",
    "    title='Demographic Breakdown by Race',\n",
    "    text_auto='.2s', # put numbers in K format\n",
    "    color_discrete_sequence=['#ffd525']\n",
    "    \n",
    ")\n",
    "\n",
    "# add subtitle\n",
    "fig.update_layout(\n",
    "    annotations=[\n",
    "        dict(\n",
    "            x=-0.45, y=-0.20,  # Position below the chart\n",
    "            text=\"*Participants can select more than 1 race\",\n",
    "            showarrow=False,  # No arrow pointing to the text\n",
    "            xref=\"paper\", yref=\"paper\",  # Position relative to the chart\n",
    "            font=dict(size=12, color=\"gray\"),\n",
    "        )\n",
    "    ]\n",
    ")\n",
    "fig.update_yaxes(title=\"\").update_layout(yaxis={'categoryorder':'total descending'}).show()"
   ]
  },
  {
   "cell_type": "code",
   "execution_count": 605,
   "metadata": {},
   "outputs": [
    {
     "data": {
      "application/vnd.plotly.v1+json": {
       "config": {
        "plotlyServerURL": "https://plot.ly"
       },
       "data": [
        {
         "domain": {
          "x": [
           0,
           1
          ],
          "y": [
           0,
           1
          ]
         },
         "hovertemplate": "GENDER=%{label}<br>Count=%{value}<extra></extra>",
         "labels": [
          "Female",
          "Male",
          "Other"
         ],
         "legendgroup": "",
         "name": "",
         "showlegend": true,
         "textinfo": "percent+label",
         "textposition": "inside",
         "type": "pie",
         "values": [
          13137,
          10023,
          143
         ]
        }
       ],
       "layout": {
        "legend": {
         "tracegroupgap": 0
        },
        "piecolorway": [
         "#a0408d",
         "#4076a0",
         "#ecb61d"
        ],
        "template": {
         "data": {
          "bar": [
           {
            "error_x": {
             "color": "#2a3f5f"
            },
            "error_y": {
             "color": "#2a3f5f"
            },
            "marker": {
             "line": {
              "color": "#E5ECF6",
              "width": 0.5
             },
             "pattern": {
              "fillmode": "overlay",
              "size": 10,
              "solidity": 0.2
             }
            },
            "type": "bar"
           }
          ],
          "barpolar": [
           {
            "marker": {
             "line": {
              "color": "#E5ECF6",
              "width": 0.5
             },
             "pattern": {
              "fillmode": "overlay",
              "size": 10,
              "solidity": 0.2
             }
            },
            "type": "barpolar"
           }
          ],
          "carpet": [
           {
            "aaxis": {
             "endlinecolor": "#2a3f5f",
             "gridcolor": "white",
             "linecolor": "white",
             "minorgridcolor": "white",
             "startlinecolor": "#2a3f5f"
            },
            "baxis": {
             "endlinecolor": "#2a3f5f",
             "gridcolor": "white",
             "linecolor": "white",
             "minorgridcolor": "white",
             "startlinecolor": "#2a3f5f"
            },
            "type": "carpet"
           }
          ],
          "choropleth": [
           {
            "colorbar": {
             "outlinewidth": 0,
             "ticks": ""
            },
            "type": "choropleth"
           }
          ],
          "contour": [
           {
            "colorbar": {
             "outlinewidth": 0,
             "ticks": ""
            },
            "colorscale": [
             [
              0,
              "#0d0887"
             ],
             [
              0.1111111111111111,
              "#46039f"
             ],
             [
              0.2222222222222222,
              "#7201a8"
             ],
             [
              0.3333333333333333,
              "#9c179e"
             ],
             [
              0.4444444444444444,
              "#bd3786"
             ],
             [
              0.5555555555555556,
              "#d8576b"
             ],
             [
              0.6666666666666666,
              "#ed7953"
             ],
             [
              0.7777777777777778,
              "#fb9f3a"
             ],
             [
              0.8888888888888888,
              "#fdca26"
             ],
             [
              1,
              "#f0f921"
             ]
            ],
            "type": "contour"
           }
          ],
          "contourcarpet": [
           {
            "colorbar": {
             "outlinewidth": 0,
             "ticks": ""
            },
            "type": "contourcarpet"
           }
          ],
          "heatmap": [
           {
            "colorbar": {
             "outlinewidth": 0,
             "ticks": ""
            },
            "colorscale": [
             [
              0,
              "#0d0887"
             ],
             [
              0.1111111111111111,
              "#46039f"
             ],
             [
              0.2222222222222222,
              "#7201a8"
             ],
             [
              0.3333333333333333,
              "#9c179e"
             ],
             [
              0.4444444444444444,
              "#bd3786"
             ],
             [
              0.5555555555555556,
              "#d8576b"
             ],
             [
              0.6666666666666666,
              "#ed7953"
             ],
             [
              0.7777777777777778,
              "#fb9f3a"
             ],
             [
              0.8888888888888888,
              "#fdca26"
             ],
             [
              1,
              "#f0f921"
             ]
            ],
            "type": "heatmap"
           }
          ],
          "heatmapgl": [
           {
            "colorbar": {
             "outlinewidth": 0,
             "ticks": ""
            },
            "colorscale": [
             [
              0,
              "#0d0887"
             ],
             [
              0.1111111111111111,
              "#46039f"
             ],
             [
              0.2222222222222222,
              "#7201a8"
             ],
             [
              0.3333333333333333,
              "#9c179e"
             ],
             [
              0.4444444444444444,
              "#bd3786"
             ],
             [
              0.5555555555555556,
              "#d8576b"
             ],
             [
              0.6666666666666666,
              "#ed7953"
             ],
             [
              0.7777777777777778,
              "#fb9f3a"
             ],
             [
              0.8888888888888888,
              "#fdca26"
             ],
             [
              1,
              "#f0f921"
             ]
            ],
            "type": "heatmapgl"
           }
          ],
          "histogram": [
           {
            "marker": {
             "pattern": {
              "fillmode": "overlay",
              "size": 10,
              "solidity": 0.2
             }
            },
            "type": "histogram"
           }
          ],
          "histogram2d": [
           {
            "colorbar": {
             "outlinewidth": 0,
             "ticks": ""
            },
            "colorscale": [
             [
              0,
              "#0d0887"
             ],
             [
              0.1111111111111111,
              "#46039f"
             ],
             [
              0.2222222222222222,
              "#7201a8"
             ],
             [
              0.3333333333333333,
              "#9c179e"
             ],
             [
              0.4444444444444444,
              "#bd3786"
             ],
             [
              0.5555555555555556,
              "#d8576b"
             ],
             [
              0.6666666666666666,
              "#ed7953"
             ],
             [
              0.7777777777777778,
              "#fb9f3a"
             ],
             [
              0.8888888888888888,
              "#fdca26"
             ],
             [
              1,
              "#f0f921"
             ]
            ],
            "type": "histogram2d"
           }
          ],
          "histogram2dcontour": [
           {
            "colorbar": {
             "outlinewidth": 0,
             "ticks": ""
            },
            "colorscale": [
             [
              0,
              "#0d0887"
             ],
             [
              0.1111111111111111,
              "#46039f"
             ],
             [
              0.2222222222222222,
              "#7201a8"
             ],
             [
              0.3333333333333333,
              "#9c179e"
             ],
             [
              0.4444444444444444,
              "#bd3786"
             ],
             [
              0.5555555555555556,
              "#d8576b"
             ],
             [
              0.6666666666666666,
              "#ed7953"
             ],
             [
              0.7777777777777778,
              "#fb9f3a"
             ],
             [
              0.8888888888888888,
              "#fdca26"
             ],
             [
              1,
              "#f0f921"
             ]
            ],
            "type": "histogram2dcontour"
           }
          ],
          "mesh3d": [
           {
            "colorbar": {
             "outlinewidth": 0,
             "ticks": ""
            },
            "type": "mesh3d"
           }
          ],
          "parcoords": [
           {
            "line": {
             "colorbar": {
              "outlinewidth": 0,
              "ticks": ""
             }
            },
            "type": "parcoords"
           }
          ],
          "pie": [
           {
            "automargin": true,
            "type": "pie"
           }
          ],
          "scatter": [
           {
            "fillpattern": {
             "fillmode": "overlay",
             "size": 10,
             "solidity": 0.2
            },
            "type": "scatter"
           }
          ],
          "scatter3d": [
           {
            "line": {
             "colorbar": {
              "outlinewidth": 0,
              "ticks": ""
             }
            },
            "marker": {
             "colorbar": {
              "outlinewidth": 0,
              "ticks": ""
             }
            },
            "type": "scatter3d"
           }
          ],
          "scattercarpet": [
           {
            "marker": {
             "colorbar": {
              "outlinewidth": 0,
              "ticks": ""
             }
            },
            "type": "scattercarpet"
           }
          ],
          "scattergeo": [
           {
            "marker": {
             "colorbar": {
              "outlinewidth": 0,
              "ticks": ""
             }
            },
            "type": "scattergeo"
           }
          ],
          "scattergl": [
           {
            "marker": {
             "colorbar": {
              "outlinewidth": 0,
              "ticks": ""
             }
            },
            "type": "scattergl"
           }
          ],
          "scattermapbox": [
           {
            "marker": {
             "colorbar": {
              "outlinewidth": 0,
              "ticks": ""
             }
            },
            "type": "scattermapbox"
           }
          ],
          "scatterpolar": [
           {
            "marker": {
             "colorbar": {
              "outlinewidth": 0,
              "ticks": ""
             }
            },
            "type": "scatterpolar"
           }
          ],
          "scatterpolargl": [
           {
            "marker": {
             "colorbar": {
              "outlinewidth": 0,
              "ticks": ""
             }
            },
            "type": "scatterpolargl"
           }
          ],
          "scatterternary": [
           {
            "marker": {
             "colorbar": {
              "outlinewidth": 0,
              "ticks": ""
             }
            },
            "type": "scatterternary"
           }
          ],
          "surface": [
           {
            "colorbar": {
             "outlinewidth": 0,
             "ticks": ""
            },
            "colorscale": [
             [
              0,
              "#0d0887"
             ],
             [
              0.1111111111111111,
              "#46039f"
             ],
             [
              0.2222222222222222,
              "#7201a8"
             ],
             [
              0.3333333333333333,
              "#9c179e"
             ],
             [
              0.4444444444444444,
              "#bd3786"
             ],
             [
              0.5555555555555556,
              "#d8576b"
             ],
             [
              0.6666666666666666,
              "#ed7953"
             ],
             [
              0.7777777777777778,
              "#fb9f3a"
             ],
             [
              0.8888888888888888,
              "#fdca26"
             ],
             [
              1,
              "#f0f921"
             ]
            ],
            "type": "surface"
           }
          ],
          "table": [
           {
            "cells": {
             "fill": {
              "color": "#EBF0F8"
             },
             "line": {
              "color": "white"
             }
            },
            "header": {
             "fill": {
              "color": "#C8D4E3"
             },
             "line": {
              "color": "white"
             }
            },
            "type": "table"
           }
          ]
         },
         "layout": {
          "annotationdefaults": {
           "arrowcolor": "#2a3f5f",
           "arrowhead": 0,
           "arrowwidth": 1
          },
          "autotypenumbers": "strict",
          "coloraxis": {
           "colorbar": {
            "outlinewidth": 0,
            "ticks": ""
           }
          },
          "colorscale": {
           "diverging": [
            [
             0,
             "#8e0152"
            ],
            [
             0.1,
             "#c51b7d"
            ],
            [
             0.2,
             "#de77ae"
            ],
            [
             0.3,
             "#f1b6da"
            ],
            [
             0.4,
             "#fde0ef"
            ],
            [
             0.5,
             "#f7f7f7"
            ],
            [
             0.6,
             "#e6f5d0"
            ],
            [
             0.7,
             "#b8e186"
            ],
            [
             0.8,
             "#7fbc41"
            ],
            [
             0.9,
             "#4d9221"
            ],
            [
             1,
             "#276419"
            ]
           ],
           "sequential": [
            [
             0,
             "#0d0887"
            ],
            [
             0.1111111111111111,
             "#46039f"
            ],
            [
             0.2222222222222222,
             "#7201a8"
            ],
            [
             0.3333333333333333,
             "#9c179e"
            ],
            [
             0.4444444444444444,
             "#bd3786"
            ],
            [
             0.5555555555555556,
             "#d8576b"
            ],
            [
             0.6666666666666666,
             "#ed7953"
            ],
            [
             0.7777777777777778,
             "#fb9f3a"
            ],
            [
             0.8888888888888888,
             "#fdca26"
            ],
            [
             1,
             "#f0f921"
            ]
           ],
           "sequentialminus": [
            [
             0,
             "#0d0887"
            ],
            [
             0.1111111111111111,
             "#46039f"
            ],
            [
             0.2222222222222222,
             "#7201a8"
            ],
            [
             0.3333333333333333,
             "#9c179e"
            ],
            [
             0.4444444444444444,
             "#bd3786"
            ],
            [
             0.5555555555555556,
             "#d8576b"
            ],
            [
             0.6666666666666666,
             "#ed7953"
            ],
            [
             0.7777777777777778,
             "#fb9f3a"
            ],
            [
             0.8888888888888888,
             "#fdca26"
            ],
            [
             1,
             "#f0f921"
            ]
           ]
          },
          "colorway": [
           "#636efa",
           "#EF553B",
           "#00cc96",
           "#ab63fa",
           "#FFA15A",
           "#19d3f3",
           "#FF6692",
           "#B6E880",
           "#FF97FF",
           "#FECB52"
          ],
          "font": {
           "color": "#2a3f5f"
          },
          "geo": {
           "bgcolor": "white",
           "lakecolor": "white",
           "landcolor": "#E5ECF6",
           "showlakes": true,
           "showland": true,
           "subunitcolor": "white"
          },
          "hoverlabel": {
           "align": "left"
          },
          "hovermode": "closest",
          "mapbox": {
           "style": "light"
          },
          "paper_bgcolor": "white",
          "plot_bgcolor": "#E5ECF6",
          "polar": {
           "angularaxis": {
            "gridcolor": "white",
            "linecolor": "white",
            "ticks": ""
           },
           "bgcolor": "#E5ECF6",
           "radialaxis": {
            "gridcolor": "white",
            "linecolor": "white",
            "ticks": ""
           }
          },
          "scene": {
           "xaxis": {
            "backgroundcolor": "#E5ECF6",
            "gridcolor": "white",
            "gridwidth": 2,
            "linecolor": "white",
            "showbackground": true,
            "ticks": "",
            "zerolinecolor": "white"
           },
           "yaxis": {
            "backgroundcolor": "#E5ECF6",
            "gridcolor": "white",
            "gridwidth": 2,
            "linecolor": "white",
            "showbackground": true,
            "ticks": "",
            "zerolinecolor": "white"
           },
           "zaxis": {
            "backgroundcolor": "#E5ECF6",
            "gridcolor": "white",
            "gridwidth": 2,
            "linecolor": "white",
            "showbackground": true,
            "ticks": "",
            "zerolinecolor": "white"
           }
          },
          "shapedefaults": {
           "line": {
            "color": "#2a3f5f"
           }
          },
          "ternary": {
           "aaxis": {
            "gridcolor": "white",
            "linecolor": "white",
            "ticks": ""
           },
           "baxis": {
            "gridcolor": "white",
            "linecolor": "white",
            "ticks": ""
           },
           "bgcolor": "#E5ECF6",
           "caxis": {
            "gridcolor": "white",
            "linecolor": "white",
            "ticks": ""
           }
          },
          "title": {
           "x": 0.05
          },
          "xaxis": {
           "automargin": true,
           "gridcolor": "white",
           "linecolor": "white",
           "ticks": "",
           "title": {
            "standoff": 15
           },
           "zerolinecolor": "white",
           "zerolinewidth": 2
          },
          "yaxis": {
           "automargin": true,
           "gridcolor": "white",
           "linecolor": "white",
           "ticks": "",
           "title": {
            "standoff": 15
           },
           "zerolinecolor": "white",
           "zerolinewidth": 2
          }
         }
        },
        "title": {
         "text": "Demographic Breakdown by Gender"
        }
       }
      },
      "image/png": "[encoded data removed]"
     },
     "metadata": {},
     "output_type": "display_data"
    }
   ],
   "source": [
    "# look in distinct_values.csv to see results \n",
    "get_distinct_values('df_combined','GENDER')\n",
    "\n",
    "fig = px.pie(\n",
    "    create_distinct_value_count_df('df_combined','GENDER','(\"Don\\'t know/Refused/Web blank\", \"Refused\")'),\n",
    "    names='GENDER',\n",
    "    values='Count',\n",
    "    title='Demographic Breakdown by Gender',\n",
    "    color_discrete_sequence=['#a0408d','#4076a0','#ecb61d']\n",
    ")\n",
    "fig.update_traces(textposition='inside', textinfo='percent+label').show()"
   ]
  },
  {
   "cell_type": "code",
   "execution_count": 606,
   "metadata": {},
   "outputs": [
    {
     "data": {
      "application/vnd.plotly.v1+json": {
       "config": {
        "plotlyServerURL": "https://plot.ly"
       },
       "data": [
        {
         "alignmentgroup": "True",
         "hovertemplate": "Count=%{text}<br>INCOME=%{y}<extra></extra>",
         "legendgroup": "",
         "marker": {
          "color": "#b088f9",
          "pattern": {
           "shape": ""
          }
         },
         "name": "",
         "offsetgroup": "",
         "orientation": "h",
         "showlegend": false,
         "text": [
          311,
          574,
          346,
          2177,
          1827,
          1402,
          655,
          1196,
          884,
          441,
          551,
          760,
          980,
          231,
          3624,
          5754,
          554
         ],
         "textposition": "auto",
         "type": "bar",
         "x": [
          311,
          574,
          346,
          2177,
          1827,
          1402,
          655,
          1196,
          884,
          441,
          551,
          760,
          980,
          231,
          3624,
          5754,
          554
         ],
         "xaxis": "x",
         "y": [
          "$10-20K",
          "$100-150K",
          "$20-30K",
          "$30-40K",
          "$40-50K",
          "$50-60K",
          "$50-75K",
          "$60-70K",
          "$70-80K",
          "$70-90K",
          "$75-100K",
          "$80-90K",
          "$90-100K",
          "< $10K",
          "< $30K",
          "> $100K",
          "> $150K"
         ],
         "yaxis": "y"
        }
       ],
       "layout": {
        "barmode": "relative",
        "legend": {
         "tracegroupgap": 0
        },
        "template": {
         "data": {
          "bar": [
           {
            "error_x": {
             "color": "#2a3f5f"
            },
            "error_y": {
             "color": "#2a3f5f"
            },
            "marker": {
             "line": {
              "color": "#E5ECF6",
              "width": 0.5
             },
             "pattern": {
              "fillmode": "overlay",
              "size": 10,
              "solidity": 0.2
             }
            },
            "type": "bar"
           }
          ],
          "barpolar": [
           {
            "marker": {
             "line": {
              "color": "#E5ECF6",
              "width": 0.5
             },
             "pattern": {
              "fillmode": "overlay",
              "size": 10,
              "solidity": 0.2
             }
            },
            "type": "barpolar"
           }
          ],
          "carpet": [
           {
            "aaxis": {
             "endlinecolor": "#2a3f5f",
             "gridcolor": "white",
             "linecolor": "white",
             "minorgridcolor": "white",
             "startlinecolor": "#2a3f5f"
            },
            "baxis": {
             "endlinecolor": "#2a3f5f",
             "gridcolor": "white",
             "linecolor": "white",
             "minorgridcolor": "white",
             "startlinecolor": "#2a3f5f"
            },
            "type": "carpet"
           }
          ],
          "choropleth": [
           {
            "colorbar": {
             "outlinewidth": 0,
             "ticks": ""
            },
            "type": "choropleth"
           }
          ],
          "contour": [
           {
            "colorbar": {
             "outlinewidth": 0,
             "ticks": ""
            },
            "colorscale": [
             [
              0,
              "#0d0887"
             ],
             [
              0.1111111111111111,
              "#46039f"
             ],
             [
              0.2222222222222222,
              "#7201a8"
             ],
             [
              0.3333333333333333,
              "#9c179e"
             ],
             [
              0.4444444444444444,
              "#bd3786"
             ],
             [
              0.5555555555555556,
              "#d8576b"
             ],
             [
              0.6666666666666666,
              "#ed7953"
             ],
             [
              0.7777777777777778,
              "#fb9f3a"
             ],
             [
              0.8888888888888888,
              "#fdca26"
             ],
             [
              1,
              "#f0f921"
             ]
            ],
            "type": "contour"
           }
          ],
          "contourcarpet": [
           {
            "colorbar": {
             "outlinewidth": 0,
             "ticks": ""
            },
            "type": "contourcarpet"
           }
          ],
          "heatmap": [
           {
            "colorbar": {
             "outlinewidth": 0,
             "ticks": ""
            },
            "colorscale": [
             [
              0,
              "#0d0887"
             ],
             [
              0.1111111111111111,
              "#46039f"
             ],
             [
              0.2222222222222222,
              "#7201a8"
             ],
             [
              0.3333333333333333,
              "#9c179e"
             ],
             [
              0.4444444444444444,
              "#bd3786"
             ],
             [
              0.5555555555555556,
              "#d8576b"
             ],
             [
              0.6666666666666666,
              "#ed7953"
             ],
             [
              0.7777777777777778,
              "#fb9f3a"
             ],
             [
              0.8888888888888888,
              "#fdca26"
             ],
             [
              1,
              "#f0f921"
             ]
            ],
            "type": "heatmap"
           }
          ],
          "heatmapgl": [
           {
            "colorbar": {
             "outlinewidth": 0,
             "ticks": ""
            },
            "colorscale": [
             [
              0,
              "#0d0887"
             ],
             [
              0.1111111111111111,
              "#46039f"
             ],
             [
              0.2222222222222222,
              "#7201a8"
             ],
             [
              0.3333333333333333,
              "#9c179e"
             ],
             [
              0.4444444444444444,
              "#bd3786"
             ],
             [
              0.5555555555555556,
              "#d8576b"
             ],
             [
              0.6666666666666666,
              "#ed7953"
             ],
             [
              0.7777777777777778,
              "#fb9f3a"
             ],
             [
              0.8888888888888888,
              "#fdca26"
             ],
             [
              1,
              "#f0f921"
             ]
            ],
            "type": "heatmapgl"
           }
          ],
          "histogram": [
           {
            "marker": {
             "pattern": {
              "fillmode": "overlay",
              "size": 10,
              "solidity": 0.2
             }
            },
            "type": "histogram"
           }
          ],
          "histogram2d": [
           {
            "colorbar": {
             "outlinewidth": 0,
             "ticks": ""
            },
            "colorscale": [
             [
              0,
              "#0d0887"
             ],
             [
              0.1111111111111111,
              "#46039f"
             ],
             [
              0.2222222222222222,
              "#7201a8"
             ],
             [
              0.3333333333333333,
              "#9c179e"
             ],
             [
              0.4444444444444444,
              "#bd3786"
             ],
             [
              0.5555555555555556,
              "#d8576b"
             ],
             [
              0.6666666666666666,
              "#ed7953"
             ],
             [
              0.7777777777777778,
              "#fb9f3a"
             ],
             [
              0.8888888888888888,
              "#fdca26"
             ],
             [
              1,
              "#f0f921"
             ]
            ],
            "type": "histogram2d"
           }
          ],
          "histogram2dcontour": [
           {
            "colorbar": {
             "outlinewidth": 0,
             "ticks": ""
            },
            "colorscale": [
             [
              0,
              "#0d0887"
             ],
             [
              0.1111111111111111,
              "#46039f"
             ],
             [
              0.2222222222222222,
              "#7201a8"
             ],
             [
              0.3333333333333333,
              "#9c179e"
             ],
             [
              0.4444444444444444,
              "#bd3786"
             ],
             [
              0.5555555555555556,
              "#d8576b"
             ],
             [
              0.6666666666666666,
              "#ed7953"
             ],
             [
              0.7777777777777778,
              "#fb9f3a"
             ],
             [
              0.8888888888888888,
              "#fdca26"
             ],
             [
              1,
              "#f0f921"
             ]
            ],
            "type": "histogram2dcontour"
           }
          ],
          "mesh3d": [
           {
            "colorbar": {
             "outlinewidth": 0,
             "ticks": ""
            },
            "type": "mesh3d"
           }
          ],
          "parcoords": [
           {
            "line": {
             "colorbar": {
              "outlinewidth": 0,
              "ticks": ""
             }
            },
            "type": "parcoords"
           }
          ],
          "pie": [
           {
            "automargin": true,
            "type": "pie"
           }
          ],
          "scatter": [
           {
            "fillpattern": {
             "fillmode": "overlay",
             "size": 10,
             "solidity": 0.2
            },
            "type": "scatter"
           }
          ],
          "scatter3d": [
           {
            "line": {
             "colorbar": {
              "outlinewidth": 0,
              "ticks": ""
             }
            },
            "marker": {
             "colorbar": {
              "outlinewidth": 0,
              "ticks": ""
             }
            },
            "type": "scatter3d"
           }
          ],
          "scattercarpet": [
           {
            "marker": {
             "colorbar": {
              "outlinewidth": 0,
              "ticks": ""
             }
            },
            "type": "scattercarpet"
           }
          ],
          "scattergeo": [
           {
            "marker": {
             "colorbar": {
              "outlinewidth": 0,
              "ticks": ""
             }
            },
            "type": "scattergeo"
           }
          ],
          "scattergl": [
           {
            "marker": {
             "colorbar": {
              "outlinewidth": 0,
              "ticks": ""
             }
            },
            "type": "scattergl"
           }
          ],
          "scattermapbox": [
           {
            "marker": {
             "colorbar": {
              "outlinewidth": 0,
              "ticks": ""
             }
            },
            "type": "scattermapbox"
           }
          ],
          "scatterpolar": [
           {
            "marker": {
             "colorbar": {
              "outlinewidth": 0,
              "ticks": ""
             }
            },
            "type": "scatterpolar"
           }
          ],
          "scatterpolargl": [
           {
            "marker": {
             "colorbar": {
              "outlinewidth": 0,
              "ticks": ""
             }
            },
            "type": "scatterpolargl"
           }
          ],
          "scatterternary": [
           {
            "marker": {
             "colorbar": {
              "outlinewidth": 0,
              "ticks": ""
             }
            },
            "type": "scatterternary"
           }
          ],
          "surface": [
           {
            "colorbar": {
             "outlinewidth": 0,
             "ticks": ""
            },
            "colorscale": [
             [
              0,
              "#0d0887"
             ],
             [
              0.1111111111111111,
              "#46039f"
             ],
             [
              0.2222222222222222,
              "#7201a8"
             ],
             [
              0.3333333333333333,
              "#9c179e"
             ],
             [
              0.4444444444444444,
              "#bd3786"
             ],
             [
              0.5555555555555556,
              "#d8576b"
             ],
             [
              0.6666666666666666,
              "#ed7953"
             ],
             [
              0.7777777777777778,
              "#fb9f3a"
             ],
             [
              0.8888888888888888,
              "#fdca26"
             ],
             [
              1,
              "#f0f921"
             ]
            ],
            "type": "surface"
           }
          ],
          "table": [
           {
            "cells": {
             "fill": {
              "color": "#EBF0F8"
             },
             "line": {
              "color": "white"
             }
            },
            "header": {
             "fill": {
              "color": "#C8D4E3"
             },
             "line": {
              "color": "white"
             }
            },
            "type": "table"
           }
          ]
         },
         "layout": {
          "annotationdefaults": {
           "arrowcolor": "#2a3f5f",
           "arrowhead": 0,
           "arrowwidth": 1
          },
          "autotypenumbers": "strict",
          "coloraxis": {
           "colorbar": {
            "outlinewidth": 0,
            "ticks": ""
           }
          },
          "colorscale": {
           "diverging": [
            [
             0,
             "#8e0152"
            ],
            [
             0.1,
             "#c51b7d"
            ],
            [
             0.2,
             "#de77ae"
            ],
            [
             0.3,
             "#f1b6da"
            ],
            [
             0.4,
             "#fde0ef"
            ],
            [
             0.5,
             "#f7f7f7"
            ],
            [
             0.6,
             "#e6f5d0"
            ],
            [
             0.7,
             "#b8e186"
            ],
            [
             0.8,
             "#7fbc41"
            ],
            [
             0.9,
             "#4d9221"
            ],
            [
             1,
             "#276419"
            ]
           ],
           "sequential": [
            [
             0,
             "#0d0887"
            ],
            [
             0.1111111111111111,
             "#46039f"
            ],
            [
             0.2222222222222222,
             "#7201a8"
            ],
            [
             0.3333333333333333,
             "#9c179e"
            ],
            [
             0.4444444444444444,
             "#bd3786"
            ],
            [
             0.5555555555555556,
             "#d8576b"
            ],
            [
             0.6666666666666666,
             "#ed7953"
            ],
            [
             0.7777777777777778,
             "#fb9f3a"
            ],
            [
             0.8888888888888888,
             "#fdca26"
            ],
            [
             1,
             "#f0f921"
            ]
           ],
           "sequentialminus": [
            [
             0,
             "#0d0887"
            ],
            [
             0.1111111111111111,
             "#46039f"
            ],
            [
             0.2222222222222222,
             "#7201a8"
            ],
            [
             0.3333333333333333,
             "#9c179e"
            ],
            [
             0.4444444444444444,
             "#bd3786"
            ],
            [
             0.5555555555555556,
             "#d8576b"
            ],
            [
             0.6666666666666666,
             "#ed7953"
            ],
            [
             0.7777777777777778,
             "#fb9f3a"
            ],
            [
             0.8888888888888888,
             "#fdca26"
            ],
            [
             1,
             "#f0f921"
            ]
           ]
          },
          "colorway": [
           "#636efa",
           "#EF553B",
           "#00cc96",
           "#ab63fa",
           "#FFA15A",
           "#19d3f3",
           "#FF6692",
           "#B6E880",
           "#FF97FF",
           "#FECB52"
          ],
          "font": {
           "color": "#2a3f5f"
          },
          "geo": {
           "bgcolor": "white",
           "lakecolor": "white",
           "landcolor": "#E5ECF6",
           "showlakes": true,
           "showland": true,
           "subunitcolor": "white"
          },
          "hoverlabel": {
           "align": "left"
          },
          "hovermode": "closest",
          "mapbox": {
           "style": "light"
          },
          "paper_bgcolor": "white",
          "plot_bgcolor": "#E5ECF6",
          "polar": {
           "angularaxis": {
            "gridcolor": "white",
            "linecolor": "white",
            "ticks": ""
           },
           "bgcolor": "#E5ECF6",
           "radialaxis": {
            "gridcolor": "white",
            "linecolor": "white",
            "ticks": ""
           }
          },
          "scene": {
           "xaxis": {
            "backgroundcolor": "#E5ECF6",
            "gridcolor": "white",
            "gridwidth": 2,
            "linecolor": "white",
            "showbackground": true,
            "ticks": "",
            "zerolinecolor": "white"
           },
           "yaxis": {
            "backgroundcolor": "#E5ECF6",
            "gridcolor": "white",
            "gridwidth": 2,
            "linecolor": "white",
            "showbackground": true,
            "ticks": "",
            "zerolinecolor": "white"
           },
           "zaxis": {
            "backgroundcolor": "#E5ECF6",
            "gridcolor": "white",
            "gridwidth": 2,
            "linecolor": "white",
            "showbackground": true,
            "ticks": "",
            "zerolinecolor": "white"
           }
          },
          "shapedefaults": {
           "line": {
            "color": "#2a3f5f"
           }
          },
          "ternary": {
           "aaxis": {
            "gridcolor": "white",
            "linecolor": "white",
            "ticks": ""
           },
           "baxis": {
            "gridcolor": "white",
            "linecolor": "white",
            "ticks": ""
           },
           "bgcolor": "#E5ECF6",
           "caxis": {
            "gridcolor": "white",
            "linecolor": "white",
            "ticks": ""
           }
          },
          "title": {
           "x": 0.05
          },
          "xaxis": {
           "automargin": true,
           "gridcolor": "white",
           "linecolor": "white",
           "ticks": "",
           "title": {
            "standoff": 15
           },
           "zerolinecolor": "white",
           "zerolinewidth": 2
          },
          "yaxis": {
           "automargin": true,
           "gridcolor": "white",
           "linecolor": "white",
           "ticks": "",
           "title": {
            "standoff": 15
           },
           "zerolinecolor": "white",
           "zerolinewidth": 2
          }
         }
        },
        "title": {
         "text": "Demographic Breakdown by Income Group"
        },
        "xaxis": {
         "anchor": "y",
         "domain": [
          0,
          1
         ],
         "title": {
          "text": "Count"
         }
        },
        "yaxis": {
         "anchor": "x",
         "categoryarray": [
          "> $150K",
          "$100-150K",
          "> $100K",
          "$90-100K",
          "$75-100K",
          "$80-90K",
          "$70-90K",
          "$70-80K",
          "$60-70K",
          "$50-75K",
          "$50-60K",
          "$40-50K",
          "$30-40K",
          "< $30K",
          "$20-30K",
          "$10-20K",
          "< $10K"
         ],
         "categoryorder": "array",
         "domain": [
          0,
          1
         ],
         "title": {
          "text": "Income"
         }
        }
       }
      }
     },
     "metadata": {},
     "output_type": "display_data"
    },
    {
     "data": {
      "application/vnd.plotly.v1+json": {
       "config": {
        "plotlyServerURL": "https://plot.ly"
       },
       "data": [
        {
         "alignmentgroup": "True",
         "hovertemplate": "INCOME_GROUP=%{x}<br>Count=%{y}<extra></extra>",
         "legendgroup": "",
         "marker": {
          "color": "#77be34",
          "pattern": {
           "shape": ""
          }
         },
         "name": "",
         "offsetgroup": "",
         "orientation": "v",
         "showlegend": false,
         "textposition": "auto",
         "texttemplate": "%{y:.2s}",
         "type": "bar",
         "x": [
          "$100K+",
          "$40-70K",
          "$70-100K",
          "Under $40k"
         ],
         "xaxis": "x",
         "y": [
          6882,
          4425,
          3616,
          6689
         ],
         "yaxis": "y"
        }
       ],
       "layout": {
        "annotations": [
         {
          "font": {
           "color": "gray",
           "size": 12
          },
          "showarrow": false,
          "text": "*Participants in the $50-75K group (665 people) are excluded",
          "x": -0.08,
          "xref": "paper",
          "y": -0.2,
          "yref": "paper"
         }
        ],
        "barmode": "relative",
        "legend": {
         "tracegroupgap": 0
        },
        "template": {
         "data": {
          "bar": [
           {
            "error_x": {
             "color": "#2a3f5f"
            },
            "error_y": {
             "color": "#2a3f5f"
            },
            "marker": {
             "line": {
              "color": "#E5ECF6",
              "width": 0.5
             },
             "pattern": {
              "fillmode": "overlay",
              "size": 10,
              "solidity": 0.2
             }
            },
            "type": "bar"
           }
          ],
          "barpolar": [
           {
            "marker": {
             "line": {
              "color": "#E5ECF6",
              "width": 0.5
             },
             "pattern": {
              "fillmode": "overlay",
              "size": 10,
              "solidity": 0.2
             }
            },
            "type": "barpolar"
           }
          ],
          "carpet": [
           {
            "aaxis": {
             "endlinecolor": "#2a3f5f",
             "gridcolor": "white",
             "linecolor": "white",
             "minorgridcolor": "white",
             "startlinecolor": "#2a3f5f"
            },
            "baxis": {
             "endlinecolor": "#2a3f5f",
             "gridcolor": "white",
             "linecolor": "white",
             "minorgridcolor": "white",
             "startlinecolor": "#2a3f5f"
            },
            "type": "carpet"
           }
          ],
          "choropleth": [
           {
            "colorbar": {
             "outlinewidth": 0,
             "ticks": ""
            },
            "type": "choropleth"
           }
          ],
          "contour": [
           {
            "colorbar": {
             "outlinewidth": 0,
             "ticks": ""
            },
            "colorscale": [
             [
              0,
              "#0d0887"
             ],
             [
              0.1111111111111111,
              "#46039f"
             ],
             [
              0.2222222222222222,
              "#7201a8"
             ],
             [
              0.3333333333333333,
              "#9c179e"
             ],
             [
              0.4444444444444444,
              "#bd3786"
             ],
             [
              0.5555555555555556,
              "#d8576b"
             ],
             [
              0.6666666666666666,
              "#ed7953"
             ],
             [
              0.7777777777777778,
              "#fb9f3a"
             ],
             [
              0.8888888888888888,
              "#fdca26"
             ],
             [
              1,
              "#f0f921"
             ]
            ],
            "type": "contour"
           }
          ],
          "contourcarpet": [
           {
            "colorbar": {
             "outlinewidth": 0,
             "ticks": ""
            },
            "type": "contourcarpet"
           }
          ],
          "heatmap": [
           {
            "colorbar": {
             "outlinewidth": 0,
             "ticks": ""
            },
            "colorscale": [
             [
              0,
              "#0d0887"
             ],
             [
              0.1111111111111111,
              "#46039f"
             ],
             [
              0.2222222222222222,
              "#7201a8"
             ],
             [
              0.3333333333333333,
              "#9c179e"
             ],
             [
              0.4444444444444444,
              "#bd3786"
             ],
             [
              0.5555555555555556,
              "#d8576b"
             ],
             [
              0.6666666666666666,
              "#ed7953"
             ],
             [
              0.7777777777777778,
              "#fb9f3a"
             ],
             [
              0.8888888888888888,
              "#fdca26"
             ],
             [
              1,
              "#f0f921"
             ]
            ],
            "type": "heatmap"
           }
          ],
          "heatmapgl": [
           {
            "colorbar": {
             "outlinewidth": 0,
             "ticks": ""
            },
            "colorscale": [
             [
              0,
              "#0d0887"
             ],
             [
              0.1111111111111111,
              "#46039f"
             ],
             [
              0.2222222222222222,
              "#7201a8"
             ],
             [
              0.3333333333333333,
              "#9c179e"
             ],
             [
              0.4444444444444444,
              "#bd3786"
             ],
             [
              0.5555555555555556,
              "#d8576b"
             ],
             [
              0.6666666666666666,
              "#ed7953"
             ],
             [
              0.7777777777777778,
              "#fb9f3a"
             ],
             [
              0.8888888888888888,
              "#fdca26"
             ],
             [
              1,
              "#f0f921"
             ]
            ],
            "type": "heatmapgl"
           }
          ],
          "histogram": [
           {
            "marker": {
             "pattern": {
              "fillmode": "overlay",
              "size": 10,
              "solidity": 0.2
             }
            },
            "type": "histogram"
           }
          ],
          "histogram2d": [
           {
            "colorbar": {
             "outlinewidth": 0,
             "ticks": ""
            },
            "colorscale": [
             [
              0,
              "#0d0887"
             ],
             [
              0.1111111111111111,
              "#46039f"
             ],
             [
              0.2222222222222222,
              "#7201a8"
             ],
             [
              0.3333333333333333,
              "#9c179e"
             ],
             [
              0.4444444444444444,
              "#bd3786"
             ],
             [
              0.5555555555555556,
              "#d8576b"
             ],
             [
              0.6666666666666666,
              "#ed7953"
             ],
             [
              0.7777777777777778,
              "#fb9f3a"
             ],
             [
              0.8888888888888888,
              "#fdca26"
             ],
             [
              1,
              "#f0f921"
             ]
            ],
            "type": "histogram2d"
           }
          ],
          "histogram2dcontour": [
           {
            "colorbar": {
             "outlinewidth": 0,
             "ticks": ""
            },
            "colorscale": [
             [
              0,
              "#0d0887"
             ],
             [
              0.1111111111111111,
              "#46039f"
             ],
             [
              0.2222222222222222,
              "#7201a8"
             ],
             [
              0.3333333333333333,
              "#9c179e"
             ],
             [
              0.4444444444444444,
              "#bd3786"
             ],
             [
              0.5555555555555556,
              "#d8576b"
             ],
             [
              0.6666666666666666,
              "#ed7953"
             ],
             [
              0.7777777777777778,
              "#fb9f3a"
             ],
             [
              0.8888888888888888,
              "#fdca26"
             ],
             [
              1,
              "#f0f921"
             ]
            ],
            "type": "histogram2dcontour"
           }
          ],
          "mesh3d": [
           {
            "colorbar": {
             "outlinewidth": 0,
             "ticks": ""
            },
            "type": "mesh3d"
           }
          ],
          "parcoords": [
           {
            "line": {
             "colorbar": {
              "outlinewidth": 0,
              "ticks": ""
             }
            },
            "type": "parcoords"
           }
          ],
          "pie": [
           {
            "automargin": true,
            "type": "pie"
           }
          ],
          "scatter": [
           {
            "fillpattern": {
             "fillmode": "overlay",
             "size": 10,
             "solidity": 0.2
            },
            "type": "scatter"
           }
          ],
          "scatter3d": [
           {
            "line": {
             "colorbar": {
              "outlinewidth": 0,
              "ticks": ""
             }
            },
            "marker": {
             "colorbar": {
              "outlinewidth": 0,
              "ticks": ""
             }
            },
            "type": "scatter3d"
           }
          ],
          "scattercarpet": [
           {
            "marker": {
             "colorbar": {
              "outlinewidth": 0,
              "ticks": ""
             }
            },
            "type": "scattercarpet"
           }
          ],
          "scattergeo": [
           {
            "marker": {
             "colorbar": {
              "outlinewidth": 0,
              "ticks": ""
             }
            },
            "type": "scattergeo"
           }
          ],
          "scattergl": [
           {
            "marker": {
             "colorbar": {
              "outlinewidth": 0,
              "ticks": ""
             }
            },
            "type": "scattergl"
           }
          ],
          "scattermapbox": [
           {
            "marker": {
             "colorbar": {
              "outlinewidth": 0,
              "ticks": ""
             }
            },
            "type": "scattermapbox"
           }
          ],
          "scatterpolar": [
           {
            "marker": {
             "colorbar": {
              "outlinewidth": 0,
              "ticks": ""
             }
            },
            "type": "scatterpolar"
           }
          ],
          "scatterpolargl": [
           {
            "marker": {
             "colorbar": {
              "outlinewidth": 0,
              "ticks": ""
             }
            },
            "type": "scatterpolargl"
           }
          ],
          "scatterternary": [
           {
            "marker": {
             "colorbar": {
              "outlinewidth": 0,
              "ticks": ""
             }
            },
            "type": "scatterternary"
           }
          ],
          "surface": [
           {
            "colorbar": {
             "outlinewidth": 0,
             "ticks": ""
            },
            "colorscale": [
             [
              0,
              "#0d0887"
             ],
             [
              0.1111111111111111,
              "#46039f"
             ],
             [
              0.2222222222222222,
              "#7201a8"
             ],
             [
              0.3333333333333333,
              "#9c179e"
             ],
             [
              0.4444444444444444,
              "#bd3786"
             ],
             [
              0.5555555555555556,
              "#d8576b"
             ],
             [
              0.6666666666666666,
              "#ed7953"
             ],
             [
              0.7777777777777778,
              "#fb9f3a"
             ],
             [
              0.8888888888888888,
              "#fdca26"
             ],
             [
              1,
              "#f0f921"
             ]
            ],
            "type": "surface"
           }
          ],
          "table": [
           {
            "cells": {
             "fill": {
              "color": "#EBF0F8"
             },
             "line": {
              "color": "white"
             }
            },
            "header": {
             "fill": {
              "color": "#C8D4E3"
             },
             "line": {
              "color": "white"
             }
            },
            "type": "table"
           }
          ]
         },
         "layout": {
          "annotationdefaults": {
           "arrowcolor": "#2a3f5f",
           "arrowhead": 0,
           "arrowwidth": 1
          },
          "autotypenumbers": "strict",
          "coloraxis": {
           "colorbar": {
            "outlinewidth": 0,
            "ticks": ""
           }
          },
          "colorscale": {
           "diverging": [
            [
             0,
             "#8e0152"
            ],
            [
             0.1,
             "#c51b7d"
            ],
            [
             0.2,
             "#de77ae"
            ],
            [
             0.3,
             "#f1b6da"
            ],
            [
             0.4,
             "#fde0ef"
            ],
            [
             0.5,
             "#f7f7f7"
            ],
            [
             0.6,
             "#e6f5d0"
            ],
            [
             0.7,
             "#b8e186"
            ],
            [
             0.8,
             "#7fbc41"
            ],
            [
             0.9,
             "#4d9221"
            ],
            [
             1,
             "#276419"
            ]
           ],
           "sequential": [
            [
             0,
             "#0d0887"
            ],
            [
             0.1111111111111111,
             "#46039f"
            ],
            [
             0.2222222222222222,
             "#7201a8"
            ],
            [
             0.3333333333333333,
             "#9c179e"
            ],
            [
             0.4444444444444444,
             "#bd3786"
            ],
            [
             0.5555555555555556,
             "#d8576b"
            ],
            [
             0.6666666666666666,
             "#ed7953"
            ],
            [
             0.7777777777777778,
             "#fb9f3a"
            ],
            [
             0.8888888888888888,
             "#fdca26"
            ],
            [
             1,
             "#f0f921"
            ]
           ],
           "sequentialminus": [
            [
             0,
             "#0d0887"
            ],
            [
             0.1111111111111111,
             "#46039f"
            ],
            [
             0.2222222222222222,
             "#7201a8"
            ],
            [
             0.3333333333333333,
             "#9c179e"
            ],
            [
             0.4444444444444444,
             "#bd3786"
            ],
            [
             0.5555555555555556,
             "#d8576b"
            ],
            [
             0.6666666666666666,
             "#ed7953"
            ],
            [
             0.7777777777777778,
             "#fb9f3a"
            ],
            [
             0.8888888888888888,
             "#fdca26"
            ],
            [
             1,
             "#f0f921"
            ]
           ]
          },
          "colorway": [
           "#636efa",
           "#EF553B",
           "#00cc96",
           "#ab63fa",
           "#FFA15A",
           "#19d3f3",
           "#FF6692",
           "#B6E880",
           "#FF97FF",
           "#FECB52"
          ],
          "font": {
           "color": "#2a3f5f"
          },
          "geo": {
           "bgcolor": "white",
           "lakecolor": "white",
           "landcolor": "#E5ECF6",
           "showlakes": true,
           "showland": true,
           "subunitcolor": "white"
          },
          "hoverlabel": {
           "align": "left"
          },
          "hovermode": "closest",
          "mapbox": {
           "style": "light"
          },
          "paper_bgcolor": "white",
          "plot_bgcolor": "#E5ECF6",
          "polar": {
           "angularaxis": {
            "gridcolor": "white",
            "linecolor": "white",
            "ticks": ""
           },
           "bgcolor": "#E5ECF6",
           "radialaxis": {
            "gridcolor": "white",
            "linecolor": "white",
            "ticks": ""
           }
          },
          "scene": {
           "xaxis": {
            "backgroundcolor": "#E5ECF6",
            "gridcolor": "white",
            "gridwidth": 2,
            "linecolor": "white",
            "showbackground": true,
            "ticks": "",
            "zerolinecolor": "white"
           },
           "yaxis": {
            "backgroundcolor": "#E5ECF6",
            "gridcolor": "white",
            "gridwidth": 2,
            "linecolor": "white",
            "showbackground": true,
            "ticks": "",
            "zerolinecolor": "white"
           },
           "zaxis": {
            "backgroundcolor": "#E5ECF6",
            "gridcolor": "white",
            "gridwidth": 2,
            "linecolor": "white",
            "showbackground": true,
            "ticks": "",
            "zerolinecolor": "white"
           }
          },
          "shapedefaults": {
           "line": {
            "color": "#2a3f5f"
           }
          },
          "ternary": {
           "aaxis": {
            "gridcolor": "white",
            "linecolor": "white",
            "ticks": ""
           },
           "baxis": {
            "gridcolor": "white",
            "linecolor": "white",
            "ticks": ""
           },
           "bgcolor": "#E5ECF6",
           "caxis": {
            "gridcolor": "white",
            "linecolor": "white",
            "ticks": ""
           }
          },
          "title": {
           "x": 0.05
          },
          "xaxis": {
           "automargin": true,
           "gridcolor": "white",
           "linecolor": "white",
           "ticks": "",
           "title": {
            "standoff": 15
           },
           "zerolinecolor": "white",
           "zerolinewidth": 2
          },
          "yaxis": {
           "automargin": true,
           "gridcolor": "white",
           "linecolor": "white",
           "ticks": "",
           "title": {
            "standoff": 15
           },
           "zerolinecolor": "white",
           "zerolinewidth": 2
          }
         }
        },
        "title": {
         "text": "Demographic Breakdown by Income Group (Summarized)"
        },
        "xaxis": {
         "anchor": "y",
         "categoryarray": [
          "Under $40k",
          "$40-70K",
          "$70-100K",
          "$100K+"
         ],
         "categoryorder": "array",
         "domain": [
          0,
          1
         ],
         "title": {
          "text": "Income Group"
         }
        },
        "yaxis": {
         "anchor": "x",
         "domain": [
          0,
          1
         ],
         "title": {
          "text": "Count"
         }
        }
       }
      }
     },
     "metadata": {},
     "output_type": "display_data"
    }
   ],
   "source": [
    "# look in distinct_values.csv to see results\n",
    "get_distinct_values('df_combined','INCOME')\n",
    "\n",
    "fig = px.bar(\n",
    "    create_distinct_value_count_df('df_combined','INCOME','(\"Refused\",\"Don\\'t know/Refused/Web blank\")'), \n",
    "    y='INCOME', \n",
    "    x='Count', \n",
    "    text='Count',\n",
    "    title=\"Demographic Breakdown by Income Group\",\n",
    "    color_discrete_sequence=['#b088f9'],\n",
    "    category_orders={'INCOME':[\n",
    "        '< $10K',\n",
    "        '$10-20K',\n",
    "        '$20-30K',\n",
    "        '< $30K',\n",
    "        '$30-40K',\n",
    "        '$40-50K',\n",
    "        '$50-60K',\n",
    "        '$50-75K',\n",
    "        '$60-70K',\n",
    "        '$70-80K',\n",
    "        '$70-90K',\n",
    "        '$80-90K',\n",
    "        '$75-100K',\n",
    "        '$90-100K',\n",
    "        '> $100K',\n",
    "        '$100-150K',\n",
    "        '> $150K'\n",
    "    ]}\n",
    ")\n",
    "fig.update_yaxes(title=\"Income\").show()\n",
    "\n",
    "fig = px.bar(\n",
    "    create_distinct_value_count_df('df_combined','INCOME_GROUP',\"('Other')\"),\n",
    "    x='INCOME_GROUP',\n",
    "    y='Count',\n",
    "    title='Demographic Breakdown by Income Group (Summarized)',\n",
    "    text_auto='.2s',\n",
    "    color_discrete_sequence=['#77be34'],\n",
    "    category_orders={'INCOME_GROUP':[\n",
    "        'Under $40k',\n",
    "        '$40-70K',\n",
    "        '$70-100K',\n",
    "        '$100K+'\n",
    "    ]}\n",
    ")\n",
    "\n",
    "# add subtitle\n",
    "fig.update_layout(\n",
    "    annotations=[\n",
    "        dict(\n",
    "            x=-0.08, y=-0.20,  # Position below the chart\n",
    "            text=\"*Participants in the $50-75K group (665 people) are excluded\",\n",
    "            showarrow=False,  # No arrow pointing to the text\n",
    "            xref=\"paper\", yref=\"paper\",  # Position relative to the chart\n",
    "            font=dict(size=12, color=\"gray\"),\n",
    "        )\n",
    "    ]\n",
    ").update_xaxes(title=\"Income Group\").show()\n"
   ]
  },
  {
   "cell_type": "code",
   "execution_count": 607,
   "metadata": {},
   "outputs": [
    {
     "data": {
      "application/vnd.plotly.v1+json": {
       "config": {
        "plotlyServerURL": "https://plot.ly"
       },
       "data": [
        {
         "alignmentgroup": "True",
         "hovertemplate": "Count=%{text}<br>EDUCATION=%{y}<extra></extra>",
         "legendgroup": "",
         "marker": {
          "color": "#063dcf",
          "pattern": {
           "shape": ""
          }
         },
         "name": "",
         "offsetgroup": "",
         "orientation": "h",
         "showlegend": false,
         "text": [
          2492,
          5888,
          107,
          94,
          540,
          199,
          4319,
          4,
          566,
          3765,
          342,
          4945
         ],
         "textposition": "auto",
         "type": "bar",
         "x": [
          2492,
          5888,
          107,
          94,
          540,
          199,
          4319,
          4,
          566,
          3765,
          342,
          4945
         ],
         "xaxis": "x",
         "y": [
          "Associate's Degree",
          "Bachelor's Degree",
          "Bachelor's Degree or Higher",
          "Doctorate Degree",
          "Grade 11",
          "Grade 12",
          "High School or GED",
          "Kindergarten",
          "Master's Degree",
          "Master's degree or higher",
          "No schooling completed",
          "Some college"
         ],
         "yaxis": "y"
        }
       ],
       "layout": {
        "barmode": "relative",
        "legend": {
         "tracegroupgap": 0
        },
        "template": {
         "data": {
          "bar": [
           {
            "error_x": {
             "color": "#2a3f5f"
            },
            "error_y": {
             "color": "#2a3f5f"
            },
            "marker": {
             "line": {
              "color": "#E5ECF6",
              "width": 0.5
             },
             "pattern": {
              "fillmode": "overlay",
              "size": 10,
              "solidity": 0.2
             }
            },
            "type": "bar"
           }
          ],
          "barpolar": [
           {
            "marker": {
             "line": {
              "color": "#E5ECF6",
              "width": 0.5
             },
             "pattern": {
              "fillmode": "overlay",
              "size": 10,
              "solidity": 0.2
             }
            },
            "type": "barpolar"
           }
          ],
          "carpet": [
           {
            "aaxis": {
             "endlinecolor": "#2a3f5f",
             "gridcolor": "white",
             "linecolor": "white",
             "minorgridcolor": "white",
             "startlinecolor": "#2a3f5f"
            },
            "baxis": {
             "endlinecolor": "#2a3f5f",
             "gridcolor": "white",
             "linecolor": "white",
             "minorgridcolor": "white",
             "startlinecolor": "#2a3f5f"
            },
            "type": "carpet"
           }
          ],
          "choropleth": [
           {
            "colorbar": {
             "outlinewidth": 0,
             "ticks": ""
            },
            "type": "choropleth"
           }
          ],
          "contour": [
           {
            "colorbar": {
             "outlinewidth": 0,
             "ticks": ""
            },
            "colorscale": [
             [
              0,
              "#0d0887"
             ],
             [
              0.1111111111111111,
              "#46039f"
             ],
             [
              0.2222222222222222,
              "#7201a8"
             ],
             [
              0.3333333333333333,
              "#9c179e"
             ],
             [
              0.4444444444444444,
              "#bd3786"
             ],
             [
              0.5555555555555556,
              "#d8576b"
             ],
             [
              0.6666666666666666,
              "#ed7953"
             ],
             [
              0.7777777777777778,
              "#fb9f3a"
             ],
             [
              0.8888888888888888,
              "#fdca26"
             ],
             [
              1,
              "#f0f921"
             ]
            ],
            "type": "contour"
           }
          ],
          "contourcarpet": [
           {
            "colorbar": {
             "outlinewidth": 0,
             "ticks": ""
            },
            "type": "contourcarpet"
           }
          ],
          "heatmap": [
           {
            "colorbar": {
             "outlinewidth": 0,
             "ticks": ""
            },
            "colorscale": [
             [
              0,
              "#0d0887"
             ],
             [
              0.1111111111111111,
              "#46039f"
             ],
             [
              0.2222222222222222,
              "#7201a8"
             ],
             [
              0.3333333333333333,
              "#9c179e"
             ],
             [
              0.4444444444444444,
              "#bd3786"
             ],
             [
              0.5555555555555556,
              "#d8576b"
             ],
             [
              0.6666666666666666,
              "#ed7953"
             ],
             [
              0.7777777777777778,
              "#fb9f3a"
             ],
             [
              0.8888888888888888,
              "#fdca26"
             ],
             [
              1,
              "#f0f921"
             ]
            ],
            "type": "heatmap"
           }
          ],
          "heatmapgl": [
           {
            "colorbar": {
             "outlinewidth": 0,
             "ticks": ""
            },
            "colorscale": [
             [
              0,
              "#0d0887"
             ],
             [
              0.1111111111111111,
              "#46039f"
             ],
             [
              0.2222222222222222,
              "#7201a8"
             ],
             [
              0.3333333333333333,
              "#9c179e"
             ],
             [
              0.4444444444444444,
              "#bd3786"
             ],
             [
              0.5555555555555556,
              "#d8576b"
             ],
             [
              0.6666666666666666,
              "#ed7953"
             ],
             [
              0.7777777777777778,
              "#fb9f3a"
             ],
             [
              0.8888888888888888,
              "#fdca26"
             ],
             [
              1,
              "#f0f921"
             ]
            ],
            "type": "heatmapgl"
           }
          ],
          "histogram": [
           {
            "marker": {
             "pattern": {
              "fillmode": "overlay",
              "size": 10,
              "solidity": 0.2
             }
            },
            "type": "histogram"
           }
          ],
          "histogram2d": [
           {
            "colorbar": {
             "outlinewidth": 0,
             "ticks": ""
            },
            "colorscale": [
             [
              0,
              "#0d0887"
             ],
             [
              0.1111111111111111,
              "#46039f"
             ],
             [
              0.2222222222222222,
              "#7201a8"
             ],
             [
              0.3333333333333333,
              "#9c179e"
             ],
             [
              0.4444444444444444,
              "#bd3786"
             ],
             [
              0.5555555555555556,
              "#d8576b"
             ],
             [
              0.6666666666666666,
              "#ed7953"
             ],
             [
              0.7777777777777778,
              "#fb9f3a"
             ],
             [
              0.8888888888888888,
              "#fdca26"
             ],
             [
              1,
              "#f0f921"
             ]
            ],
            "type": "histogram2d"
           }
          ],
          "histogram2dcontour": [
           {
            "colorbar": {
             "outlinewidth": 0,
             "ticks": ""
            },
            "colorscale": [
             [
              0,
              "#0d0887"
             ],
             [
              0.1111111111111111,
              "#46039f"
             ],
             [
              0.2222222222222222,
              "#7201a8"
             ],
             [
              0.3333333333333333,
              "#9c179e"
             ],
             [
              0.4444444444444444,
              "#bd3786"
             ],
             [
              0.5555555555555556,
              "#d8576b"
             ],
             [
              0.6666666666666666,
              "#ed7953"
             ],
             [
              0.7777777777777778,
              "#fb9f3a"
             ],
             [
              0.8888888888888888,
              "#fdca26"
             ],
             [
              1,
              "#f0f921"
             ]
            ],
            "type": "histogram2dcontour"
           }
          ],
          "mesh3d": [
           {
            "colorbar": {
             "outlinewidth": 0,
             "ticks": ""
            },
            "type": "mesh3d"
           }
          ],
          "parcoords": [
           {
            "line": {
             "colorbar": {
              "outlinewidth": 0,
              "ticks": ""
             }
            },
            "type": "parcoords"
           }
          ],
          "pie": [
           {
            "automargin": true,
            "type": "pie"
           }
          ],
          "scatter": [
           {
            "fillpattern": {
             "fillmode": "overlay",
             "size": 10,
             "solidity": 0.2
            },
            "type": "scatter"
           }
          ],
          "scatter3d": [
           {
            "line": {
             "colorbar": {
              "outlinewidth": 0,
              "ticks": ""
             }
            },
            "marker": {
             "colorbar": {
              "outlinewidth": 0,
              "ticks": ""
             }
            },
            "type": "scatter3d"
           }
          ],
          "scattercarpet": [
           {
            "marker": {
             "colorbar": {
              "outlinewidth": 0,
              "ticks": ""
             }
            },
            "type": "scattercarpet"
           }
          ],
          "scattergeo": [
           {
            "marker": {
             "colorbar": {
              "outlinewidth": 0,
              "ticks": ""
             }
            },
            "type": "scattergeo"
           }
          ],
          "scattergl": [
           {
            "marker": {
             "colorbar": {
              "outlinewidth": 0,
              "ticks": ""
             }
            },
            "type": "scattergl"
           }
          ],
          "scattermapbox": [
           {
            "marker": {
             "colorbar": {
              "outlinewidth": 0,
              "ticks": ""
             }
            },
            "type": "scattermapbox"
           }
          ],
          "scatterpolar": [
           {
            "marker": {
             "colorbar": {
              "outlinewidth": 0,
              "ticks": ""
             }
            },
            "type": "scatterpolar"
           }
          ],
          "scatterpolargl": [
           {
            "marker": {
             "colorbar": {
              "outlinewidth": 0,
              "ticks": ""
             }
            },
            "type": "scatterpolargl"
           }
          ],
          "scatterternary": [
           {
            "marker": {
             "colorbar": {
              "outlinewidth": 0,
              "ticks": ""
             }
            },
            "type": "scatterternary"
           }
          ],
          "surface": [
           {
            "colorbar": {
             "outlinewidth": 0,
             "ticks": ""
            },
            "colorscale": [
             [
              0,
              "#0d0887"
             ],
             [
              0.1111111111111111,
              "#46039f"
             ],
             [
              0.2222222222222222,
              "#7201a8"
             ],
             [
              0.3333333333333333,
              "#9c179e"
             ],
             [
              0.4444444444444444,
              "#bd3786"
             ],
             [
              0.5555555555555556,
              "#d8576b"
             ],
             [
              0.6666666666666666,
              "#ed7953"
             ],
             [
              0.7777777777777778,
              "#fb9f3a"
             ],
             [
              0.8888888888888888,
              "#fdca26"
             ],
             [
              1,
              "#f0f921"
             ]
            ],
            "type": "surface"
           }
          ],
          "table": [
           {
            "cells": {
             "fill": {
              "color": "#EBF0F8"
             },
             "line": {
              "color": "white"
             }
            },
            "header": {
             "fill": {
              "color": "#C8D4E3"
             },
             "line": {
              "color": "white"
             }
            },
            "type": "table"
           }
          ]
         },
         "layout": {
          "annotationdefaults": {
           "arrowcolor": "#2a3f5f",
           "arrowhead": 0,
           "arrowwidth": 1
          },
          "autotypenumbers": "strict",
          "coloraxis": {
           "colorbar": {
            "outlinewidth": 0,
            "ticks": ""
           }
          },
          "colorscale": {
           "diverging": [
            [
             0,
             "#8e0152"
            ],
            [
             0.1,
             "#c51b7d"
            ],
            [
             0.2,
             "#de77ae"
            ],
            [
             0.3,
             "#f1b6da"
            ],
            [
             0.4,
             "#fde0ef"
            ],
            [
             0.5,
             "#f7f7f7"
            ],
            [
             0.6,
             "#e6f5d0"
            ],
            [
             0.7,
             "#b8e186"
            ],
            [
             0.8,
             "#7fbc41"
            ],
            [
             0.9,
             "#4d9221"
            ],
            [
             1,
             "#276419"
            ]
           ],
           "sequential": [
            [
             0,
             "#0d0887"
            ],
            [
             0.1111111111111111,
             "#46039f"
            ],
            [
             0.2222222222222222,
             "#7201a8"
            ],
            [
             0.3333333333333333,
             "#9c179e"
            ],
            [
             0.4444444444444444,
             "#bd3786"
            ],
            [
             0.5555555555555556,
             "#d8576b"
            ],
            [
             0.6666666666666666,
             "#ed7953"
            ],
            [
             0.7777777777777778,
             "#fb9f3a"
            ],
            [
             0.8888888888888888,
             "#fdca26"
            ],
            [
             1,
             "#f0f921"
            ]
           ],
           "sequentialminus": [
            [
             0,
             "#0d0887"
            ],
            [
             0.1111111111111111,
             "#46039f"
            ],
            [
             0.2222222222222222,
             "#7201a8"
            ],
            [
             0.3333333333333333,
             "#9c179e"
            ],
            [
             0.4444444444444444,
             "#bd3786"
            ],
            [
             0.5555555555555556,
             "#d8576b"
            ],
            [
             0.6666666666666666,
             "#ed7953"
            ],
            [
             0.7777777777777778,
             "#fb9f3a"
            ],
            [
             0.8888888888888888,
             "#fdca26"
            ],
            [
             1,
             "#f0f921"
            ]
           ]
          },
          "colorway": [
           "#636efa",
           "#EF553B",
           "#00cc96",
           "#ab63fa",
           "#FFA15A",
           "#19d3f3",
           "#FF6692",
           "#B6E880",
           "#FF97FF",
           "#FECB52"
          ],
          "font": {
           "color": "#2a3f5f"
          },
          "geo": {
           "bgcolor": "white",
           "lakecolor": "white",
           "landcolor": "#E5ECF6",
           "showlakes": true,
           "showland": true,
           "subunitcolor": "white"
          },
          "hoverlabel": {
           "align": "left"
          },
          "hovermode": "closest",
          "mapbox": {
           "style": "light"
          },
          "paper_bgcolor": "white",
          "plot_bgcolor": "#E5ECF6",
          "polar": {
           "angularaxis": {
            "gridcolor": "white",
            "linecolor": "white",
            "ticks": ""
           },
           "bgcolor": "#E5ECF6",
           "radialaxis": {
            "gridcolor": "white",
            "linecolor": "white",
            "ticks": ""
           }
          },
          "scene": {
           "xaxis": {
            "backgroundcolor": "#E5ECF6",
            "gridcolor": "white",
            "gridwidth": 2,
            "linecolor": "white",
            "showbackground": true,
            "ticks": "",
            "zerolinecolor": "white"
           },
           "yaxis": {
            "backgroundcolor": "#E5ECF6",
            "gridcolor": "white",
            "gridwidth": 2,
            "linecolor": "white",
            "showbackground": true,
            "ticks": "",
            "zerolinecolor": "white"
           },
           "zaxis": {
            "backgroundcolor": "#E5ECF6",
            "gridcolor": "white",
            "gridwidth": 2,
            "linecolor": "white",
            "showbackground": true,
            "ticks": "",
            "zerolinecolor": "white"
           }
          },
          "shapedefaults": {
           "line": {
            "color": "#2a3f5f"
           }
          },
          "ternary": {
           "aaxis": {
            "gridcolor": "white",
            "linecolor": "white",
            "ticks": ""
           },
           "baxis": {
            "gridcolor": "white",
            "linecolor": "white",
            "ticks": ""
           },
           "bgcolor": "#E5ECF6",
           "caxis": {
            "gridcolor": "white",
            "linecolor": "white",
            "ticks": ""
           }
          },
          "title": {
           "x": 0.05
          },
          "xaxis": {
           "automargin": true,
           "gridcolor": "white",
           "linecolor": "white",
           "ticks": "",
           "title": {
            "standoff": 15
           },
           "zerolinecolor": "white",
           "zerolinewidth": 2
          },
          "yaxis": {
           "automargin": true,
           "gridcolor": "white",
           "linecolor": "white",
           "ticks": "",
           "title": {
            "standoff": 15
           },
           "zerolinecolor": "white",
           "zerolinewidth": 2
          }
         }
        },
        "title": {
         "text": "Demographic Breakdown by Education"
        },
        "xaxis": {
         "anchor": "y",
         "domain": [
          0,
          1
         ],
         "title": {
          "text": "Count"
         }
        },
        "yaxis": {
         "anchor": "x",
         "categoryarray": [
          "Doctorate Degree",
          "Master's degree or higher",
          "Master's Degree",
          "Bachelor's Degree or Higher",
          "Bachelor's Degree",
          "Associate's Degree",
          "Some college",
          "High School or GED",
          "Grade 12",
          "Grade 11",
          "Kindergarten",
          "No schooling completed"
         ],
         "categoryorder": "array",
         "domain": [
          0,
          1
         ],
         "title": {
          "text": "Education"
         }
        }
       }
      }
     },
     "metadata": {},
     "output_type": "display_data"
    }
   ],
   "source": [
    "# look in distinct_values.csv to see results\n",
    "get_distinct_values('df_combined','EDUCATION')\n",
    "\n",
    "fig = px.bar(\n",
    "    create_distinct_value_count_df('df_combined','EDUCATION','(\"Refused\",\"Don\\'t know/Refused/Web blank\")'),\n",
    "    y = 'EDUCATION',\n",
    "    x = 'Count',\n",
    "    title = 'Demographic Breakdown by Education',\n",
    "    color_discrete_sequence=['#063dcf'], \n",
    "    text='Count',\n",
    "    category_orders={'EDUCATION':[\n",
    "        'No schooling completed',\n",
    "        'Kindergarten',\n",
    "        'Grade 11',\n",
    "        'Grade 12',\n",
    "        'High School or GED',\n",
    "        \"Some college\",\n",
    "        \"Associate's Degree\",\n",
    "        \"Bachelor's Degree\",\n",
    "        \"Bachelor's Degree or Higher\",\n",
    "        \"Master's Degree\",\n",
    "        \"Master's degree or higher\",\n",
    "        \"Doctorate Degree\"\n",
    "    ]}\n",
    ")\n",
    "fig.update_yaxes(title=\"Education\").show()\n"
   ]
  },
  {
   "cell_type": "markdown",
   "metadata": {},
   "source": [
    "## Exploring Changes from 2020 to 2024"
   ]
  },
  {
   "cell_type": "code",
   "execution_count": 608,
   "metadata": {},
   "outputs": [],
   "source": [
    "# this function displays a cluster bar graph dispalying yearly changes in a column in the combined dataframe\n",
    "def examine_changes(df, df_count, column, new_column_name, title, method, category_order, color_map):\n",
    "    # examine distinct values of ECON1MOD, look in distinct_values.csv to see results\n",
    "    get_distinct_values('df_combined', column)\n",
    "\n",
    "    # get count of each economy \n",
    "    df_change = sqldf(\n",
    "        f\"\"\"\n",
    "        SELECT \n",
    "            YEAR as Year, \n",
    "            {column} as `{new_column_name}`, \n",
    "            COUNT(*) as Count\n",
    "        FROM {df}\n",
    "        Where `{new_column_name}` NOT IN (\"Refused\", \"Don't know/Refused/Web blank\", \"Other\",\"Something else\")\n",
    "        GROUP BY Year, `{new_column_name}`\n",
    "        \"\"\"\n",
    "    )\n",
    "    if method == 1:\n",
    "        df_change['Percent'] = (df_change['Count'] / df_change.groupby('Year')['Count'].transform('sum')) * 100\n",
    "    if method == 2:\n",
    "        df_change['Percent'] = (df_change['Count'] / df_count['Count']) * 100\n",
    "\n",
    "    df_change.to_csv(\"CSV Files/result.csv\",index=False)\n",
    "\n",
    "    fig = px.histogram(\n",
    "        df_change,\n",
    "        x='Year',\n",
    "        y='Percent',\n",
    "        color=new_column_name,\n",
    "        barmode='group',\n",
    "        title=title,\n",
    "        hover_data=['Count'],\n",
    "        category_orders={new_column_name:category_order},\n",
    "        color_discrete_map=color_map\n",
    "    )\n",
    "    fig.update_yaxes(title=\"Percentage\").show()"
   ]
  },
  {
   "cell_type": "markdown",
   "metadata": {},
   "source": [
    "### Opinions about the Economy from 2020-2024"
   ]
  },
  {
   "cell_type": "code",
   "execution_count": 609,
   "metadata": {},
   "outputs": [
    {
     "data": {
      "application/vnd.plotly.v1+json": {
       "config": {
        "plotlyServerURL": "https://plot.ly"
       },
       "data": [
        {
         "alignmentgroup": "True",
         "bingroup": "x",
         "histfunc": "sum",
         "hovertemplate": "Economic Conditions=Excellent<br>Year=%{x}<br>sum of Percent=%{y}<extra></extra>",
         "legendgroup": "Excellent",
         "marker": {
          "color": "#0daa00",
          "pattern": {
           "shape": ""
          }
         },
         "name": "Excellent",
         "offsetgroup": "Excellent",
         "orientation": "v",
         "showlegend": true,
         "type": "histogram",
         "x": [
          2020,
          2021,
          2022,
          2023,
          2024
         ],
         "xaxis": "x",
         "y": [
          5.192588980984886,
          5.268516161873251,
          3.373852642024312,
          4.178321678321678,
          5.0793085011584385
         ],
         "yaxis": "y"
        },
        {
         "alignmentgroup": "True",
         "bingroup": "x",
         "histfunc": "sum",
         "hovertemplate": "Economic Conditions=Good<br>Year=%{x}<br>sum of Percent=%{y}<extra></extra>",
         "legendgroup": "Good",
         "marker": {
          "color": "#8fdc32",
          "pattern": {
           "shape": ""
          }
         },
         "name": "Good",
         "offsetgroup": "Good",
         "orientation": "v",
         "showlegend": true,
         "type": "histogram",
         "x": [
          2020,
          2021,
          2022,
          2023,
          2024
         ],
         "xaxis": "x",
         "y": [
          42.588980984885424,
          48.48561975057267,
          34.408335400645,
          37.43006993006993,
          36.873997504901084
         ],
         "yaxis": "y"
        },
        {
         "alignmentgroup": "True",
         "bingroup": "x",
         "histfunc": "sum",
         "hovertemplate": "Economic Conditions=Only fair<br>Year=%{x}<br>sum of Percent=%{y}<extra></extra>",
         "legendgroup": "Only fair",
         "marker": {
          "color": "#ffc500",
          "pattern": {
           "shape": ""
          }
         },
         "name": "Only fair",
         "offsetgroup": "Only fair",
         "orientation": "v",
         "showlegend": true,
         "type": "histogram",
         "x": [
          2020,
          2021,
          2022,
          2023,
          2024
         ],
         "xaxis": "x",
         "y": [
          39.44417357386641,
          35.88699414609315,
          41.13123294467874,
          40.41958041958042,
          38.31759044733559
         ],
         "yaxis": "y"
        },
        {
         "alignmentgroup": "True",
         "bingroup": "x",
         "histfunc": "sum",
         "hovertemplate": "Economic Conditions=Poor<br>Year=%{x}<br>sum of Percent=%{y}<extra></extra>",
         "legendgroup": "Poor",
         "marker": {
          "color": "#f6492a",
          "pattern": {
           "shape": ""
          }
         },
         "name": "Poor",
         "offsetgroup": "Poor",
         "orientation": "v",
         "showlegend": true,
         "type": "histogram",
         "x": [
          2020,
          2021,
          2022,
          2023,
          2024
         ],
         "xaxis": "x",
         "y": [
          12.774256460263286,
          10.35886994146093,
          21.08657901265195,
          17.97202797202797,
          19.729103546604883
         ],
         "yaxis": "y"
        }
       ],
       "layout": {
        "barmode": "group",
        "legend": {
         "title": {
          "text": "Economic Conditions"
         },
         "tracegroupgap": 0
        },
        "template": {
         "data": {
          "bar": [
           {
            "error_x": {
             "color": "#2a3f5f"
            },
            "error_y": {
             "color": "#2a3f5f"
            },
            "marker": {
             "line": {
              "color": "#E5ECF6",
              "width": 0.5
             },
             "pattern": {
              "fillmode": "overlay",
              "size": 10,
              "solidity": 0.2
             }
            },
            "type": "bar"
           }
          ],
          "barpolar": [
           {
            "marker": {
             "line": {
              "color": "#E5ECF6",
              "width": 0.5
             },
             "pattern": {
              "fillmode": "overlay",
              "size": 10,
              "solidity": 0.2
             }
            },
            "type": "barpolar"
           }
          ],
          "carpet": [
           {
            "aaxis": {
             "endlinecolor": "#2a3f5f",
             "gridcolor": "white",
             "linecolor": "white",
             "minorgridcolor": "white",
             "startlinecolor": "#2a3f5f"
            },
            "baxis": {
             "endlinecolor": "#2a3f5f",
             "gridcolor": "white",
             "linecolor": "white",
             "minorgridcolor": "white",
             "startlinecolor": "#2a3f5f"
            },
            "type": "carpet"
           }
          ],
          "choropleth": [
           {
            "colorbar": {
             "outlinewidth": 0,
             "ticks": ""
            },
            "type": "choropleth"
           }
          ],
          "contour": [
           {
            "colorbar": {
             "outlinewidth": 0,
             "ticks": ""
            },
            "colorscale": [
             [
              0,
              "#0d0887"
             ],
             [
              0.1111111111111111,
              "#46039f"
             ],
             [
              0.2222222222222222,
              "#7201a8"
             ],
             [
              0.3333333333333333,
              "#9c179e"
             ],
             [
              0.4444444444444444,
              "#bd3786"
             ],
             [
              0.5555555555555556,
              "#d8576b"
             ],
             [
              0.6666666666666666,
              "#ed7953"
             ],
             [
              0.7777777777777778,
              "#fb9f3a"
             ],
             [
              0.8888888888888888,
              "#fdca26"
             ],
             [
              1,
              "#f0f921"
             ]
            ],
            "type": "contour"
           }
          ],
          "contourcarpet": [
           {
            "colorbar": {
             "outlinewidth": 0,
             "ticks": ""
            },
            "type": "contourcarpet"
           }
          ],
          "heatmap": [
           {
            "colorbar": {
             "outlinewidth": 0,
             "ticks": ""
            },
            "colorscale": [
             [
              0,
              "#0d0887"
             ],
             [
              0.1111111111111111,
              "#46039f"
             ],
             [
              0.2222222222222222,
              "#7201a8"
             ],
             [
              0.3333333333333333,
              "#9c179e"
             ],
             [
              0.4444444444444444,
              "#bd3786"
             ],
             [
              0.5555555555555556,
              "#d8576b"
             ],
             [
              0.6666666666666666,
              "#ed7953"
             ],
             [
              0.7777777777777778,
              "#fb9f3a"
             ],
             [
              0.8888888888888888,
              "#fdca26"
             ],
             [
              1,
              "#f0f921"
             ]
            ],
            "type": "heatmap"
           }
          ],
          "heatmapgl": [
           {
            "colorbar": {
             "outlinewidth": 0,
             "ticks": ""
            },
            "colorscale": [
             [
              0,
              "#0d0887"
             ],
             [
              0.1111111111111111,
              "#46039f"
             ],
             [
              0.2222222222222222,
              "#7201a8"
             ],
             [
              0.3333333333333333,
              "#9c179e"
             ],
             [
              0.4444444444444444,
              "#bd3786"
             ],
             [
              0.5555555555555556,
              "#d8576b"
             ],
             [
              0.6666666666666666,
              "#ed7953"
             ],
             [
              0.7777777777777778,
              "#fb9f3a"
             ],
             [
              0.8888888888888888,
              "#fdca26"
             ],
             [
              1,
              "#f0f921"
             ]
            ],
            "type": "heatmapgl"
           }
          ],
          "histogram": [
           {
            "marker": {
             "pattern": {
              "fillmode": "overlay",
              "size": 10,
              "solidity": 0.2
             }
            },
            "type": "histogram"
           }
          ],
          "histogram2d": [
           {
            "colorbar": {
             "outlinewidth": 0,
             "ticks": ""
            },
            "colorscale": [
             [
              0,
              "#0d0887"
             ],
             [
              0.1111111111111111,
              "#46039f"
             ],
             [
              0.2222222222222222,
              "#7201a8"
             ],
             [
              0.3333333333333333,
              "#9c179e"
             ],
             [
              0.4444444444444444,
              "#bd3786"
             ],
             [
              0.5555555555555556,
              "#d8576b"
             ],
             [
              0.6666666666666666,
              "#ed7953"
             ],
             [
              0.7777777777777778,
              "#fb9f3a"
             ],
             [
              0.8888888888888888,
              "#fdca26"
             ],
             [
              1,
              "#f0f921"
             ]
            ],
            "type": "histogram2d"
           }
          ],
          "histogram2dcontour": [
           {
            "colorbar": {
             "outlinewidth": 0,
             "ticks": ""
            },
            "colorscale": [
             [
              0,
              "#0d0887"
             ],
             [
              0.1111111111111111,
              "#46039f"
             ],
             [
              0.2222222222222222,
              "#7201a8"
             ],
             [
              0.3333333333333333,
              "#9c179e"
             ],
             [
              0.4444444444444444,
              "#bd3786"
             ],
             [
              0.5555555555555556,
              "#d8576b"
             ],
             [
              0.6666666666666666,
              "#ed7953"
             ],
             [
              0.7777777777777778,
              "#fb9f3a"
             ],
             [
              0.8888888888888888,
              "#fdca26"
             ],
             [
              1,
              "#f0f921"
             ]
            ],
            "type": "histogram2dcontour"
           }
          ],
          "mesh3d": [
           {
            "colorbar": {
             "outlinewidth": 0,
             "ticks": ""
            },
            "type": "mesh3d"
           }
          ],
          "parcoords": [
           {
            "line": {
             "colorbar": {
              "outlinewidth": 0,
              "ticks": ""
             }
            },
            "type": "parcoords"
           }
          ],
          "pie": [
           {
            "automargin": true,
            "type": "pie"
           }
          ],
          "scatter": [
           {
            "fillpattern": {
             "fillmode": "overlay",
             "size": 10,
             "solidity": 0.2
            },
            "type": "scatter"
           }
          ],
          "scatter3d": [
           {
            "line": {
             "colorbar": {
              "outlinewidth": 0,
              "ticks": ""
             }
            },
            "marker": {
             "colorbar": {
              "outlinewidth": 0,
              "ticks": ""
             }
            },
            "type": "scatter3d"
           }
          ],
          "scattercarpet": [
           {
            "marker": {
             "colorbar": {
              "outlinewidth": 0,
              "ticks": ""
             }
            },
            "type": "scattercarpet"
           }
          ],
          "scattergeo": [
           {
            "marker": {
             "colorbar": {
              "outlinewidth": 0,
              "ticks": ""
             }
            },
            "type": "scattergeo"
           }
          ],
          "scattergl": [
           {
            "marker": {
             "colorbar": {
              "outlinewidth": 0,
              "ticks": ""
             }
            },
            "type": "scattergl"
           }
          ],
          "scattermapbox": [
           {
            "marker": {
             "colorbar": {
              "outlinewidth": 0,
              "ticks": ""
             }
            },
            "type": "scattermapbox"
           }
          ],
          "scatterpolar": [
           {
            "marker": {
             "colorbar": {
              "outlinewidth": 0,
              "ticks": ""
             }
            },
            "type": "scatterpolar"
           }
          ],
          "scatterpolargl": [
           {
            "marker": {
             "colorbar": {
              "outlinewidth": 0,
              "ticks": ""
             }
            },
            "type": "scatterpolargl"
           }
          ],
          "scatterternary": [
           {
            "marker": {
             "colorbar": {
              "outlinewidth": 0,
              "ticks": ""
             }
            },
            "type": "scatterternary"
           }
          ],
          "surface": [
           {
            "colorbar": {
             "outlinewidth": 0,
             "ticks": ""
            },
            "colorscale": [
             [
              0,
              "#0d0887"
             ],
             [
              0.1111111111111111,
              "#46039f"
             ],
             [
              0.2222222222222222,
              "#7201a8"
             ],
             [
              0.3333333333333333,
              "#9c179e"
             ],
             [
              0.4444444444444444,
              "#bd3786"
             ],
             [
              0.5555555555555556,
              "#d8576b"
             ],
             [
              0.6666666666666666,
              "#ed7953"
             ],
             [
              0.7777777777777778,
              "#fb9f3a"
             ],
             [
              0.8888888888888888,
              "#fdca26"
             ],
             [
              1,
              "#f0f921"
             ]
            ],
            "type": "surface"
           }
          ],
          "table": [
           {
            "cells": {
             "fill": {
              "color": "#EBF0F8"
             },
             "line": {
              "color": "white"
             }
            },
            "header": {
             "fill": {
              "color": "#C8D4E3"
             },
             "line": {
              "color": "white"
             }
            },
            "type": "table"
           }
          ]
         },
         "layout": {
          "annotationdefaults": {
           "arrowcolor": "#2a3f5f",
           "arrowhead": 0,
           "arrowwidth": 1
          },
          "autotypenumbers": "strict",
          "coloraxis": {
           "colorbar": {
            "outlinewidth": 0,
            "ticks": ""
           }
          },
          "colorscale": {
           "diverging": [
            [
             0,
             "#8e0152"
            ],
            [
             0.1,
             "#c51b7d"
            ],
            [
             0.2,
             "#de77ae"
            ],
            [
             0.3,
             "#f1b6da"
            ],
            [
             0.4,
             "#fde0ef"
            ],
            [
             0.5,
             "#f7f7f7"
            ],
            [
             0.6,
             "#e6f5d0"
            ],
            [
             0.7,
             "#b8e186"
            ],
            [
             0.8,
             "#7fbc41"
            ],
            [
             0.9,
             "#4d9221"
            ],
            [
             1,
             "#276419"
            ]
           ],
           "sequential": [
            [
             0,
             "#0d0887"
            ],
            [
             0.1111111111111111,
             "#46039f"
            ],
            [
             0.2222222222222222,
             "#7201a8"
            ],
            [
             0.3333333333333333,
             "#9c179e"
            ],
            [
             0.4444444444444444,
             "#bd3786"
            ],
            [
             0.5555555555555556,
             "#d8576b"
            ],
            [
             0.6666666666666666,
             "#ed7953"
            ],
            [
             0.7777777777777778,
             "#fb9f3a"
            ],
            [
             0.8888888888888888,
             "#fdca26"
            ],
            [
             1,
             "#f0f921"
            ]
           ],
           "sequentialminus": [
            [
             0,
             "#0d0887"
            ],
            [
             0.1111111111111111,
             "#46039f"
            ],
            [
             0.2222222222222222,
             "#7201a8"
            ],
            [
             0.3333333333333333,
             "#9c179e"
            ],
            [
             0.4444444444444444,
             "#bd3786"
            ],
            [
             0.5555555555555556,
             "#d8576b"
            ],
            [
             0.6666666666666666,
             "#ed7953"
            ],
            [
             0.7777777777777778,
             "#fb9f3a"
            ],
            [
             0.8888888888888888,
             "#fdca26"
            ],
            [
             1,
             "#f0f921"
            ]
           ]
          },
          "colorway": [
           "#636efa",
           "#EF553B",
           "#00cc96",
           "#ab63fa",
           "#FFA15A",
           "#19d3f3",
           "#FF6692",
           "#B6E880",
           "#FF97FF",
           "#FECB52"
          ],
          "font": {
           "color": "#2a3f5f"
          },
          "geo": {
           "bgcolor": "white",
           "lakecolor": "white",
           "landcolor": "#E5ECF6",
           "showlakes": true,
           "showland": true,
           "subunitcolor": "white"
          },
          "hoverlabel": {
           "align": "left"
          },
          "hovermode": "closest",
          "mapbox": {
           "style": "light"
          },
          "paper_bgcolor": "white",
          "plot_bgcolor": "#E5ECF6",
          "polar": {
           "angularaxis": {
            "gridcolor": "white",
            "linecolor": "white",
            "ticks": ""
           },
           "bgcolor": "#E5ECF6",
           "radialaxis": {
            "gridcolor": "white",
            "linecolor": "white",
            "ticks": ""
           }
          },
          "scene": {
           "xaxis": {
            "backgroundcolor": "#E5ECF6",
            "gridcolor": "white",
            "gridwidth": 2,
            "linecolor": "white",
            "showbackground": true,
            "ticks": "",
            "zerolinecolor": "white"
           },
           "yaxis": {
            "backgroundcolor": "#E5ECF6",
            "gridcolor": "white",
            "gridwidth": 2,
            "linecolor": "white",
            "showbackground": true,
            "ticks": "",
            "zerolinecolor": "white"
           },
           "zaxis": {
            "backgroundcolor": "#E5ECF6",
            "gridcolor": "white",
            "gridwidth": 2,
            "linecolor": "white",
            "showbackground": true,
            "ticks": "",
            "zerolinecolor": "white"
           }
          },
          "shapedefaults": {
           "line": {
            "color": "#2a3f5f"
           }
          },
          "ternary": {
           "aaxis": {
            "gridcolor": "white",
            "linecolor": "white",
            "ticks": ""
           },
           "baxis": {
            "gridcolor": "white",
            "linecolor": "white",
            "ticks": ""
           },
           "bgcolor": "#E5ECF6",
           "caxis": {
            "gridcolor": "white",
            "linecolor": "white",
            "ticks": ""
           }
          },
          "title": {
           "x": 0.05
          },
          "xaxis": {
           "automargin": true,
           "gridcolor": "white",
           "linecolor": "white",
           "ticks": "",
           "title": {
            "standoff": 15
           },
           "zerolinecolor": "white",
           "zerolinewidth": 2
          },
          "yaxis": {
           "automargin": true,
           "gridcolor": "white",
           "linecolor": "white",
           "ticks": "",
           "title": {
            "standoff": 15
           },
           "zerolinecolor": "white",
           "zerolinewidth": 2
          }
         }
        },
        "title": {
         "text": "Yearly Breakdown by how Particapates Rate their Community's Economic Conditions"
        },
        "xaxis": {
         "anchor": "y",
         "domain": [
          0,
          1
         ],
         "title": {
          "text": "Year"
         }
        },
        "yaxis": {
         "anchor": "x",
         "domain": [
          0,
          1
         ],
         "title": {
          "text": "Percentage"
         }
        }
       }
      }
     },
     "metadata": {},
     "output_type": "display_data"
    },
    {
     "data": {
      "application/vnd.plotly.v1+json": {
       "config": {
        "plotlyServerURL": "https://plot.ly"
       },
       "data": [
        {
         "alignmentgroup": "True",
         "bingroup": "x",
         "histfunc": "sum",
         "hovertemplate": "Economic Conditions in 1 Year=Better<br>Year=%{x}<br>sum of Percent=%{y}<extra></extra>",
         "legendgroup": "Better",
         "marker": {
          "color": "#8fdc32",
          "pattern": {
           "shape": ""
          }
         },
         "name": "Better",
         "offsetgroup": "Better",
         "orientation": "v",
         "showlegend": true,
         "type": "histogram",
         "x": [
          2020,
          2021,
          2022,
          2023,
          2024
         ],
         "xaxis": "x",
         "y": [
          41.63614163614164,
          33.384301732925586,
          20.278330019880716,
          20.157618213660243,
          25.246195165622204
         ],
         "yaxis": "y"
        },
        {
         "alignmentgroup": "True",
         "bingroup": "x",
         "histfunc": "sum",
         "hovertemplate": "Economic Conditions in 1 Year=About the same<br>Year=%{x}<br>sum of Percent=%{y}<extra></extra>",
         "legendgroup": "About the same",
         "marker": {
          "color": "#ffc500",
          "pattern": {
           "shape": ""
          }
         },
         "name": "About the same",
         "offsetgroup": "About the same",
         "orientation": "v",
         "showlegend": true,
         "type": "histogram",
         "x": [
          2020,
          2021,
          2022,
          2023,
          2024
         ],
         "xaxis": "x",
         "y": [
          40.21978021978022,
          45.18348623853211,
          42.19681908548708,
          50.700525394045535,
          51.566696508504926
         ],
         "yaxis": "y"
        },
        {
         "alignmentgroup": "True",
         "bingroup": "x",
         "histfunc": "sum",
         "hovertemplate": "Economic Conditions in 1 Year=Worse<br>Year=%{x}<br>sum of Percent=%{y}<extra></extra>",
         "legendgroup": "Worse",
         "marker": {
          "color": "#f6492a",
          "pattern": {
           "shape": ""
          }
         },
         "name": "Worse",
         "offsetgroup": "Worse",
         "orientation": "v",
         "showlegend": true,
         "type": "histogram",
         "x": [
          2020,
          2021,
          2022,
          2023,
          2024
         ],
         "xaxis": "x",
         "y": [
          18.144078144078144,
          21.432212028542306,
          37.52485089463221,
          29.14185639229422,
          23.187108325872874
         ],
         "yaxis": "y"
        }
       ],
       "layout": {
        "barmode": "group",
        "legend": {
         "title": {
          "text": "Economic Conditions in 1 Year"
         },
         "tracegroupgap": 0
        },
        "template": {
         "data": {
          "bar": [
           {
            "error_x": {
             "color": "#2a3f5f"
            },
            "error_y": {
             "color": "#2a3f5f"
            },
            "marker": {
             "line": {
              "color": "#E5ECF6",
              "width": 0.5
             },
             "pattern": {
              "fillmode": "overlay",
              "size": 10,
              "solidity": 0.2
             }
            },
            "type": "bar"
           }
          ],
          "barpolar": [
           {
            "marker": {
             "line": {
              "color": "#E5ECF6",
              "width": 0.5
             },
             "pattern": {
              "fillmode": "overlay",
              "size": 10,
              "solidity": 0.2
             }
            },
            "type": "barpolar"
           }
          ],
          "carpet": [
           {
            "aaxis": {
             "endlinecolor": "#2a3f5f",
             "gridcolor": "white",
             "linecolor": "white",
             "minorgridcolor": "white",
             "startlinecolor": "#2a3f5f"
            },
            "baxis": {
             "endlinecolor": "#2a3f5f",
             "gridcolor": "white",
             "linecolor": "white",
             "minorgridcolor": "white",
             "startlinecolor": "#2a3f5f"
            },
            "type": "carpet"
           }
          ],
          "choropleth": [
           {
            "colorbar": {
             "outlinewidth": 0,
             "ticks": ""
            },
            "type": "choropleth"
           }
          ],
          "contour": [
           {
            "colorbar": {
             "outlinewidth": 0,
             "ticks": ""
            },
            "colorscale": [
             [
              0,
              "#0d0887"
             ],
             [
              0.1111111111111111,
              "#46039f"
             ],
             [
              0.2222222222222222,
              "#7201a8"
             ],
             [
              0.3333333333333333,
              "#9c179e"
             ],
             [
              0.4444444444444444,
              "#bd3786"
             ],
             [
              0.5555555555555556,
              "#d8576b"
             ],
             [
              0.6666666666666666,
              "#ed7953"
             ],
             [
              0.7777777777777778,
              "#fb9f3a"
             ],
             [
              0.8888888888888888,
              "#fdca26"
             ],
             [
              1,
              "#f0f921"
             ]
            ],
            "type": "contour"
           }
          ],
          "contourcarpet": [
           {
            "colorbar": {
             "outlinewidth": 0,
             "ticks": ""
            },
            "type": "contourcarpet"
           }
          ],
          "heatmap": [
           {
            "colorbar": {
             "outlinewidth": 0,
             "ticks": ""
            },
            "colorscale": [
             [
              0,
              "#0d0887"
             ],
             [
              0.1111111111111111,
              "#46039f"
             ],
             [
              0.2222222222222222,
              "#7201a8"
             ],
             [
              0.3333333333333333,
              "#9c179e"
             ],
             [
              0.4444444444444444,
              "#bd3786"
             ],
             [
              0.5555555555555556,
              "#d8576b"
             ],
             [
              0.6666666666666666,
              "#ed7953"
             ],
             [
              0.7777777777777778,
              "#fb9f3a"
             ],
             [
              0.8888888888888888,
              "#fdca26"
             ],
             [
              1,
              "#f0f921"
             ]
            ],
            "type": "heatmap"
           }
          ],
          "heatmapgl": [
           {
            "colorbar": {
             "outlinewidth": 0,
             "ticks": ""
            },
            "colorscale": [
             [
              0,
              "#0d0887"
             ],
             [
              0.1111111111111111,
              "#46039f"
             ],
             [
              0.2222222222222222,
              "#7201a8"
             ],
             [
              0.3333333333333333,
              "#9c179e"
             ],
             [
              0.4444444444444444,
              "#bd3786"
             ],
             [
              0.5555555555555556,
              "#d8576b"
             ],
             [
              0.6666666666666666,
              "#ed7953"
             ],
             [
              0.7777777777777778,
              "#fb9f3a"
             ],
             [
              0.8888888888888888,
              "#fdca26"
             ],
             [
              1,
              "#f0f921"
             ]
            ],
            "type": "heatmapgl"
           }
          ],
          "histogram": [
           {
            "marker": {
             "pattern": {
              "fillmode": "overlay",
              "size": 10,
              "solidity": 0.2
             }
            },
            "type": "histogram"
           }
          ],
          "histogram2d": [
           {
            "colorbar": {
             "outlinewidth": 0,
             "ticks": ""
            },
            "colorscale": [
             [
              0,
              "#0d0887"
             ],
             [
              0.1111111111111111,
              "#46039f"
             ],
             [
              0.2222222222222222,
              "#7201a8"
             ],
             [
              0.3333333333333333,
              "#9c179e"
             ],
             [
              0.4444444444444444,
              "#bd3786"
             ],
             [
              0.5555555555555556,
              "#d8576b"
             ],
             [
              0.6666666666666666,
              "#ed7953"
             ],
             [
              0.7777777777777778,
              "#fb9f3a"
             ],
             [
              0.8888888888888888,
              "#fdca26"
             ],
             [
              1,
              "#f0f921"
             ]
            ],
            "type": "histogram2d"
           }
          ],
          "histogram2dcontour": [
           {
            "colorbar": {
             "outlinewidth": 0,
             "ticks": ""
            },
            "colorscale": [
             [
              0,
              "#0d0887"
             ],
             [
              0.1111111111111111,
              "#46039f"
             ],
             [
              0.2222222222222222,
              "#7201a8"
             ],
             [
              0.3333333333333333,
              "#9c179e"
             ],
             [
              0.4444444444444444,
              "#bd3786"
             ],
             [
              0.5555555555555556,
              "#d8576b"
             ],
             [
              0.6666666666666666,
              "#ed7953"
             ],
             [
              0.7777777777777778,
              "#fb9f3a"
             ],
             [
              0.8888888888888888,
              "#fdca26"
             ],
             [
              1,
              "#f0f921"
             ]
            ],
            "type": "histogram2dcontour"
           }
          ],
          "mesh3d": [
           {
            "colorbar": {
             "outlinewidth": 0,
             "ticks": ""
            },
            "type": "mesh3d"
           }
          ],
          "parcoords": [
           {
            "line": {
             "colorbar": {
              "outlinewidth": 0,
              "ticks": ""
             }
            },
            "type": "parcoords"
           }
          ],
          "pie": [
           {
            "automargin": true,
            "type": "pie"
           }
          ],
          "scatter": [
           {
            "fillpattern": {
             "fillmode": "overlay",
             "size": 10,
             "solidity": 0.2
            },
            "type": "scatter"
           }
          ],
          "scatter3d": [
           {
            "line": {
             "colorbar": {
              "outlinewidth": 0,
              "ticks": ""
             }
            },
            "marker": {
             "colorbar": {
              "outlinewidth": 0,
              "ticks": ""
             }
            },
            "type": "scatter3d"
           }
          ],
          "scattercarpet": [
           {
            "marker": {
             "colorbar": {
              "outlinewidth": 0,
              "ticks": ""
             }
            },
            "type": "scattercarpet"
           }
          ],
          "scattergeo": [
           {
            "marker": {
             "colorbar": {
              "outlinewidth": 0,
              "ticks": ""
             }
            },
            "type": "scattergeo"
           }
          ],
          "scattergl": [
           {
            "marker": {
             "colorbar": {
              "outlinewidth": 0,
              "ticks": ""
             }
            },
            "type": "scattergl"
           }
          ],
          "scattermapbox": [
           {
            "marker": {
             "colorbar": {
              "outlinewidth": 0,
              "ticks": ""
             }
            },
            "type": "scattermapbox"
           }
          ],
          "scatterpolar": [
           {
            "marker": {
             "colorbar": {
              "outlinewidth": 0,
              "ticks": ""
             }
            },
            "type": "scatterpolar"
           }
          ],
          "scatterpolargl": [
           {
            "marker": {
             "colorbar": {
              "outlinewidth": 0,
              "ticks": ""
             }
            },
            "type": "scatterpolargl"
           }
          ],
          "scatterternary": [
           {
            "marker": {
             "colorbar": {
              "outlinewidth": 0,
              "ticks": ""
             }
            },
            "type": "scatterternary"
           }
          ],
          "surface": [
           {
            "colorbar": {
             "outlinewidth": 0,
             "ticks": ""
            },
            "colorscale": [
             [
              0,
              "#0d0887"
             ],
             [
              0.1111111111111111,
              "#46039f"
             ],
             [
              0.2222222222222222,
              "#7201a8"
             ],
             [
              0.3333333333333333,
              "#9c179e"
             ],
             [
              0.4444444444444444,
              "#bd3786"
             ],
             [
              0.5555555555555556,
              "#d8576b"
             ],
             [
              0.6666666666666666,
              "#ed7953"
             ],
             [
              0.7777777777777778,
              "#fb9f3a"
             ],
             [
              0.8888888888888888,
              "#fdca26"
             ],
             [
              1,
              "#f0f921"
             ]
            ],
            "type": "surface"
           }
          ],
          "table": [
           {
            "cells": {
             "fill": {
              "color": "#EBF0F8"
             },
             "line": {
              "color": "white"
             }
            },
            "header": {
             "fill": {
              "color": "#C8D4E3"
             },
             "line": {
              "color": "white"
             }
            },
            "type": "table"
           }
          ]
         },
         "layout": {
          "annotationdefaults": {
           "arrowcolor": "#2a3f5f",
           "arrowhead": 0,
           "arrowwidth": 1
          },
          "autotypenumbers": "strict",
          "coloraxis": {
           "colorbar": {
            "outlinewidth": 0,
            "ticks": ""
           }
          },
          "colorscale": {
           "diverging": [
            [
             0,
             "#8e0152"
            ],
            [
             0.1,
             "#c51b7d"
            ],
            [
             0.2,
             "#de77ae"
            ],
            [
             0.3,
             "#f1b6da"
            ],
            [
             0.4,
             "#fde0ef"
            ],
            [
             0.5,
             "#f7f7f7"
            ],
            [
             0.6,
             "#e6f5d0"
            ],
            [
             0.7,
             "#b8e186"
            ],
            [
             0.8,
             "#7fbc41"
            ],
            [
             0.9,
             "#4d9221"
            ],
            [
             1,
             "#276419"
            ]
           ],
           "sequential": [
            [
             0,
             "#0d0887"
            ],
            [
             0.1111111111111111,
             "#46039f"
            ],
            [
             0.2222222222222222,
             "#7201a8"
            ],
            [
             0.3333333333333333,
             "#9c179e"
            ],
            [
             0.4444444444444444,
             "#bd3786"
            ],
            [
             0.5555555555555556,
             "#d8576b"
            ],
            [
             0.6666666666666666,
             "#ed7953"
            ],
            [
             0.7777777777777778,
             "#fb9f3a"
            ],
            [
             0.8888888888888888,
             "#fdca26"
            ],
            [
             1,
             "#f0f921"
            ]
           ],
           "sequentialminus": [
            [
             0,
             "#0d0887"
            ],
            [
             0.1111111111111111,
             "#46039f"
            ],
            [
             0.2222222222222222,
             "#7201a8"
            ],
            [
             0.3333333333333333,
             "#9c179e"
            ],
            [
             0.4444444444444444,
             "#bd3786"
            ],
            [
             0.5555555555555556,
             "#d8576b"
            ],
            [
             0.6666666666666666,
             "#ed7953"
            ],
            [
             0.7777777777777778,
             "#fb9f3a"
            ],
            [
             0.8888888888888888,
             "#fdca26"
            ],
            [
             1,
             "#f0f921"
            ]
           ]
          },
          "colorway": [
           "#636efa",
           "#EF553B",
           "#00cc96",
           "#ab63fa",
           "#FFA15A",
           "#19d3f3",
           "#FF6692",
           "#B6E880",
           "#FF97FF",
           "#FECB52"
          ],
          "font": {
           "color": "#2a3f5f"
          },
          "geo": {
           "bgcolor": "white",
           "lakecolor": "white",
           "landcolor": "#E5ECF6",
           "showlakes": true,
           "showland": true,
           "subunitcolor": "white"
          },
          "hoverlabel": {
           "align": "left"
          },
          "hovermode": "closest",
          "mapbox": {
           "style": "light"
          },
          "paper_bgcolor": "white",
          "plot_bgcolor": "#E5ECF6",
          "polar": {
           "angularaxis": {
            "gridcolor": "white",
            "linecolor": "white",
            "ticks": ""
           },
           "bgcolor": "#E5ECF6",
           "radialaxis": {
            "gridcolor": "white",
            "linecolor": "white",
            "ticks": ""
           }
          },
          "scene": {
           "xaxis": {
            "backgroundcolor": "#E5ECF6",
            "gridcolor": "white",
            "gridwidth": 2,
            "linecolor": "white",
            "showbackground": true,
            "ticks": "",
            "zerolinecolor": "white"
           },
           "yaxis": {
            "backgroundcolor": "#E5ECF6",
            "gridcolor": "white",
            "gridwidth": 2,
            "linecolor": "white",
            "showbackground": true,
            "ticks": "",
            "zerolinecolor": "white"
           },
           "zaxis": {
            "backgroundcolor": "#E5ECF6",
            "gridcolor": "white",
            "gridwidth": 2,
            "linecolor": "white",
            "showbackground": true,
            "ticks": "",
            "zerolinecolor": "white"
           }
          },
          "shapedefaults": {
           "line": {
            "color": "#2a3f5f"
           }
          },
          "ternary": {
           "aaxis": {
            "gridcolor": "white",
            "linecolor": "white",
            "ticks": ""
           },
           "baxis": {
            "gridcolor": "white",
            "linecolor": "white",
            "ticks": ""
           },
           "bgcolor": "#E5ECF6",
           "caxis": {
            "gridcolor": "white",
            "linecolor": "white",
            "ticks": ""
           }
          },
          "title": {
           "x": 0.05
          },
          "xaxis": {
           "automargin": true,
           "gridcolor": "white",
           "linecolor": "white",
           "ticks": "",
           "title": {
            "standoff": 15
           },
           "zerolinecolor": "white",
           "zerolinewidth": 2
          },
          "yaxis": {
           "automargin": true,
           "gridcolor": "white",
           "linecolor": "white",
           "ticks": "",
           "title": {
            "standoff": 15
           },
           "zerolinecolor": "white",
           "zerolinewidth": 2
          }
         }
        },
        "title": {
         "text": "Yearly Breakdown by Opinions about the Economic Conditions of their Community in 1 Year"
        },
        "xaxis": {
         "anchor": "y",
         "domain": [
          0,
          1
         ],
         "title": {
          "text": "Year"
         }
        },
        "yaxis": {
         "anchor": "x",
         "domain": [
          0,
          1
         ],
         "title": {
          "text": "Percentage"
         }
        }
       }
      }
     },
     "metadata": {},
     "output_type": "display_data"
    }
   ],
   "source": [
    "color_map = {\n",
    "    'Excellent':\"#0daa00\",\n",
    "    'Good':'#8fdc32',\n",
    "    'Only fair':'#ffc500',\n",
    "    'Poor':'#f6492a'\n",
    "}\n",
    "examine_changes('df_combined',None,'ECON1MOD','Economic Conditions',\n",
    "                'Yearly Breakdown by how Particapates Rate their Community\\'s Economic Conditions',1,[],color_map)\n",
    "\n",
    "order = ['Better','About the same','Worse']\n",
    "color_map = {\n",
    "    'Better':\"#8fdc32\",\n",
    "    'About the same':'#ffc500',\n",
    "    'Worse':'#f6492a'\n",
    "}\n",
    "examine_changes('df_combined',None,'ECON1BMOD', 'Economic Conditions in 1 Year', \n",
    "                'Yearly Breakdown by Opinions about the Economic Conditions of their Community in 1 Year',1, order,color_map)\n"
   ]
  },
  {
   "cell_type": "markdown",
   "metadata": {},
   "source": [
    "Opinions on the current economic conditions and estimated economic conditions in a year became more negative from 2021 to 2022. \n",
    "\n",
    "The percent of survey participants who believed the economy was going to get worse in a year increased from 21% to 37% from 2021 to 2022. The percent of survey participants who believed their community's economy was poor increased from 10% to 21%.\n",
    "\n",
    "This could be caused by record-breaking inflation rates that occured towards the end of 2021 and throughout 2022. \n",
    "\n",
    "Source: [United States Inflation Rate](https://tradingeconomics.com/united-states/inflation-cpi)   \n",
    "\n",
    "Next let's explore which groups are causing this increase in negative sentiment about the economy. "
   ]
  },
  {
   "cell_type": "code",
   "execution_count": 610,
   "metadata": {},
   "outputs": [],
   "source": [
    "# select all participants from 2021 and 2022 who believe their community's economic conditions is poor\n",
    "df_econ_poor = sqldf(\n",
    "    \"\"\"\n",
    "    SELECT *\n",
    "    FROM df_combined\n",
    "    WHERE ECON1MOD = 'Poor' AND\n",
    "    YEAR IN (2021,2022)\n",
    "    \"\"\"\n",
    ")\n",
    "df_econ_poor.to_csv(\"CSV Files/result.csv\",index=False)\n",
    "\n",
    "# select all participants from 2021 and 2022 who believe their community's economic conditions will get worse\n",
    "df_econ_worse = sqldf(\n",
    "    \"\"\"\n",
    "    SELECT *\n",
    "    FROM df_combined\n",
    "    WHERE ECON1BMOD = 'Worse' AND\n",
    "    YEAR IN (2021,2022)\n",
    "    \"\"\"\n",
    ")\n",
    "df_econ_worse.to_csv(\"CSV Files/result2.csv\",index=False)"
   ]
  },
  {
   "cell_type": "code",
   "execution_count": 611,
   "metadata": {},
   "outputs": [
    {
     "data": {
      "application/vnd.plotly.v1+json": {
       "config": {
        "plotlyServerURL": "https://plot.ly"
       },
       "data": [
        {
         "alignmentgroup": "True",
         "bingroup": "x",
         "histfunc": "sum",
         "hovertemplate": "Income Group=Under $40k<br>Year=%{x}<br>sum of Percent=%{y}<extra></extra>",
         "legendgroup": "Under $40k",
         "marker": {
          "color": "#002471",
          "pattern": {
           "shape": ""
          }
         },
         "name": "Under $40k",
         "offsetgroup": "Under $40k",
         "orientation": "v",
         "showlegend": true,
         "type": "histogram",
         "x": [
          2021,
          2022
         ],
         "xaxis": "x",
         "y": [
          57.61421319796954,
          39.974779319041616
         ],
         "yaxis": "y"
        },
        {
         "alignmentgroup": "True",
         "bingroup": "x",
         "histfunc": "sum",
         "hovertemplate": "Income Group=$40-70K<br>Year=%{x}<br>sum of Percent=%{y}<extra></extra>",
         "legendgroup": "$40-70K",
         "marker": {
          "color": "#0041cb",
          "pattern": {
           "shape": ""
          }
         },
         "name": "$40-70K",
         "offsetgroup": "$40-70K",
         "orientation": "v",
         "showlegend": true,
         "type": "histogram",
         "x": [
          2021,
          2022
         ],
         "xaxis": "x",
         "y": [
          18.527918781725887,
          23.833543505674655
         ],
         "yaxis": "y"
        },
        {
         "alignmentgroup": "True",
         "bingroup": "x",
         "histfunc": "sum",
         "hovertemplate": "Income Group=$70-100K<br>Year=%{x}<br>sum of Percent=%{y}<extra></extra>",
         "legendgroup": "$70-100K",
         "marker": {
          "color": "#407dff",
          "pattern": {
           "shape": ""
          }
         },
         "name": "$70-100K",
         "offsetgroup": "$70-100K",
         "orientation": "v",
         "showlegend": true,
         "type": "histogram",
         "x": [
          2021,
          2022
         ],
         "xaxis": "x",
         "y": [
          10.65989847715736,
          15.132408575031524
         ],
         "yaxis": "y"
        },
        {
         "alignmentgroup": "True",
         "bingroup": "x",
         "histfunc": "sum",
         "hovertemplate": "Income Group=$100K+<br>Year=%{x}<br>sum of Percent=%{y}<extra></extra>",
         "legendgroup": "$100K+",
         "marker": {
          "color": "#aec8ff",
          "pattern": {
           "shape": ""
          }
         },
         "name": "$100K+",
         "offsetgroup": "$100K+",
         "orientation": "v",
         "showlegend": true,
         "type": "histogram",
         "x": [
          2021,
          2022
         ],
         "xaxis": "x",
         "y": [
          13.19796954314721,
          21.059268600252206
         ],
         "yaxis": "y"
        }
       ],
       "layout": {
        "barmode": "group",
        "legend": {
         "title": {
          "text": "Income Group"
         },
         "tracegroupgap": 0
        },
        "template": {
         "data": {
          "bar": [
           {
            "error_x": {
             "color": "#2a3f5f"
            },
            "error_y": {
             "color": "#2a3f5f"
            },
            "marker": {
             "line": {
              "color": "#E5ECF6",
              "width": 0.5
             },
             "pattern": {
              "fillmode": "overlay",
              "size": 10,
              "solidity": 0.2
             }
            },
            "type": "bar"
           }
          ],
          "barpolar": [
           {
            "marker": {
             "line": {
              "color": "#E5ECF6",
              "width": 0.5
             },
             "pattern": {
              "fillmode": "overlay",
              "size": 10,
              "solidity": 0.2
             }
            },
            "type": "barpolar"
           }
          ],
          "carpet": [
           {
            "aaxis": {
             "endlinecolor": "#2a3f5f",
             "gridcolor": "white",
             "linecolor": "white",
             "minorgridcolor": "white",
             "startlinecolor": "#2a3f5f"
            },
            "baxis": {
             "endlinecolor": "#2a3f5f",
             "gridcolor": "white",
             "linecolor": "white",
             "minorgridcolor": "white",
             "startlinecolor": "#2a3f5f"
            },
            "type": "carpet"
           }
          ],
          "choropleth": [
           {
            "colorbar": {
             "outlinewidth": 0,
             "ticks": ""
            },
            "type": "choropleth"
           }
          ],
          "contour": [
           {
            "colorbar": {
             "outlinewidth": 0,
             "ticks": ""
            },
            "colorscale": [
             [
              0,
              "#0d0887"
             ],
             [
              0.1111111111111111,
              "#46039f"
             ],
             [
              0.2222222222222222,
              "#7201a8"
             ],
             [
              0.3333333333333333,
              "#9c179e"
             ],
             [
              0.4444444444444444,
              "#bd3786"
             ],
             [
              0.5555555555555556,
              "#d8576b"
             ],
             [
              0.6666666666666666,
              "#ed7953"
             ],
             [
              0.7777777777777778,
              "#fb9f3a"
             ],
             [
              0.8888888888888888,
              "#fdca26"
             ],
             [
              1,
              "#f0f921"
             ]
            ],
            "type": "contour"
           }
          ],
          "contourcarpet": [
           {
            "colorbar": {
             "outlinewidth": 0,
             "ticks": ""
            },
            "type": "contourcarpet"
           }
          ],
          "heatmap": [
           {
            "colorbar": {
             "outlinewidth": 0,
             "ticks": ""
            },
            "colorscale": [
             [
              0,
              "#0d0887"
             ],
             [
              0.1111111111111111,
              "#46039f"
             ],
             [
              0.2222222222222222,
              "#7201a8"
             ],
             [
              0.3333333333333333,
              "#9c179e"
             ],
             [
              0.4444444444444444,
              "#bd3786"
             ],
             [
              0.5555555555555556,
              "#d8576b"
             ],
             [
              0.6666666666666666,
              "#ed7953"
             ],
             [
              0.7777777777777778,
              "#fb9f3a"
             ],
             [
              0.8888888888888888,
              "#fdca26"
             ],
             [
              1,
              "#f0f921"
             ]
            ],
            "type": "heatmap"
           }
          ],
          "heatmapgl": [
           {
            "colorbar": {
             "outlinewidth": 0,
             "ticks": ""
            },
            "colorscale": [
             [
              0,
              "#0d0887"
             ],
             [
              0.1111111111111111,
              "#46039f"
             ],
             [
              0.2222222222222222,
              "#7201a8"
             ],
             [
              0.3333333333333333,
              "#9c179e"
             ],
             [
              0.4444444444444444,
              "#bd3786"
             ],
             [
              0.5555555555555556,
              "#d8576b"
             ],
             [
              0.6666666666666666,
              "#ed7953"
             ],
             [
              0.7777777777777778,
              "#fb9f3a"
             ],
             [
              0.8888888888888888,
              "#fdca26"
             ],
             [
              1,
              "#f0f921"
             ]
            ],
            "type": "heatmapgl"
           }
          ],
          "histogram": [
           {
            "marker": {
             "pattern": {
              "fillmode": "overlay",
              "size": 10,
              "solidity": 0.2
             }
            },
            "type": "histogram"
           }
          ],
          "histogram2d": [
           {
            "colorbar": {
             "outlinewidth": 0,
             "ticks": ""
            },
            "colorscale": [
             [
              0,
              "#0d0887"
             ],
             [
              0.1111111111111111,
              "#46039f"
             ],
             [
              0.2222222222222222,
              "#7201a8"
             ],
             [
              0.3333333333333333,
              "#9c179e"
             ],
             [
              0.4444444444444444,
              "#bd3786"
             ],
             [
              0.5555555555555556,
              "#d8576b"
             ],
             [
              0.6666666666666666,
              "#ed7953"
             ],
             [
              0.7777777777777778,
              "#fb9f3a"
             ],
             [
              0.8888888888888888,
              "#fdca26"
             ],
             [
              1,
              "#f0f921"
             ]
            ],
            "type": "histogram2d"
           }
          ],
          "histogram2dcontour": [
           {
            "colorbar": {
             "outlinewidth": 0,
             "ticks": ""
            },
            "colorscale": [
             [
              0,
              "#0d0887"
             ],
             [
              0.1111111111111111,
              "#46039f"
             ],
             [
              0.2222222222222222,
              "#7201a8"
             ],
             [
              0.3333333333333333,
              "#9c179e"
             ],
             [
              0.4444444444444444,
              "#bd3786"
             ],
             [
              0.5555555555555556,
              "#d8576b"
             ],
             [
              0.6666666666666666,
              "#ed7953"
             ],
             [
              0.7777777777777778,
              "#fb9f3a"
             ],
             [
              0.8888888888888888,
              "#fdca26"
             ],
             [
              1,
              "#f0f921"
             ]
            ],
            "type": "histogram2dcontour"
           }
          ],
          "mesh3d": [
           {
            "colorbar": {
             "outlinewidth": 0,
             "ticks": ""
            },
            "type": "mesh3d"
           }
          ],
          "parcoords": [
           {
            "line": {
             "colorbar": {
              "outlinewidth": 0,
              "ticks": ""
             }
            },
            "type": "parcoords"
           }
          ],
          "pie": [
           {
            "automargin": true,
            "type": "pie"
           }
          ],
          "scatter": [
           {
            "fillpattern": {
             "fillmode": "overlay",
             "size": 10,
             "solidity": 0.2
            },
            "type": "scatter"
           }
          ],
          "scatter3d": [
           {
            "line": {
             "colorbar": {
              "outlinewidth": 0,
              "ticks": ""
             }
            },
            "marker": {
             "colorbar": {
              "outlinewidth": 0,
              "ticks": ""
             }
            },
            "type": "scatter3d"
           }
          ],
          "scattercarpet": [
           {
            "marker": {
             "colorbar": {
              "outlinewidth": 0,
              "ticks": ""
             }
            },
            "type": "scattercarpet"
           }
          ],
          "scattergeo": [
           {
            "marker": {
             "colorbar": {
              "outlinewidth": 0,
              "ticks": ""
             }
            },
            "type": "scattergeo"
           }
          ],
          "scattergl": [
           {
            "marker": {
             "colorbar": {
              "outlinewidth": 0,
              "ticks": ""
             }
            },
            "type": "scattergl"
           }
          ],
          "scattermapbox": [
           {
            "marker": {
             "colorbar": {
              "outlinewidth": 0,
              "ticks": ""
             }
            },
            "type": "scattermapbox"
           }
          ],
          "scatterpolar": [
           {
            "marker": {
             "colorbar": {
              "outlinewidth": 0,
              "ticks": ""
             }
            },
            "type": "scatterpolar"
           }
          ],
          "scatterpolargl": [
           {
            "marker": {
             "colorbar": {
              "outlinewidth": 0,
              "ticks": ""
             }
            },
            "type": "scatterpolargl"
           }
          ],
          "scatterternary": [
           {
            "marker": {
             "colorbar": {
              "outlinewidth": 0,
              "ticks": ""
             }
            },
            "type": "scatterternary"
           }
          ],
          "surface": [
           {
            "colorbar": {
             "outlinewidth": 0,
             "ticks": ""
            },
            "colorscale": [
             [
              0,
              "#0d0887"
             ],
             [
              0.1111111111111111,
              "#46039f"
             ],
             [
              0.2222222222222222,
              "#7201a8"
             ],
             [
              0.3333333333333333,
              "#9c179e"
             ],
             [
              0.4444444444444444,
              "#bd3786"
             ],
             [
              0.5555555555555556,
              "#d8576b"
             ],
             [
              0.6666666666666666,
              "#ed7953"
             ],
             [
              0.7777777777777778,
              "#fb9f3a"
             ],
             [
              0.8888888888888888,
              "#fdca26"
             ],
             [
              1,
              "#f0f921"
             ]
            ],
            "type": "surface"
           }
          ],
          "table": [
           {
            "cells": {
             "fill": {
              "color": "#EBF0F8"
             },
             "line": {
              "color": "white"
             }
            },
            "header": {
             "fill": {
              "color": "#C8D4E3"
             },
             "line": {
              "color": "white"
             }
            },
            "type": "table"
           }
          ]
         },
         "layout": {
          "annotationdefaults": {
           "arrowcolor": "#2a3f5f",
           "arrowhead": 0,
           "arrowwidth": 1
          },
          "autotypenumbers": "strict",
          "coloraxis": {
           "colorbar": {
            "outlinewidth": 0,
            "ticks": ""
           }
          },
          "colorscale": {
           "diverging": [
            [
             0,
             "#8e0152"
            ],
            [
             0.1,
             "#c51b7d"
            ],
            [
             0.2,
             "#de77ae"
            ],
            [
             0.3,
             "#f1b6da"
            ],
            [
             0.4,
             "#fde0ef"
            ],
            [
             0.5,
             "#f7f7f7"
            ],
            [
             0.6,
             "#e6f5d0"
            ],
            [
             0.7,
             "#b8e186"
            ],
            [
             0.8,
             "#7fbc41"
            ],
            [
             0.9,
             "#4d9221"
            ],
            [
             1,
             "#276419"
            ]
           ],
           "sequential": [
            [
             0,
             "#0d0887"
            ],
            [
             0.1111111111111111,
             "#46039f"
            ],
            [
             0.2222222222222222,
             "#7201a8"
            ],
            [
             0.3333333333333333,
             "#9c179e"
            ],
            [
             0.4444444444444444,
             "#bd3786"
            ],
            [
             0.5555555555555556,
             "#d8576b"
            ],
            [
             0.6666666666666666,
             "#ed7953"
            ],
            [
             0.7777777777777778,
             "#fb9f3a"
            ],
            [
             0.8888888888888888,
             "#fdca26"
            ],
            [
             1,
             "#f0f921"
            ]
           ],
           "sequentialminus": [
            [
             0,
             "#0d0887"
            ],
            [
             0.1111111111111111,
             "#46039f"
            ],
            [
             0.2222222222222222,
             "#7201a8"
            ],
            [
             0.3333333333333333,
             "#9c179e"
            ],
            [
             0.4444444444444444,
             "#bd3786"
            ],
            [
             0.5555555555555556,
             "#d8576b"
            ],
            [
             0.6666666666666666,
             "#ed7953"
            ],
            [
             0.7777777777777778,
             "#fb9f3a"
            ],
            [
             0.8888888888888888,
             "#fdca26"
            ],
            [
             1,
             "#f0f921"
            ]
           ]
          },
          "colorway": [
           "#636efa",
           "#EF553B",
           "#00cc96",
           "#ab63fa",
           "#FFA15A",
           "#19d3f3",
           "#FF6692",
           "#B6E880",
           "#FF97FF",
           "#FECB52"
          ],
          "font": {
           "color": "#2a3f5f"
          },
          "geo": {
           "bgcolor": "white",
           "lakecolor": "white",
           "landcolor": "#E5ECF6",
           "showlakes": true,
           "showland": true,
           "subunitcolor": "white"
          },
          "hoverlabel": {
           "align": "left"
          },
          "hovermode": "closest",
          "mapbox": {
           "style": "light"
          },
          "paper_bgcolor": "white",
          "plot_bgcolor": "#E5ECF6",
          "polar": {
           "angularaxis": {
            "gridcolor": "white",
            "linecolor": "white",
            "ticks": ""
           },
           "bgcolor": "#E5ECF6",
           "radialaxis": {
            "gridcolor": "white",
            "linecolor": "white",
            "ticks": ""
           }
          },
          "scene": {
           "xaxis": {
            "backgroundcolor": "#E5ECF6",
            "gridcolor": "white",
            "gridwidth": 2,
            "linecolor": "white",
            "showbackground": true,
            "ticks": "",
            "zerolinecolor": "white"
           },
           "yaxis": {
            "backgroundcolor": "#E5ECF6",
            "gridcolor": "white",
            "gridwidth": 2,
            "linecolor": "white",
            "showbackground": true,
            "ticks": "",
            "zerolinecolor": "white"
           },
           "zaxis": {
            "backgroundcolor": "#E5ECF6",
            "gridcolor": "white",
            "gridwidth": 2,
            "linecolor": "white",
            "showbackground": true,
            "ticks": "",
            "zerolinecolor": "white"
           }
          },
          "shapedefaults": {
           "line": {
            "color": "#2a3f5f"
           }
          },
          "ternary": {
           "aaxis": {
            "gridcolor": "white",
            "linecolor": "white",
            "ticks": ""
           },
           "baxis": {
            "gridcolor": "white",
            "linecolor": "white",
            "ticks": ""
           },
           "bgcolor": "#E5ECF6",
           "caxis": {
            "gridcolor": "white",
            "linecolor": "white",
            "ticks": ""
           }
          },
          "title": {
           "x": 0.05
          },
          "xaxis": {
           "automargin": true,
           "gridcolor": "white",
           "linecolor": "white",
           "ticks": "",
           "title": {
            "standoff": 15
           },
           "zerolinecolor": "white",
           "zerolinewidth": 2
          },
          "yaxis": {
           "automargin": true,
           "gridcolor": "white",
           "linecolor": "white",
           "ticks": "",
           "title": {
            "standoff": 15
           },
           "zerolinecolor": "white",
           "zerolinewidth": 2
          }
         }
        },
        "title": {
         "text": "Percent Contribution When Belief is their Community's Economy is Poor"
        },
        "xaxis": {
         "anchor": "y",
         "domain": [
          0,
          1
         ],
         "title": {
          "text": "Year"
         }
        },
        "yaxis": {
         "anchor": "x",
         "domain": [
          0,
          1
         ],
         "title": {
          "text": "Percentage"
         }
        }
       }
      }
     },
     "metadata": {},
     "output_type": "display_data"
    }
   ],
   "source": [
    "income_map1 = {\n",
    "    'Under $40k':\"#002471\",\n",
    "    '$40-70K':\"#0041cb\",\n",
    "    '$70-100K':\"#407dff\",\n",
    "    '$100K+':\"#aec8ff\"\n",
    "}\n",
    "\n",
    "examine_changes('df_econ_poor',None,'INCOME_GROUP','Income Group', \n",
    "                'Percent Contribution When Belief is their Community\\'s Economy is Poor', 1,\n",
    "                ['Under $40k','$40-70K','$70-100K','$100K+'],income_map1)"
   ]
  },
  {
   "cell_type": "markdown",
   "metadata": {},
   "source": [
    "From this graph, we can see that the percent contribution of each income group to the total number of participants who thought their community's economy is poor is more balenced across the the income groups in 2022 than in 2021. This tells us that high inflation rates (and possibly other factors) affected higher income groups as well as low income groups. \n",
    "\n",
    "Interestingly, there are more people who believed their community's economy is poor in the group making more than 100,000 than the \\$70-100K group."
   ]
  },
  {
   "cell_type": "code",
   "execution_count": 612,
   "metadata": {},
   "outputs": [
    {
     "name": "stdout",
     "output_type": "stream",
     "text": [
      "   YEAR INCOME_GROUP  Count\n",
      "0  2021       $100K+   1075\n",
      "1  2021      $40-70K    830\n",
      "2  2021     $70-100K    635\n",
      "3  2021   Under $40k   1203\n",
      "4  2022       $100K+   1190\n",
      "5  2022      $40-70K    830\n",
      "6  2022     $70-100K    653\n",
      "7  2022   Under $40k   1133\n"
     ]
    },
    {
     "data": {
      "application/vnd.plotly.v1+json": {
       "config": {
        "plotlyServerURL": "https://plot.ly"
       },
       "data": [
        {
         "alignmentgroup": "True",
         "bingroup": "x",
         "histfunc": "sum",
         "hovertemplate": "Income Group=Under $40k<br>Year=%{x}<br>sum of Percent=%{y}<extra></extra>",
         "legendgroup": "Under $40k",
         "marker": {
          "color": "#002471",
          "pattern": {
           "shape": ""
          }
         },
         "name": "Under $40k",
         "offsetgroup": "Under $40k",
         "orientation": "v",
         "showlegend": true,
         "type": "histogram",
         "x": [
          2021,
          2022
         ],
         "xaxis": "x",
         "y": [
          18.86949293433084,
          27.978817299205648
         ],
         "yaxis": "y"
        },
        {
         "alignmentgroup": "True",
         "bingroup": "x",
         "histfunc": "sum",
         "hovertemplate": "Income Group=$40-70K<br>Year=%{x}<br>sum of Percent=%{y}<extra></extra>",
         "legendgroup": "$40-70K",
         "marker": {
          "color": "#0041cb",
          "pattern": {
           "shape": ""
          }
         },
         "name": "$40-70K",
         "offsetgroup": "$40-70K",
         "orientation": "v",
         "showlegend": true,
         "type": "histogram",
         "x": [
          2021,
          2022
         ],
         "xaxis": "x",
         "y": [
          8.795180722891565,
          22.771084337349397
         ],
         "yaxis": "y"
        },
        {
         "alignmentgroup": "True",
         "bingroup": "x",
         "histfunc": "sum",
         "hovertemplate": "Income Group=$70-100K<br>Year=%{x}<br>sum of Percent=%{y}<extra></extra>",
         "legendgroup": "$70-100K",
         "marker": {
          "color": "#407dff",
          "pattern": {
           "shape": ""
          }
         },
         "name": "$70-100K",
         "offsetgroup": "$70-100K",
         "orientation": "v",
         "showlegend": true,
         "type": "histogram",
         "x": [
          2021,
          2022
         ],
         "xaxis": "x",
         "y": [
          6.6141732283464565,
          18.376722817764165
         ],
         "yaxis": "y"
        },
        {
         "alignmentgroup": "True",
         "bingroup": "x",
         "histfunc": "sum",
         "hovertemplate": "Income Group=$100K+<br>Year=%{x}<br>sum of Percent=%{y}<extra></extra>",
         "legendgroup": "$100K+",
         "marker": {
          "color": "#aec8ff",
          "pattern": {
           "shape": ""
          }
         },
         "name": "$100K+",
         "offsetgroup": "$100K+",
         "orientation": "v",
         "showlegend": true,
         "type": "histogram",
         "x": [
          2021,
          2022
         ],
         "xaxis": "x",
         "y": [
          4.837209302325581,
          14.033613445378151
         ],
         "yaxis": "y"
        }
       ],
       "layout": {
        "barmode": "group",
        "legend": {
         "title": {
          "text": "Income Group"
         },
         "tracegroupgap": 0
        },
        "template": {
         "data": {
          "bar": [
           {
            "error_x": {
             "color": "#2a3f5f"
            },
            "error_y": {
             "color": "#2a3f5f"
            },
            "marker": {
             "line": {
              "color": "#E5ECF6",
              "width": 0.5
             },
             "pattern": {
              "fillmode": "overlay",
              "size": 10,
              "solidity": 0.2
             }
            },
            "type": "bar"
           }
          ],
          "barpolar": [
           {
            "marker": {
             "line": {
              "color": "#E5ECF6",
              "width": 0.5
             },
             "pattern": {
              "fillmode": "overlay",
              "size": 10,
              "solidity": 0.2
             }
            },
            "type": "barpolar"
           }
          ],
          "carpet": [
           {
            "aaxis": {
             "endlinecolor": "#2a3f5f",
             "gridcolor": "white",
             "linecolor": "white",
             "minorgridcolor": "white",
             "startlinecolor": "#2a3f5f"
            },
            "baxis": {
             "endlinecolor": "#2a3f5f",
             "gridcolor": "white",
             "linecolor": "white",
             "minorgridcolor": "white",
             "startlinecolor": "#2a3f5f"
            },
            "type": "carpet"
           }
          ],
          "choropleth": [
           {
            "colorbar": {
             "outlinewidth": 0,
             "ticks": ""
            },
            "type": "choropleth"
           }
          ],
          "contour": [
           {
            "colorbar": {
             "outlinewidth": 0,
             "ticks": ""
            },
            "colorscale": [
             [
              0,
              "#0d0887"
             ],
             [
              0.1111111111111111,
              "#46039f"
             ],
             [
              0.2222222222222222,
              "#7201a8"
             ],
             [
              0.3333333333333333,
              "#9c179e"
             ],
             [
              0.4444444444444444,
              "#bd3786"
             ],
             [
              0.5555555555555556,
              "#d8576b"
             ],
             [
              0.6666666666666666,
              "#ed7953"
             ],
             [
              0.7777777777777778,
              "#fb9f3a"
             ],
             [
              0.8888888888888888,
              "#fdca26"
             ],
             [
              1,
              "#f0f921"
             ]
            ],
            "type": "contour"
           }
          ],
          "contourcarpet": [
           {
            "colorbar": {
             "outlinewidth": 0,
             "ticks": ""
            },
            "type": "contourcarpet"
           }
          ],
          "heatmap": [
           {
            "colorbar": {
             "outlinewidth": 0,
             "ticks": ""
            },
            "colorscale": [
             [
              0,
              "#0d0887"
             ],
             [
              0.1111111111111111,
              "#46039f"
             ],
             [
              0.2222222222222222,
              "#7201a8"
             ],
             [
              0.3333333333333333,
              "#9c179e"
             ],
             [
              0.4444444444444444,
              "#bd3786"
             ],
             [
              0.5555555555555556,
              "#d8576b"
             ],
             [
              0.6666666666666666,
              "#ed7953"
             ],
             [
              0.7777777777777778,
              "#fb9f3a"
             ],
             [
              0.8888888888888888,
              "#fdca26"
             ],
             [
              1,
              "#f0f921"
             ]
            ],
            "type": "heatmap"
           }
          ],
          "heatmapgl": [
           {
            "colorbar": {
             "outlinewidth": 0,
             "ticks": ""
            },
            "colorscale": [
             [
              0,
              "#0d0887"
             ],
             [
              0.1111111111111111,
              "#46039f"
             ],
             [
              0.2222222222222222,
              "#7201a8"
             ],
             [
              0.3333333333333333,
              "#9c179e"
             ],
             [
              0.4444444444444444,
              "#bd3786"
             ],
             [
              0.5555555555555556,
              "#d8576b"
             ],
             [
              0.6666666666666666,
              "#ed7953"
             ],
             [
              0.7777777777777778,
              "#fb9f3a"
             ],
             [
              0.8888888888888888,
              "#fdca26"
             ],
             [
              1,
              "#f0f921"
             ]
            ],
            "type": "heatmapgl"
           }
          ],
          "histogram": [
           {
            "marker": {
             "pattern": {
              "fillmode": "overlay",
              "size": 10,
              "solidity": 0.2
             }
            },
            "type": "histogram"
           }
          ],
          "histogram2d": [
           {
            "colorbar": {
             "outlinewidth": 0,
             "ticks": ""
            },
            "colorscale": [
             [
              0,
              "#0d0887"
             ],
             [
              0.1111111111111111,
              "#46039f"
             ],
             [
              0.2222222222222222,
              "#7201a8"
             ],
             [
              0.3333333333333333,
              "#9c179e"
             ],
             [
              0.4444444444444444,
              "#bd3786"
             ],
             [
              0.5555555555555556,
              "#d8576b"
             ],
             [
              0.6666666666666666,
              "#ed7953"
             ],
             [
              0.7777777777777778,
              "#fb9f3a"
             ],
             [
              0.8888888888888888,
              "#fdca26"
             ],
             [
              1,
              "#f0f921"
             ]
            ],
            "type": "histogram2d"
           }
          ],
          "histogram2dcontour": [
           {
            "colorbar": {
             "outlinewidth": 0,
             "ticks": ""
            },
            "colorscale": [
             [
              0,
              "#0d0887"
             ],
             [
              0.1111111111111111,
              "#46039f"
             ],
             [
              0.2222222222222222,
              "#7201a8"
             ],
             [
              0.3333333333333333,
              "#9c179e"
             ],
             [
              0.4444444444444444,
              "#bd3786"
             ],
             [
              0.5555555555555556,
              "#d8576b"
             ],
             [
              0.6666666666666666,
              "#ed7953"
             ],
             [
              0.7777777777777778,
              "#fb9f3a"
             ],
             [
              0.8888888888888888,
              "#fdca26"
             ],
             [
              1,
              "#f0f921"
             ]
            ],
            "type": "histogram2dcontour"
           }
          ],
          "mesh3d": [
           {
            "colorbar": {
             "outlinewidth": 0,
             "ticks": ""
            },
            "type": "mesh3d"
           }
          ],
          "parcoords": [
           {
            "line": {
             "colorbar": {
              "outlinewidth": 0,
              "ticks": ""
             }
            },
            "type": "parcoords"
           }
          ],
          "pie": [
           {
            "automargin": true,
            "type": "pie"
           }
          ],
          "scatter": [
           {
            "fillpattern": {
             "fillmode": "overlay",
             "size": 10,
             "solidity": 0.2
            },
            "type": "scatter"
           }
          ],
          "scatter3d": [
           {
            "line": {
             "colorbar": {
              "outlinewidth": 0,
              "ticks": ""
             }
            },
            "marker": {
             "colorbar": {
              "outlinewidth": 0,
              "ticks": ""
             }
            },
            "type": "scatter3d"
           }
          ],
          "scattercarpet": [
           {
            "marker": {
             "colorbar": {
              "outlinewidth": 0,
              "ticks": ""
             }
            },
            "type": "scattercarpet"
           }
          ],
          "scattergeo": [
           {
            "marker": {
             "colorbar": {
              "outlinewidth": 0,
              "ticks": ""
             }
            },
            "type": "scattergeo"
           }
          ],
          "scattergl": [
           {
            "marker": {
             "colorbar": {
              "outlinewidth": 0,
              "ticks": ""
             }
            },
            "type": "scattergl"
           }
          ],
          "scattermapbox": [
           {
            "marker": {
             "colorbar": {
              "outlinewidth": 0,
              "ticks": ""
             }
            },
            "type": "scattermapbox"
           }
          ],
          "scatterpolar": [
           {
            "marker": {
             "colorbar": {
              "outlinewidth": 0,
              "ticks": ""
             }
            },
            "type": "scatterpolar"
           }
          ],
          "scatterpolargl": [
           {
            "marker": {
             "colorbar": {
              "outlinewidth": 0,
              "ticks": ""
             }
            },
            "type": "scatterpolargl"
           }
          ],
          "scatterternary": [
           {
            "marker": {
             "colorbar": {
              "outlinewidth": 0,
              "ticks": ""
             }
            },
            "type": "scatterternary"
           }
          ],
          "surface": [
           {
            "colorbar": {
             "outlinewidth": 0,
             "ticks": ""
            },
            "colorscale": [
             [
              0,
              "#0d0887"
             ],
             [
              0.1111111111111111,
              "#46039f"
             ],
             [
              0.2222222222222222,
              "#7201a8"
             ],
             [
              0.3333333333333333,
              "#9c179e"
             ],
             [
              0.4444444444444444,
              "#bd3786"
             ],
             [
              0.5555555555555556,
              "#d8576b"
             ],
             [
              0.6666666666666666,
              "#ed7953"
             ],
             [
              0.7777777777777778,
              "#fb9f3a"
             ],
             [
              0.8888888888888888,
              "#fdca26"
             ],
             [
              1,
              "#f0f921"
             ]
            ],
            "type": "surface"
           }
          ],
          "table": [
           {
            "cells": {
             "fill": {
              "color": "#EBF0F8"
             },
             "line": {
              "color": "white"
             }
            },
            "header": {
             "fill": {
              "color": "#C8D4E3"
             },
             "line": {
              "color": "white"
             }
            },
            "type": "table"
           }
          ]
         },
         "layout": {
          "annotationdefaults": {
           "arrowcolor": "#2a3f5f",
           "arrowhead": 0,
           "arrowwidth": 1
          },
          "autotypenumbers": "strict",
          "coloraxis": {
           "colorbar": {
            "outlinewidth": 0,
            "ticks": ""
           }
          },
          "colorscale": {
           "diverging": [
            [
             0,
             "#8e0152"
            ],
            [
             0.1,
             "#c51b7d"
            ],
            [
             0.2,
             "#de77ae"
            ],
            [
             0.3,
             "#f1b6da"
            ],
            [
             0.4,
             "#fde0ef"
            ],
            [
             0.5,
             "#f7f7f7"
            ],
            [
             0.6,
             "#e6f5d0"
            ],
            [
             0.7,
             "#b8e186"
            ],
            [
             0.8,
             "#7fbc41"
            ],
            [
             0.9,
             "#4d9221"
            ],
            [
             1,
             "#276419"
            ]
           ],
           "sequential": [
            [
             0,
             "#0d0887"
            ],
            [
             0.1111111111111111,
             "#46039f"
            ],
            [
             0.2222222222222222,
             "#7201a8"
            ],
            [
             0.3333333333333333,
             "#9c179e"
            ],
            [
             0.4444444444444444,
             "#bd3786"
            ],
            [
             0.5555555555555556,
             "#d8576b"
            ],
            [
             0.6666666666666666,
             "#ed7953"
            ],
            [
             0.7777777777777778,
             "#fb9f3a"
            ],
            [
             0.8888888888888888,
             "#fdca26"
            ],
            [
             1,
             "#f0f921"
            ]
           ],
           "sequentialminus": [
            [
             0,
             "#0d0887"
            ],
            [
             0.1111111111111111,
             "#46039f"
            ],
            [
             0.2222222222222222,
             "#7201a8"
            ],
            [
             0.3333333333333333,
             "#9c179e"
            ],
            [
             0.4444444444444444,
             "#bd3786"
            ],
            [
             0.5555555555555556,
             "#d8576b"
            ],
            [
             0.6666666666666666,
             "#ed7953"
            ],
            [
             0.7777777777777778,
             "#fb9f3a"
            ],
            [
             0.8888888888888888,
             "#fdca26"
            ],
            [
             1,
             "#f0f921"
            ]
           ]
          },
          "colorway": [
           "#636efa",
           "#EF553B",
           "#00cc96",
           "#ab63fa",
           "#FFA15A",
           "#19d3f3",
           "#FF6692",
           "#B6E880",
           "#FF97FF",
           "#FECB52"
          ],
          "font": {
           "color": "#2a3f5f"
          },
          "geo": {
           "bgcolor": "white",
           "lakecolor": "white",
           "landcolor": "#E5ECF6",
           "showlakes": true,
           "showland": true,
           "subunitcolor": "white"
          },
          "hoverlabel": {
           "align": "left"
          },
          "hovermode": "closest",
          "mapbox": {
           "style": "light"
          },
          "paper_bgcolor": "white",
          "plot_bgcolor": "#E5ECF6",
          "polar": {
           "angularaxis": {
            "gridcolor": "white",
            "linecolor": "white",
            "ticks": ""
           },
           "bgcolor": "#E5ECF6",
           "radialaxis": {
            "gridcolor": "white",
            "linecolor": "white",
            "ticks": ""
           }
          },
          "scene": {
           "xaxis": {
            "backgroundcolor": "#E5ECF6",
            "gridcolor": "white",
            "gridwidth": 2,
            "linecolor": "white",
            "showbackground": true,
            "ticks": "",
            "zerolinecolor": "white"
           },
           "yaxis": {
            "backgroundcolor": "#E5ECF6",
            "gridcolor": "white",
            "gridwidth": 2,
            "linecolor": "white",
            "showbackground": true,
            "ticks": "",
            "zerolinecolor": "white"
           },
           "zaxis": {
            "backgroundcolor": "#E5ECF6",
            "gridcolor": "white",
            "gridwidth": 2,
            "linecolor": "white",
            "showbackground": true,
            "ticks": "",
            "zerolinecolor": "white"
           }
          },
          "shapedefaults": {
           "line": {
            "color": "#2a3f5f"
           }
          },
          "ternary": {
           "aaxis": {
            "gridcolor": "white",
            "linecolor": "white",
            "ticks": ""
           },
           "baxis": {
            "gridcolor": "white",
            "linecolor": "white",
            "ticks": ""
           },
           "bgcolor": "#E5ECF6",
           "caxis": {
            "gridcolor": "white",
            "linecolor": "white",
            "ticks": ""
           }
          },
          "title": {
           "x": 0.05
          },
          "xaxis": {
           "automargin": true,
           "gridcolor": "white",
           "linecolor": "white",
           "ticks": "",
           "title": {
            "standoff": 15
           },
           "zerolinecolor": "white",
           "zerolinewidth": 2
          },
          "yaxis": {
           "automargin": true,
           "gridcolor": "white",
           "linecolor": "white",
           "ticks": "",
           "title": {
            "standoff": 15
           },
           "zerolinecolor": "white",
           "zerolinewidth": 2
          }
         }
        },
        "title": {
         "text": "Percent of Income Groups who Believe Their Community's Economy is Poor"
        },
        "xaxis": {
         "anchor": "y",
         "domain": [
          0,
          1
         ],
         "title": {
          "text": "Year"
         }
        },
        "yaxis": {
         "anchor": "x",
         "domain": [
          0,
          1
         ],
         "title": {
          "text": "Percentage"
         }
        }
       }
      }
     },
     "metadata": {},
     "output_type": "display_data"
    }
   ],
   "source": [
    "df_income_group_count = sqldf(\n",
    "        \"\"\"\n",
    "        SELECT YEAR, INCOME_GROUP, COUNT(*) as Count\n",
    "        FROM df_combined\n",
    "        WHERE YEAR IN (2021,2022) AND INCOME_GROUP <> 'Other'\n",
    "        GROUP BY YEAR, INCOME_GROUP\n",
    "        \"\"\"\n",
    ")\n",
    "\n",
    "print(df_income_group_count)\n",
    "\n",
    "examine_changes('df_econ_poor',df_income_group_count,'INCOME_GROUP','Income Group', \n",
    "                'Percent of Income Groups who Believe Their Community\\'s Economy is Poor', 2,\n",
    "                ['Under $40k','$40-70K','$70-100K','$100K+'],income_map1)"
   ]
  },
  {
   "cell_type": "markdown",
   "metadata": {},
   "source": [
    "The percent of each income group who thought their community's economic conditions is poor increased for all income groups showing us that high inflation is an issue for everyone regardless of income. "
   ]
  },
  {
   "cell_type": "code",
   "execution_count": 613,
   "metadata": {},
   "outputs": [
    {
     "data": {
      "application/vnd.plotly.v1+json": {
       "config": {
        "plotlyServerURL": "https://plot.ly"
       },
       "data": [
        {
         "alignmentgroup": "True",
         "bingroup": "x",
         "histfunc": "sum",
         "hovertemplate": "Income Group=Under $40k<br>Year=%{x}<br>sum of Percent=%{y}<extra></extra>",
         "legendgroup": "Under $40k",
         "marker": {
          "color": "#3d005e",
          "pattern": {
           "shape": ""
          }
         },
         "name": "Under $40k",
         "offsetgroup": "Under $40k",
         "orientation": "v",
         "showlegend": true,
         "type": "histogram",
         "x": [
          2021,
          2022
         ],
         "xaxis": "x",
         "y": [
          29.848866498740556,
          28.277817150956768
         ],
         "yaxis": "y"
        },
        {
         "alignmentgroup": "True",
         "bingroup": "x",
         "histfunc": "sum",
         "hovertemplate": "Income Group=$40-70K<br>Year=%{x}<br>sum of Percent=%{y}<extra></extra>",
         "legendgroup": "$40-70K",
         "marker": {
          "color": "#8a03d5",
          "pattern": {
           "shape": ""
          }
         },
         "name": "$40-70K",
         "offsetgroup": "$40-70K",
         "orientation": "v",
         "showlegend": true,
         "type": "histogram",
         "x": [
          2021,
          2022
         ],
         "xaxis": "x",
         "y": [
          24.181360201511335,
          22.18284904323175
         ],
         "yaxis": "y"
        },
        {
         "alignmentgroup": "True",
         "bingroup": "x",
         "histfunc": "sum",
         "hovertemplate": "Income Group=$70-100K<br>Year=%{x}<br>sum of Percent=%{y}<extra></extra>",
         "legendgroup": "$70-100K",
         "marker": {
          "color": "#bd45ff",
          "pattern": {
           "shape": ""
          }
         },
         "name": "$70-100K",
         "offsetgroup": "$70-100K",
         "orientation": "v",
         "showlegend": true,
         "type": "histogram",
         "x": [
          2021,
          2022
         ],
         "xaxis": "x",
         "y": [
          18.765743073047858,
          17.859673990077958
         ],
         "yaxis": "y"
        },
        {
         "alignmentgroup": "True",
         "bingroup": "x",
         "histfunc": "sum",
         "hovertemplate": "Income Group=$100K+<br>Year=%{x}<br>sum of Percent=%{y}<extra></extra>",
         "legendgroup": "$100K+",
         "marker": {
          "color": "#d995ff",
          "pattern": {
           "shape": ""
          }
         },
         "name": "$100K+",
         "offsetgroup": "$100K+",
         "orientation": "v",
         "showlegend": true,
         "type": "histogram",
         "x": [
          2021,
          2022
         ],
         "xaxis": "x",
         "y": [
          27.204030226700255,
          31.679659815733523
         ],
         "yaxis": "y"
        }
       ],
       "layout": {
        "barmode": "group",
        "legend": {
         "title": {
          "text": "Income Group"
         },
         "tracegroupgap": 0
        },
        "template": {
         "data": {
          "bar": [
           {
            "error_x": {
             "color": "#2a3f5f"
            },
            "error_y": {
             "color": "#2a3f5f"
            },
            "marker": {
             "line": {
              "color": "#E5ECF6",
              "width": 0.5
             },
             "pattern": {
              "fillmode": "overlay",
              "size": 10,
              "solidity": 0.2
             }
            },
            "type": "bar"
           }
          ],
          "barpolar": [
           {
            "marker": {
             "line": {
              "color": "#E5ECF6",
              "width": 0.5
             },
             "pattern": {
              "fillmode": "overlay",
              "size": 10,
              "solidity": 0.2
             }
            },
            "type": "barpolar"
           }
          ],
          "carpet": [
           {
            "aaxis": {
             "endlinecolor": "#2a3f5f",
             "gridcolor": "white",
             "linecolor": "white",
             "minorgridcolor": "white",
             "startlinecolor": "#2a3f5f"
            },
            "baxis": {
             "endlinecolor": "#2a3f5f",
             "gridcolor": "white",
             "linecolor": "white",
             "minorgridcolor": "white",
             "startlinecolor": "#2a3f5f"
            },
            "type": "carpet"
           }
          ],
          "choropleth": [
           {
            "colorbar": {
             "outlinewidth": 0,
             "ticks": ""
            },
            "type": "choropleth"
           }
          ],
          "contour": [
           {
            "colorbar": {
             "outlinewidth": 0,
             "ticks": ""
            },
            "colorscale": [
             [
              0,
              "#0d0887"
             ],
             [
              0.1111111111111111,
              "#46039f"
             ],
             [
              0.2222222222222222,
              "#7201a8"
             ],
             [
              0.3333333333333333,
              "#9c179e"
             ],
             [
              0.4444444444444444,
              "#bd3786"
             ],
             [
              0.5555555555555556,
              "#d8576b"
             ],
             [
              0.6666666666666666,
              "#ed7953"
             ],
             [
              0.7777777777777778,
              "#fb9f3a"
             ],
             [
              0.8888888888888888,
              "#fdca26"
             ],
             [
              1,
              "#f0f921"
             ]
            ],
            "type": "contour"
           }
          ],
          "contourcarpet": [
           {
            "colorbar": {
             "outlinewidth": 0,
             "ticks": ""
            },
            "type": "contourcarpet"
           }
          ],
          "heatmap": [
           {
            "colorbar": {
             "outlinewidth": 0,
             "ticks": ""
            },
            "colorscale": [
             [
              0,
              "#0d0887"
             ],
             [
              0.1111111111111111,
              "#46039f"
             ],
             [
              0.2222222222222222,
              "#7201a8"
             ],
             [
              0.3333333333333333,
              "#9c179e"
             ],
             [
              0.4444444444444444,
              "#bd3786"
             ],
             [
              0.5555555555555556,
              "#d8576b"
             ],
             [
              0.6666666666666666,
              "#ed7953"
             ],
             [
              0.7777777777777778,
              "#fb9f3a"
             ],
             [
              0.8888888888888888,
              "#fdca26"
             ],
             [
              1,
              "#f0f921"
             ]
            ],
            "type": "heatmap"
           }
          ],
          "heatmapgl": [
           {
            "colorbar": {
             "outlinewidth": 0,
             "ticks": ""
            },
            "colorscale": [
             [
              0,
              "#0d0887"
             ],
             [
              0.1111111111111111,
              "#46039f"
             ],
             [
              0.2222222222222222,
              "#7201a8"
             ],
             [
              0.3333333333333333,
              "#9c179e"
             ],
             [
              0.4444444444444444,
              "#bd3786"
             ],
             [
              0.5555555555555556,
              "#d8576b"
             ],
             [
              0.6666666666666666,
              "#ed7953"
             ],
             [
              0.7777777777777778,
              "#fb9f3a"
             ],
             [
              0.8888888888888888,
              "#fdca26"
             ],
             [
              1,
              "#f0f921"
             ]
            ],
            "type": "heatmapgl"
           }
          ],
          "histogram": [
           {
            "marker": {
             "pattern": {
              "fillmode": "overlay",
              "size": 10,
              "solidity": 0.2
             }
            },
            "type": "histogram"
           }
          ],
          "histogram2d": [
           {
            "colorbar": {
             "outlinewidth": 0,
             "ticks": ""
            },
            "colorscale": [
             [
              0,
              "#0d0887"
             ],
             [
              0.1111111111111111,
              "#46039f"
             ],
             [
              0.2222222222222222,
              "#7201a8"
             ],
             [
              0.3333333333333333,
              "#9c179e"
             ],
             [
              0.4444444444444444,
              "#bd3786"
             ],
             [
              0.5555555555555556,
              "#d8576b"
             ],
             [
              0.6666666666666666,
              "#ed7953"
             ],
             [
              0.7777777777777778,
              "#fb9f3a"
             ],
             [
              0.8888888888888888,
              "#fdca26"
             ],
             [
              1,
              "#f0f921"
             ]
            ],
            "type": "histogram2d"
           }
          ],
          "histogram2dcontour": [
           {
            "colorbar": {
             "outlinewidth": 0,
             "ticks": ""
            },
            "colorscale": [
             [
              0,
              "#0d0887"
             ],
             [
              0.1111111111111111,
              "#46039f"
             ],
             [
              0.2222222222222222,
              "#7201a8"
             ],
             [
              0.3333333333333333,
              "#9c179e"
             ],
             [
              0.4444444444444444,
              "#bd3786"
             ],
             [
              0.5555555555555556,
              "#d8576b"
             ],
             [
              0.6666666666666666,
              "#ed7953"
             ],
             [
              0.7777777777777778,
              "#fb9f3a"
             ],
             [
              0.8888888888888888,
              "#fdca26"
             ],
             [
              1,
              "#f0f921"
             ]
            ],
            "type": "histogram2dcontour"
           }
          ],
          "mesh3d": [
           {
            "colorbar": {
             "outlinewidth": 0,
             "ticks": ""
            },
            "type": "mesh3d"
           }
          ],
          "parcoords": [
           {
            "line": {
             "colorbar": {
              "outlinewidth": 0,
              "ticks": ""
             }
            },
            "type": "parcoords"
           }
          ],
          "pie": [
           {
            "automargin": true,
            "type": "pie"
           }
          ],
          "scatter": [
           {
            "fillpattern": {
             "fillmode": "overlay",
             "size": 10,
             "solidity": 0.2
            },
            "type": "scatter"
           }
          ],
          "scatter3d": [
           {
            "line": {
             "colorbar": {
              "outlinewidth": 0,
              "ticks": ""
             }
            },
            "marker": {
             "colorbar": {
              "outlinewidth": 0,
              "ticks": ""
             }
            },
            "type": "scatter3d"
           }
          ],
          "scattercarpet": [
           {
            "marker": {
             "colorbar": {
              "outlinewidth": 0,
              "ticks": ""
             }
            },
            "type": "scattercarpet"
           }
          ],
          "scattergeo": [
           {
            "marker": {
             "colorbar": {
              "outlinewidth": 0,
              "ticks": ""
             }
            },
            "type": "scattergeo"
           }
          ],
          "scattergl": [
           {
            "marker": {
             "colorbar": {
              "outlinewidth": 0,
              "ticks": ""
             }
            },
            "type": "scattergl"
           }
          ],
          "scattermapbox": [
           {
            "marker": {
             "colorbar": {
              "outlinewidth": 0,
              "ticks": ""
             }
            },
            "type": "scattermapbox"
           }
          ],
          "scatterpolar": [
           {
            "marker": {
             "colorbar": {
              "outlinewidth": 0,
              "ticks": ""
             }
            },
            "type": "scatterpolar"
           }
          ],
          "scatterpolargl": [
           {
            "marker": {
             "colorbar": {
              "outlinewidth": 0,
              "ticks": ""
             }
            },
            "type": "scatterpolargl"
           }
          ],
          "scatterternary": [
           {
            "marker": {
             "colorbar": {
              "outlinewidth": 0,
              "ticks": ""
             }
            },
            "type": "scatterternary"
           }
          ],
          "surface": [
           {
            "colorbar": {
             "outlinewidth": 0,
             "ticks": ""
            },
            "colorscale": [
             [
              0,
              "#0d0887"
             ],
             [
              0.1111111111111111,
              "#46039f"
             ],
             [
              0.2222222222222222,
              "#7201a8"
             ],
             [
              0.3333333333333333,
              "#9c179e"
             ],
             [
              0.4444444444444444,
              "#bd3786"
             ],
             [
              0.5555555555555556,
              "#d8576b"
             ],
             [
              0.6666666666666666,
              "#ed7953"
             ],
             [
              0.7777777777777778,
              "#fb9f3a"
             ],
             [
              0.8888888888888888,
              "#fdca26"
             ],
             [
              1,
              "#f0f921"
             ]
            ],
            "type": "surface"
           }
          ],
          "table": [
           {
            "cells": {
             "fill": {
              "color": "#EBF0F8"
             },
             "line": {
              "color": "white"
             }
            },
            "header": {
             "fill": {
              "color": "#C8D4E3"
             },
             "line": {
              "color": "white"
             }
            },
            "type": "table"
           }
          ]
         },
         "layout": {
          "annotationdefaults": {
           "arrowcolor": "#2a3f5f",
           "arrowhead": 0,
           "arrowwidth": 1
          },
          "autotypenumbers": "strict",
          "coloraxis": {
           "colorbar": {
            "outlinewidth": 0,
            "ticks": ""
           }
          },
          "colorscale": {
           "diverging": [
            [
             0,
             "#8e0152"
            ],
            [
             0.1,
             "#c51b7d"
            ],
            [
             0.2,
             "#de77ae"
            ],
            [
             0.3,
             "#f1b6da"
            ],
            [
             0.4,
             "#fde0ef"
            ],
            [
             0.5,
             "#f7f7f7"
            ],
            [
             0.6,
             "#e6f5d0"
            ],
            [
             0.7,
             "#b8e186"
            ],
            [
             0.8,
             "#7fbc41"
            ],
            [
             0.9,
             "#4d9221"
            ],
            [
             1,
             "#276419"
            ]
           ],
           "sequential": [
            [
             0,
             "#0d0887"
            ],
            [
             0.1111111111111111,
             "#46039f"
            ],
            [
             0.2222222222222222,
             "#7201a8"
            ],
            [
             0.3333333333333333,
             "#9c179e"
            ],
            [
             0.4444444444444444,
             "#bd3786"
            ],
            [
             0.5555555555555556,
             "#d8576b"
            ],
            [
             0.6666666666666666,
             "#ed7953"
            ],
            [
             0.7777777777777778,
             "#fb9f3a"
            ],
            [
             0.8888888888888888,
             "#fdca26"
            ],
            [
             1,
             "#f0f921"
            ]
           ],
           "sequentialminus": [
            [
             0,
             "#0d0887"
            ],
            [
             0.1111111111111111,
             "#46039f"
            ],
            [
             0.2222222222222222,
             "#7201a8"
            ],
            [
             0.3333333333333333,
             "#9c179e"
            ],
            [
             0.4444444444444444,
             "#bd3786"
            ],
            [
             0.5555555555555556,
             "#d8576b"
            ],
            [
             0.6666666666666666,
             "#ed7953"
            ],
            [
             0.7777777777777778,
             "#fb9f3a"
            ],
            [
             0.8888888888888888,
             "#fdca26"
            ],
            [
             1,
             "#f0f921"
            ]
           ]
          },
          "colorway": [
           "#636efa",
           "#EF553B",
           "#00cc96",
           "#ab63fa",
           "#FFA15A",
           "#19d3f3",
           "#FF6692",
           "#B6E880",
           "#FF97FF",
           "#FECB52"
          ],
          "font": {
           "color": "#2a3f5f"
          },
          "geo": {
           "bgcolor": "white",
           "lakecolor": "white",
           "landcolor": "#E5ECF6",
           "showlakes": true,
           "showland": true,
           "subunitcolor": "white"
          },
          "hoverlabel": {
           "align": "left"
          },
          "hovermode": "closest",
          "mapbox": {
           "style": "light"
          },
          "paper_bgcolor": "white",
          "plot_bgcolor": "#E5ECF6",
          "polar": {
           "angularaxis": {
            "gridcolor": "white",
            "linecolor": "white",
            "ticks": ""
           },
           "bgcolor": "#E5ECF6",
           "radialaxis": {
            "gridcolor": "white",
            "linecolor": "white",
            "ticks": ""
           }
          },
          "scene": {
           "xaxis": {
            "backgroundcolor": "#E5ECF6",
            "gridcolor": "white",
            "gridwidth": 2,
            "linecolor": "white",
            "showbackground": true,
            "ticks": "",
            "zerolinecolor": "white"
           },
           "yaxis": {
            "backgroundcolor": "#E5ECF6",
            "gridcolor": "white",
            "gridwidth": 2,
            "linecolor": "white",
            "showbackground": true,
            "ticks": "",
            "zerolinecolor": "white"
           },
           "zaxis": {
            "backgroundcolor": "#E5ECF6",
            "gridcolor": "white",
            "gridwidth": 2,
            "linecolor": "white",
            "showbackground": true,
            "ticks": "",
            "zerolinecolor": "white"
           }
          },
          "shapedefaults": {
           "line": {
            "color": "#2a3f5f"
           }
          },
          "ternary": {
           "aaxis": {
            "gridcolor": "white",
            "linecolor": "white",
            "ticks": ""
           },
           "baxis": {
            "gridcolor": "white",
            "linecolor": "white",
            "ticks": ""
           },
           "bgcolor": "#E5ECF6",
           "caxis": {
            "gridcolor": "white",
            "linecolor": "white",
            "ticks": ""
           }
          },
          "title": {
           "x": 0.05
          },
          "xaxis": {
           "automargin": true,
           "gridcolor": "white",
           "linecolor": "white",
           "ticks": "",
           "title": {
            "standoff": 15
           },
           "zerolinecolor": "white",
           "zerolinewidth": 2
          },
          "yaxis": {
           "automargin": true,
           "gridcolor": "white",
           "linecolor": "white",
           "ticks": "",
           "title": {
            "standoff": 15
           },
           "zerolinecolor": "white",
           "zerolinewidth": 2
          }
         }
        },
        "title": {
         "text": "Percent Contribution When Belief is the Economy will get Worse"
        },
        "xaxis": {
         "anchor": "y",
         "domain": [
          0,
          1
         ],
         "title": {
          "text": "Year"
         }
        },
        "yaxis": {
         "anchor": "x",
         "domain": [
          0,
          1
         ],
         "title": {
          "text": "Percentage"
         }
        }
       }
      }
     },
     "metadata": {},
     "output_type": "display_data"
    }
   ],
   "source": [
    "income_map2 = {\n",
    "    'Under $40k':\"#3d005e\",\n",
    "    '$40-70K':\"#8a03d5\",\n",
    "    '$70-100K':\"#bd45ff\",\n",
    "    '$100K+':\"#d995ff\"\n",
    "}\n",
    "\n",
    "examine_changes('df_econ_worse',None,'INCOME_GROUP','Income Group', \n",
    "                'Percent Contribution When Belief is the Economy will get Worse', 1,\n",
    "                ['Under $40k','$40-70K','$70-100K','$100K+'],income_map2)"
   ]
  },
  {
   "cell_type": "markdown",
   "metadata": {},
   "source": [
    "For the year 2022, participants who make $100K or more are the biggest contributor to the total number of participants who thought the economy was going to get worse and the second biggest for the year 2021. \n",
    "\n",
    "Theses percentages decrease as income increses (which is excepted) except for the highest income group. "
   ]
  },
  {
   "cell_type": "code",
   "execution_count": 615,
   "metadata": {},
   "outputs": [
    {
     "data": {
      "application/vnd.plotly.v1+json": {
       "config": {
        "plotlyServerURL": "https://plot.ly"
       },
       "data": [
        {
         "alignmentgroup": "True",
         "bingroup": "x",
         "histfunc": "sum",
         "hovertemplate": "Income Group=Under $40k<br>Year=%{x}<br>sum of Percent=%{y}<extra></extra>",
         "legendgroup": "Under $40k",
         "marker": {
          "color": "#3d005e",
          "pattern": {
           "shape": ""
          }
         },
         "name": "Under $40k",
         "offsetgroup": "Under $40k",
         "orientation": "v",
         "showlegend": true,
         "type": "histogram",
         "x": [
          2021,
          2022
         ],
         "xaxis": "x",
         "y": [
          19.70074812967581,
          35.216240070609004
         ],
         "yaxis": "y"
        },
        {
         "alignmentgroup": "True",
         "bingroup": "x",
         "histfunc": "sum",
         "hovertemplate": "Income Group=$40-70K<br>Year=%{x}<br>sum of Percent=%{y}<extra></extra>",
         "legendgroup": "$40-70K",
         "marker": {
          "color": "#8a03d5",
          "pattern": {
           "shape": ""
          }
         },
         "name": "$40-70K",
         "offsetgroup": "$40-70K",
         "orientation": "v",
         "showlegend": true,
         "type": "histogram",
         "x": [
          2021,
          2022
         ],
         "xaxis": "x",
         "y": [
          23.132530120481928,
          37.71084337349397
         ],
         "yaxis": "y"
        },
        {
         "alignmentgroup": "True",
         "bingroup": "x",
         "histfunc": "sum",
         "hovertemplate": "Income Group=$70-100K<br>Year=%{x}<br>sum of Percent=%{y}<extra></extra>",
         "legendgroup": "$70-100K",
         "marker": {
          "color": "#bd45ff",
          "pattern": {
           "shape": ""
          }
         },
         "name": "$70-100K",
         "offsetgroup": "$70-100K",
         "orientation": "v",
         "showlegend": true,
         "type": "histogram",
         "x": [
          2021,
          2022
         ],
         "xaxis": "x",
         "y": [
          23.46456692913386,
          38.59111791730474
         ],
         "yaxis": "y"
        },
        {
         "alignmentgroup": "True",
         "bingroup": "x",
         "histfunc": "sum",
         "hovertemplate": "Income Group=$100K+<br>Year=%{x}<br>sum of Percent=%{y}<extra></extra>",
         "legendgroup": "$100K+",
         "marker": {
          "color": "#d995ff",
          "pattern": {
           "shape": ""
          }
         },
         "name": "$100K+",
         "offsetgroup": "$100K+",
         "orientation": "v",
         "showlegend": true,
         "type": "histogram",
         "x": [
          2021,
          2022
         ],
         "xaxis": "x",
         "y": [
          20.093023255813954,
          37.563025210084035
         ],
         "yaxis": "y"
        }
       ],
       "layout": {
        "barmode": "group",
        "legend": {
         "title": {
          "text": "Income Group"
         },
         "tracegroupgap": 0
        },
        "template": {
         "data": {
          "bar": [
           {
            "error_x": {
             "color": "#2a3f5f"
            },
            "error_y": {
             "color": "#2a3f5f"
            },
            "marker": {
             "line": {
              "color": "#E5ECF6",
              "width": 0.5
             },
             "pattern": {
              "fillmode": "overlay",
              "size": 10,
              "solidity": 0.2
             }
            },
            "type": "bar"
           }
          ],
          "barpolar": [
           {
            "marker": {
             "line": {
              "color": "#E5ECF6",
              "width": 0.5
             },
             "pattern": {
              "fillmode": "overlay",
              "size": 10,
              "solidity": 0.2
             }
            },
            "type": "barpolar"
           }
          ],
          "carpet": [
           {
            "aaxis": {
             "endlinecolor": "#2a3f5f",
             "gridcolor": "white",
             "linecolor": "white",
             "minorgridcolor": "white",
             "startlinecolor": "#2a3f5f"
            },
            "baxis": {
             "endlinecolor": "#2a3f5f",
             "gridcolor": "white",
             "linecolor": "white",
             "minorgridcolor": "white",
             "startlinecolor": "#2a3f5f"
            },
            "type": "carpet"
           }
          ],
          "choropleth": [
           {
            "colorbar": {
             "outlinewidth": 0,
             "ticks": ""
            },
            "type": "choropleth"
           }
          ],
          "contour": [
           {
            "colorbar": {
             "outlinewidth": 0,
             "ticks": ""
            },
            "colorscale": [
             [
              0,
              "#0d0887"
             ],
             [
              0.1111111111111111,
              "#46039f"
             ],
             [
              0.2222222222222222,
              "#7201a8"
             ],
             [
              0.3333333333333333,
              "#9c179e"
             ],
             [
              0.4444444444444444,
              "#bd3786"
             ],
             [
              0.5555555555555556,
              "#d8576b"
             ],
             [
              0.6666666666666666,
              "#ed7953"
             ],
             [
              0.7777777777777778,
              "#fb9f3a"
             ],
             [
              0.8888888888888888,
              "#fdca26"
             ],
             [
              1,
              "#f0f921"
             ]
            ],
            "type": "contour"
           }
          ],
          "contourcarpet": [
           {
            "colorbar": {
             "outlinewidth": 0,
             "ticks": ""
            },
            "type": "contourcarpet"
           }
          ],
          "heatmap": [
           {
            "colorbar": {
             "outlinewidth": 0,
             "ticks": ""
            },
            "colorscale": [
             [
              0,
              "#0d0887"
             ],
             [
              0.1111111111111111,
              "#46039f"
             ],
             [
              0.2222222222222222,
              "#7201a8"
             ],
             [
              0.3333333333333333,
              "#9c179e"
             ],
             [
              0.4444444444444444,
              "#bd3786"
             ],
             [
              0.5555555555555556,
              "#d8576b"
             ],
             [
              0.6666666666666666,
              "#ed7953"
             ],
             [
              0.7777777777777778,
              "#fb9f3a"
             ],
             [
              0.8888888888888888,
              "#fdca26"
             ],
             [
              1,
              "#f0f921"
             ]
            ],
            "type": "heatmap"
           }
          ],
          "heatmapgl": [
           {
            "colorbar": {
             "outlinewidth": 0,
             "ticks": ""
            },
            "colorscale": [
             [
              0,
              "#0d0887"
             ],
             [
              0.1111111111111111,
              "#46039f"
             ],
             [
              0.2222222222222222,
              "#7201a8"
             ],
             [
              0.3333333333333333,
              "#9c179e"
             ],
             [
              0.4444444444444444,
              "#bd3786"
             ],
             [
              0.5555555555555556,
              "#d8576b"
             ],
             [
              0.6666666666666666,
              "#ed7953"
             ],
             [
              0.7777777777777778,
              "#fb9f3a"
             ],
             [
              0.8888888888888888,
              "#fdca26"
             ],
             [
              1,
              "#f0f921"
             ]
            ],
            "type": "heatmapgl"
           }
          ],
          "histogram": [
           {
            "marker": {
             "pattern": {
              "fillmode": "overlay",
              "size": 10,
              "solidity": 0.2
             }
            },
            "type": "histogram"
           }
          ],
          "histogram2d": [
           {
            "colorbar": {
             "outlinewidth": 0,
             "ticks": ""
            },
            "colorscale": [
             [
              0,
              "#0d0887"
             ],
             [
              0.1111111111111111,
              "#46039f"
             ],
             [
              0.2222222222222222,
              "#7201a8"
             ],
             [
              0.3333333333333333,
              "#9c179e"
             ],
             [
              0.4444444444444444,
              "#bd3786"
             ],
             [
              0.5555555555555556,
              "#d8576b"
             ],
             [
              0.6666666666666666,
              "#ed7953"
             ],
             [
              0.7777777777777778,
              "#fb9f3a"
             ],
             [
              0.8888888888888888,
              "#fdca26"
             ],
             [
              1,
              "#f0f921"
             ]
            ],
            "type": "histogram2d"
           }
          ],
          "histogram2dcontour": [
           {
            "colorbar": {
             "outlinewidth": 0,
             "ticks": ""
            },
            "colorscale": [
             [
              0,
              "#0d0887"
             ],
             [
              0.1111111111111111,
              "#46039f"
             ],
             [
              0.2222222222222222,
              "#7201a8"
             ],
             [
              0.3333333333333333,
              "#9c179e"
             ],
             [
              0.4444444444444444,
              "#bd3786"
             ],
             [
              0.5555555555555556,
              "#d8576b"
             ],
             [
              0.6666666666666666,
              "#ed7953"
             ],
             [
              0.7777777777777778,
              "#fb9f3a"
             ],
             [
              0.8888888888888888,
              "#fdca26"
             ],
             [
              1,
              "#f0f921"
             ]
            ],
            "type": "histogram2dcontour"
           }
          ],
          "mesh3d": [
           {
            "colorbar": {
             "outlinewidth": 0,
             "ticks": ""
            },
            "type": "mesh3d"
           }
          ],
          "parcoords": [
           {
            "line": {
             "colorbar": {
              "outlinewidth": 0,
              "ticks": ""
             }
            },
            "type": "parcoords"
           }
          ],
          "pie": [
           {
            "automargin": true,
            "type": "pie"
           }
          ],
          "scatter": [
           {
            "fillpattern": {
             "fillmode": "overlay",
             "size": 10,
             "solidity": 0.2
            },
            "type": "scatter"
           }
          ],
          "scatter3d": [
           {
            "line": {
             "colorbar": {
              "outlinewidth": 0,
              "ticks": ""
             }
            },
            "marker": {
             "colorbar": {
              "outlinewidth": 0,
              "ticks": ""
             }
            },
            "type": "scatter3d"
           }
          ],
          "scattercarpet": [
           {
            "marker": {
             "colorbar": {
              "outlinewidth": 0,
              "ticks": ""
             }
            },
            "type": "scattercarpet"
           }
          ],
          "scattergeo": [
           {
            "marker": {
             "colorbar": {
              "outlinewidth": 0,
              "ticks": ""
             }
            },
            "type": "scattergeo"
           }
          ],
          "scattergl": [
           {
            "marker": {
             "colorbar": {
              "outlinewidth": 0,
              "ticks": ""
             }
            },
            "type": "scattergl"
           }
          ],
          "scattermapbox": [
           {
            "marker": {
             "colorbar": {
              "outlinewidth": 0,
              "ticks": ""
             }
            },
            "type": "scattermapbox"
           }
          ],
          "scatterpolar": [
           {
            "marker": {
             "colorbar": {
              "outlinewidth": 0,
              "ticks": ""
             }
            },
            "type": "scatterpolar"
           }
          ],
          "scatterpolargl": [
           {
            "marker": {
             "colorbar": {
              "outlinewidth": 0,
              "ticks": ""
             }
            },
            "type": "scatterpolargl"
           }
          ],
          "scatterternary": [
           {
            "marker": {
             "colorbar": {
              "outlinewidth": 0,
              "ticks": ""
             }
            },
            "type": "scatterternary"
           }
          ],
          "surface": [
           {
            "colorbar": {
             "outlinewidth": 0,
             "ticks": ""
            },
            "colorscale": [
             [
              0,
              "#0d0887"
             ],
             [
              0.1111111111111111,
              "#46039f"
             ],
             [
              0.2222222222222222,
              "#7201a8"
             ],
             [
              0.3333333333333333,
              "#9c179e"
             ],
             [
              0.4444444444444444,
              "#bd3786"
             ],
             [
              0.5555555555555556,
              "#d8576b"
             ],
             [
              0.6666666666666666,
              "#ed7953"
             ],
             [
              0.7777777777777778,
              "#fb9f3a"
             ],
             [
              0.8888888888888888,
              "#fdca26"
             ],
             [
              1,
              "#f0f921"
             ]
            ],
            "type": "surface"
           }
          ],
          "table": [
           {
            "cells": {
             "fill": {
              "color": "#EBF0F8"
             },
             "line": {
              "color": "white"
             }
            },
            "header": {
             "fill": {
              "color": "#C8D4E3"
             },
             "line": {
              "color": "white"
             }
            },
            "type": "table"
           }
          ]
         },
         "layout": {
          "annotationdefaults": {
           "arrowcolor": "#2a3f5f",
           "arrowhead": 0,
           "arrowwidth": 1
          },
          "autotypenumbers": "strict",
          "coloraxis": {
           "colorbar": {
            "outlinewidth": 0,
            "ticks": ""
           }
          },
          "colorscale": {
           "diverging": [
            [
             0,
             "#8e0152"
            ],
            [
             0.1,
             "#c51b7d"
            ],
            [
             0.2,
             "#de77ae"
            ],
            [
             0.3,
             "#f1b6da"
            ],
            [
             0.4,
             "#fde0ef"
            ],
            [
             0.5,
             "#f7f7f7"
            ],
            [
             0.6,
             "#e6f5d0"
            ],
            [
             0.7,
             "#b8e186"
            ],
            [
             0.8,
             "#7fbc41"
            ],
            [
             0.9,
             "#4d9221"
            ],
            [
             1,
             "#276419"
            ]
           ],
           "sequential": [
            [
             0,
             "#0d0887"
            ],
            [
             0.1111111111111111,
             "#46039f"
            ],
            [
             0.2222222222222222,
             "#7201a8"
            ],
            [
             0.3333333333333333,
             "#9c179e"
            ],
            [
             0.4444444444444444,
             "#bd3786"
            ],
            [
             0.5555555555555556,
             "#d8576b"
            ],
            [
             0.6666666666666666,
             "#ed7953"
            ],
            [
             0.7777777777777778,
             "#fb9f3a"
            ],
            [
             0.8888888888888888,
             "#fdca26"
            ],
            [
             1,
             "#f0f921"
            ]
           ],
           "sequentialminus": [
            [
             0,
             "#0d0887"
            ],
            [
             0.1111111111111111,
             "#46039f"
            ],
            [
             0.2222222222222222,
             "#7201a8"
            ],
            [
             0.3333333333333333,
             "#9c179e"
            ],
            [
             0.4444444444444444,
             "#bd3786"
            ],
            [
             0.5555555555555556,
             "#d8576b"
            ],
            [
             0.6666666666666666,
             "#ed7953"
            ],
            [
             0.7777777777777778,
             "#fb9f3a"
            ],
            [
             0.8888888888888888,
             "#fdca26"
            ],
            [
             1,
             "#f0f921"
            ]
           ]
          },
          "colorway": [
           "#636efa",
           "#EF553B",
           "#00cc96",
           "#ab63fa",
           "#FFA15A",
           "#19d3f3",
           "#FF6692",
           "#B6E880",
           "#FF97FF",
           "#FECB52"
          ],
          "font": {
           "color": "#2a3f5f"
          },
          "geo": {
           "bgcolor": "white",
           "lakecolor": "white",
           "landcolor": "#E5ECF6",
           "showlakes": true,
           "showland": true,
           "subunitcolor": "white"
          },
          "hoverlabel": {
           "align": "left"
          },
          "hovermode": "closest",
          "mapbox": {
           "style": "light"
          },
          "paper_bgcolor": "white",
          "plot_bgcolor": "#E5ECF6",
          "polar": {
           "angularaxis": {
            "gridcolor": "white",
            "linecolor": "white",
            "ticks": ""
           },
           "bgcolor": "#E5ECF6",
           "radialaxis": {
            "gridcolor": "white",
            "linecolor": "white",
            "ticks": ""
           }
          },
          "scene": {
           "xaxis": {
            "backgroundcolor": "#E5ECF6",
            "gridcolor": "white",
            "gridwidth": 2,
            "linecolor": "white",
            "showbackground": true,
            "ticks": "",
            "zerolinecolor": "white"
           },
           "yaxis": {
            "backgroundcolor": "#E5ECF6",
            "gridcolor": "white",
            "gridwidth": 2,
            "linecolor": "white",
            "showbackground": true,
            "ticks": "",
            "zerolinecolor": "white"
           },
           "zaxis": {
            "backgroundcolor": "#E5ECF6",
            "gridcolor": "white",
            "gridwidth": 2,
            "linecolor": "white",
            "showbackground": true,
            "ticks": "",
            "zerolinecolor": "white"
           }
          },
          "shapedefaults": {
           "line": {
            "color": "#2a3f5f"
           }
          },
          "ternary": {
           "aaxis": {
            "gridcolor": "white",
            "linecolor": "white",
            "ticks": ""
           },
           "baxis": {
            "gridcolor": "white",
            "linecolor": "white",
            "ticks": ""
           },
           "bgcolor": "#E5ECF6",
           "caxis": {
            "gridcolor": "white",
            "linecolor": "white",
            "ticks": ""
           }
          },
          "title": {
           "x": 0.05
          },
          "xaxis": {
           "automargin": true,
           "gridcolor": "white",
           "linecolor": "white",
           "ticks": "",
           "title": {
            "standoff": 15
           },
           "zerolinecolor": "white",
           "zerolinewidth": 2
          },
          "yaxis": {
           "automargin": true,
           "gridcolor": "white",
           "linecolor": "white",
           "ticks": "",
           "title": {
            "standoff": 15
           },
           "zerolinecolor": "white",
           "zerolinewidth": 2
          }
         }
        },
        "title": {
         "text": "Percent of Income Groups Who Believed Their Community's Economy Will Get Worse"
        },
        "xaxis": {
         "anchor": "y",
         "domain": [
          0,
          1
         ],
         "title": {
          "text": "Year"
         }
        },
        "yaxis": {
         "anchor": "x",
         "domain": [
          0,
          1
         ],
         "title": {
          "text": "Percentage"
         }
        }
       }
      }
     },
     "metadata": {},
     "output_type": "display_data"
    }
   ],
   "source": [
    "examine_changes('df_econ_worse', df_income_group_count, 'INCOME_GROUP','Income Group', \n",
    "                'Percent of Income Groups Who Believed Their Community\\'s Economy Will Get Worse', 2,\n",
    "                ['Under $40k','$40-70K','$70-100K','$100K+'],income_map2)"
   ]
  },
  {
   "cell_type": "markdown",
   "metadata": {},
   "source": [
    "The percent of income groups who believe the economy will get worse increases for all group from 2021 to 2022. \n",
    "\n",
    "The group making 100,000 or more has the greatest increase. 20.1% of $100K\\+ individuals thought the economy was going to get worse in 2021 which jumped to 37.6% in 2022."
   ]
  },
  {
   "cell_type": "code",
   "execution_count": 616,
   "metadata": {},
   "outputs": [
    {
     "name": "stdout",
     "output_type": "stream",
     "text": [
      "   YEAR        PARTY  Count\n",
      "0  2021     Democrat   1379\n",
      "1  2021  Independent    945\n",
      "2  2021   Republican   1146\n",
      "3  2022     Democrat   1342\n",
      "4  2022  Independent    950\n",
      "5  2022   Republican   1260\n"
     ]
    },
    {
     "data": {
      "application/vnd.plotly.v1+json": {
       "config": {
        "plotlyServerURL": "https://plot.ly"
       },
       "data": [
        {
         "alignmentgroup": "True",
         "bingroup": "x",
         "histfunc": "sum",
         "hovertemplate": "Political Party=Democrat<br>Year=%{x}<br>sum of Percent=%{y}<extra></extra>",
         "legendgroup": "Democrat",
         "marker": {
          "color": "#5eaaff",
          "pattern": {
           "shape": ""
          }
         },
         "name": "Democrat",
         "offsetgroup": "Democrat",
         "orientation": "v",
         "showlegend": true,
         "type": "histogram",
         "x": [
          2021,
          2022
         ],
         "xaxis": "x",
         "y": [
          38.55421686746988,
          25.833333333333336
         ],
         "yaxis": "y"
        },
        {
         "alignmentgroup": "True",
         "bingroup": "x",
         "histfunc": "sum",
         "hovertemplate": "Political Party=Independent<br>Year=%{x}<br>sum of Percent=%{y}<extra></extra>",
         "legendgroup": "Independent",
         "marker": {
          "color": "#84d660",
          "pattern": {
           "shape": ""
          }
         },
         "name": "Independent",
         "offsetgroup": "Independent",
         "orientation": "v",
         "showlegend": true,
         "type": "histogram",
         "x": [
          2021,
          2022
         ],
         "xaxis": "x",
         "y": [
          28.614457831325304,
          23.333333333333332
         ],
         "yaxis": "y"
        },
        {
         "alignmentgroup": "True",
         "bingroup": "x",
         "histfunc": "sum",
         "hovertemplate": "Political Party=Republican<br>Year=%{x}<br>sum of Percent=%{y}<extra></extra>",
         "legendgroup": "Republican",
         "marker": {
          "color": "#ff5e5e",
          "pattern": {
           "shape": ""
          }
         },
         "name": "Republican",
         "offsetgroup": "Republican",
         "orientation": "v",
         "showlegend": true,
         "type": "histogram",
         "x": [
          2021,
          2022
         ],
         "xaxis": "x",
         "y": [
          32.831325301204814,
          50.83333333333333
         ],
         "yaxis": "y"
        }
       ],
       "layout": {
        "barmode": "group",
        "legend": {
         "title": {
          "text": "Political Party"
         },
         "tracegroupgap": 0
        },
        "template": {
         "data": {
          "bar": [
           {
            "error_x": {
             "color": "#2a3f5f"
            },
            "error_y": {
             "color": "#2a3f5f"
            },
            "marker": {
             "line": {
              "color": "#E5ECF6",
              "width": 0.5
             },
             "pattern": {
              "fillmode": "overlay",
              "size": 10,
              "solidity": 0.2
             }
            },
            "type": "bar"
           }
          ],
          "barpolar": [
           {
            "marker": {
             "line": {
              "color": "#E5ECF6",
              "width": 0.5
             },
             "pattern": {
              "fillmode": "overlay",
              "size": 10,
              "solidity": 0.2
             }
            },
            "type": "barpolar"
           }
          ],
          "carpet": [
           {
            "aaxis": {
             "endlinecolor": "#2a3f5f",
             "gridcolor": "white",
             "linecolor": "white",
             "minorgridcolor": "white",
             "startlinecolor": "#2a3f5f"
            },
            "baxis": {
             "endlinecolor": "#2a3f5f",
             "gridcolor": "white",
             "linecolor": "white",
             "minorgridcolor": "white",
             "startlinecolor": "#2a3f5f"
            },
            "type": "carpet"
           }
          ],
          "choropleth": [
           {
            "colorbar": {
             "outlinewidth": 0,
             "ticks": ""
            },
            "type": "choropleth"
           }
          ],
          "contour": [
           {
            "colorbar": {
             "outlinewidth": 0,
             "ticks": ""
            },
            "colorscale": [
             [
              0,
              "#0d0887"
             ],
             [
              0.1111111111111111,
              "#46039f"
             ],
             [
              0.2222222222222222,
              "#7201a8"
             ],
             [
              0.3333333333333333,
              "#9c179e"
             ],
             [
              0.4444444444444444,
              "#bd3786"
             ],
             [
              0.5555555555555556,
              "#d8576b"
             ],
             [
              0.6666666666666666,
              "#ed7953"
             ],
             [
              0.7777777777777778,
              "#fb9f3a"
             ],
             [
              0.8888888888888888,
              "#fdca26"
             ],
             [
              1,
              "#f0f921"
             ]
            ],
            "type": "contour"
           }
          ],
          "contourcarpet": [
           {
            "colorbar": {
             "outlinewidth": 0,
             "ticks": ""
            },
            "type": "contourcarpet"
           }
          ],
          "heatmap": [
           {
            "colorbar": {
             "outlinewidth": 0,
             "ticks": ""
            },
            "colorscale": [
             [
              0,
              "#0d0887"
             ],
             [
              0.1111111111111111,
              "#46039f"
             ],
             [
              0.2222222222222222,
              "#7201a8"
             ],
             [
              0.3333333333333333,
              "#9c179e"
             ],
             [
              0.4444444444444444,
              "#bd3786"
             ],
             [
              0.5555555555555556,
              "#d8576b"
             ],
             [
              0.6666666666666666,
              "#ed7953"
             ],
             [
              0.7777777777777778,
              "#fb9f3a"
             ],
             [
              0.8888888888888888,
              "#fdca26"
             ],
             [
              1,
              "#f0f921"
             ]
            ],
            "type": "heatmap"
           }
          ],
          "heatmapgl": [
           {
            "colorbar": {
             "outlinewidth": 0,
             "ticks": ""
            },
            "colorscale": [
             [
              0,
              "#0d0887"
             ],
             [
              0.1111111111111111,
              "#46039f"
             ],
             [
              0.2222222222222222,
              "#7201a8"
             ],
             [
              0.3333333333333333,
              "#9c179e"
             ],
             [
              0.4444444444444444,
              "#bd3786"
             ],
             [
              0.5555555555555556,
              "#d8576b"
             ],
             [
              0.6666666666666666,
              "#ed7953"
             ],
             [
              0.7777777777777778,
              "#fb9f3a"
             ],
             [
              0.8888888888888888,
              "#fdca26"
             ],
             [
              1,
              "#f0f921"
             ]
            ],
            "type": "heatmapgl"
           }
          ],
          "histogram": [
           {
            "marker": {
             "pattern": {
              "fillmode": "overlay",
              "size": 10,
              "solidity": 0.2
             }
            },
            "type": "histogram"
           }
          ],
          "histogram2d": [
           {
            "colorbar": {
             "outlinewidth": 0,
             "ticks": ""
            },
            "colorscale": [
             [
              0,
              "#0d0887"
             ],
             [
              0.1111111111111111,
              "#46039f"
             ],
             [
              0.2222222222222222,
              "#7201a8"
             ],
             [
              0.3333333333333333,
              "#9c179e"
             ],
             [
              0.4444444444444444,
              "#bd3786"
             ],
             [
              0.5555555555555556,
              "#d8576b"
             ],
             [
              0.6666666666666666,
              "#ed7953"
             ],
             [
              0.7777777777777778,
              "#fb9f3a"
             ],
             [
              0.8888888888888888,
              "#fdca26"
             ],
             [
              1,
              "#f0f921"
             ]
            ],
            "type": "histogram2d"
           }
          ],
          "histogram2dcontour": [
           {
            "colorbar": {
             "outlinewidth": 0,
             "ticks": ""
            },
            "colorscale": [
             [
              0,
              "#0d0887"
             ],
             [
              0.1111111111111111,
              "#46039f"
             ],
             [
              0.2222222222222222,
              "#7201a8"
             ],
             [
              0.3333333333333333,
              "#9c179e"
             ],
             [
              0.4444444444444444,
              "#bd3786"
             ],
             [
              0.5555555555555556,
              "#d8576b"
             ],
             [
              0.6666666666666666,
              "#ed7953"
             ],
             [
              0.7777777777777778,
              "#fb9f3a"
             ],
             [
              0.8888888888888888,
              "#fdca26"
             ],
             [
              1,
              "#f0f921"
             ]
            ],
            "type": "histogram2dcontour"
           }
          ],
          "mesh3d": [
           {
            "colorbar": {
             "outlinewidth": 0,
             "ticks": ""
            },
            "type": "mesh3d"
           }
          ],
          "parcoords": [
           {
            "line": {
             "colorbar": {
              "outlinewidth": 0,
              "ticks": ""
             }
            },
            "type": "parcoords"
           }
          ],
          "pie": [
           {
            "automargin": true,
            "type": "pie"
           }
          ],
          "scatter": [
           {
            "fillpattern": {
             "fillmode": "overlay",
             "size": 10,
             "solidity": 0.2
            },
            "type": "scatter"
           }
          ],
          "scatter3d": [
           {
            "line": {
             "colorbar": {
              "outlinewidth": 0,
              "ticks": ""
             }
            },
            "marker": {
             "colorbar": {
              "outlinewidth": 0,
              "ticks": ""
             }
            },
            "type": "scatter3d"
           }
          ],
          "scattercarpet": [
           {
            "marker": {
             "colorbar": {
              "outlinewidth": 0,
              "ticks": ""
             }
            },
            "type": "scattercarpet"
           }
          ],
          "scattergeo": [
           {
            "marker": {
             "colorbar": {
              "outlinewidth": 0,
              "ticks": ""
             }
            },
            "type": "scattergeo"
           }
          ],
          "scattergl": [
           {
            "marker": {
             "colorbar": {
              "outlinewidth": 0,
              "ticks": ""
             }
            },
            "type": "scattergl"
           }
          ],
          "scattermapbox": [
           {
            "marker": {
             "colorbar": {
              "outlinewidth": 0,
              "ticks": ""
             }
            },
            "type": "scattermapbox"
           }
          ],
          "scatterpolar": [
           {
            "marker": {
             "colorbar": {
              "outlinewidth": 0,
              "ticks": ""
             }
            },
            "type": "scatterpolar"
           }
          ],
          "scatterpolargl": [
           {
            "marker": {
             "colorbar": {
              "outlinewidth": 0,
              "ticks": ""
             }
            },
            "type": "scatterpolargl"
           }
          ],
          "scatterternary": [
           {
            "marker": {
             "colorbar": {
              "outlinewidth": 0,
              "ticks": ""
             }
            },
            "type": "scatterternary"
           }
          ],
          "surface": [
           {
            "colorbar": {
             "outlinewidth": 0,
             "ticks": ""
            },
            "colorscale": [
             [
              0,
              "#0d0887"
             ],
             [
              0.1111111111111111,
              "#46039f"
             ],
             [
              0.2222222222222222,
              "#7201a8"
             ],
             [
              0.3333333333333333,
              "#9c179e"
             ],
             [
              0.4444444444444444,
              "#bd3786"
             ],
             [
              0.5555555555555556,
              "#d8576b"
             ],
             [
              0.6666666666666666,
              "#ed7953"
             ],
             [
              0.7777777777777778,
              "#fb9f3a"
             ],
             [
              0.8888888888888888,
              "#fdca26"
             ],
             [
              1,
              "#f0f921"
             ]
            ],
            "type": "surface"
           }
          ],
          "table": [
           {
            "cells": {
             "fill": {
              "color": "#EBF0F8"
             },
             "line": {
              "color": "white"
             }
            },
            "header": {
             "fill": {
              "color": "#C8D4E3"
             },
             "line": {
              "color": "white"
             }
            },
            "type": "table"
           }
          ]
         },
         "layout": {
          "annotationdefaults": {
           "arrowcolor": "#2a3f5f",
           "arrowhead": 0,
           "arrowwidth": 1
          },
          "autotypenumbers": "strict",
          "coloraxis": {
           "colorbar": {
            "outlinewidth": 0,
            "ticks": ""
           }
          },
          "colorscale": {
           "diverging": [
            [
             0,
             "#8e0152"
            ],
            [
             0.1,
             "#c51b7d"
            ],
            [
             0.2,
             "#de77ae"
            ],
            [
             0.3,
             "#f1b6da"
            ],
            [
             0.4,
             "#fde0ef"
            ],
            [
             0.5,
             "#f7f7f7"
            ],
            [
             0.6,
             "#e6f5d0"
            ],
            [
             0.7,
             "#b8e186"
            ],
            [
             0.8,
             "#7fbc41"
            ],
            [
             0.9,
             "#4d9221"
            ],
            [
             1,
             "#276419"
            ]
           ],
           "sequential": [
            [
             0,
             "#0d0887"
            ],
            [
             0.1111111111111111,
             "#46039f"
            ],
            [
             0.2222222222222222,
             "#7201a8"
            ],
            [
             0.3333333333333333,
             "#9c179e"
            ],
            [
             0.4444444444444444,
             "#bd3786"
            ],
            [
             0.5555555555555556,
             "#d8576b"
            ],
            [
             0.6666666666666666,
             "#ed7953"
            ],
            [
             0.7777777777777778,
             "#fb9f3a"
            ],
            [
             0.8888888888888888,
             "#fdca26"
            ],
            [
             1,
             "#f0f921"
            ]
           ],
           "sequentialminus": [
            [
             0,
             "#0d0887"
            ],
            [
             0.1111111111111111,
             "#46039f"
            ],
            [
             0.2222222222222222,
             "#7201a8"
            ],
            [
             0.3333333333333333,
             "#9c179e"
            ],
            [
             0.4444444444444444,
             "#bd3786"
            ],
            [
             0.5555555555555556,
             "#d8576b"
            ],
            [
             0.6666666666666666,
             "#ed7953"
            ],
            [
             0.7777777777777778,
             "#fb9f3a"
            ],
            [
             0.8888888888888888,
             "#fdca26"
            ],
            [
             1,
             "#f0f921"
            ]
           ]
          },
          "colorway": [
           "#636efa",
           "#EF553B",
           "#00cc96",
           "#ab63fa",
           "#FFA15A",
           "#19d3f3",
           "#FF6692",
           "#B6E880",
           "#FF97FF",
           "#FECB52"
          ],
          "font": {
           "color": "#2a3f5f"
          },
          "geo": {
           "bgcolor": "white",
           "lakecolor": "white",
           "landcolor": "#E5ECF6",
           "showlakes": true,
           "showland": true,
           "subunitcolor": "white"
          },
          "hoverlabel": {
           "align": "left"
          },
          "hovermode": "closest",
          "mapbox": {
           "style": "light"
          },
          "paper_bgcolor": "white",
          "plot_bgcolor": "#E5ECF6",
          "polar": {
           "angularaxis": {
            "gridcolor": "white",
            "linecolor": "white",
            "ticks": ""
           },
           "bgcolor": "#E5ECF6",
           "radialaxis": {
            "gridcolor": "white",
            "linecolor": "white",
            "ticks": ""
           }
          },
          "scene": {
           "xaxis": {
            "backgroundcolor": "#E5ECF6",
            "gridcolor": "white",
            "gridwidth": 2,
            "linecolor": "white",
            "showbackground": true,
            "ticks": "",
            "zerolinecolor": "white"
           },
           "yaxis": {
            "backgroundcolor": "#E5ECF6",
            "gridcolor": "white",
            "gridwidth": 2,
            "linecolor": "white",
            "showbackground": true,
            "ticks": "",
            "zerolinecolor": "white"
           },
           "zaxis": {
            "backgroundcolor": "#E5ECF6",
            "gridcolor": "white",
            "gridwidth": 2,
            "linecolor": "white",
            "showbackground": true,
            "ticks": "",
            "zerolinecolor": "white"
           }
          },
          "shapedefaults": {
           "line": {
            "color": "#2a3f5f"
           }
          },
          "ternary": {
           "aaxis": {
            "gridcolor": "white",
            "linecolor": "white",
            "ticks": ""
           },
           "baxis": {
            "gridcolor": "white",
            "linecolor": "white",
            "ticks": ""
           },
           "bgcolor": "#E5ECF6",
           "caxis": {
            "gridcolor": "white",
            "linecolor": "white",
            "ticks": ""
           }
          },
          "title": {
           "x": 0.05
          },
          "xaxis": {
           "automargin": true,
           "gridcolor": "white",
           "linecolor": "white",
           "ticks": "",
           "title": {
            "standoff": 15
           },
           "zerolinecolor": "white",
           "zerolinewidth": 2
          },
          "yaxis": {
           "automargin": true,
           "gridcolor": "white",
           "linecolor": "white",
           "ticks": "",
           "title": {
            "standoff": 15
           },
           "zerolinecolor": "white",
           "zerolinewidth": 2
          }
         }
        },
        "title": {
         "text": "Percent Contribution When Belief is their Community's Economy is Poor"
        },
        "xaxis": {
         "anchor": "y",
         "domain": [
          0,
          1
         ],
         "title": {
          "text": "Year"
         }
        },
        "yaxis": {
         "anchor": "x",
         "domain": [
          0,
          1
         ],
         "title": {
          "text": "Percentage"
         }
        }
       }
      }
     },
     "metadata": {},
     "output_type": "display_data"
    },
    {
     "data": {
      "application/vnd.plotly.v1+json": {
       "config": {
        "plotlyServerURL": "https://plot.ly"
       },
       "data": [
        {
         "alignmentgroup": "True",
         "bingroup": "x",
         "histfunc": "sum",
         "hovertemplate": "Political Party=Democrat<br>Year=%{x}<br>sum of Percent=%{y}<extra></extra>",
         "legendgroup": "Democrat",
         "marker": {
          "color": "#5eaaff",
          "pattern": {
           "shape": ""
          }
         },
         "name": "Democrat",
         "offsetgroup": "Democrat",
         "orientation": "v",
         "showlegend": true,
         "type": "histogram",
         "x": [
          2021,
          2022
         ],
         "xaxis": "x",
         "y": [
          9.282088469905728,
          13.859910581222056
         ],
         "yaxis": "y"
        },
        {
         "alignmentgroup": "True",
         "bingroup": "x",
         "histfunc": "sum",
         "hovertemplate": "Political Party=Independent<br>Year=%{x}<br>sum of Percent=%{y}<extra></extra>",
         "legendgroup": "Independent",
         "marker": {
          "color": "#84d660",
          "pattern": {
           "shape": ""
          }
         },
         "name": "Independent",
         "offsetgroup": "Independent",
         "orientation": "v",
         "showlegend": true,
         "type": "histogram",
         "x": [
          2021,
          2022
         ],
         "xaxis": "x",
         "y": [
          10.052910052910052,
          17.684210526315788
         ],
         "yaxis": "y"
        },
        {
         "alignmentgroup": "True",
         "bingroup": "x",
         "histfunc": "sum",
         "hovertemplate": "Political Party=Republican<br>Year=%{x}<br>sum of Percent=%{y}<extra></extra>",
         "legendgroup": "Republican",
         "marker": {
          "color": "#ff5e5e",
          "pattern": {
           "shape": ""
          }
         },
         "name": "Republican",
         "offsetgroup": "Republican",
         "orientation": "v",
         "showlegend": true,
         "type": "histogram",
         "x": [
          2021,
          2022
         ],
         "xaxis": "x",
         "y": [
          9.511343804537521,
          29.04761904761905
         ],
         "yaxis": "y"
        }
       ],
       "layout": {
        "barmode": "group",
        "legend": {
         "title": {
          "text": "Political Party"
         },
         "tracegroupgap": 0
        },
        "template": {
         "data": {
          "bar": [
           {
            "error_x": {
             "color": "#2a3f5f"
            },
            "error_y": {
             "color": "#2a3f5f"
            },
            "marker": {
             "line": {
              "color": "#E5ECF6",
              "width": 0.5
             },
             "pattern": {
              "fillmode": "overlay",
              "size": 10,
              "solidity": 0.2
             }
            },
            "type": "bar"
           }
          ],
          "barpolar": [
           {
            "marker": {
             "line": {
              "color": "#E5ECF6",
              "width": 0.5
             },
             "pattern": {
              "fillmode": "overlay",
              "size": 10,
              "solidity": 0.2
             }
            },
            "type": "barpolar"
           }
          ],
          "carpet": [
           {
            "aaxis": {
             "endlinecolor": "#2a3f5f",
             "gridcolor": "white",
             "linecolor": "white",
             "minorgridcolor": "white",
             "startlinecolor": "#2a3f5f"
            },
            "baxis": {
             "endlinecolor": "#2a3f5f",
             "gridcolor": "white",
             "linecolor": "white",
             "minorgridcolor": "white",
             "startlinecolor": "#2a3f5f"
            },
            "type": "carpet"
           }
          ],
          "choropleth": [
           {
            "colorbar": {
             "outlinewidth": 0,
             "ticks": ""
            },
            "type": "choropleth"
           }
          ],
          "contour": [
           {
            "colorbar": {
             "outlinewidth": 0,
             "ticks": ""
            },
            "colorscale": [
             [
              0,
              "#0d0887"
             ],
             [
              0.1111111111111111,
              "#46039f"
             ],
             [
              0.2222222222222222,
              "#7201a8"
             ],
             [
              0.3333333333333333,
              "#9c179e"
             ],
             [
              0.4444444444444444,
              "#bd3786"
             ],
             [
              0.5555555555555556,
              "#d8576b"
             ],
             [
              0.6666666666666666,
              "#ed7953"
             ],
             [
              0.7777777777777778,
              "#fb9f3a"
             ],
             [
              0.8888888888888888,
              "#fdca26"
             ],
             [
              1,
              "#f0f921"
             ]
            ],
            "type": "contour"
           }
          ],
          "contourcarpet": [
           {
            "colorbar": {
             "outlinewidth": 0,
             "ticks": ""
            },
            "type": "contourcarpet"
           }
          ],
          "heatmap": [
           {
            "colorbar": {
             "outlinewidth": 0,
             "ticks": ""
            },
            "colorscale": [
             [
              0,
              "#0d0887"
             ],
             [
              0.1111111111111111,
              "#46039f"
             ],
             [
              0.2222222222222222,
              "#7201a8"
             ],
             [
              0.3333333333333333,
              "#9c179e"
             ],
             [
              0.4444444444444444,
              "#bd3786"
             ],
             [
              0.5555555555555556,
              "#d8576b"
             ],
             [
              0.6666666666666666,
              "#ed7953"
             ],
             [
              0.7777777777777778,
              "#fb9f3a"
             ],
             [
              0.8888888888888888,
              "#fdca26"
             ],
             [
              1,
              "#f0f921"
             ]
            ],
            "type": "heatmap"
           }
          ],
          "heatmapgl": [
           {
            "colorbar": {
             "outlinewidth": 0,
             "ticks": ""
            },
            "colorscale": [
             [
              0,
              "#0d0887"
             ],
             [
              0.1111111111111111,
              "#46039f"
             ],
             [
              0.2222222222222222,
              "#7201a8"
             ],
             [
              0.3333333333333333,
              "#9c179e"
             ],
             [
              0.4444444444444444,
              "#bd3786"
             ],
             [
              0.5555555555555556,
              "#d8576b"
             ],
             [
              0.6666666666666666,
              "#ed7953"
             ],
             [
              0.7777777777777778,
              "#fb9f3a"
             ],
             [
              0.8888888888888888,
              "#fdca26"
             ],
             [
              1,
              "#f0f921"
             ]
            ],
            "type": "heatmapgl"
           }
          ],
          "histogram": [
           {
            "marker": {
             "pattern": {
              "fillmode": "overlay",
              "size": 10,
              "solidity": 0.2
             }
            },
            "type": "histogram"
           }
          ],
          "histogram2d": [
           {
            "colorbar": {
             "outlinewidth": 0,
             "ticks": ""
            },
            "colorscale": [
             [
              0,
              "#0d0887"
             ],
             [
              0.1111111111111111,
              "#46039f"
             ],
             [
              0.2222222222222222,
              "#7201a8"
             ],
             [
              0.3333333333333333,
              "#9c179e"
             ],
             [
              0.4444444444444444,
              "#bd3786"
             ],
             [
              0.5555555555555556,
              "#d8576b"
             ],
             [
              0.6666666666666666,
              "#ed7953"
             ],
             [
              0.7777777777777778,
              "#fb9f3a"
             ],
             [
              0.8888888888888888,
              "#fdca26"
             ],
             [
              1,
              "#f0f921"
             ]
            ],
            "type": "histogram2d"
           }
          ],
          "histogram2dcontour": [
           {
            "colorbar": {
             "outlinewidth": 0,
             "ticks": ""
            },
            "colorscale": [
             [
              0,
              "#0d0887"
             ],
             [
              0.1111111111111111,
              "#46039f"
             ],
             [
              0.2222222222222222,
              "#7201a8"
             ],
             [
              0.3333333333333333,
              "#9c179e"
             ],
             [
              0.4444444444444444,
              "#bd3786"
             ],
             [
              0.5555555555555556,
              "#d8576b"
             ],
             [
              0.6666666666666666,
              "#ed7953"
             ],
             [
              0.7777777777777778,
              "#fb9f3a"
             ],
             [
              0.8888888888888888,
              "#fdca26"
             ],
             [
              1,
              "#f0f921"
             ]
            ],
            "type": "histogram2dcontour"
           }
          ],
          "mesh3d": [
           {
            "colorbar": {
             "outlinewidth": 0,
             "ticks": ""
            },
            "type": "mesh3d"
           }
          ],
          "parcoords": [
           {
            "line": {
             "colorbar": {
              "outlinewidth": 0,
              "ticks": ""
             }
            },
            "type": "parcoords"
           }
          ],
          "pie": [
           {
            "automargin": true,
            "type": "pie"
           }
          ],
          "scatter": [
           {
            "fillpattern": {
             "fillmode": "overlay",
             "size": 10,
             "solidity": 0.2
            },
            "type": "scatter"
           }
          ],
          "scatter3d": [
           {
            "line": {
             "colorbar": {
              "outlinewidth": 0,
              "ticks": ""
             }
            },
            "marker": {
             "colorbar": {
              "outlinewidth": 0,
              "ticks": ""
             }
            },
            "type": "scatter3d"
           }
          ],
          "scattercarpet": [
           {
            "marker": {
             "colorbar": {
              "outlinewidth": 0,
              "ticks": ""
             }
            },
            "type": "scattercarpet"
           }
          ],
          "scattergeo": [
           {
            "marker": {
             "colorbar": {
              "outlinewidth": 0,
              "ticks": ""
             }
            },
            "type": "scattergeo"
           }
          ],
          "scattergl": [
           {
            "marker": {
             "colorbar": {
              "outlinewidth": 0,
              "ticks": ""
             }
            },
            "type": "scattergl"
           }
          ],
          "scattermapbox": [
           {
            "marker": {
             "colorbar": {
              "outlinewidth": 0,
              "ticks": ""
             }
            },
            "type": "scattermapbox"
           }
          ],
          "scatterpolar": [
           {
            "marker": {
             "colorbar": {
              "outlinewidth": 0,
              "ticks": ""
             }
            },
            "type": "scatterpolar"
           }
          ],
          "scatterpolargl": [
           {
            "marker": {
             "colorbar": {
              "outlinewidth": 0,
              "ticks": ""
             }
            },
            "type": "scatterpolargl"
           }
          ],
          "scatterternary": [
           {
            "marker": {
             "colorbar": {
              "outlinewidth": 0,
              "ticks": ""
             }
            },
            "type": "scatterternary"
           }
          ],
          "surface": [
           {
            "colorbar": {
             "outlinewidth": 0,
             "ticks": ""
            },
            "colorscale": [
             [
              0,
              "#0d0887"
             ],
             [
              0.1111111111111111,
              "#46039f"
             ],
             [
              0.2222222222222222,
              "#7201a8"
             ],
             [
              0.3333333333333333,
              "#9c179e"
             ],
             [
              0.4444444444444444,
              "#bd3786"
             ],
             [
              0.5555555555555556,
              "#d8576b"
             ],
             [
              0.6666666666666666,
              "#ed7953"
             ],
             [
              0.7777777777777778,
              "#fb9f3a"
             ],
             [
              0.8888888888888888,
              "#fdca26"
             ],
             [
              1,
              "#f0f921"
             ]
            ],
            "type": "surface"
           }
          ],
          "table": [
           {
            "cells": {
             "fill": {
              "color": "#EBF0F8"
             },
             "line": {
              "color": "white"
             }
            },
            "header": {
             "fill": {
              "color": "#C8D4E3"
             },
             "line": {
              "color": "white"
             }
            },
            "type": "table"
           }
          ]
         },
         "layout": {
          "annotationdefaults": {
           "arrowcolor": "#2a3f5f",
           "arrowhead": 0,
           "arrowwidth": 1
          },
          "autotypenumbers": "strict",
          "coloraxis": {
           "colorbar": {
            "outlinewidth": 0,
            "ticks": ""
           }
          },
          "colorscale": {
           "diverging": [
            [
             0,
             "#8e0152"
            ],
            [
             0.1,
             "#c51b7d"
            ],
            [
             0.2,
             "#de77ae"
            ],
            [
             0.3,
             "#f1b6da"
            ],
            [
             0.4,
             "#fde0ef"
            ],
            [
             0.5,
             "#f7f7f7"
            ],
            [
             0.6,
             "#e6f5d0"
            ],
            [
             0.7,
             "#b8e186"
            ],
            [
             0.8,
             "#7fbc41"
            ],
            [
             0.9,
             "#4d9221"
            ],
            [
             1,
             "#276419"
            ]
           ],
           "sequential": [
            [
             0,
             "#0d0887"
            ],
            [
             0.1111111111111111,
             "#46039f"
            ],
            [
             0.2222222222222222,
             "#7201a8"
            ],
            [
             0.3333333333333333,
             "#9c179e"
            ],
            [
             0.4444444444444444,
             "#bd3786"
            ],
            [
             0.5555555555555556,
             "#d8576b"
            ],
            [
             0.6666666666666666,
             "#ed7953"
            ],
            [
             0.7777777777777778,
             "#fb9f3a"
            ],
            [
             0.8888888888888888,
             "#fdca26"
            ],
            [
             1,
             "#f0f921"
            ]
           ],
           "sequentialminus": [
            [
             0,
             "#0d0887"
            ],
            [
             0.1111111111111111,
             "#46039f"
            ],
            [
             0.2222222222222222,
             "#7201a8"
            ],
            [
             0.3333333333333333,
             "#9c179e"
            ],
            [
             0.4444444444444444,
             "#bd3786"
            ],
            [
             0.5555555555555556,
             "#d8576b"
            ],
            [
             0.6666666666666666,
             "#ed7953"
            ],
            [
             0.7777777777777778,
             "#fb9f3a"
            ],
            [
             0.8888888888888888,
             "#fdca26"
            ],
            [
             1,
             "#f0f921"
            ]
           ]
          },
          "colorway": [
           "#636efa",
           "#EF553B",
           "#00cc96",
           "#ab63fa",
           "#FFA15A",
           "#19d3f3",
           "#FF6692",
           "#B6E880",
           "#FF97FF",
           "#FECB52"
          ],
          "font": {
           "color": "#2a3f5f"
          },
          "geo": {
           "bgcolor": "white",
           "lakecolor": "white",
           "landcolor": "#E5ECF6",
           "showlakes": true,
           "showland": true,
           "subunitcolor": "white"
          },
          "hoverlabel": {
           "align": "left"
          },
          "hovermode": "closest",
          "mapbox": {
           "style": "light"
          },
          "paper_bgcolor": "white",
          "plot_bgcolor": "#E5ECF6",
          "polar": {
           "angularaxis": {
            "gridcolor": "white",
            "linecolor": "white",
            "ticks": ""
           },
           "bgcolor": "#E5ECF6",
           "radialaxis": {
            "gridcolor": "white",
            "linecolor": "white",
            "ticks": ""
           }
          },
          "scene": {
           "xaxis": {
            "backgroundcolor": "#E5ECF6",
            "gridcolor": "white",
            "gridwidth": 2,
            "linecolor": "white",
            "showbackground": true,
            "ticks": "",
            "zerolinecolor": "white"
           },
           "yaxis": {
            "backgroundcolor": "#E5ECF6",
            "gridcolor": "white",
            "gridwidth": 2,
            "linecolor": "white",
            "showbackground": true,
            "ticks": "",
            "zerolinecolor": "white"
           },
           "zaxis": {
            "backgroundcolor": "#E5ECF6",
            "gridcolor": "white",
            "gridwidth": 2,
            "linecolor": "white",
            "showbackground": true,
            "ticks": "",
            "zerolinecolor": "white"
           }
          },
          "shapedefaults": {
           "line": {
            "color": "#2a3f5f"
           }
          },
          "ternary": {
           "aaxis": {
            "gridcolor": "white",
            "linecolor": "white",
            "ticks": ""
           },
           "baxis": {
            "gridcolor": "white",
            "linecolor": "white",
            "ticks": ""
           },
           "bgcolor": "#E5ECF6",
           "caxis": {
            "gridcolor": "white",
            "linecolor": "white",
            "ticks": ""
           }
          },
          "title": {
           "x": 0.05
          },
          "xaxis": {
           "automargin": true,
           "gridcolor": "white",
           "linecolor": "white",
           "ticks": "",
           "title": {
            "standoff": 15
           },
           "zerolinecolor": "white",
           "zerolinewidth": 2
          },
          "yaxis": {
           "automargin": true,
           "gridcolor": "white",
           "linecolor": "white",
           "ticks": "",
           "title": {
            "standoff": 15
           },
           "zerolinecolor": "white",
           "zerolinewidth": 2
          }
         }
        },
        "title": {
         "text": "Percent of Political Party Groups Who Believed their Community's Economy is Poor"
        },
        "xaxis": {
         "anchor": "y",
         "domain": [
          0,
          1
         ],
         "title": {
          "text": "Year"
         }
        },
        "yaxis": {
         "anchor": "x",
         "domain": [
          0,
          1
         ],
         "title": {
          "text": "Percentage"
         }
        }
       }
      }
     },
     "metadata": {},
     "output_type": "display_data"
    }
   ],
   "source": [
    "df_party_count = sqldf(\n",
    "    \"\"\"\n",
    "    SELECT YEAR, PARTY, COUNT(*) as Count\n",
    "    FROM df_combined\n",
    "    WHERE YEAR IN (2021,2022) AND PARTY not in ('Something else', 'Refused')\n",
    "    GROUP BY YEAR, PARTY\n",
    "    \"\"\"\n",
    ")\n",
    "print(df_party_count)\n",
    "\n",
    "party_map = {\n",
    "    'Democrat':\"#5eaaff\",\n",
    "    'Republican':\"#ff5e5e\",\n",
    "    'Independent':\"#84d660\"\n",
    "}\n",
    "\n",
    "examine_changes('df_econ_poor',None,'PARTY','Political Party', \n",
    "                'Percent Contribution When Belief is their Community\\'s Economy is Poor',1,[],party_map)\n",
    "\n",
    "examine_changes('df_econ_poor',df_party_count,'PARTY','Political Party', \n",
    "                'Percent of Political Party Groups Who Believed their Community\\'s Economy is Poor',2,[],party_map)"
   ]
  },
  {
   "cell_type": "markdown",
   "metadata": {},
   "source": [
    "In 2022, half of all participants who believed their community's economy is poor are Repubicans which increased from 32.8% in 2021. The percent of Republicans who believed their economy was poor increased from 9% to 29%. This could be because they are most likely to be unhappy with rising inflation rates under democrat Joe Biden leadership. "
   ]
  },
  {
   "cell_type": "markdown",
   "metadata": {},
   "source": [
    "## Exploring Trends and Correlations"
   ]
  },
  {
   "cell_type": "code",
   "execution_count": 635,
   "metadata": {},
   "outputs": [],
   "source": [
    "def correlation(df, col_x, col_y, ord_x, ord_y, x_axis_title, title, color_map):\n",
    "    # get count of each economy \n",
    "    df_change = sqldf(\n",
    "        f\"\"\"\n",
    "        SELECT \n",
    "            {col_x}, \n",
    "            {col_y}, \n",
    "            COUNT(*) as Count\n",
    "        FROM {df}\n",
    "        WHERE {col_y} NOT IN (\"Refused\", \"\",-1) AND {col_x} <> 'Other'\n",
    "        GROUP BY {col_x}, {col_y}\n",
    "        \"\"\"\n",
    "    )\n",
    "    # df_change = df_change.replace('Only Fair','Only fair')\n",
    "    df_change['Percent'] = (df_change['Count'] / df_change.groupby(col_x)['Count'].transform('sum')) * 100\n",
    "    df_change.to_csv(\"CSV Files/result.csv\",index=False)\n",
    "\n",
    "    fig = px.histogram(\n",
    "        df_change,\n",
    "        x=col_x,\n",
    "        y='Percent',\n",
    "        color=col_y,\n",
    "        barmode='group',\n",
    "        title=title,\n",
    "        hover_data=['Count'],\n",
    "        category_orders={\n",
    "            col_x:ord_x,\n",
    "            col_y:ord_y\n",
    "        },\n",
    "        color_discrete_map=color_map\n",
    "    )\n",
    "    fig.update_layout(legend_title_text='')\n",
    "    fig.update_yaxes(title=\"Percentage\").update_xaxes(title=x_axis_title).show()"
   ]
  },
  {
   "cell_type": "markdown",
   "metadata": {},
   "source": [
    "### Income vs Religiousness"
   ]
  },
  {
   "cell_type": "code",
   "execution_count": 638,
   "metadata": {},
   "outputs": [
    {
     "data": {
      "application/vnd.plotly.v1+json": {
       "config": {
        "plotlyServerURL": "https://plot.ly"
       },
       "data": [
        {
         "alignmentgroup": "True",
         "bingroup": "x",
         "histfunc": "sum",
         "hovertemplate": "RELIMP=Not at all important<br>INCOME_GROUP=%{x}<br>sum of Percent=%{y}<extra></extra>",
         "legendgroup": "Not at all important",
         "marker": {
          "color": "#ffa2e3",
          "pattern": {
           "shape": ""
          }
         },
         "name": "Not at all important",
         "offsetgroup": "Not at all important",
         "orientation": "v",
         "showlegend": true,
         "type": "histogram",
         "x": [
          "$100K+",
          "$40-70K",
          "$70-100K",
          "Under $40k"
         ],
         "xaxis": "x",
         "y": [
          22.119543845851357,
          15.12788521522146,
          18.06475349521707,
          12.22157660275034
         ],
         "yaxis": "y"
        },
        {
         "alignmentgroup": "True",
         "bingroup": "x",
         "histfunc": "sum",
         "hovertemplate": "RELIMP=Not too important<br>INCOME_GROUP=%{x}<br>sum of Percent=%{y}<extra></extra>",
         "legendgroup": "Not too important",
         "marker": {
          "color": "#ff59ce",
          "pattern": {
           "shape": ""
          }
         },
         "name": "Not too important",
         "offsetgroup": "Not too important",
         "orientation": "v",
         "showlegend": true,
         "type": "histogram",
         "x": [
          "$100K+",
          "$40-70K",
          "$70-100K",
          "Under $40k"
         ],
         "xaxis": "x",
         "y": [
          17.046795123869448,
          14.535246412975672,
          15.378955114054452,
          12.182839434437343
         ],
         "yaxis": "y"
        },
        {
         "alignmentgroup": "True",
         "bingroup": "x",
         "histfunc": "sum",
         "hovertemplate": "RELIMP=Somewhat important<br>INCOME_GROUP=%{x}<br>sum of Percent=%{y}<extra></extra>",
         "legendgroup": "Somewhat important",
         "marker": {
          "color": "#cf0092",
          "pattern": {
           "shape": ""
          }
         },
         "name": "Somewhat important",
         "offsetgroup": "Somewhat important",
         "orientation": "v",
         "showlegend": true,
         "type": "histogram",
         "x": [
          "$100K+",
          "$40-70K",
          "$70-100K",
          "Under $40k"
         ],
         "xaxis": "x",
         "y": [
          23.731812819504523,
          24.3605739238927,
          23.730684326710815,
          24.210730195622702
         ],
         "yaxis": "y"
        },
        {
         "alignmentgroup": "True",
         "bingroup": "x",
         "histfunc": "sum",
         "hovertemplate": "RELIMP=Very important<br>INCOME_GROUP=%{x}<br>sum of Percent=%{y}<extra></extra>",
         "legendgroup": "Very important",
         "marker": {
          "color": "#4e0037",
          "pattern": {
           "shape": ""
          }
         },
         "name": "Very important",
         "offsetgroup": "Very important",
         "orientation": "v",
         "showlegend": true,
         "type": "histogram",
         "x": [
          "$100K+",
          "$40-70K",
          "$70-100K",
          "Under $40k"
         ],
         "xaxis": "x",
         "y": [
          37.101848210774676,
          45.97629444791017,
          42.82560706401766,
          51.38485376718962
         ],
         "yaxis": "y"
        }
       ],
       "layout": {
        "barmode": "group",
        "legend": {
         "title": {
          "text": ""
         },
         "tracegroupgap": 0
        },
        "template": {
         "data": {
          "bar": [
           {
            "error_x": {
             "color": "#2a3f5f"
            },
            "error_y": {
             "color": "#2a3f5f"
            },
            "marker": {
             "line": {
              "color": "#E5ECF6",
              "width": 0.5
             },
             "pattern": {
              "fillmode": "overlay",
              "size": 10,
              "solidity": 0.2
             }
            },
            "type": "bar"
           }
          ],
          "barpolar": [
           {
            "marker": {
             "line": {
              "color": "#E5ECF6",
              "width": 0.5
             },
             "pattern": {
              "fillmode": "overlay",
              "size": 10,
              "solidity": 0.2
             }
            },
            "type": "barpolar"
           }
          ],
          "carpet": [
           {
            "aaxis": {
             "endlinecolor": "#2a3f5f",
             "gridcolor": "white",
             "linecolor": "white",
             "minorgridcolor": "white",
             "startlinecolor": "#2a3f5f"
            },
            "baxis": {
             "endlinecolor": "#2a3f5f",
             "gridcolor": "white",
             "linecolor": "white",
             "minorgridcolor": "white",
             "startlinecolor": "#2a3f5f"
            },
            "type": "carpet"
           }
          ],
          "choropleth": [
           {
            "colorbar": {
             "outlinewidth": 0,
             "ticks": ""
            },
            "type": "choropleth"
           }
          ],
          "contour": [
           {
            "colorbar": {
             "outlinewidth": 0,
             "ticks": ""
            },
            "colorscale": [
             [
              0,
              "#0d0887"
             ],
             [
              0.1111111111111111,
              "#46039f"
             ],
             [
              0.2222222222222222,
              "#7201a8"
             ],
             [
              0.3333333333333333,
              "#9c179e"
             ],
             [
              0.4444444444444444,
              "#bd3786"
             ],
             [
              0.5555555555555556,
              "#d8576b"
             ],
             [
              0.6666666666666666,
              "#ed7953"
             ],
             [
              0.7777777777777778,
              "#fb9f3a"
             ],
             [
              0.8888888888888888,
              "#fdca26"
             ],
             [
              1,
              "#f0f921"
             ]
            ],
            "type": "contour"
           }
          ],
          "contourcarpet": [
           {
            "colorbar": {
             "outlinewidth": 0,
             "ticks": ""
            },
            "type": "contourcarpet"
           }
          ],
          "heatmap": [
           {
            "colorbar": {
             "outlinewidth": 0,
             "ticks": ""
            },
            "colorscale": [
             [
              0,
              "#0d0887"
             ],
             [
              0.1111111111111111,
              "#46039f"
             ],
             [
              0.2222222222222222,
              "#7201a8"
             ],
             [
              0.3333333333333333,
              "#9c179e"
             ],
             [
              0.4444444444444444,
              "#bd3786"
             ],
             [
              0.5555555555555556,
              "#d8576b"
             ],
             [
              0.6666666666666666,
              "#ed7953"
             ],
             [
              0.7777777777777778,
              "#fb9f3a"
             ],
             [
              0.8888888888888888,
              "#fdca26"
             ],
             [
              1,
              "#f0f921"
             ]
            ],
            "type": "heatmap"
           }
          ],
          "heatmapgl": [
           {
            "colorbar": {
             "outlinewidth": 0,
             "ticks": ""
            },
            "colorscale": [
             [
              0,
              "#0d0887"
             ],
             [
              0.1111111111111111,
              "#46039f"
             ],
             [
              0.2222222222222222,
              "#7201a8"
             ],
             [
              0.3333333333333333,
              "#9c179e"
             ],
             [
              0.4444444444444444,
              "#bd3786"
             ],
             [
              0.5555555555555556,
              "#d8576b"
             ],
             [
              0.6666666666666666,
              "#ed7953"
             ],
             [
              0.7777777777777778,
              "#fb9f3a"
             ],
             [
              0.8888888888888888,
              "#fdca26"
             ],
             [
              1,
              "#f0f921"
             ]
            ],
            "type": "heatmapgl"
           }
          ],
          "histogram": [
           {
            "marker": {
             "pattern": {
              "fillmode": "overlay",
              "size": 10,
              "solidity": 0.2
             }
            },
            "type": "histogram"
           }
          ],
          "histogram2d": [
           {
            "colorbar": {
             "outlinewidth": 0,
             "ticks": ""
            },
            "colorscale": [
             [
              0,
              "#0d0887"
             ],
             [
              0.1111111111111111,
              "#46039f"
             ],
             [
              0.2222222222222222,
              "#7201a8"
             ],
             [
              0.3333333333333333,
              "#9c179e"
             ],
             [
              0.4444444444444444,
              "#bd3786"
             ],
             [
              0.5555555555555556,
              "#d8576b"
             ],
             [
              0.6666666666666666,
              "#ed7953"
             ],
             [
              0.7777777777777778,
              "#fb9f3a"
             ],
             [
              0.8888888888888888,
              "#fdca26"
             ],
             [
              1,
              "#f0f921"
             ]
            ],
            "type": "histogram2d"
           }
          ],
          "histogram2dcontour": [
           {
            "colorbar": {
             "outlinewidth": 0,
             "ticks": ""
            },
            "colorscale": [
             [
              0,
              "#0d0887"
             ],
             [
              0.1111111111111111,
              "#46039f"
             ],
             [
              0.2222222222222222,
              "#7201a8"
             ],
             [
              0.3333333333333333,
              "#9c179e"
             ],
             [
              0.4444444444444444,
              "#bd3786"
             ],
             [
              0.5555555555555556,
              "#d8576b"
             ],
             [
              0.6666666666666666,
              "#ed7953"
             ],
             [
              0.7777777777777778,
              "#fb9f3a"
             ],
             [
              0.8888888888888888,
              "#fdca26"
             ],
             [
              1,
              "#f0f921"
             ]
            ],
            "type": "histogram2dcontour"
           }
          ],
          "mesh3d": [
           {
            "colorbar": {
             "outlinewidth": 0,
             "ticks": ""
            },
            "type": "mesh3d"
           }
          ],
          "parcoords": [
           {
            "line": {
             "colorbar": {
              "outlinewidth": 0,
              "ticks": ""
             }
            },
            "type": "parcoords"
           }
          ],
          "pie": [
           {
            "automargin": true,
            "type": "pie"
           }
          ],
          "scatter": [
           {
            "fillpattern": {
             "fillmode": "overlay",
             "size": 10,
             "solidity": 0.2
            },
            "type": "scatter"
           }
          ],
          "scatter3d": [
           {
            "line": {
             "colorbar": {
              "outlinewidth": 0,
              "ticks": ""
             }
            },
            "marker": {
             "colorbar": {
              "outlinewidth": 0,
              "ticks": ""
             }
            },
            "type": "scatter3d"
           }
          ],
          "scattercarpet": [
           {
            "marker": {
             "colorbar": {
              "outlinewidth": 0,
              "ticks": ""
             }
            },
            "type": "scattercarpet"
           }
          ],
          "scattergeo": [
           {
            "marker": {
             "colorbar": {
              "outlinewidth": 0,
              "ticks": ""
             }
            },
            "type": "scattergeo"
           }
          ],
          "scattergl": [
           {
            "marker": {
             "colorbar": {
              "outlinewidth": 0,
              "ticks": ""
             }
            },
            "type": "scattergl"
           }
          ],
          "scattermapbox": [
           {
            "marker": {
             "colorbar": {
              "outlinewidth": 0,
              "ticks": ""
             }
            },
            "type": "scattermapbox"
           }
          ],
          "scatterpolar": [
           {
            "marker": {
             "colorbar": {
              "outlinewidth": 0,
              "ticks": ""
             }
            },
            "type": "scatterpolar"
           }
          ],
          "scatterpolargl": [
           {
            "marker": {
             "colorbar": {
              "outlinewidth": 0,
              "ticks": ""
             }
            },
            "type": "scatterpolargl"
           }
          ],
          "scatterternary": [
           {
            "marker": {
             "colorbar": {
              "outlinewidth": 0,
              "ticks": ""
             }
            },
            "type": "scatterternary"
           }
          ],
          "surface": [
           {
            "colorbar": {
             "outlinewidth": 0,
             "ticks": ""
            },
            "colorscale": [
             [
              0,
              "#0d0887"
             ],
             [
              0.1111111111111111,
              "#46039f"
             ],
             [
              0.2222222222222222,
              "#7201a8"
             ],
             [
              0.3333333333333333,
              "#9c179e"
             ],
             [
              0.4444444444444444,
              "#bd3786"
             ],
             [
              0.5555555555555556,
              "#d8576b"
             ],
             [
              0.6666666666666666,
              "#ed7953"
             ],
             [
              0.7777777777777778,
              "#fb9f3a"
             ],
             [
              0.8888888888888888,
              "#fdca26"
             ],
             [
              1,
              "#f0f921"
             ]
            ],
            "type": "surface"
           }
          ],
          "table": [
           {
            "cells": {
             "fill": {
              "color": "#EBF0F8"
             },
             "line": {
              "color": "white"
             }
            },
            "header": {
             "fill": {
              "color": "#C8D4E3"
             },
             "line": {
              "color": "white"
             }
            },
            "type": "table"
           }
          ]
         },
         "layout": {
          "annotationdefaults": {
           "arrowcolor": "#2a3f5f",
           "arrowhead": 0,
           "arrowwidth": 1
          },
          "autotypenumbers": "strict",
          "coloraxis": {
           "colorbar": {
            "outlinewidth": 0,
            "ticks": ""
           }
          },
          "colorscale": {
           "diverging": [
            [
             0,
             "#8e0152"
            ],
            [
             0.1,
             "#c51b7d"
            ],
            [
             0.2,
             "#de77ae"
            ],
            [
             0.3,
             "#f1b6da"
            ],
            [
             0.4,
             "#fde0ef"
            ],
            [
             0.5,
             "#f7f7f7"
            ],
            [
             0.6,
             "#e6f5d0"
            ],
            [
             0.7,
             "#b8e186"
            ],
            [
             0.8,
             "#7fbc41"
            ],
            [
             0.9,
             "#4d9221"
            ],
            [
             1,
             "#276419"
            ]
           ],
           "sequential": [
            [
             0,
             "#0d0887"
            ],
            [
             0.1111111111111111,
             "#46039f"
            ],
            [
             0.2222222222222222,
             "#7201a8"
            ],
            [
             0.3333333333333333,
             "#9c179e"
            ],
            [
             0.4444444444444444,
             "#bd3786"
            ],
            [
             0.5555555555555556,
             "#d8576b"
            ],
            [
             0.6666666666666666,
             "#ed7953"
            ],
            [
             0.7777777777777778,
             "#fb9f3a"
            ],
            [
             0.8888888888888888,
             "#fdca26"
            ],
            [
             1,
             "#f0f921"
            ]
           ],
           "sequentialminus": [
            [
             0,
             "#0d0887"
            ],
            [
             0.1111111111111111,
             "#46039f"
            ],
            [
             0.2222222222222222,
             "#7201a8"
            ],
            [
             0.3333333333333333,
             "#9c179e"
            ],
            [
             0.4444444444444444,
             "#bd3786"
            ],
            [
             0.5555555555555556,
             "#d8576b"
            ],
            [
             0.6666666666666666,
             "#ed7953"
            ],
            [
             0.7777777777777778,
             "#fb9f3a"
            ],
            [
             0.8888888888888888,
             "#fdca26"
            ],
            [
             1,
             "#f0f921"
            ]
           ]
          },
          "colorway": [
           "#636efa",
           "#EF553B",
           "#00cc96",
           "#ab63fa",
           "#FFA15A",
           "#19d3f3",
           "#FF6692",
           "#B6E880",
           "#FF97FF",
           "#FECB52"
          ],
          "font": {
           "color": "#2a3f5f"
          },
          "geo": {
           "bgcolor": "white",
           "lakecolor": "white",
           "landcolor": "#E5ECF6",
           "showlakes": true,
           "showland": true,
           "subunitcolor": "white"
          },
          "hoverlabel": {
           "align": "left"
          },
          "hovermode": "closest",
          "mapbox": {
           "style": "light"
          },
          "paper_bgcolor": "white",
          "plot_bgcolor": "#E5ECF6",
          "polar": {
           "angularaxis": {
            "gridcolor": "white",
            "linecolor": "white",
            "ticks": ""
           },
           "bgcolor": "#E5ECF6",
           "radialaxis": {
            "gridcolor": "white",
            "linecolor": "white",
            "ticks": ""
           }
          },
          "scene": {
           "xaxis": {
            "backgroundcolor": "#E5ECF6",
            "gridcolor": "white",
            "gridwidth": 2,
            "linecolor": "white",
            "showbackground": true,
            "ticks": "",
            "zerolinecolor": "white"
           },
           "yaxis": {
            "backgroundcolor": "#E5ECF6",
            "gridcolor": "white",
            "gridwidth": 2,
            "linecolor": "white",
            "showbackground": true,
            "ticks": "",
            "zerolinecolor": "white"
           },
           "zaxis": {
            "backgroundcolor": "#E5ECF6",
            "gridcolor": "white",
            "gridwidth": 2,
            "linecolor": "white",
            "showbackground": true,
            "ticks": "",
            "zerolinecolor": "white"
           }
          },
          "shapedefaults": {
           "line": {
            "color": "#2a3f5f"
           }
          },
          "ternary": {
           "aaxis": {
            "gridcolor": "white",
            "linecolor": "white",
            "ticks": ""
           },
           "baxis": {
            "gridcolor": "white",
            "linecolor": "white",
            "ticks": ""
           },
           "bgcolor": "#E5ECF6",
           "caxis": {
            "gridcolor": "white",
            "linecolor": "white",
            "ticks": ""
           }
          },
          "title": {
           "x": 0.05
          },
          "xaxis": {
           "automargin": true,
           "gridcolor": "white",
           "linecolor": "white",
           "ticks": "",
           "title": {
            "standoff": 15
           },
           "zerolinecolor": "white",
           "zerolinewidth": 2
          },
          "yaxis": {
           "automargin": true,
           "gridcolor": "white",
           "linecolor": "white",
           "ticks": "",
           "title": {
            "standoff": 15
           },
           "zerolinecolor": "white",
           "zerolinewidth": 2
          }
         }
        },
        "title": {
         "text": "Importance of Religion in Participants' Lives by Income Group"
        },
        "xaxis": {
         "anchor": "y",
         "categoryarray": [
          "Under $40k",
          "$40-70K",
          "$70-100K",
          "$100K+"
         ],
         "categoryorder": "array",
         "domain": [
          0,
          1
         ],
         "title": {
          "text": "Income Group"
         }
        },
        "yaxis": {
         "anchor": "x",
         "domain": [
          0,
          1
         ],
         "title": {
          "text": "Percentage"
         }
        }
       }
      }
     },
     "metadata": {},
     "output_type": "display_data"
    },
    {
     "data": {
      "application/vnd.plotly.v1+json": {
       "config": {
        "plotlyServerURL": "https://plot.ly"
       },
       "data": [
        {
         "alignmentgroup": "True",
         "bingroup": "x",
         "histfunc": "sum",
         "hovertemplate": "RELIMP=Not at all important<br>AGE_GROUP=%{x}<br>sum of Percent=%{y}<extra></extra>",
         "legendgroup": "Not at all important",
         "marker": {
          "color": "#ffa2e3",
          "pattern": {
           "shape": ""
          }
         },
         "name": "Not at all important",
         "offsetgroup": "Not at all important",
         "orientation": "v",
         "showlegend": true,
         "type": "histogram",
         "x": [
          "30-50",
          "50-70",
          "70+",
          "Under 30"
         ],
         "xaxis": "x",
         "y": [
          21.052631578947366,
          13.48563006632277,
          12.157073695535233,
          24.58313482610767
         ],
         "yaxis": "y"
        },
        {
         "alignmentgroup": "True",
         "bingroup": "x",
         "histfunc": "sum",
         "hovertemplate": "RELIMP=Not too important<br>AGE_GROUP=%{x}<br>sum of Percent=%{y}<extra></extra>",
         "legendgroup": "Not too important",
         "marker": {
          "color": "#ff59ce",
          "pattern": {
           "shape": ""
          }
         },
         "name": "Not too important",
         "offsetgroup": "Not too important",
         "orientation": "v",
         "showlegend": true,
         "type": "histogram",
         "x": [
          "30-50",
          "50-70",
          "70+",
          "Under 30"
         ],
         "xaxis": "x",
         "y": [
          16.280974810567276,
          13.515106853352984,
          12.1301775147929,
          18.38970938542163
         ],
         "yaxis": "y"
        },
        {
         "alignmentgroup": "True",
         "bingroup": "x",
         "histfunc": "sum",
         "hovertemplate": "RELIMP=Somewhat important<br>AGE_GROUP=%{x}<br>sum of Percent=%{y}<extra></extra>",
         "legendgroup": "Somewhat important",
         "marker": {
          "color": "#cf0092",
          "pattern": {
           "shape": ""
          }
         },
         "name": "Somewhat important",
         "offsetgroup": "Somewhat important",
         "orientation": "v",
         "showlegend": true,
         "type": "histogram",
         "x": [
          "30-50",
          "50-70",
          "70+",
          "Under 30"
         ],
         "xaxis": "x",
         "y": [
          24.861765308212163,
          24.716285924834196,
          21.247982786444325,
          24.487851357789424
         ],
         "yaxis": "y"
        },
        {
         "alignmentgroup": "True",
         "bingroup": "x",
         "histfunc": "sum",
         "hovertemplate": "RELIMP=Very important<br>AGE_GROUP=%{x}<br>sum of Percent=%{y}<extra></extra>",
         "legendgroup": "Very important",
         "marker": {
          "color": "#4e0037",
          "pattern": {
           "shape": ""
          }
         },
         "name": "Very important",
         "offsetgroup": "Very important",
         "orientation": "v",
         "showlegend": true,
         "type": "histogram",
         "x": [
          "30-50",
          "50-70",
          "70+",
          "Under 30"
         ],
         "xaxis": "x",
         "y": [
          37.804628302273194,
          48.28297715549005,
          54.46476600322754,
          32.53930443068128
         ],
         "yaxis": "y"
        }
       ],
       "layout": {
        "barmode": "group",
        "legend": {
         "title": {
          "text": ""
         },
         "tracegroupgap": 0
        },
        "template": {
         "data": {
          "bar": [
           {
            "error_x": {
             "color": "#2a3f5f"
            },
            "error_y": {
             "color": "#2a3f5f"
            },
            "marker": {
             "line": {
              "color": "#E5ECF6",
              "width": 0.5
             },
             "pattern": {
              "fillmode": "overlay",
              "size": 10,
              "solidity": 0.2
             }
            },
            "type": "bar"
           }
          ],
          "barpolar": [
           {
            "marker": {
             "line": {
              "color": "#E5ECF6",
              "width": 0.5
             },
             "pattern": {
              "fillmode": "overlay",
              "size": 10,
              "solidity": 0.2
             }
            },
            "type": "barpolar"
           }
          ],
          "carpet": [
           {
            "aaxis": {
             "endlinecolor": "#2a3f5f",
             "gridcolor": "white",
             "linecolor": "white",
             "minorgridcolor": "white",
             "startlinecolor": "#2a3f5f"
            },
            "baxis": {
             "endlinecolor": "#2a3f5f",
             "gridcolor": "white",
             "linecolor": "white",
             "minorgridcolor": "white",
             "startlinecolor": "#2a3f5f"
            },
            "type": "carpet"
           }
          ],
          "choropleth": [
           {
            "colorbar": {
             "outlinewidth": 0,
             "ticks": ""
            },
            "type": "choropleth"
           }
          ],
          "contour": [
           {
            "colorbar": {
             "outlinewidth": 0,
             "ticks": ""
            },
            "colorscale": [
             [
              0,
              "#0d0887"
             ],
             [
              0.1111111111111111,
              "#46039f"
             ],
             [
              0.2222222222222222,
              "#7201a8"
             ],
             [
              0.3333333333333333,
              "#9c179e"
             ],
             [
              0.4444444444444444,
              "#bd3786"
             ],
             [
              0.5555555555555556,
              "#d8576b"
             ],
             [
              0.6666666666666666,
              "#ed7953"
             ],
             [
              0.7777777777777778,
              "#fb9f3a"
             ],
             [
              0.8888888888888888,
              "#fdca26"
             ],
             [
              1,
              "#f0f921"
             ]
            ],
            "type": "contour"
           }
          ],
          "contourcarpet": [
           {
            "colorbar": {
             "outlinewidth": 0,
             "ticks": ""
            },
            "type": "contourcarpet"
           }
          ],
          "heatmap": [
           {
            "colorbar": {
             "outlinewidth": 0,
             "ticks": ""
            },
            "colorscale": [
             [
              0,
              "#0d0887"
             ],
             [
              0.1111111111111111,
              "#46039f"
             ],
             [
              0.2222222222222222,
              "#7201a8"
             ],
             [
              0.3333333333333333,
              "#9c179e"
             ],
             [
              0.4444444444444444,
              "#bd3786"
             ],
             [
              0.5555555555555556,
              "#d8576b"
             ],
             [
              0.6666666666666666,
              "#ed7953"
             ],
             [
              0.7777777777777778,
              "#fb9f3a"
             ],
             [
              0.8888888888888888,
              "#fdca26"
             ],
             [
              1,
              "#f0f921"
             ]
            ],
            "type": "heatmap"
           }
          ],
          "heatmapgl": [
           {
            "colorbar": {
             "outlinewidth": 0,
             "ticks": ""
            },
            "colorscale": [
             [
              0,
              "#0d0887"
             ],
             [
              0.1111111111111111,
              "#46039f"
             ],
             [
              0.2222222222222222,
              "#7201a8"
             ],
             [
              0.3333333333333333,
              "#9c179e"
             ],
             [
              0.4444444444444444,
              "#bd3786"
             ],
             [
              0.5555555555555556,
              "#d8576b"
             ],
             [
              0.6666666666666666,
              "#ed7953"
             ],
             [
              0.7777777777777778,
              "#fb9f3a"
             ],
             [
              0.8888888888888888,
              "#fdca26"
             ],
             [
              1,
              "#f0f921"
             ]
            ],
            "type": "heatmapgl"
           }
          ],
          "histogram": [
           {
            "marker": {
             "pattern": {
              "fillmode": "overlay",
              "size": 10,
              "solidity": 0.2
             }
            },
            "type": "histogram"
           }
          ],
          "histogram2d": [
           {
            "colorbar": {
             "outlinewidth": 0,
             "ticks": ""
            },
            "colorscale": [
             [
              0,
              "#0d0887"
             ],
             [
              0.1111111111111111,
              "#46039f"
             ],
             [
              0.2222222222222222,
              "#7201a8"
             ],
             [
              0.3333333333333333,
              "#9c179e"
             ],
             [
              0.4444444444444444,
              "#bd3786"
             ],
             [
              0.5555555555555556,
              "#d8576b"
             ],
             [
              0.6666666666666666,
              "#ed7953"
             ],
             [
              0.7777777777777778,
              "#fb9f3a"
             ],
             [
              0.8888888888888888,
              "#fdca26"
             ],
             [
              1,
              "#f0f921"
             ]
            ],
            "type": "histogram2d"
           }
          ],
          "histogram2dcontour": [
           {
            "colorbar": {
             "outlinewidth": 0,
             "ticks": ""
            },
            "colorscale": [
             [
              0,
              "#0d0887"
             ],
             [
              0.1111111111111111,
              "#46039f"
             ],
             [
              0.2222222222222222,
              "#7201a8"
             ],
             [
              0.3333333333333333,
              "#9c179e"
             ],
             [
              0.4444444444444444,
              "#bd3786"
             ],
             [
              0.5555555555555556,
              "#d8576b"
             ],
             [
              0.6666666666666666,
              "#ed7953"
             ],
             [
              0.7777777777777778,
              "#fb9f3a"
             ],
             [
              0.8888888888888888,
              "#fdca26"
             ],
             [
              1,
              "#f0f921"
             ]
            ],
            "type": "histogram2dcontour"
           }
          ],
          "mesh3d": [
           {
            "colorbar": {
             "outlinewidth": 0,
             "ticks": ""
            },
            "type": "mesh3d"
           }
          ],
          "parcoords": [
           {
            "line": {
             "colorbar": {
              "outlinewidth": 0,
              "ticks": ""
             }
            },
            "type": "parcoords"
           }
          ],
          "pie": [
           {
            "automargin": true,
            "type": "pie"
           }
          ],
          "scatter": [
           {
            "fillpattern": {
             "fillmode": "overlay",
             "size": 10,
             "solidity": 0.2
            },
            "type": "scatter"
           }
          ],
          "scatter3d": [
           {
            "line": {
             "colorbar": {
              "outlinewidth": 0,
              "ticks": ""
             }
            },
            "marker": {
             "colorbar": {
              "outlinewidth": 0,
              "ticks": ""
             }
            },
            "type": "scatter3d"
           }
          ],
          "scattercarpet": [
           {
            "marker": {
             "colorbar": {
              "outlinewidth": 0,
              "ticks": ""
             }
            },
            "type": "scattercarpet"
           }
          ],
          "scattergeo": [
           {
            "marker": {
             "colorbar": {
              "outlinewidth": 0,
              "ticks": ""
             }
            },
            "type": "scattergeo"
           }
          ],
          "scattergl": [
           {
            "marker": {
             "colorbar": {
              "outlinewidth": 0,
              "ticks": ""
             }
            },
            "type": "scattergl"
           }
          ],
          "scattermapbox": [
           {
            "marker": {
             "colorbar": {
              "outlinewidth": 0,
              "ticks": ""
             }
            },
            "type": "scattermapbox"
           }
          ],
          "scatterpolar": [
           {
            "marker": {
             "colorbar": {
              "outlinewidth": 0,
              "ticks": ""
             }
            },
            "type": "scatterpolar"
           }
          ],
          "scatterpolargl": [
           {
            "marker": {
             "colorbar": {
              "outlinewidth": 0,
              "ticks": ""
             }
            },
            "type": "scatterpolargl"
           }
          ],
          "scatterternary": [
           {
            "marker": {
             "colorbar": {
              "outlinewidth": 0,
              "ticks": ""
             }
            },
            "type": "scatterternary"
           }
          ],
          "surface": [
           {
            "colorbar": {
             "outlinewidth": 0,
             "ticks": ""
            },
            "colorscale": [
             [
              0,
              "#0d0887"
             ],
             [
              0.1111111111111111,
              "#46039f"
             ],
             [
              0.2222222222222222,
              "#7201a8"
             ],
             [
              0.3333333333333333,
              "#9c179e"
             ],
             [
              0.4444444444444444,
              "#bd3786"
             ],
             [
              0.5555555555555556,
              "#d8576b"
             ],
             [
              0.6666666666666666,
              "#ed7953"
             ],
             [
              0.7777777777777778,
              "#fb9f3a"
             ],
             [
              0.8888888888888888,
              "#fdca26"
             ],
             [
              1,
              "#f0f921"
             ]
            ],
            "type": "surface"
           }
          ],
          "table": [
           {
            "cells": {
             "fill": {
              "color": "#EBF0F8"
             },
             "line": {
              "color": "white"
             }
            },
            "header": {
             "fill": {
              "color": "#C8D4E3"
             },
             "line": {
              "color": "white"
             }
            },
            "type": "table"
           }
          ]
         },
         "layout": {
          "annotationdefaults": {
           "arrowcolor": "#2a3f5f",
           "arrowhead": 0,
           "arrowwidth": 1
          },
          "autotypenumbers": "strict",
          "coloraxis": {
           "colorbar": {
            "outlinewidth": 0,
            "ticks": ""
           }
          },
          "colorscale": {
           "diverging": [
            [
             0,
             "#8e0152"
            ],
            [
             0.1,
             "#c51b7d"
            ],
            [
             0.2,
             "#de77ae"
            ],
            [
             0.3,
             "#f1b6da"
            ],
            [
             0.4,
             "#fde0ef"
            ],
            [
             0.5,
             "#f7f7f7"
            ],
            [
             0.6,
             "#e6f5d0"
            ],
            [
             0.7,
             "#b8e186"
            ],
            [
             0.8,
             "#7fbc41"
            ],
            [
             0.9,
             "#4d9221"
            ],
            [
             1,
             "#276419"
            ]
           ],
           "sequential": [
            [
             0,
             "#0d0887"
            ],
            [
             0.1111111111111111,
             "#46039f"
            ],
            [
             0.2222222222222222,
             "#7201a8"
            ],
            [
             0.3333333333333333,
             "#9c179e"
            ],
            [
             0.4444444444444444,
             "#bd3786"
            ],
            [
             0.5555555555555556,
             "#d8576b"
            ],
            [
             0.6666666666666666,
             "#ed7953"
            ],
            [
             0.7777777777777778,
             "#fb9f3a"
            ],
            [
             0.8888888888888888,
             "#fdca26"
            ],
            [
             1,
             "#f0f921"
            ]
           ],
           "sequentialminus": [
            [
             0,
             "#0d0887"
            ],
            [
             0.1111111111111111,
             "#46039f"
            ],
            [
             0.2222222222222222,
             "#7201a8"
            ],
            [
             0.3333333333333333,
             "#9c179e"
            ],
            [
             0.4444444444444444,
             "#bd3786"
            ],
            [
             0.5555555555555556,
             "#d8576b"
            ],
            [
             0.6666666666666666,
             "#ed7953"
            ],
            [
             0.7777777777777778,
             "#fb9f3a"
            ],
            [
             0.8888888888888888,
             "#fdca26"
            ],
            [
             1,
             "#f0f921"
            ]
           ]
          },
          "colorway": [
           "#636efa",
           "#EF553B",
           "#00cc96",
           "#ab63fa",
           "#FFA15A",
           "#19d3f3",
           "#FF6692",
           "#B6E880",
           "#FF97FF",
           "#FECB52"
          ],
          "font": {
           "color": "#2a3f5f"
          },
          "geo": {
           "bgcolor": "white",
           "lakecolor": "white",
           "landcolor": "#E5ECF6",
           "showlakes": true,
           "showland": true,
           "subunitcolor": "white"
          },
          "hoverlabel": {
           "align": "left"
          },
          "hovermode": "closest",
          "mapbox": {
           "style": "light"
          },
          "paper_bgcolor": "white",
          "plot_bgcolor": "#E5ECF6",
          "polar": {
           "angularaxis": {
            "gridcolor": "white",
            "linecolor": "white",
            "ticks": ""
           },
           "bgcolor": "#E5ECF6",
           "radialaxis": {
            "gridcolor": "white",
            "linecolor": "white",
            "ticks": ""
           }
          },
          "scene": {
           "xaxis": {
            "backgroundcolor": "#E5ECF6",
            "gridcolor": "white",
            "gridwidth": 2,
            "linecolor": "white",
            "showbackground": true,
            "ticks": "",
            "zerolinecolor": "white"
           },
           "yaxis": {
            "backgroundcolor": "#E5ECF6",
            "gridcolor": "white",
            "gridwidth": 2,
            "linecolor": "white",
            "showbackground": true,
            "ticks": "",
            "zerolinecolor": "white"
           },
           "zaxis": {
            "backgroundcolor": "#E5ECF6",
            "gridcolor": "white",
            "gridwidth": 2,
            "linecolor": "white",
            "showbackground": true,
            "ticks": "",
            "zerolinecolor": "white"
           }
          },
          "shapedefaults": {
           "line": {
            "color": "#2a3f5f"
           }
          },
          "ternary": {
           "aaxis": {
            "gridcolor": "white",
            "linecolor": "white",
            "ticks": ""
           },
           "baxis": {
            "gridcolor": "white",
            "linecolor": "white",
            "ticks": ""
           },
           "bgcolor": "#E5ECF6",
           "caxis": {
            "gridcolor": "white",
            "linecolor": "white",
            "ticks": ""
           }
          },
          "title": {
           "x": 0.05
          },
          "xaxis": {
           "automargin": true,
           "gridcolor": "white",
           "linecolor": "white",
           "ticks": "",
           "title": {
            "standoff": 15
           },
           "zerolinecolor": "white",
           "zerolinewidth": 2
          },
          "yaxis": {
           "automargin": true,
           "gridcolor": "white",
           "linecolor": "white",
           "ticks": "",
           "title": {
            "standoff": 15
           },
           "zerolinecolor": "white",
           "zerolinewidth": 2
          }
         }
        },
        "title": {
         "text": "Importance of Religion in Participants' Lives by Age Group"
        },
        "xaxis": {
         "anchor": "y",
         "categoryarray": [
          "Under 30",
          "30-50",
          "50-70",
          "70+"
         ],
         "categoryorder": "array",
         "domain": [
          0,
          1
         ],
         "title": {
          "text": "Age Group"
         }
        },
        "yaxis": {
         "anchor": "x",
         "domain": [
          0,
          1
         ],
         "title": {
          "text": "Percentage"
         }
        }
       }
      }
     },
     "metadata": {},
     "output_type": "display_data"
    },
    {
     "data": {
      "application/vnd.plotly.v1+json": {
       "config": {
        "plotlyServerURL": "https://plot.ly"
       },
       "data": [
        {
         "alignmentgroup": "True",
         "bingroup": "x",
         "histfunc": "sum",
         "hovertemplate": "PRAY=Never<br>INCOME_GROUP=%{x}<br>sum of Percent=%{y}<extra></extra>",
         "legendgroup": "Never",
         "marker": {
          "color": "#000817",
          "pattern": {
           "shape": ""
          }
         },
         "name": "Never",
         "offsetgroup": "Never",
         "orientation": "v",
         "showlegend": true,
         "type": "histogram",
         "x": [
          "$100K+",
          "$40-70K",
          "$70-100K",
          "Under $40k"
         ],
         "xaxis": "x",
         "y": [
          19.34975369458128,
          13.532896788275647,
          15.930831493745401,
          10.720528257914157
         ],
         "yaxis": "y"
        },
        {
         "alignmentgroup": "True",
         "bingroup": "x",
         "histfunc": "sum",
         "hovertemplate": "PRAY=Seldom<br>INCOME_GROUP=%{x}<br>sum of Percent=%{y}<extra></extra>",
         "legendgroup": "Seldom",
         "marker": {
          "color": "#002679",
          "pattern": {
           "shape": ""
          }
         },
         "name": "Seldom",
         "offsetgroup": "Seldom",
         "orientation": "v",
         "showlegend": true,
         "type": "histogram",
         "x": [
          "$100K+",
          "$40-70K",
          "$70-100K",
          "Under $40k"
         ],
         "xaxis": "x",
         "y": [
          18.1871921182266,
          13.813532896788274,
          15.599705665930832,
          12.449019227034377
         ],
         "yaxis": "y"
        },
        {
         "alignmentgroup": "True",
         "bingroup": "x",
         "histfunc": "sum",
         "hovertemplate": "PRAY=A few times a month<br>INCOME_GROUP=%{x}<br>sum of Percent=%{y}<extra></extra>",
         "legendgroup": "A few times a month",
         "marker": {
          "color": "#003bbd",
          "pattern": {
           "shape": ""
          }
         },
         "name": "A few times a month",
         "offsetgroup": "A few times a month",
         "orientation": "v",
         "showlegend": true,
         "type": "histogram",
         "x": [
          "$100K+",
          "$40-70K",
          "$70-100K",
          "Under $40k"
         ],
         "xaxis": "x",
         "y": [
          6.758620689655172,
          6.111630807608356,
          6.254598969830758,
          6.583802680132064
         ],
         "yaxis": "y"
        },
        {
         "alignmentgroup": "True",
         "bingroup": "x",
         "histfunc": "sum",
         "hovertemplate": "PRAY=A few times a week<br>INCOME_GROUP=%{x}<br>sum of Percent=%{y}<extra></extra>",
         "legendgroup": "A few times a week",
         "marker": {
          "color": "#004efb",
          "pattern": {
           "shape": ""
          }
         },
         "name": "A few times a week",
         "offsetgroup": "A few times a week",
         "orientation": "v",
         "showlegend": true,
         "type": "histogram",
         "x": [
          "$100K+",
          "$40-70K",
          "$70-100K",
          "Under $40k"
         ],
         "xaxis": "x",
         "y": [
          13.182266009852217,
          13.15871531025881,
          12.693156732891833,
          10.953583220042727
         ],
         "yaxis": "y"
        },
        {
         "alignmentgroup": "True",
         "bingroup": "x",
         "histfunc": "sum",
         "hovertemplate": "PRAY=Once a week<br>INCOME_GROUP=%{x}<br>sum of Percent=%{y}<extra></extra>",
         "legendgroup": "Once a week",
         "marker": {
          "color": "#2d6fff",
          "pattern": {
           "shape": ""
          }
         },
         "name": "Once a week",
         "offsetgroup": "Once a week",
         "orientation": "v",
         "showlegend": true,
         "type": "histogram",
         "x": [
          "$100K+",
          "$40-70K",
          "$70-100K",
          "Under $40k"
         ],
         "xaxis": "x",
         "y": [
          2.4039408866995076,
          1.5590894917368257,
          1.9867549668874174,
          2.000388424936881
         ],
         "yaxis": "y"
        },
        {
         "alignmentgroup": "True",
         "bingroup": "x",
         "histfunc": "sum",
         "hovertemplate": "PRAY=Once a day<br>INCOME_GROUP=%{x}<br>sum of Percent=%{y}<extra></extra>",
         "legendgroup": "Once a day",
         "marker": {
          "color": "#6193ff",
          "pattern": {
           "shape": ""
          }
         },
         "name": "Once a day",
         "offsetgroup": "Once a day",
         "orientation": "v",
         "showlegend": true,
         "type": "histogram",
         "x": [
          "$100K+",
          "$40-70K",
          "$70-100K",
          "Under $40k"
         ],
         "xaxis": "x",
         "y": [
          16.43349753694581,
          17.742438415965076,
          17.0345842531273,
          18.197708292872402
         ],
         "yaxis": "y"
        },
        {
         "alignmentgroup": "True",
         "bingroup": "x",
         "histfunc": "sum",
         "hovertemplate": "PRAY=Several times a day<br>INCOME_GROUP=%{x}<br>sum of Percent=%{y}<extra></extra>",
         "legendgroup": "Several times a day",
         "marker": {
          "color": "#a8c4ff",
          "pattern": {
           "shape": ""
          }
         },
         "name": "Several times a day",
         "offsetgroup": "Several times a day",
         "orientation": "v",
         "showlegend": true,
         "type": "histogram",
         "x": [
          "$100K+",
          "$40-70K",
          "$70-100K",
          "Under $40k"
         ],
         "xaxis": "x",
         "y": [
          23.68472906403941,
          34.08169628936701,
          30.500367917586463,
          39.094969897067394
         ],
         "yaxis": "y"
        }
       ],
       "layout": {
        "barmode": "group",
        "legend": {
         "title": {
          "text": ""
         },
         "tracegroupgap": 0
        },
        "template": {
         "data": {
          "bar": [
           {
            "error_x": {
             "color": "#2a3f5f"
            },
            "error_y": {
             "color": "#2a3f5f"
            },
            "marker": {
             "line": {
              "color": "#E5ECF6",
              "width": 0.5
             },
             "pattern": {
              "fillmode": "overlay",
              "size": 10,
              "solidity": 0.2
             }
            },
            "type": "bar"
           }
          ],
          "barpolar": [
           {
            "marker": {
             "line": {
              "color": "#E5ECF6",
              "width": 0.5
             },
             "pattern": {
              "fillmode": "overlay",
              "size": 10,
              "solidity": 0.2
             }
            },
            "type": "barpolar"
           }
          ],
          "carpet": [
           {
            "aaxis": {
             "endlinecolor": "#2a3f5f",
             "gridcolor": "white",
             "linecolor": "white",
             "minorgridcolor": "white",
             "startlinecolor": "#2a3f5f"
            },
            "baxis": {
             "endlinecolor": "#2a3f5f",
             "gridcolor": "white",
             "linecolor": "white",
             "minorgridcolor": "white",
             "startlinecolor": "#2a3f5f"
            },
            "type": "carpet"
           }
          ],
          "choropleth": [
           {
            "colorbar": {
             "outlinewidth": 0,
             "ticks": ""
            },
            "type": "choropleth"
           }
          ],
          "contour": [
           {
            "colorbar": {
             "outlinewidth": 0,
             "ticks": ""
            },
            "colorscale": [
             [
              0,
              "#0d0887"
             ],
             [
              0.1111111111111111,
              "#46039f"
             ],
             [
              0.2222222222222222,
              "#7201a8"
             ],
             [
              0.3333333333333333,
              "#9c179e"
             ],
             [
              0.4444444444444444,
              "#bd3786"
             ],
             [
              0.5555555555555556,
              "#d8576b"
             ],
             [
              0.6666666666666666,
              "#ed7953"
             ],
             [
              0.7777777777777778,
              "#fb9f3a"
             ],
             [
              0.8888888888888888,
              "#fdca26"
             ],
             [
              1,
              "#f0f921"
             ]
            ],
            "type": "contour"
           }
          ],
          "contourcarpet": [
           {
            "colorbar": {
             "outlinewidth": 0,
             "ticks": ""
            },
            "type": "contourcarpet"
           }
          ],
          "heatmap": [
           {
            "colorbar": {
             "outlinewidth": 0,
             "ticks": ""
            },
            "colorscale": [
             [
              0,
              "#0d0887"
             ],
             [
              0.1111111111111111,
              "#46039f"
             ],
             [
              0.2222222222222222,
              "#7201a8"
             ],
             [
              0.3333333333333333,
              "#9c179e"
             ],
             [
              0.4444444444444444,
              "#bd3786"
             ],
             [
              0.5555555555555556,
              "#d8576b"
             ],
             [
              0.6666666666666666,
              "#ed7953"
             ],
             [
              0.7777777777777778,
              "#fb9f3a"
             ],
             [
              0.8888888888888888,
              "#fdca26"
             ],
             [
              1,
              "#f0f921"
             ]
            ],
            "type": "heatmap"
           }
          ],
          "heatmapgl": [
           {
            "colorbar": {
             "outlinewidth": 0,
             "ticks": ""
            },
            "colorscale": [
             [
              0,
              "#0d0887"
             ],
             [
              0.1111111111111111,
              "#46039f"
             ],
             [
              0.2222222222222222,
              "#7201a8"
             ],
             [
              0.3333333333333333,
              "#9c179e"
             ],
             [
              0.4444444444444444,
              "#bd3786"
             ],
             [
              0.5555555555555556,
              "#d8576b"
             ],
             [
              0.6666666666666666,
              "#ed7953"
             ],
             [
              0.7777777777777778,
              "#fb9f3a"
             ],
             [
              0.8888888888888888,
              "#fdca26"
             ],
             [
              1,
              "#f0f921"
             ]
            ],
            "type": "heatmapgl"
           }
          ],
          "histogram": [
           {
            "marker": {
             "pattern": {
              "fillmode": "overlay",
              "size": 10,
              "solidity": 0.2
             }
            },
            "type": "histogram"
           }
          ],
          "histogram2d": [
           {
            "colorbar": {
             "outlinewidth": 0,
             "ticks": ""
            },
            "colorscale": [
             [
              0,
              "#0d0887"
             ],
             [
              0.1111111111111111,
              "#46039f"
             ],
             [
              0.2222222222222222,
              "#7201a8"
             ],
             [
              0.3333333333333333,
              "#9c179e"
             ],
             [
              0.4444444444444444,
              "#bd3786"
             ],
             [
              0.5555555555555556,
              "#d8576b"
             ],
             [
              0.6666666666666666,
              "#ed7953"
             ],
             [
              0.7777777777777778,
              "#fb9f3a"
             ],
             [
              0.8888888888888888,
              "#fdca26"
             ],
             [
              1,
              "#f0f921"
             ]
            ],
            "type": "histogram2d"
           }
          ],
          "histogram2dcontour": [
           {
            "colorbar": {
             "outlinewidth": 0,
             "ticks": ""
            },
            "colorscale": [
             [
              0,
              "#0d0887"
             ],
             [
              0.1111111111111111,
              "#46039f"
             ],
             [
              0.2222222222222222,
              "#7201a8"
             ],
             [
              0.3333333333333333,
              "#9c179e"
             ],
             [
              0.4444444444444444,
              "#bd3786"
             ],
             [
              0.5555555555555556,
              "#d8576b"
             ],
             [
              0.6666666666666666,
              "#ed7953"
             ],
             [
              0.7777777777777778,
              "#fb9f3a"
             ],
             [
              0.8888888888888888,
              "#fdca26"
             ],
             [
              1,
              "#f0f921"
             ]
            ],
            "type": "histogram2dcontour"
           }
          ],
          "mesh3d": [
           {
            "colorbar": {
             "outlinewidth": 0,
             "ticks": ""
            },
            "type": "mesh3d"
           }
          ],
          "parcoords": [
           {
            "line": {
             "colorbar": {
              "outlinewidth": 0,
              "ticks": ""
             }
            },
            "type": "parcoords"
           }
          ],
          "pie": [
           {
            "automargin": true,
            "type": "pie"
           }
          ],
          "scatter": [
           {
            "fillpattern": {
             "fillmode": "overlay",
             "size": 10,
             "solidity": 0.2
            },
            "type": "scatter"
           }
          ],
          "scatter3d": [
           {
            "line": {
             "colorbar": {
              "outlinewidth": 0,
              "ticks": ""
             }
            },
            "marker": {
             "colorbar": {
              "outlinewidth": 0,
              "ticks": ""
             }
            },
            "type": "scatter3d"
           }
          ],
          "scattercarpet": [
           {
            "marker": {
             "colorbar": {
              "outlinewidth": 0,
              "ticks": ""
             }
            },
            "type": "scattercarpet"
           }
          ],
          "scattergeo": [
           {
            "marker": {
             "colorbar": {
              "outlinewidth": 0,
              "ticks": ""
             }
            },
            "type": "scattergeo"
           }
          ],
          "scattergl": [
           {
            "marker": {
             "colorbar": {
              "outlinewidth": 0,
              "ticks": ""
             }
            },
            "type": "scattergl"
           }
          ],
          "scattermapbox": [
           {
            "marker": {
             "colorbar": {
              "outlinewidth": 0,
              "ticks": ""
             }
            },
            "type": "scattermapbox"
           }
          ],
          "scatterpolar": [
           {
            "marker": {
             "colorbar": {
              "outlinewidth": 0,
              "ticks": ""
             }
            },
            "type": "scatterpolar"
           }
          ],
          "scatterpolargl": [
           {
            "marker": {
             "colorbar": {
              "outlinewidth": 0,
              "ticks": ""
             }
            },
            "type": "scatterpolargl"
           }
          ],
          "scatterternary": [
           {
            "marker": {
             "colorbar": {
              "outlinewidth": 0,
              "ticks": ""
             }
            },
            "type": "scatterternary"
           }
          ],
          "surface": [
           {
            "colorbar": {
             "outlinewidth": 0,
             "ticks": ""
            },
            "colorscale": [
             [
              0,
              "#0d0887"
             ],
             [
              0.1111111111111111,
              "#46039f"
             ],
             [
              0.2222222222222222,
              "#7201a8"
             ],
             [
              0.3333333333333333,
              "#9c179e"
             ],
             [
              0.4444444444444444,
              "#bd3786"
             ],
             [
              0.5555555555555556,
              "#d8576b"
             ],
             [
              0.6666666666666666,
              "#ed7953"
             ],
             [
              0.7777777777777778,
              "#fb9f3a"
             ],
             [
              0.8888888888888888,
              "#fdca26"
             ],
             [
              1,
              "#f0f921"
             ]
            ],
            "type": "surface"
           }
          ],
          "table": [
           {
            "cells": {
             "fill": {
              "color": "#EBF0F8"
             },
             "line": {
              "color": "white"
             }
            },
            "header": {
             "fill": {
              "color": "#C8D4E3"
             },
             "line": {
              "color": "white"
             }
            },
            "type": "table"
           }
          ]
         },
         "layout": {
          "annotationdefaults": {
           "arrowcolor": "#2a3f5f",
           "arrowhead": 0,
           "arrowwidth": 1
          },
          "autotypenumbers": "strict",
          "coloraxis": {
           "colorbar": {
            "outlinewidth": 0,
            "ticks": ""
           }
          },
          "colorscale": {
           "diverging": [
            [
             0,
             "#8e0152"
            ],
            [
             0.1,
             "#c51b7d"
            ],
            [
             0.2,
             "#de77ae"
            ],
            [
             0.3,
             "#f1b6da"
            ],
            [
             0.4,
             "#fde0ef"
            ],
            [
             0.5,
             "#f7f7f7"
            ],
            [
             0.6,
             "#e6f5d0"
            ],
            [
             0.7,
             "#b8e186"
            ],
            [
             0.8,
             "#7fbc41"
            ],
            [
             0.9,
             "#4d9221"
            ],
            [
             1,
             "#276419"
            ]
           ],
           "sequential": [
            [
             0,
             "#0d0887"
            ],
            [
             0.1111111111111111,
             "#46039f"
            ],
            [
             0.2222222222222222,
             "#7201a8"
            ],
            [
             0.3333333333333333,
             "#9c179e"
            ],
            [
             0.4444444444444444,
             "#bd3786"
            ],
            [
             0.5555555555555556,
             "#d8576b"
            ],
            [
             0.6666666666666666,
             "#ed7953"
            ],
            [
             0.7777777777777778,
             "#fb9f3a"
            ],
            [
             0.8888888888888888,
             "#fdca26"
            ],
            [
             1,
             "#f0f921"
            ]
           ],
           "sequentialminus": [
            [
             0,
             "#0d0887"
            ],
            [
             0.1111111111111111,
             "#46039f"
            ],
            [
             0.2222222222222222,
             "#7201a8"
            ],
            [
             0.3333333333333333,
             "#9c179e"
            ],
            [
             0.4444444444444444,
             "#bd3786"
            ],
            [
             0.5555555555555556,
             "#d8576b"
            ],
            [
             0.6666666666666666,
             "#ed7953"
            ],
            [
             0.7777777777777778,
             "#fb9f3a"
            ],
            [
             0.8888888888888888,
             "#fdca26"
            ],
            [
             1,
             "#f0f921"
            ]
           ]
          },
          "colorway": [
           "#636efa",
           "#EF553B",
           "#00cc96",
           "#ab63fa",
           "#FFA15A",
           "#19d3f3",
           "#FF6692",
           "#B6E880",
           "#FF97FF",
           "#FECB52"
          ],
          "font": {
           "color": "#2a3f5f"
          },
          "geo": {
           "bgcolor": "white",
           "lakecolor": "white",
           "landcolor": "#E5ECF6",
           "showlakes": true,
           "showland": true,
           "subunitcolor": "white"
          },
          "hoverlabel": {
           "align": "left"
          },
          "hovermode": "closest",
          "mapbox": {
           "style": "light"
          },
          "paper_bgcolor": "white",
          "plot_bgcolor": "#E5ECF6",
          "polar": {
           "angularaxis": {
            "gridcolor": "white",
            "linecolor": "white",
            "ticks": ""
           },
           "bgcolor": "#E5ECF6",
           "radialaxis": {
            "gridcolor": "white",
            "linecolor": "white",
            "ticks": ""
           }
          },
          "scene": {
           "xaxis": {
            "backgroundcolor": "#E5ECF6",
            "gridcolor": "white",
            "gridwidth": 2,
            "linecolor": "white",
            "showbackground": true,
            "ticks": "",
            "zerolinecolor": "white"
           },
           "yaxis": {
            "backgroundcolor": "#E5ECF6",
            "gridcolor": "white",
            "gridwidth": 2,
            "linecolor": "white",
            "showbackground": true,
            "ticks": "",
            "zerolinecolor": "white"
           },
           "zaxis": {
            "backgroundcolor": "#E5ECF6",
            "gridcolor": "white",
            "gridwidth": 2,
            "linecolor": "white",
            "showbackground": true,
            "ticks": "",
            "zerolinecolor": "white"
           }
          },
          "shapedefaults": {
           "line": {
            "color": "#2a3f5f"
           }
          },
          "ternary": {
           "aaxis": {
            "gridcolor": "white",
            "linecolor": "white",
            "ticks": ""
           },
           "baxis": {
            "gridcolor": "white",
            "linecolor": "white",
            "ticks": ""
           },
           "bgcolor": "#E5ECF6",
           "caxis": {
            "gridcolor": "white",
            "linecolor": "white",
            "ticks": ""
           }
          },
          "title": {
           "x": 0.05
          },
          "xaxis": {
           "automargin": true,
           "gridcolor": "white",
           "linecolor": "white",
           "ticks": "",
           "title": {
            "standoff": 15
           },
           "zerolinecolor": "white",
           "zerolinewidth": 2
          },
          "yaxis": {
           "automargin": true,
           "gridcolor": "white",
           "linecolor": "white",
           "ticks": "",
           "title": {
            "standoff": 15
           },
           "zerolinecolor": "white",
           "zerolinewidth": 2
          }
         }
        },
        "title": {
         "text": "How Often Someone Prays by Income Group"
        },
        "xaxis": {
         "anchor": "y",
         "categoryarray": [
          "Under $40k",
          "$40-70K",
          "$70-100K",
          "$100K+"
         ],
         "categoryorder": "array",
         "domain": [
          0,
          1
         ],
         "title": {
          "text": "Income Group"
         }
        },
        "yaxis": {
         "anchor": "x",
         "domain": [
          0,
          1
         ],
         "title": {
          "text": "Percentage"
         }
        }
       }
      }
     },
     "metadata": {},
     "output_type": "display_data"
    },
    {
     "data": {
      "application/vnd.plotly.v1+json": {
       "config": {
        "plotlyServerURL": "https://plot.ly"
       },
       "data": [
        {
         "alignmentgroup": "True",
         "bingroup": "x",
         "histfunc": "sum",
         "hovertemplate": "PRAY=Never<br>AGE_GROUP=%{x}<br>sum of Percent=%{y}<extra></extra>",
         "legendgroup": "Never",
         "marker": {
          "color": "#000817",
          "pattern": {
           "shape": ""
          }
         },
         "name": "Never",
         "offsetgroup": "Never",
         "orientation": "v",
         "showlegend": true,
         "type": "histogram",
         "x": [
          "30-50",
          "50-70",
          "70+",
          "Under 30"
         ],
         "xaxis": "x",
         "y": [
          18.723143032535297,
          11.150547175391896,
          10.512129380053908,
          24.52290076335878
         ],
         "yaxis": "y"
        },
        {
         "alignmentgroup": "True",
         "bingroup": "x",
         "histfunc": "sum",
         "hovertemplate": "PRAY=Seldom<br>AGE_GROUP=%{x}<br>sum of Percent=%{y}<extra></extra>",
         "legendgroup": "Seldom",
         "marker": {
          "color": "#002679",
          "pattern": {
           "shape": ""
          }
         },
         "name": "Seldom",
         "offsetgroup": "Seldom",
         "orientation": "v",
         "showlegend": true,
         "type": "histogram",
         "x": [
          "30-50",
          "50-70",
          "70+",
          "Under 30"
         ],
         "xaxis": "x",
         "y": [
          16.206261510128915,
          13.842058562555456,
          13.53099730458221,
          18.03435114503817
         ],
         "yaxis": "y"
        },
        {
         "alignmentgroup": "True",
         "bingroup": "x",
         "histfunc": "sum",
         "hovertemplate": "PRAY=A few times a month<br>AGE_GROUP=%{x}<br>sum of Percent=%{y}<extra></extra>",
         "legendgroup": "A few times a month",
         "marker": {
          "color": "#003bbd",
          "pattern": {
           "shape": ""
          }
         },
         "name": "A few times a month",
         "offsetgroup": "A few times a month",
         "orientation": "v",
         "showlegend": true,
         "type": "histogram",
         "x": [
          "30-50",
          "50-70",
          "70+",
          "Under 30"
         ],
         "xaxis": "x",
         "y": [
          6.998158379373849,
          6.078083407275954,
          4.797843665768195,
          9.541984732824428
         ],
         "yaxis": "y"
        },
        {
         "alignmentgroup": "True",
         "bingroup": "x",
         "histfunc": "sum",
         "hovertemplate": "PRAY=A few times a week<br>AGE_GROUP=%{x}<br>sum of Percent=%{y}<extra></extra>",
         "legendgroup": "A few times a week",
         "marker": {
          "color": "#004efb",
          "pattern": {
           "shape": ""
          }
         },
         "name": "A few times a week",
         "offsetgroup": "A few times a week",
         "orientation": "v",
         "showlegend": true,
         "type": "histogram",
         "x": [
          "30-50",
          "50-70",
          "70+",
          "Under 30"
         ],
         "xaxis": "x",
         "y": [
          13.402905668099038,
          12.318840579710146,
          11.132075471698114,
          12.070610687022901
         ],
         "yaxis": "y"
        },
        {
         "alignmentgroup": "True",
         "bingroup": "x",
         "histfunc": "sum",
         "hovertemplate": "PRAY=Once a week<br>AGE_GROUP=%{x}<br>sum of Percent=%{y}<extra></extra>",
         "legendgroup": "Once a week",
         "marker": {
          "color": "#2d6fff",
          "pattern": {
           "shape": ""
          }
         },
         "name": "Once a week",
         "offsetgroup": "Once a week",
         "orientation": "v",
         "showlegend": true,
         "type": "histogram",
         "x": [
          "30-50",
          "50-70",
          "70+",
          "Under 30"
         ],
         "xaxis": "x",
         "y": [
          1.9848577859627583,
          2.1443359952676726,
          1.293800539083558,
          2.767175572519084
         ],
         "yaxis": "y"
        },
        {
         "alignmentgroup": "True",
         "bingroup": "x",
         "histfunc": "sum",
         "hovertemplate": "PRAY=Once a day<br>AGE_GROUP=%{x}<br>sum of Percent=%{y}<extra></extra>",
         "legendgroup": "Once a day",
         "marker": {
          "color": "#6193ff",
          "pattern": {
           "shape": ""
          }
         },
         "name": "Once a day",
         "offsetgroup": "Once a day",
         "orientation": "v",
         "showlegend": true,
         "type": "histogram",
         "x": [
          "30-50",
          "50-70",
          "70+",
          "Under 30"
         ],
         "xaxis": "x",
         "y": [
          15.224063842848373,
          18.884945282460812,
          20.539083557951482,
          13.358778625954198
         ],
         "yaxis": "y"
        },
        {
         "alignmentgroup": "True",
         "bingroup": "x",
         "histfunc": "sum",
         "hovertemplate": "PRAY=Several times a day<br>AGE_GROUP=%{x}<br>sum of Percent=%{y}<extra></extra>",
         "legendgroup": "Several times a day",
         "marker": {
          "color": "#a8c4ff",
          "pattern": {
           "shape": ""
          }
         },
         "name": "Several times a day",
         "offsetgroup": "Several times a day",
         "orientation": "v",
         "showlegend": true,
         "type": "histogram",
         "x": [
          "30-50",
          "50-70",
          "70+",
          "Under 30"
         ],
         "xaxis": "x",
         "y": [
          27.46060978105177,
          35.58118899733807,
          38.19407008086254,
          19.704198473282442
         ],
         "yaxis": "y"
        }
       ],
       "layout": {
        "barmode": "group",
        "legend": {
         "title": {
          "text": ""
         },
         "tracegroupgap": 0
        },
        "template": {
         "data": {
          "bar": [
           {
            "error_x": {
             "color": "#2a3f5f"
            },
            "error_y": {
             "color": "#2a3f5f"
            },
            "marker": {
             "line": {
              "color": "#E5ECF6",
              "width": 0.5
             },
             "pattern": {
              "fillmode": "overlay",
              "size": 10,
              "solidity": 0.2
             }
            },
            "type": "bar"
           }
          ],
          "barpolar": [
           {
            "marker": {
             "line": {
              "color": "#E5ECF6",
              "width": 0.5
             },
             "pattern": {
              "fillmode": "overlay",
              "size": 10,
              "solidity": 0.2
             }
            },
            "type": "barpolar"
           }
          ],
          "carpet": [
           {
            "aaxis": {
             "endlinecolor": "#2a3f5f",
             "gridcolor": "white",
             "linecolor": "white",
             "minorgridcolor": "white",
             "startlinecolor": "#2a3f5f"
            },
            "baxis": {
             "endlinecolor": "#2a3f5f",
             "gridcolor": "white",
             "linecolor": "white",
             "minorgridcolor": "white",
             "startlinecolor": "#2a3f5f"
            },
            "type": "carpet"
           }
          ],
          "choropleth": [
           {
            "colorbar": {
             "outlinewidth": 0,
             "ticks": ""
            },
            "type": "choropleth"
           }
          ],
          "contour": [
           {
            "colorbar": {
             "outlinewidth": 0,
             "ticks": ""
            },
            "colorscale": [
             [
              0,
              "#0d0887"
             ],
             [
              0.1111111111111111,
              "#46039f"
             ],
             [
              0.2222222222222222,
              "#7201a8"
             ],
             [
              0.3333333333333333,
              "#9c179e"
             ],
             [
              0.4444444444444444,
              "#bd3786"
             ],
             [
              0.5555555555555556,
              "#d8576b"
             ],
             [
              0.6666666666666666,
              "#ed7953"
             ],
             [
              0.7777777777777778,
              "#fb9f3a"
             ],
             [
              0.8888888888888888,
              "#fdca26"
             ],
             [
              1,
              "#f0f921"
             ]
            ],
            "type": "contour"
           }
          ],
          "contourcarpet": [
           {
            "colorbar": {
             "outlinewidth": 0,
             "ticks": ""
            },
            "type": "contourcarpet"
           }
          ],
          "heatmap": [
           {
            "colorbar": {
             "outlinewidth": 0,
             "ticks": ""
            },
            "colorscale": [
             [
              0,
              "#0d0887"
             ],
             [
              0.1111111111111111,
              "#46039f"
             ],
             [
              0.2222222222222222,
              "#7201a8"
             ],
             [
              0.3333333333333333,
              "#9c179e"
             ],
             [
              0.4444444444444444,
              "#bd3786"
             ],
             [
              0.5555555555555556,
              "#d8576b"
             ],
             [
              0.6666666666666666,
              "#ed7953"
             ],
             [
              0.7777777777777778,
              "#fb9f3a"
             ],
             [
              0.8888888888888888,
              "#fdca26"
             ],
             [
              1,
              "#f0f921"
             ]
            ],
            "type": "heatmap"
           }
          ],
          "heatmapgl": [
           {
            "colorbar": {
             "outlinewidth": 0,
             "ticks": ""
            },
            "colorscale": [
             [
              0,
              "#0d0887"
             ],
             [
              0.1111111111111111,
              "#46039f"
             ],
             [
              0.2222222222222222,
              "#7201a8"
             ],
             [
              0.3333333333333333,
              "#9c179e"
             ],
             [
              0.4444444444444444,
              "#bd3786"
             ],
             [
              0.5555555555555556,
              "#d8576b"
             ],
             [
              0.6666666666666666,
              "#ed7953"
             ],
             [
              0.7777777777777778,
              "#fb9f3a"
             ],
             [
              0.8888888888888888,
              "#fdca26"
             ],
             [
              1,
              "#f0f921"
             ]
            ],
            "type": "heatmapgl"
           }
          ],
          "histogram": [
           {
            "marker": {
             "pattern": {
              "fillmode": "overlay",
              "size": 10,
              "solidity": 0.2
             }
            },
            "type": "histogram"
           }
          ],
          "histogram2d": [
           {
            "colorbar": {
             "outlinewidth": 0,
             "ticks": ""
            },
            "colorscale": [
             [
              0,
              "#0d0887"
             ],
             [
              0.1111111111111111,
              "#46039f"
             ],
             [
              0.2222222222222222,
              "#7201a8"
             ],
             [
              0.3333333333333333,
              "#9c179e"
             ],
             [
              0.4444444444444444,
              "#bd3786"
             ],
             [
              0.5555555555555556,
              "#d8576b"
             ],
             [
              0.6666666666666666,
              "#ed7953"
             ],
             [
              0.7777777777777778,
              "#fb9f3a"
             ],
             [
              0.8888888888888888,
              "#fdca26"
             ],
             [
              1,
              "#f0f921"
             ]
            ],
            "type": "histogram2d"
           }
          ],
          "histogram2dcontour": [
           {
            "colorbar": {
             "outlinewidth": 0,
             "ticks": ""
            },
            "colorscale": [
             [
              0,
              "#0d0887"
             ],
             [
              0.1111111111111111,
              "#46039f"
             ],
             [
              0.2222222222222222,
              "#7201a8"
             ],
             [
              0.3333333333333333,
              "#9c179e"
             ],
             [
              0.4444444444444444,
              "#bd3786"
             ],
             [
              0.5555555555555556,
              "#d8576b"
             ],
             [
              0.6666666666666666,
              "#ed7953"
             ],
             [
              0.7777777777777778,
              "#fb9f3a"
             ],
             [
              0.8888888888888888,
              "#fdca26"
             ],
             [
              1,
              "#f0f921"
             ]
            ],
            "type": "histogram2dcontour"
           }
          ],
          "mesh3d": [
           {
            "colorbar": {
             "outlinewidth": 0,
             "ticks": ""
            },
            "type": "mesh3d"
           }
          ],
          "parcoords": [
           {
            "line": {
             "colorbar": {
              "outlinewidth": 0,
              "ticks": ""
             }
            },
            "type": "parcoords"
           }
          ],
          "pie": [
           {
            "automargin": true,
            "type": "pie"
           }
          ],
          "scatter": [
           {
            "fillpattern": {
             "fillmode": "overlay",
             "size": 10,
             "solidity": 0.2
            },
            "type": "scatter"
           }
          ],
          "scatter3d": [
           {
            "line": {
             "colorbar": {
              "outlinewidth": 0,
              "ticks": ""
             }
            },
            "marker": {
             "colorbar": {
              "outlinewidth": 0,
              "ticks": ""
             }
            },
            "type": "scatter3d"
           }
          ],
          "scattercarpet": [
           {
            "marker": {
             "colorbar": {
              "outlinewidth": 0,
              "ticks": ""
             }
            },
            "type": "scattercarpet"
           }
          ],
          "scattergeo": [
           {
            "marker": {
             "colorbar": {
              "outlinewidth": 0,
              "ticks": ""
             }
            },
            "type": "scattergeo"
           }
          ],
          "scattergl": [
           {
            "marker": {
             "colorbar": {
              "outlinewidth": 0,
              "ticks": ""
             }
            },
            "type": "scattergl"
           }
          ],
          "scattermapbox": [
           {
            "marker": {
             "colorbar": {
              "outlinewidth": 0,
              "ticks": ""
             }
            },
            "type": "scattermapbox"
           }
          ],
          "scatterpolar": [
           {
            "marker": {
             "colorbar": {
              "outlinewidth": 0,
              "ticks": ""
             }
            },
            "type": "scatterpolar"
           }
          ],
          "scatterpolargl": [
           {
            "marker": {
             "colorbar": {
              "outlinewidth": 0,
              "ticks": ""
             }
            },
            "type": "scatterpolargl"
           }
          ],
          "scatterternary": [
           {
            "marker": {
             "colorbar": {
              "outlinewidth": 0,
              "ticks": ""
             }
            },
            "type": "scatterternary"
           }
          ],
          "surface": [
           {
            "colorbar": {
             "outlinewidth": 0,
             "ticks": ""
            },
            "colorscale": [
             [
              0,
              "#0d0887"
             ],
             [
              0.1111111111111111,
              "#46039f"
             ],
             [
              0.2222222222222222,
              "#7201a8"
             ],
             [
              0.3333333333333333,
              "#9c179e"
             ],
             [
              0.4444444444444444,
              "#bd3786"
             ],
             [
              0.5555555555555556,
              "#d8576b"
             ],
             [
              0.6666666666666666,
              "#ed7953"
             ],
             [
              0.7777777777777778,
              "#fb9f3a"
             ],
             [
              0.8888888888888888,
              "#fdca26"
             ],
             [
              1,
              "#f0f921"
             ]
            ],
            "type": "surface"
           }
          ],
          "table": [
           {
            "cells": {
             "fill": {
              "color": "#EBF0F8"
             },
             "line": {
              "color": "white"
             }
            },
            "header": {
             "fill": {
              "color": "#C8D4E3"
             },
             "line": {
              "color": "white"
             }
            },
            "type": "table"
           }
          ]
         },
         "layout": {
          "annotationdefaults": {
           "arrowcolor": "#2a3f5f",
           "arrowhead": 0,
           "arrowwidth": 1
          },
          "autotypenumbers": "strict",
          "coloraxis": {
           "colorbar": {
            "outlinewidth": 0,
            "ticks": ""
           }
          },
          "colorscale": {
           "diverging": [
            [
             0,
             "#8e0152"
            ],
            [
             0.1,
             "#c51b7d"
            ],
            [
             0.2,
             "#de77ae"
            ],
            [
             0.3,
             "#f1b6da"
            ],
            [
             0.4,
             "#fde0ef"
            ],
            [
             0.5,
             "#f7f7f7"
            ],
            [
             0.6,
             "#e6f5d0"
            ],
            [
             0.7,
             "#b8e186"
            ],
            [
             0.8,
             "#7fbc41"
            ],
            [
             0.9,
             "#4d9221"
            ],
            [
             1,
             "#276419"
            ]
           ],
           "sequential": [
            [
             0,
             "#0d0887"
            ],
            [
             0.1111111111111111,
             "#46039f"
            ],
            [
             0.2222222222222222,
             "#7201a8"
            ],
            [
             0.3333333333333333,
             "#9c179e"
            ],
            [
             0.4444444444444444,
             "#bd3786"
            ],
            [
             0.5555555555555556,
             "#d8576b"
            ],
            [
             0.6666666666666666,
             "#ed7953"
            ],
            [
             0.7777777777777778,
             "#fb9f3a"
            ],
            [
             0.8888888888888888,
             "#fdca26"
            ],
            [
             1,
             "#f0f921"
            ]
           ],
           "sequentialminus": [
            [
             0,
             "#0d0887"
            ],
            [
             0.1111111111111111,
             "#46039f"
            ],
            [
             0.2222222222222222,
             "#7201a8"
            ],
            [
             0.3333333333333333,
             "#9c179e"
            ],
            [
             0.4444444444444444,
             "#bd3786"
            ],
            [
             0.5555555555555556,
             "#d8576b"
            ],
            [
             0.6666666666666666,
             "#ed7953"
            ],
            [
             0.7777777777777778,
             "#fb9f3a"
            ],
            [
             0.8888888888888888,
             "#fdca26"
            ],
            [
             1,
             "#f0f921"
            ]
           ]
          },
          "colorway": [
           "#636efa",
           "#EF553B",
           "#00cc96",
           "#ab63fa",
           "#FFA15A",
           "#19d3f3",
           "#FF6692",
           "#B6E880",
           "#FF97FF",
           "#FECB52"
          ],
          "font": {
           "color": "#2a3f5f"
          },
          "geo": {
           "bgcolor": "white",
           "lakecolor": "white",
           "landcolor": "#E5ECF6",
           "showlakes": true,
           "showland": true,
           "subunitcolor": "white"
          },
          "hoverlabel": {
           "align": "left"
          },
          "hovermode": "closest",
          "mapbox": {
           "style": "light"
          },
          "paper_bgcolor": "white",
          "plot_bgcolor": "#E5ECF6",
          "polar": {
           "angularaxis": {
            "gridcolor": "white",
            "linecolor": "white",
            "ticks": ""
           },
           "bgcolor": "#E5ECF6",
           "radialaxis": {
            "gridcolor": "white",
            "linecolor": "white",
            "ticks": ""
           }
          },
          "scene": {
           "xaxis": {
            "backgroundcolor": "#E5ECF6",
            "gridcolor": "white",
            "gridwidth": 2,
            "linecolor": "white",
            "showbackground": true,
            "ticks": "",
            "zerolinecolor": "white"
           },
           "yaxis": {
            "backgroundcolor": "#E5ECF6",
            "gridcolor": "white",
            "gridwidth": 2,
            "linecolor": "white",
            "showbackground": true,
            "ticks": "",
            "zerolinecolor": "white"
           },
           "zaxis": {
            "backgroundcolor": "#E5ECF6",
            "gridcolor": "white",
            "gridwidth": 2,
            "linecolor": "white",
            "showbackground": true,
            "ticks": "",
            "zerolinecolor": "white"
           }
          },
          "shapedefaults": {
           "line": {
            "color": "#2a3f5f"
           }
          },
          "ternary": {
           "aaxis": {
            "gridcolor": "white",
            "linecolor": "white",
            "ticks": ""
           },
           "baxis": {
            "gridcolor": "white",
            "linecolor": "white",
            "ticks": ""
           },
           "bgcolor": "#E5ECF6",
           "caxis": {
            "gridcolor": "white",
            "linecolor": "white",
            "ticks": ""
           }
          },
          "title": {
           "x": 0.05
          },
          "xaxis": {
           "automargin": true,
           "gridcolor": "white",
           "linecolor": "white",
           "ticks": "",
           "title": {
            "standoff": 15
           },
           "zerolinecolor": "white",
           "zerolinewidth": 2
          },
          "yaxis": {
           "automargin": true,
           "gridcolor": "white",
           "linecolor": "white",
           "ticks": "",
           "title": {
            "standoff": 15
           },
           "zerolinecolor": "white",
           "zerolinewidth": 2
          }
         }
        },
        "title": {
         "text": "How Often Someone Prays by Age Group"
        },
        "xaxis": {
         "anchor": "y",
         "categoryarray": [
          "Under 30",
          "30-50",
          "50-70",
          "70+"
         ],
         "categoryorder": "array",
         "domain": [
          0,
          1
         ],
         "title": {
          "text": "Age Group"
         }
        },
        "yaxis": {
         "anchor": "x",
         "domain": [
          0,
          1
         ],
         "title": {
          "text": "Percentage"
         }
        }
       }
      }
     },
     "metadata": {},
     "output_type": "display_data"
    }
   ],
   "source": [
    "income_order = ['Under $40k','$40-70K','$70-100K','$100K+']\n",
    "age_order = ['Under 30','30-50','50-70','70+']\n",
    "\n",
    "relimp_map = {\n",
    "    'Not at all important':'#ffa2e3',\n",
    "    'Not too important':'#ff59ce',\n",
    "    'Somewhat important':'#cf0092',\n",
    "    'Very important':'#4e0037'\n",
    "}\n",
    "\n",
    "correlation('df_combined','INCOME_GROUP','RELIMP', income_order, [], 'Income Group',\n",
    "            'Importance of Religion in Participants\\' Lives by Income Group', relimp_map)\n",
    "\n",
    "correlation('df_combined','AGE_GROUP','RELIMP', age_order, [], 'Age Group',\n",
    "            'Importance of Religion in Participants\\' Lives by Age Group', relimp_map)\n",
    "\n",
    "pray_order = [\n",
    "    'Never',\n",
    "    'Seldom', \n",
    "    'A few times a month', \n",
    "    'A few times a week', \n",
    "    'Once a week', \n",
    "    'Once a day', \n",
    "    'Several times a day'\n",
    "]\n",
    "\n",
    "pray_map = {\n",
    "    'Never':'#000817',\n",
    "    'Seldom':'#002679', \n",
    "    'A few times a month':'#003bbd', \n",
    "    'A few times a week':'#004efb', \n",
    "    'Once a week':'#2d6fff', \n",
    "    'Once a day':'#6193ff', \n",
    "    'Several times a day':'#a8c4ff'\n",
    "}\n",
    "\n",
    "correlation('df_combined','INCOME_GROUP','PRAY', income_order, pray_order, 'Income Group',\n",
    "    'How Often Someone Prays by Income Group', pray_map)\n",
    "\n",
    "correlation('df_combined','AGE_GROUP','PRAY', age_order, pray_order, 'Age Group',\n",
    "    'How Often Someone Prays by Age Group', pray_map)"
   ]
  },
  {
   "cell_type": "markdown",
   "metadata": {},
   "source": [
    "Lower income and older individuals are more religious as measured by how often they pray and how important religion is in their lives. \n",
    "\n",
    "The percent of those who pray serveral times a day decrease with income and increase with age. More than half of those who make less than $40,000$ believe religion is very important in their lives. This percent drops to 37% for those that make over $100,000$."
   ]
  },
  {
   "cell_type": "markdown",
   "metadata": {},
   "source": [
    "### Income vs Social Media"
   ]
  },
  {
   "cell_type": "code",
   "execution_count": 639,
   "metadata": {},
   "outputs": [
    {
     "data": {
      "application/vnd.plotly.v1+json": {
       "config": {
        "plotlyServerURL": "https://plot.ly"
       },
       "data": [
        {
         "alignmentgroup": "True",
         "bingroup": "x",
         "histfunc": "sum",
         "hovertemplate": "REDDIT=No, don’t use this<br>INCOME_GROUP=%{x}<br>sum of Percent=%{y}<extra></extra>",
         "legendgroup": "No, don’t use this",
         "marker": {
          "color": "#78379d",
          "pattern": {
           "shape": ""
          }
         },
         "name": "No, don’t use this",
         "offsetgroup": "No, don’t use this",
         "orientation": "v",
         "showlegend": true,
         "type": "histogram",
         "x": [
          "$100K+",
          "$40-70K",
          "$70-100K",
          "Under $40k"
         ],
         "xaxis": "x",
         "y": [
          73.2934131736527,
          82.01376936316696,
          81.56359393232205,
          87.0439314966493
         ],
         "yaxis": "y"
        },
        {
         "alignmentgroup": "True",
         "bingroup": "x",
         "histfunc": "sum",
         "hovertemplate": "REDDIT=Yes, use this<br>INCOME_GROUP=%{x}<br>sum of Percent=%{y}<extra></extra>",
         "legendgroup": "Yes, use this",
         "marker": {
          "color": "#d67d37",
          "pattern": {
           "shape": ""
          }
         },
         "name": "Yes, use this",
         "offsetgroup": "Yes, use this",
         "orientation": "v",
         "showlegend": true,
         "type": "histogram",
         "x": [
          "$100K+",
          "$40-70K",
          "$70-100K",
          "Under $40k"
         ],
         "xaxis": "x",
         "y": [
          26.706586826347305,
          17.98623063683305,
          18.436406067677947,
          12.956068503350707
         ],
         "yaxis": "y"
        }
       ],
       "layout": {
        "barmode": "group",
        "legend": {
         "title": {
          "text": ""
         },
         "tracegroupgap": 0
        },
        "template": {
         "data": {
          "bar": [
           {
            "error_x": {
             "color": "#2a3f5f"
            },
            "error_y": {
             "color": "#2a3f5f"
            },
            "marker": {
             "line": {
              "color": "#E5ECF6",
              "width": 0.5
             },
             "pattern": {
              "fillmode": "overlay",
              "size": 10,
              "solidity": 0.2
             }
            },
            "type": "bar"
           }
          ],
          "barpolar": [
           {
            "marker": {
             "line": {
              "color": "#E5ECF6",
              "width": 0.5
             },
             "pattern": {
              "fillmode": "overlay",
              "size": 10,
              "solidity": 0.2
             }
            },
            "type": "barpolar"
           }
          ],
          "carpet": [
           {
            "aaxis": {
             "endlinecolor": "#2a3f5f",
             "gridcolor": "white",
             "linecolor": "white",
             "minorgridcolor": "white",
             "startlinecolor": "#2a3f5f"
            },
            "baxis": {
             "endlinecolor": "#2a3f5f",
             "gridcolor": "white",
             "linecolor": "white",
             "minorgridcolor": "white",
             "startlinecolor": "#2a3f5f"
            },
            "type": "carpet"
           }
          ],
          "choropleth": [
           {
            "colorbar": {
             "outlinewidth": 0,
             "ticks": ""
            },
            "type": "choropleth"
           }
          ],
          "contour": [
           {
            "colorbar": {
             "outlinewidth": 0,
             "ticks": ""
            },
            "colorscale": [
             [
              0,
              "#0d0887"
             ],
             [
              0.1111111111111111,
              "#46039f"
             ],
             [
              0.2222222222222222,
              "#7201a8"
             ],
             [
              0.3333333333333333,
              "#9c179e"
             ],
             [
              0.4444444444444444,
              "#bd3786"
             ],
             [
              0.5555555555555556,
              "#d8576b"
             ],
             [
              0.6666666666666666,
              "#ed7953"
             ],
             [
              0.7777777777777778,
              "#fb9f3a"
             ],
             [
              0.8888888888888888,
              "#fdca26"
             ],
             [
              1,
              "#f0f921"
             ]
            ],
            "type": "contour"
           }
          ],
          "contourcarpet": [
           {
            "colorbar": {
             "outlinewidth": 0,
             "ticks": ""
            },
            "type": "contourcarpet"
           }
          ],
          "heatmap": [
           {
            "colorbar": {
             "outlinewidth": 0,
             "ticks": ""
            },
            "colorscale": [
             [
              0,
              "#0d0887"
             ],
             [
              0.1111111111111111,
              "#46039f"
             ],
             [
              0.2222222222222222,
              "#7201a8"
             ],
             [
              0.3333333333333333,
              "#9c179e"
             ],
             [
              0.4444444444444444,
              "#bd3786"
             ],
             [
              0.5555555555555556,
              "#d8576b"
             ],
             [
              0.6666666666666666,
              "#ed7953"
             ],
             [
              0.7777777777777778,
              "#fb9f3a"
             ],
             [
              0.8888888888888888,
              "#fdca26"
             ],
             [
              1,
              "#f0f921"
             ]
            ],
            "type": "heatmap"
           }
          ],
          "heatmapgl": [
           {
            "colorbar": {
             "outlinewidth": 0,
             "ticks": ""
            },
            "colorscale": [
             [
              0,
              "#0d0887"
             ],
             [
              0.1111111111111111,
              "#46039f"
             ],
             [
              0.2222222222222222,
              "#7201a8"
             ],
             [
              0.3333333333333333,
              "#9c179e"
             ],
             [
              0.4444444444444444,
              "#bd3786"
             ],
             [
              0.5555555555555556,
              "#d8576b"
             ],
             [
              0.6666666666666666,
              "#ed7953"
             ],
             [
              0.7777777777777778,
              "#fb9f3a"
             ],
             [
              0.8888888888888888,
              "#fdca26"
             ],
             [
              1,
              "#f0f921"
             ]
            ],
            "type": "heatmapgl"
           }
          ],
          "histogram": [
           {
            "marker": {
             "pattern": {
              "fillmode": "overlay",
              "size": 10,
              "solidity": 0.2
             }
            },
            "type": "histogram"
           }
          ],
          "histogram2d": [
           {
            "colorbar": {
             "outlinewidth": 0,
             "ticks": ""
            },
            "colorscale": [
             [
              0,
              "#0d0887"
             ],
             [
              0.1111111111111111,
              "#46039f"
             ],
             [
              0.2222222222222222,
              "#7201a8"
             ],
             [
              0.3333333333333333,
              "#9c179e"
             ],
             [
              0.4444444444444444,
              "#bd3786"
             ],
             [
              0.5555555555555556,
              "#d8576b"
             ],
             [
              0.6666666666666666,
              "#ed7953"
             ],
             [
              0.7777777777777778,
              "#fb9f3a"
             ],
             [
              0.8888888888888888,
              "#fdca26"
             ],
             [
              1,
              "#f0f921"
             ]
            ],
            "type": "histogram2d"
           }
          ],
          "histogram2dcontour": [
           {
            "colorbar": {
             "outlinewidth": 0,
             "ticks": ""
            },
            "colorscale": [
             [
              0,
              "#0d0887"
             ],
             [
              0.1111111111111111,
              "#46039f"
             ],
             [
              0.2222222222222222,
              "#7201a8"
             ],
             [
              0.3333333333333333,
              "#9c179e"
             ],
             [
              0.4444444444444444,
              "#bd3786"
             ],
             [
              0.5555555555555556,
              "#d8576b"
             ],
             [
              0.6666666666666666,
              "#ed7953"
             ],
             [
              0.7777777777777778,
              "#fb9f3a"
             ],
             [
              0.8888888888888888,
              "#fdca26"
             ],
             [
              1,
              "#f0f921"
             ]
            ],
            "type": "histogram2dcontour"
           }
          ],
          "mesh3d": [
           {
            "colorbar": {
             "outlinewidth": 0,
             "ticks": ""
            },
            "type": "mesh3d"
           }
          ],
          "parcoords": [
           {
            "line": {
             "colorbar": {
              "outlinewidth": 0,
              "ticks": ""
             }
            },
            "type": "parcoords"
           }
          ],
          "pie": [
           {
            "automargin": true,
            "type": "pie"
           }
          ],
          "scatter": [
           {
            "fillpattern": {
             "fillmode": "overlay",
             "size": 10,
             "solidity": 0.2
            },
            "type": "scatter"
           }
          ],
          "scatter3d": [
           {
            "line": {
             "colorbar": {
              "outlinewidth": 0,
              "ticks": ""
             }
            },
            "marker": {
             "colorbar": {
              "outlinewidth": 0,
              "ticks": ""
             }
            },
            "type": "scatter3d"
           }
          ],
          "scattercarpet": [
           {
            "marker": {
             "colorbar": {
              "outlinewidth": 0,
              "ticks": ""
             }
            },
            "type": "scattercarpet"
           }
          ],
          "scattergeo": [
           {
            "marker": {
             "colorbar": {
              "outlinewidth": 0,
              "ticks": ""
             }
            },
            "type": "scattergeo"
           }
          ],
          "scattergl": [
           {
            "marker": {
             "colorbar": {
              "outlinewidth": 0,
              "ticks": ""
             }
            },
            "type": "scattergl"
           }
          ],
          "scattermapbox": [
           {
            "marker": {
             "colorbar": {
              "outlinewidth": 0,
              "ticks": ""
             }
            },
            "type": "scattermapbox"
           }
          ],
          "scatterpolar": [
           {
            "marker": {
             "colorbar": {
              "outlinewidth": 0,
              "ticks": ""
             }
            },
            "type": "scatterpolar"
           }
          ],
          "scatterpolargl": [
           {
            "marker": {
             "colorbar": {
              "outlinewidth": 0,
              "ticks": ""
             }
            },
            "type": "scatterpolargl"
           }
          ],
          "scatterternary": [
           {
            "marker": {
             "colorbar": {
              "outlinewidth": 0,
              "ticks": ""
             }
            },
            "type": "scatterternary"
           }
          ],
          "surface": [
           {
            "colorbar": {
             "outlinewidth": 0,
             "ticks": ""
            },
            "colorscale": [
             [
              0,
              "#0d0887"
             ],
             [
              0.1111111111111111,
              "#46039f"
             ],
             [
              0.2222222222222222,
              "#7201a8"
             ],
             [
              0.3333333333333333,
              "#9c179e"
             ],
             [
              0.4444444444444444,
              "#bd3786"
             ],
             [
              0.5555555555555556,
              "#d8576b"
             ],
             [
              0.6666666666666666,
              "#ed7953"
             ],
             [
              0.7777777777777778,
              "#fb9f3a"
             ],
             [
              0.8888888888888888,
              "#fdca26"
             ],
             [
              1,
              "#f0f921"
             ]
            ],
            "type": "surface"
           }
          ],
          "table": [
           {
            "cells": {
             "fill": {
              "color": "#EBF0F8"
             },
             "line": {
              "color": "white"
             }
            },
            "header": {
             "fill": {
              "color": "#C8D4E3"
             },
             "line": {
              "color": "white"
             }
            },
            "type": "table"
           }
          ]
         },
         "layout": {
          "annotationdefaults": {
           "arrowcolor": "#2a3f5f",
           "arrowhead": 0,
           "arrowwidth": 1
          },
          "autotypenumbers": "strict",
          "coloraxis": {
           "colorbar": {
            "outlinewidth": 0,
            "ticks": ""
           }
          },
          "colorscale": {
           "diverging": [
            [
             0,
             "#8e0152"
            ],
            [
             0.1,
             "#c51b7d"
            ],
            [
             0.2,
             "#de77ae"
            ],
            [
             0.3,
             "#f1b6da"
            ],
            [
             0.4,
             "#fde0ef"
            ],
            [
             0.5,
             "#f7f7f7"
            ],
            [
             0.6,
             "#e6f5d0"
            ],
            [
             0.7,
             "#b8e186"
            ],
            [
             0.8,
             "#7fbc41"
            ],
            [
             0.9,
             "#4d9221"
            ],
            [
             1,
             "#276419"
            ]
           ],
           "sequential": [
            [
             0,
             "#0d0887"
            ],
            [
             0.1111111111111111,
             "#46039f"
            ],
            [
             0.2222222222222222,
             "#7201a8"
            ],
            [
             0.3333333333333333,
             "#9c179e"
            ],
            [
             0.4444444444444444,
             "#bd3786"
            ],
            [
             0.5555555555555556,
             "#d8576b"
            ],
            [
             0.6666666666666666,
             "#ed7953"
            ],
            [
             0.7777777777777778,
             "#fb9f3a"
            ],
            [
             0.8888888888888888,
             "#fdca26"
            ],
            [
             1,
             "#f0f921"
            ]
           ],
           "sequentialminus": [
            [
             0,
             "#0d0887"
            ],
            [
             0.1111111111111111,
             "#46039f"
            ],
            [
             0.2222222222222222,
             "#7201a8"
            ],
            [
             0.3333333333333333,
             "#9c179e"
            ],
            [
             0.4444444444444444,
             "#bd3786"
            ],
            [
             0.5555555555555556,
             "#d8576b"
            ],
            [
             0.6666666666666666,
             "#ed7953"
            ],
            [
             0.7777777777777778,
             "#fb9f3a"
            ],
            [
             0.8888888888888888,
             "#fdca26"
            ],
            [
             1,
             "#f0f921"
            ]
           ]
          },
          "colorway": [
           "#636efa",
           "#EF553B",
           "#00cc96",
           "#ab63fa",
           "#FFA15A",
           "#19d3f3",
           "#FF6692",
           "#B6E880",
           "#FF97FF",
           "#FECB52"
          ],
          "font": {
           "color": "#2a3f5f"
          },
          "geo": {
           "bgcolor": "white",
           "lakecolor": "white",
           "landcolor": "#E5ECF6",
           "showlakes": true,
           "showland": true,
           "subunitcolor": "white"
          },
          "hoverlabel": {
           "align": "left"
          },
          "hovermode": "closest",
          "mapbox": {
           "style": "light"
          },
          "paper_bgcolor": "white",
          "plot_bgcolor": "#E5ECF6",
          "polar": {
           "angularaxis": {
            "gridcolor": "white",
            "linecolor": "white",
            "ticks": ""
           },
           "bgcolor": "#E5ECF6",
           "radialaxis": {
            "gridcolor": "white",
            "linecolor": "white",
            "ticks": ""
           }
          },
          "scene": {
           "xaxis": {
            "backgroundcolor": "#E5ECF6",
            "gridcolor": "white",
            "gridwidth": 2,
            "linecolor": "white",
            "showbackground": true,
            "ticks": "",
            "zerolinecolor": "white"
           },
           "yaxis": {
            "backgroundcolor": "#E5ECF6",
            "gridcolor": "white",
            "gridwidth": 2,
            "linecolor": "white",
            "showbackground": true,
            "ticks": "",
            "zerolinecolor": "white"
           },
           "zaxis": {
            "backgroundcolor": "#E5ECF6",
            "gridcolor": "white",
            "gridwidth": 2,
            "linecolor": "white",
            "showbackground": true,
            "ticks": "",
            "zerolinecolor": "white"
           }
          },
          "shapedefaults": {
           "line": {
            "color": "#2a3f5f"
           }
          },
          "ternary": {
           "aaxis": {
            "gridcolor": "white",
            "linecolor": "white",
            "ticks": ""
           },
           "baxis": {
            "gridcolor": "white",
            "linecolor": "white",
            "ticks": ""
           },
           "bgcolor": "#E5ECF6",
           "caxis": {
            "gridcolor": "white",
            "linecolor": "white",
            "ticks": ""
           }
          },
          "title": {
           "x": 0.05
          },
          "xaxis": {
           "automargin": true,
           "gridcolor": "white",
           "linecolor": "white",
           "ticks": "",
           "title": {
            "standoff": 15
           },
           "zerolinecolor": "white",
           "zerolinewidth": 2
          },
          "yaxis": {
           "automargin": true,
           "gridcolor": "white",
           "linecolor": "white",
           "ticks": "",
           "title": {
            "standoff": 15
           },
           "zerolinecolor": "white",
           "zerolinewidth": 2
          }
         }
        },
        "title": {
         "text": "Reddit Use by Income Group"
        },
        "xaxis": {
         "anchor": "y",
         "categoryarray": [
          "Under $40k",
          "$40-70K",
          "$70-100K",
          "$100K+"
         ],
         "categoryorder": "array",
         "domain": [
          0,
          1
         ],
         "title": {
          "text": "Income Group"
         }
        },
        "yaxis": {
         "anchor": "x",
         "domain": [
          0,
          1
         ],
         "title": {
          "text": "Percentage"
         }
        }
       }
      }
     },
     "metadata": {},
     "output_type": "display_data"
    },
    {
     "data": {
      "application/vnd.plotly.v1+json": {
       "config": {
        "plotlyServerURL": "https://plot.ly"
       },
       "data": [
        {
         "alignmentgroup": "True",
         "bingroup": "x",
         "histfunc": "sum",
         "hovertemplate": "LINKEDIN=No, don’t use this<br>INCOME_GROUP=%{x}<br>sum of Percent=%{y}<extra></extra>",
         "legendgroup": "No, don’t use this",
         "marker": {
          "color": "#78379d",
          "pattern": {
           "shape": ""
          }
         },
         "name": "No, don’t use this",
         "offsetgroup": "No, don’t use this",
         "orientation": "v",
         "showlegend": true,
         "type": "histogram",
         "x": [
          "$100K+",
          "$40-70K",
          "$70-100K",
          "Under $40k"
         ],
         "xaxis": "x",
         "y": [
          46.750649870025995,
          72.60454395785314,
          63.14793794930004,
          81.22161671207992
         ],
         "yaxis": "y"
        },
        {
         "alignmentgroup": "True",
         "bingroup": "x",
         "histfunc": "sum",
         "hovertemplate": "LINKEDIN=Yes, use this<br>INCOME_GROUP=%{x}<br>sum of Percent=%{y}<extra></extra>",
         "legendgroup": "Yes, use this",
         "marker": {
          "color": "#d67d37",
          "pattern": {
           "shape": ""
          }
         },
         "name": "Yes, use this",
         "offsetgroup": "Yes, use this",
         "orientation": "v",
         "showlegend": true,
         "type": "histogram",
         "x": [
          "$100K+",
          "$40-70K",
          "$70-100K",
          "Under $40k"
         ],
         "xaxis": "x",
         "y": [
          53.249350129974005,
          27.395456042146854,
          36.85206205069996,
          18.77838328792007
         ],
         "yaxis": "y"
        }
       ],
       "layout": {
        "barmode": "group",
        "legend": {
         "title": {
          "text": ""
         },
         "tracegroupgap": 0
        },
        "template": {
         "data": {
          "bar": [
           {
            "error_x": {
             "color": "#2a3f5f"
            },
            "error_y": {
             "color": "#2a3f5f"
            },
            "marker": {
             "line": {
              "color": "#E5ECF6",
              "width": 0.5
             },
             "pattern": {
              "fillmode": "overlay",
              "size": 10,
              "solidity": 0.2
             }
            },
            "type": "bar"
           }
          ],
          "barpolar": [
           {
            "marker": {
             "line": {
              "color": "#E5ECF6",
              "width": 0.5
             },
             "pattern": {
              "fillmode": "overlay",
              "size": 10,
              "solidity": 0.2
             }
            },
            "type": "barpolar"
           }
          ],
          "carpet": [
           {
            "aaxis": {
             "endlinecolor": "#2a3f5f",
             "gridcolor": "white",
             "linecolor": "white",
             "minorgridcolor": "white",
             "startlinecolor": "#2a3f5f"
            },
            "baxis": {
             "endlinecolor": "#2a3f5f",
             "gridcolor": "white",
             "linecolor": "white",
             "minorgridcolor": "white",
             "startlinecolor": "#2a3f5f"
            },
            "type": "carpet"
           }
          ],
          "choropleth": [
           {
            "colorbar": {
             "outlinewidth": 0,
             "ticks": ""
            },
            "type": "choropleth"
           }
          ],
          "contour": [
           {
            "colorbar": {
             "outlinewidth": 0,
             "ticks": ""
            },
            "colorscale": [
             [
              0,
              "#0d0887"
             ],
             [
              0.1111111111111111,
              "#46039f"
             ],
             [
              0.2222222222222222,
              "#7201a8"
             ],
             [
              0.3333333333333333,
              "#9c179e"
             ],
             [
              0.4444444444444444,
              "#bd3786"
             ],
             [
              0.5555555555555556,
              "#d8576b"
             ],
             [
              0.6666666666666666,
              "#ed7953"
             ],
             [
              0.7777777777777778,
              "#fb9f3a"
             ],
             [
              0.8888888888888888,
              "#fdca26"
             ],
             [
              1,
              "#f0f921"
             ]
            ],
            "type": "contour"
           }
          ],
          "contourcarpet": [
           {
            "colorbar": {
             "outlinewidth": 0,
             "ticks": ""
            },
            "type": "contourcarpet"
           }
          ],
          "heatmap": [
           {
            "colorbar": {
             "outlinewidth": 0,
             "ticks": ""
            },
            "colorscale": [
             [
              0,
              "#0d0887"
             ],
             [
              0.1111111111111111,
              "#46039f"
             ],
             [
              0.2222222222222222,
              "#7201a8"
             ],
             [
              0.3333333333333333,
              "#9c179e"
             ],
             [
              0.4444444444444444,
              "#bd3786"
             ],
             [
              0.5555555555555556,
              "#d8576b"
             ],
             [
              0.6666666666666666,
              "#ed7953"
             ],
             [
              0.7777777777777778,
              "#fb9f3a"
             ],
             [
              0.8888888888888888,
              "#fdca26"
             ],
             [
              1,
              "#f0f921"
             ]
            ],
            "type": "heatmap"
           }
          ],
          "heatmapgl": [
           {
            "colorbar": {
             "outlinewidth": 0,
             "ticks": ""
            },
            "colorscale": [
             [
              0,
              "#0d0887"
             ],
             [
              0.1111111111111111,
              "#46039f"
             ],
             [
              0.2222222222222222,
              "#7201a8"
             ],
             [
              0.3333333333333333,
              "#9c179e"
             ],
             [
              0.4444444444444444,
              "#bd3786"
             ],
             [
              0.5555555555555556,
              "#d8576b"
             ],
             [
              0.6666666666666666,
              "#ed7953"
             ],
             [
              0.7777777777777778,
              "#fb9f3a"
             ],
             [
              0.8888888888888888,
              "#fdca26"
             ],
             [
              1,
              "#f0f921"
             ]
            ],
            "type": "heatmapgl"
           }
          ],
          "histogram": [
           {
            "marker": {
             "pattern": {
              "fillmode": "overlay",
              "size": 10,
              "solidity": 0.2
             }
            },
            "type": "histogram"
           }
          ],
          "histogram2d": [
           {
            "colorbar": {
             "outlinewidth": 0,
             "ticks": ""
            },
            "colorscale": [
             [
              0,
              "#0d0887"
             ],
             [
              0.1111111111111111,
              "#46039f"
             ],
             [
              0.2222222222222222,
              "#7201a8"
             ],
             [
              0.3333333333333333,
              "#9c179e"
             ],
             [
              0.4444444444444444,
              "#bd3786"
             ],
             [
              0.5555555555555556,
              "#d8576b"
             ],
             [
              0.6666666666666666,
              "#ed7953"
             ],
             [
              0.7777777777777778,
              "#fb9f3a"
             ],
             [
              0.8888888888888888,
              "#fdca26"
             ],
             [
              1,
              "#f0f921"
             ]
            ],
            "type": "histogram2d"
           }
          ],
          "histogram2dcontour": [
           {
            "colorbar": {
             "outlinewidth": 0,
             "ticks": ""
            },
            "colorscale": [
             [
              0,
              "#0d0887"
             ],
             [
              0.1111111111111111,
              "#46039f"
             ],
             [
              0.2222222222222222,
              "#7201a8"
             ],
             [
              0.3333333333333333,
              "#9c179e"
             ],
             [
              0.4444444444444444,
              "#bd3786"
             ],
             [
              0.5555555555555556,
              "#d8576b"
             ],
             [
              0.6666666666666666,
              "#ed7953"
             ],
             [
              0.7777777777777778,
              "#fb9f3a"
             ],
             [
              0.8888888888888888,
              "#fdca26"
             ],
             [
              1,
              "#f0f921"
             ]
            ],
            "type": "histogram2dcontour"
           }
          ],
          "mesh3d": [
           {
            "colorbar": {
             "outlinewidth": 0,
             "ticks": ""
            },
            "type": "mesh3d"
           }
          ],
          "parcoords": [
           {
            "line": {
             "colorbar": {
              "outlinewidth": 0,
              "ticks": ""
             }
            },
            "type": "parcoords"
           }
          ],
          "pie": [
           {
            "automargin": true,
            "type": "pie"
           }
          ],
          "scatter": [
           {
            "fillpattern": {
             "fillmode": "overlay",
             "size": 10,
             "solidity": 0.2
            },
            "type": "scatter"
           }
          ],
          "scatter3d": [
           {
            "line": {
             "colorbar": {
              "outlinewidth": 0,
              "ticks": ""
             }
            },
            "marker": {
             "colorbar": {
              "outlinewidth": 0,
              "ticks": ""
             }
            },
            "type": "scatter3d"
           }
          ],
          "scattercarpet": [
           {
            "marker": {
             "colorbar": {
              "outlinewidth": 0,
              "ticks": ""
             }
            },
            "type": "scattercarpet"
           }
          ],
          "scattergeo": [
           {
            "marker": {
             "colorbar": {
              "outlinewidth": 0,
              "ticks": ""
             }
            },
            "type": "scattergeo"
           }
          ],
          "scattergl": [
           {
            "marker": {
             "colorbar": {
              "outlinewidth": 0,
              "ticks": ""
             }
            },
            "type": "scattergl"
           }
          ],
          "scattermapbox": [
           {
            "marker": {
             "colorbar": {
              "outlinewidth": 0,
              "ticks": ""
             }
            },
            "type": "scattermapbox"
           }
          ],
          "scatterpolar": [
           {
            "marker": {
             "colorbar": {
              "outlinewidth": 0,
              "ticks": ""
             }
            },
            "type": "scatterpolar"
           }
          ],
          "scatterpolargl": [
           {
            "marker": {
             "colorbar": {
              "outlinewidth": 0,
              "ticks": ""
             }
            },
            "type": "scatterpolargl"
           }
          ],
          "scatterternary": [
           {
            "marker": {
             "colorbar": {
              "outlinewidth": 0,
              "ticks": ""
             }
            },
            "type": "scatterternary"
           }
          ],
          "surface": [
           {
            "colorbar": {
             "outlinewidth": 0,
             "ticks": ""
            },
            "colorscale": [
             [
              0,
              "#0d0887"
             ],
             [
              0.1111111111111111,
              "#46039f"
             ],
             [
              0.2222222222222222,
              "#7201a8"
             ],
             [
              0.3333333333333333,
              "#9c179e"
             ],
             [
              0.4444444444444444,
              "#bd3786"
             ],
             [
              0.5555555555555556,
              "#d8576b"
             ],
             [
              0.6666666666666666,
              "#ed7953"
             ],
             [
              0.7777777777777778,
              "#fb9f3a"
             ],
             [
              0.8888888888888888,
              "#fdca26"
             ],
             [
              1,
              "#f0f921"
             ]
            ],
            "type": "surface"
           }
          ],
          "table": [
           {
            "cells": {
             "fill": {
              "color": "#EBF0F8"
             },
             "line": {
              "color": "white"
             }
            },
            "header": {
             "fill": {
              "color": "#C8D4E3"
             },
             "line": {
              "color": "white"
             }
            },
            "type": "table"
           }
          ]
         },
         "layout": {
          "annotationdefaults": {
           "arrowcolor": "#2a3f5f",
           "arrowhead": 0,
           "arrowwidth": 1
          },
          "autotypenumbers": "strict",
          "coloraxis": {
           "colorbar": {
            "outlinewidth": 0,
            "ticks": ""
           }
          },
          "colorscale": {
           "diverging": [
            [
             0,
             "#8e0152"
            ],
            [
             0.1,
             "#c51b7d"
            ],
            [
             0.2,
             "#de77ae"
            ],
            [
             0.3,
             "#f1b6da"
            ],
            [
             0.4,
             "#fde0ef"
            ],
            [
             0.5,
             "#f7f7f7"
            ],
            [
             0.6,
             "#e6f5d0"
            ],
            [
             0.7,
             "#b8e186"
            ],
            [
             0.8,
             "#7fbc41"
            ],
            [
             0.9,
             "#4d9221"
            ],
            [
             1,
             "#276419"
            ]
           ],
           "sequential": [
            [
             0,
             "#0d0887"
            ],
            [
             0.1111111111111111,
             "#46039f"
            ],
            [
             0.2222222222222222,
             "#7201a8"
            ],
            [
             0.3333333333333333,
             "#9c179e"
            ],
            [
             0.4444444444444444,
             "#bd3786"
            ],
            [
             0.5555555555555556,
             "#d8576b"
            ],
            [
             0.6666666666666666,
             "#ed7953"
            ],
            [
             0.7777777777777778,
             "#fb9f3a"
            ],
            [
             0.8888888888888888,
             "#fdca26"
            ],
            [
             1,
             "#f0f921"
            ]
           ],
           "sequentialminus": [
            [
             0,
             "#0d0887"
            ],
            [
             0.1111111111111111,
             "#46039f"
            ],
            [
             0.2222222222222222,
             "#7201a8"
            ],
            [
             0.3333333333333333,
             "#9c179e"
            ],
            [
             0.4444444444444444,
             "#bd3786"
            ],
            [
             0.5555555555555556,
             "#d8576b"
            ],
            [
             0.6666666666666666,
             "#ed7953"
            ],
            [
             0.7777777777777778,
             "#fb9f3a"
            ],
            [
             0.8888888888888888,
             "#fdca26"
            ],
            [
             1,
             "#f0f921"
            ]
           ]
          },
          "colorway": [
           "#636efa",
           "#EF553B",
           "#00cc96",
           "#ab63fa",
           "#FFA15A",
           "#19d3f3",
           "#FF6692",
           "#B6E880",
           "#FF97FF",
           "#FECB52"
          ],
          "font": {
           "color": "#2a3f5f"
          },
          "geo": {
           "bgcolor": "white",
           "lakecolor": "white",
           "landcolor": "#E5ECF6",
           "showlakes": true,
           "showland": true,
           "subunitcolor": "white"
          },
          "hoverlabel": {
           "align": "left"
          },
          "hovermode": "closest",
          "mapbox": {
           "style": "light"
          },
          "paper_bgcolor": "white",
          "plot_bgcolor": "#E5ECF6",
          "polar": {
           "angularaxis": {
            "gridcolor": "white",
            "linecolor": "white",
            "ticks": ""
           },
           "bgcolor": "#E5ECF6",
           "radialaxis": {
            "gridcolor": "white",
            "linecolor": "white",
            "ticks": ""
           }
          },
          "scene": {
           "xaxis": {
            "backgroundcolor": "#E5ECF6",
            "gridcolor": "white",
            "gridwidth": 2,
            "linecolor": "white",
            "showbackground": true,
            "ticks": "",
            "zerolinecolor": "white"
           },
           "yaxis": {
            "backgroundcolor": "#E5ECF6",
            "gridcolor": "white",
            "gridwidth": 2,
            "linecolor": "white",
            "showbackground": true,
            "ticks": "",
            "zerolinecolor": "white"
           },
           "zaxis": {
            "backgroundcolor": "#E5ECF6",
            "gridcolor": "white",
            "gridwidth": 2,
            "linecolor": "white",
            "showbackground": true,
            "ticks": "",
            "zerolinecolor": "white"
           }
          },
          "shapedefaults": {
           "line": {
            "color": "#2a3f5f"
           }
          },
          "ternary": {
           "aaxis": {
            "gridcolor": "white",
            "linecolor": "white",
            "ticks": ""
           },
           "baxis": {
            "gridcolor": "white",
            "linecolor": "white",
            "ticks": ""
           },
           "bgcolor": "#E5ECF6",
           "caxis": {
            "gridcolor": "white",
            "linecolor": "white",
            "ticks": ""
           }
          },
          "title": {
           "x": 0.05
          },
          "xaxis": {
           "automargin": true,
           "gridcolor": "white",
           "linecolor": "white",
           "ticks": "",
           "title": {
            "standoff": 15
           },
           "zerolinecolor": "white",
           "zerolinewidth": 2
          },
          "yaxis": {
           "automargin": true,
           "gridcolor": "white",
           "linecolor": "white",
           "ticks": "",
           "title": {
            "standoff": 15
           },
           "zerolinecolor": "white",
           "zerolinewidth": 2
          }
         }
        },
        "title": {
         "text": "Linkedin Use by Income Group"
        },
        "xaxis": {
         "anchor": "y",
         "categoryarray": [
          "Under $40k",
          "$40-70K",
          "$70-100K",
          "$100K+"
         ],
         "categoryorder": "array",
         "domain": [
          0,
          1
         ],
         "title": {
          "text": "Income Group"
         }
        },
        "yaxis": {
         "anchor": "x",
         "domain": [
          0,
          1
         ],
         "title": {
          "text": "Percentage"
         }
        }
       }
      }
     },
     "metadata": {},
     "output_type": "display_data"
    }
   ],
   "source": [
    "use_map = {\n",
    "    'No, don’t use this':'#78379d',\n",
    "    'Yes, use this':'#d67d37'\n",
    "}\n",
    "\n",
    "correlation('df_combined','INCOME_GROUP','REDDIT', income_order, [], 'Income Group','Reddit Use by Income Group', use_map)\n",
    "correlation('df_combined','INCOME_GROUP','LINKEDIN', income_order, [], 'Income Group','Linkedin Use by Income Group', use_map)"
   ]
  },
  {
   "cell_type": "markdown",
   "metadata": {},
   "source": [
    "Higher earning individuals are also more likely to use linkedin and reddit"
   ]
  }
 ],
 "metadata": {
  "kernelspec": {
   "display_name": "cs418env",
   "language": "python",
   "name": "python3"
  },
  "language_info": {
   "codemirror_mode": {
    "name": "ipython",
    "version": 3
   },
   "file_extension": ".py",
   "mimetype": "text/x-python",
   "name": "python",
   "nbconvert_exporter": "python",
   "pygments_lexer": "ipython3",
   "version": "3.11.5"
  }
 },
 "nbformat": 4,
 "nbformat_minor": 4
}
