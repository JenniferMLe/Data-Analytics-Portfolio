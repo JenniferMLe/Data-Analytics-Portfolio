{
 "cells": [
  {
   "cell_type": "markdown",
   "metadata": {},
   "source": [
    "# National Public Opinion Reference Survey (NPORS) Analysis\n",
    "\n",
    "Jennifer Le  \n",
    "12/6/24\n",
    "\n",
    "The purpose of this analysis is to analyize public opinions on religion and the economy from 2020-2024 using data from NPORS surveys conducted anually since 2020.\n",
    "\n",
    "Some questions this analysis will answer is \n",
    "1. How has public opinion on the economy changed since 2020\n",
    "2. Add more questions here\n",
    "\n",
    "[More information on NPORS surveys](https://www.pewresearch.org/methods/fact-sheet/national-public-opinion-reference-survey-npors/) "
   ]
  },
  {
   "cell_type": "markdown",
   "metadata": {},
   "source": [
    "## Import Datasets "
   ]
  },
  {
   "cell_type": "code",
   "execution_count": 97,
   "metadata": {},
   "outputs": [
    {
     "name": "stdout",
     "output_type": "stream",
     "text": [
      "(number of rows, number of columns)\n",
      "2020 survey:  (4108, 61)\n",
      "2021 survey:  (3937, 66)\n",
      "2022 survey:  (4043, 72)\n",
      "2023 survey:  (5733, 80)\n",
      "2024 survey:  (5626, 59)\n"
     ]
    }
   ],
   "source": [
    "import pandas as pd\n",
    "import seaborn as sns\n",
    "%matplotlib inline\n",
    "import matplotlib.pyplot as plt\n",
    "from pandasql import sqldf\n",
    "\n",
    "\n",
    "# Save each .sav as a data frame\n",
    "df_20 = pd.read_spss(\"Datasets/NPORS-2020/dataset.sav\")\n",
    "df_21 = pd.read_spss(\"Datasets/NPORS-2021/dataset.sav\")\n",
    "df_22 = pd.read_spss(\"Datasets/NPORS-2022/dataset.sav\")\n",
    "df_23 = pd.read_spss(\"Datasets/NPORS-2023/dataset.sav\")\n",
    "df_24 = pd.read_spss(\"Datasets/NPORS-2024/dataset.sav\")\n",
    "\n",
    "# convert .sav to .csv\n",
    "# df_20.to_csv(\"Datasets/NPORS-2020/dataset.csv\", index=False)\n",
    "# df_21.to_csv(\"Datasets/NPORS-2021/dataset.csv\", index=False)\n",
    "# df_22.to_csv(\"Datasets/NPORS-2022/dataset.csv\", index=False)\n",
    "# df_23.to_csv(\"Datasets/NPORS-2023/dataset.csv\", index=False)\n",
    "# df_24.to_csv(\"Datasets/NPORS-2024/dataset.csv\", index=False)\n",
    "\n",
    "# Print the number of rows and columns \n",
    "print(\"(number of rows, number of columns)\")\n",
    "print(\"2020 survey: \", df_20.shape)\n",
    "print(\"2021 survey: \", df_21.shape)\n",
    "print(\"2022 survey: \", df_22.shape)\n",
    "print(\"2023 survey: \", df_23.shape)\n",
    "print(\"2024 survey: \", df_24.shape)\n",
    "\n",
    "def remove_year_from_column_name(dataset, stop):\n",
    "    list_columns = list(dataset.columns)\n",
    "\n",
    "    for i in range(0,len(list_columns)-stop):\n",
    "        list_columns[i] = list_columns[i][:-5]\n",
    "\n",
    "    dataset.columns = list_columns\n",
    "\n",
    "remove_year_from_column_name(df_20, 5)\n",
    "remove_year_from_column_name(df_21, 2)\n",
    "\n",
    "# Test code works\n",
    "# print(list(df_20.columns))\n",
    "# print(list(df_21.columns))"
   ]
  },
  {
   "cell_type": "markdown",
   "metadata": {},
   "source": [
    "## Clean and Aggregate Data\n",
    "\n",
    "The columns we want are   \n",
    "ECON1MOD  \n",
    "ECON1BMOD"
   ]
  },
  {
   "cell_type": "code",
   "execution_count": null,
   "metadata": {},
   "outputs": [
    {
     "name": "stdout",
     "output_type": "stream",
     "text": [
      "(23447, 106)\n",
      "(23447, 85)\n",
      "['AGE', 'AGECAT', 'ATTEND', 'ATTENDONLINE2', 'BASEWEIGHT', 'BOOKS', 'COLSPEECH', 'COMATTACH', 'COMTYPE2', 'COVIDWORK_a', 'COVIDWORK_b', 'CRIMESAFE', 'DEVICE1a', 'DISA', 'DISAMOD', 'DIVISION', 'ECON1BMOD', 'ECON1MOD', 'EDUCATION', 'EDUCCAT', 'EMINUSE', 'GAMBLERESTR', 'GENDER', 'GOVSIZE1', 'GUNSTRICT', 'HH_ADULTS', 'HISP', 'HLTHRATE', 'HOME4NW2', 'HOMEINTSERV', 'INCOME', 'INFRASPEND', 'INSURANCE', 'INTERVIEW_END', 'INTERVIEW_START', 'INTFREQ', 'INTFREQ_COLLAPSED', 'INTMOB', 'MARITAL', 'METRO', 'MODE', 'MOREGUNIMPACT', 'NHISLL', 'PARTY', 'PARTYLN', 'POLICE_FUND', 'PRAY', 'RACECMB', 'RACEMOD_1', 'RACEMOD_2', 'RACEMOD_3', 'RACEMOD_4', 'RACEMOD_5', 'RACEMOD_6', 'RADIO', 'REG', 'REGION', 'REGISTRATION', 'RELIG', 'RELIGCAT1', 'RELIMP', 'RESPFUT', 'RESPID', 'ROBWRK', 'SMART2', 'SMUSE_a', 'SMUSE_b', 'SMUSE_c', 'SMUSE_d', 'SMUSE_e', 'SMUSE_f', 'SMUSE_g', 'SMUSE_h', 'SMUSE_i', 'SMUSE_j', 'SMUSE_k', 'SOCTRUST', 'TYPOLOGYb', 'UNITY', 'VET1', 'VOL12_CPS', 'VOTED2020', 'VOTEGEN_POST', 'WEIGHT', 'YEAR']\n"
     ]
    }
   ],
   "source": [
    "# ensure columns recording the same data have the same name\n",
    "df_20 = df_20.rename(columns={\n",
    "    'SEXASK':'GENDER', \n",
    "    'NUMADULTS':'HH_ADULTS', \n",
    "    'EDUC_ACS':'EDUCATION', \n",
    "    'REGION_NAME':'REGION',\n",
    "    'MSA':'METRO'\n",
    "})\n",
    "\n",
    "df_21 = df_21.rename(columns={\n",
    "    'ADULTSINHH':'HH_ADULTS', \n",
    "    'BOOKS1':'BOOKS',\n",
    "    'LANG':'LANGUAGE'\n",
    "})\n",
    "\n",
    "df_22 = df_22.rename(columns={\n",
    "    'ADULTSINHH':'HH_ADULTS', \n",
    "    'BOOKS1':'BOOKS', \n",
    "    'CREGION':'REGION',\n",
    "    'BBHOME':'HOMEINTSERV'\n",
    "})\n",
    "\n",
    "df_23 = df_23.rename(columns={\n",
    "    'BASEWT':'BASEWEIGHT', \n",
    "    'ADULTS':'HH_ADULTS', \n",
    "    'BOOKS1':'BOOKS',\n",
    "    'CREGION':'REGION',\n",
    "    'INC_SDT1':'INCOME',\n",
    "    'BBHOME':'HOMEINTSERV',\n",
    "    'MODE_2WAY':'MODE'\n",
    "})\n",
    "\n",
    "df_24 = df_24.rename(columns={\n",
    "    'BASEWT':'BASEWEIGHT', \n",
    "    'ADULTS':'HH_ADULTS', \n",
    "    'DEVICE1A':'DEVICE1a',\n",
    "    'CREGION':'REGION',\n",
    "    'INC_SDT1': 'INCOME'\n",
    "})\n",
    "\n",
    "# add year columns to all datasets\n",
    "df_20['YEAR'] = 2020\n",
    "df_21['YEAR'] = 2021\n",
    "df_22['YEAR'] = 2022\n",
    "df_23['YEAR'] = 2023\n",
    "df_24['YEAR'] = 2024\n",
    "\n",
    "# Combine (append) all datasets together\n",
    "df_combined = pd.concat([df_20, df_21, df_22, df_23, df_24])\n",
    "df_combined.to_csv(\"combined_dataset.csv\", index=False)\n",
    "print(df_combined.shape)\n",
    "# print(sorted(list(df_combined.columns)))\n",
    "\n",
    "\n",
    "# print columns common to datasets\n",
    "common_columns = set(df_20) & set(df_21) & set(df_22) & set(df_23) \n",
    "# print(len(common_columns), sorted(common_columns))\n",
    "\n",
    "# remove irrelevant columns\n",
    "df_combined = df_combined.drop(columns=[\n",
    "    'AGE_REFUSED',\n",
    "    'BOOKS1_REFUSED',\n",
    "    'BORN',\n",
    "    'BWAVE',\n",
    "    'BIDENT1_GEOSTRATA',\n",
    "    'BIRTHPLACE',\n",
    "    'DATERECEIVED',\n",
    "    'DEVICE_TYPE',\n",
    "    'LANG_PREF',\n",
    "    'LANGUAGE',\n",
    "    'LANGUAGEINITIAL',\n",
    "    'NATIVITY',\n",
    "    'PARTYSUM',\n",
    "    'PSTRATA',\n",
    "    'RACEMOD_99',\n",
    "    'RACEMOD_MIXEDOE',\n",
    "    'RACETHN',\n",
    "    'RACETHNMOD',\n",
    "    'SURVEYENDDATE',\n",
    "    'SURVEYSTARTDATE',\n",
    "    'STRATUM'\n",
    "], axis=1)\n",
    "\n",
    "print(df_combined.shape)\n",
    "print(sorted(list(df_combined.columns)))\n"
   ]
  }
 ],
 "metadata": {
  "kernelspec": {
   "display_name": "cs418env",
   "language": "python",
   "name": "python3"
  },
  "language_info": {
   "codemirror_mode": {
    "name": "ipython",
    "version": 3
   },
   "file_extension": ".py",
   "mimetype": "text/x-python",
   "name": "python",
   "nbconvert_exporter": "python",
   "pygments_lexer": "ipython3",
   "version": "3.11.5"
  }
 },
 "nbformat": 4,
 "nbformat_minor": 2
}
